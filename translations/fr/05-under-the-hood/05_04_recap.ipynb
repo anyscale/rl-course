{
 "cells": [
  {
   "cell_type": "markdown",
   "id": "c7ae02c1-5195-4c7d-a05b-13ad17c035c5",
   "metadata": {},
   "source": [
    "## Récapitulation du cours"
   ]
  },
  {
   "cell_type": "markdown",
   "id": "dae5e6f1-c47c-4d84-bbde-ee3dad73d30b",
   "metadata": {},
   "source": [
    "#### Module 1 : Composants RL"
   ]
  },
  {
   "cell_type": "markdown",
   "id": "b319c9ae-8087-4fb1-b57d-d8fc63c3c7f6",
   "metadata": {},
   "source": [
    "- SL vs. RL\n",
    "- Environnements\n",
    "- Politiques"
   ]
  },
  {
   "cell_type": "markdown",
   "id": "5d12d652-41fe-41ad-adeb-b45408df0381",
   "metadata": {},
   "source": [
    "#### Module 2 : RLlib"
   ]
  },
  {
   "cell_type": "markdown",
   "id": "0d9b4f75-c665-4a51-842b-81d22ba29a2e",
   "metadata": {},
   "source": [
    "- Algorithmes\n",
    "- Formation, évaluation, prédiction\n",
    "- Configs\n",
    "- Sauvegarde/restauration\n",
    "- Multi-agent"
   ]
  },
  {
   "cell_type": "markdown",
   "id": "7a77653d-07b3-4220-a567-89ac22a4c88a",
   "metadata": {},
   "source": [
    "#### Module 3 : concevoir des environnements"
   ]
  },
  {
   "cell_type": "markdown",
   "id": "f6f7d6a8-a9ff-4eb9-8ccc-11e3eaf65d0a",
   "metadata": {},
   "source": [
    "- Classes et méthodes Python\n",
    "- Créer le lac aléatoire\n",
    "- Encodage des observations (par exemple, les carrés proches sur le lac)\n",
    "- Façonner les récompenses (par exemple, des récompenses négatives à chaque étape)\n",
    "- Exploration vs. exploitation"
   ]
  },
  {
   "cell_type": "markdown",
   "id": "87712906-54cd-47a4-bb2a-42b96f649b04",
   "metadata": {},
   "source": [
    "#### Module 4 : application de recommandation"
   ]
  },
  {
   "cell_type": "markdown",
   "id": "a6458064-c43a-456c-b8f3-95c35a3188a3",
   "metadata": {},
   "source": [
    "- Que sont les systèmes de recommandation\n",
    "- Conception conceptuelle de l'environnement : bonbons/légumes\n",
    "- Mise en œuvre de l'environnement\n",
    "- Facteurs de réduction\n",
    "- RL hors ligne\n",
    "\n",
    "Notes :\n",
    "\n",
    "Un grand défi avec RL est d'avoir un simulateur haute-fidélité, ce que nous n'avions certainement pas vraiment dans cet exemple "
   ]
  },
  {
   "cell_type": "markdown",
   "id": "115079c4-c59e-42bc-8630-2b769f8e4199",
   "metadata": {},
   "source": [
    "#### Module 5 : sous le capot\n",
    "\n",
    "- Algorithmes et DQN\n",
    "- Tuning\n",
    "- Ray"
   ]
  },
  {
   "cell_type": "markdown",
   "id": "b477dc19-e371-4db1-8d8c-6ccb266d6f1f",
   "metadata": {},
   "source": [
    "#### Ce qui n'est pas couvert dans ce cours"
   ]
  },
  {
   "cell_type": "markdown",
   "id": "8c46de44-1087-4092-a49b-bf612a9df501",
   "metadata": {},
   "source": [
    "- Code qui prend plus de temps à s'exécuter (par ex. images/CNNs)\n",
    "- Estimation hors-politique pour RL hors ligne\n",
    "- Combinaison de RL en ligne et hors ligne\n",
    "- Beaucoup plus d'algorithmes\n",
    "- Beaucoup plus de fonctionnalités de RLlib\n",
    "- Les applications sont infinies !"
   ]
  },
  {
   "cell_type": "markdown",
   "id": "87f9e48d-1e1d-45dd-833e-89701489a1f0",
   "metadata": {},
   "source": [
    "#### Autres ressources\n",
    "\n",
    "Cours en ligne :\n",
    "\n",
    "- [Cours Hugging Face](https://huggingface.co/course/chapter1/1)\n",
    "- [Delta Academy](https://delta-academy.xyz/)\n",
    "- [Fast Deep RL](https://courses.dibya.online/p/fastdeeprl)\n",
    "- [Spécialisation Coursera RL de l'Université de l'Alberta](https://www.coursera.org/specializations/reinforcement-learning)\n",
    "- [Cours RL d'Udacity](https://www.udacity.com/course/reinforcement-learning--ud600)\n",
    "\n",
    "Conférences vidéo :\n",
    "\n",
    "- [Conférences de David Silver](https://www.davidsilver.uk/teaching/)\n",
    "- [Conférences de Sergey Levine](http://rail.eecs.berkeley.edu/deeprlcourse/)\n",
    "\n",
    "Livres :\n",
    "\n",
    "- [Sutton &amp; Barto](http://incompleteideas.net/book/the-book-2nd.html) (considéré comme le livre définitif sur RL)\n",
    "- [Deep RL Hands-On](https://www.packtpub.com/product/deep-reinforcement-learning-hands-on-second-edition/9781838826994)\n",
    "\n",
    "Autres :\n",
    "\n",
    "- [Spinning Up](https://spinningup.openai.com/en/latest/) (une ressource bien connue pour le RL)\n",
    "\n",
    "_Ceci n'est pas une approbation de l'une de ces ressources._\n",
    "\n",
    "Notes :\n",
    "\n",
    "Et, essaie ton propre projet !"
   ]
  },
  {
   "cell_type": "markdown",
   "id": "6685b4e7-d5e7-4898-9f77-8f07ecd3439a",
   "metadata": {},
   "source": [
    "#### Merci de t'être joint à nous !"
   ]
  },
  {
   "cell_type": "code",
   "execution_count": null,
   "id": "eebbd062-9477-4378-a294-930b243aa178",
   "metadata": {},
   "outputs": [],
   "source": []
  }
 ],
 "metadata": {
  "kernelspec": {
   "display_name": "Python [conda env:ray200]",
   "language": "python",
   "name": "conda-env-ray200-py"
  },
  "language_info": {
   "codemirror_mode": {
    "name": "ipython",
    "version": 3
   },
   "file_extension": ".py",
   "mimetype": "text/x-python",
   "name": "python",
   "nbconvert_exporter": "python",
   "pygments_lexer": "ipython3",
   "version": "3.9.13"
  }
 },
 "nbformat": 4,
 "nbformat_minor": 5
}
