{
 "cells": [
  {
   "cell_type": "markdown",
   "id": "18e2222c-d00d-4c69-b86e-18560e51896d",
   "metadata": {},
   "source": [
    "## Résultats d'apprentissage du module 2"
   ]
  },
  {
   "cell_type": "markdown",
   "id": "9a4fb6d8-19f9-407a-9393-a99269afd577",
   "metadata": {},
   "source": [
    "#### Résultats d'apprentissage du module\n",
    "\n",
    "À la fin de ce module, tu seras en mesure de :\n",
    "\n",
    "- Résoudre des problèmes de RL à l'aide du progiciel RL de qualité industrielle, RLlib\n",
    "- Appliquer RLlib à une variété de problèmes RL\n",
    "- Comparer et opposer l'interface de RLlib à celle de scikit-learn\n",
    "- Configure les algorithmes de RLlib à l'aide d'objets de configuration\n",
    "- Sauvegarde et restauration de l'agent RLlib formé"
   ]
  },
  {
   "cell_type": "markdown",
   "id": "f72b16f7-7bae-436d-b5db-a3a0f39dd52d",
   "metadata": {},
   "source": [
    "#### Commençons le Module 2 !"
   ]
  }
 ],
 "metadata": {
  "kernelspec": {
   "display_name": "Python [conda env:ray200]",
   "language": "python",
   "name": "conda-env-ray200-py"
  },
  "language_info": {
   "codemirror_mode": {
    "name": "ipython",
    "version": 3
   },
   "file_extension": ".py",
   "mimetype": "text/x-python",
   "name": "python",
   "nbconvert_exporter": "python",
   "pygments_lexer": "ipython3",
   "version": "3.9.13"
  }
 },
 "nbformat": 4,
 "nbformat_minor": 5
}
