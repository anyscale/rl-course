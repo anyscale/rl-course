{
 "cells": [
  {
   "cell_type": "markdown",
   "id": "18e2222c-d00d-4c69-b86e-18560e51896d",
   "metadata": {},
   "source": [
    "## Résultats d'apprentissage du module 4"
   ]
  },
  {
   "cell_type": "markdown",
   "id": "9a878f79-7a09-45cc-bbde-c1f3e4626b78",
   "metadata": {},
   "source": [
    "#### Résultats d'apprentissage du module\n",
    "\n",
    "À la fin de ce module, tu seras en mesure de :\n",
    "\n",
    "- Concevoir un environnement qui simule un système de recommandation très basique\n",
    "- Mettre en œuvre un environnement de système de recommandation\n",
    "- Appliquer RLlib pour former un agent de recommandation\n",
    "- Expliquer et interpréter le facteur d'actualisation dans RL.\n",
    "- Applique RL hors ligne pour former un agent de recommandation à partir de données historiques"
   ]
  },
  {
   "cell_type": "markdown",
   "id": "f847e29d-4776-40b1-8dd4-ae8e51f11483",
   "metadata": {},
   "source": [
    "#### Commençons le module 4 !"
   ]
  }
 ],
 "metadata": {
  "kernelspec": {
   "display_name": "Python [conda env:ray200]",
   "language": "python",
   "name": "conda-env-ray200-py"
  },
  "language_info": {
   "codemirror_mode": {
    "name": "ipython",
    "version": 3
   },
   "file_extension": ".py",
   "mimetype": "text/x-python",
   "name": "python",
   "nbconvert_exporter": "python",
   "pygments_lexer": "ipython3",
   "version": "3.9.13"
  }
 },
 "nbformat": 4,
 "nbformat_minor": 5
}
