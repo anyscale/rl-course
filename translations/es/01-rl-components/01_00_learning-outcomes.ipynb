{
 "cells": [
  {
   "cell_type": "markdown",
   "id": "18e2222c-d00d-4c69-b86e-18560e51896d",
   "metadata": {},
   "source": [
    "## Módulo 1 Resultados del aprendizaje"
   ]
  },
  {
   "cell_type": "markdown",
   "id": "9a878f79-7a09-45cc-bbde-c1f3e4626b78",
   "metadata": {},
   "source": [
    "#### Resultados de aprendizaje del módulo\n",
    "\n",
    "Al final de este módulo, serás capaz de\n",
    "\n",
    "- Comparar y contrastar el aprendizaje por refuerzo con el aprendizaje supervisado\n",
    "- Interactuar con entornos de RL y discutir sus componentes clave\n",
    "- Interactuar con las políticas de RL y discutir los diferentes tipos de políticas\n",
    "- Explicar cómo encajan los entornos y las políticas en la \"API\" de la RL"
   ]
  },
  {
   "cell_type": "markdown",
   "id": "f847e29d-4776-40b1-8dd4-ae8e51f11483",
   "metadata": {
    "pycharm": {
     "name": "#%% md\n"
    }
   },
   "source": [
    "#### ¡Empecemos el Módulo 1!"
   ]
  }
 ],
 "metadata": {
  "kernelspec": {
   "display_name": "Python [conda env:ray200]",
   "language": "python",
   "name": "conda-env-ray200-py"
  },
  "language_info": {
   "codemirror_mode": {
    "name": "ipython",
    "version": 3
   },
   "file_extension": ".py",
   "mimetype": "text/x-python",
   "name": "python",
   "nbconvert_exporter": "python",
   "pygments_lexer": "ipython3",
   "version": "3.9.13"
  }
 },
 "nbformat": 4,
 "nbformat_minor": 5
}
