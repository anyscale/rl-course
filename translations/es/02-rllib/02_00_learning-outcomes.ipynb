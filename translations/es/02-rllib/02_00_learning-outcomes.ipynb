{
 "cells": [
  {
   "cell_type": "markdown",
   "id": "18e2222c-d00d-4c69-b86e-18560e51896d",
   "metadata": {},
   "source": [
    "## Módulo 2 Resultados del aprendizaje"
   ]
  },
  {
   "cell_type": "markdown",
   "id": "9a4fb6d8-19f9-407a-9393-a99269afd577",
   "metadata": {},
   "source": [
    "#### Resultados de aprendizaje del módulo\n",
    "\n",
    "Al final de este módulo, serás capaz de\n",
    "\n",
    "- Resolver problemas de RL utilizando el paquete de RL de calidad industrial, RLlib\n",
    "- Aplicar RLlib a una variedad de problemas de RL\n",
    "- Comparar y contrastar la interfaz de RLlib con la de scikit-learn\n",
    "- Configurar los algoritmos de RLlib mediante objetos de configuración\n",
    "- Guardar y restaurar el agente RLlib entrenado"
   ]
  },
  {
   "cell_type": "markdown",
   "id": "f72b16f7-7bae-436d-b5db-a3a0f39dd52d",
   "metadata": {},
   "source": [
    "#### ¡Empecemos el Módulo 2!"
   ]
  }
 ],
 "metadata": {
  "kernelspec": {
   "display_name": "Python [conda env:ray200]",
   "language": "python",
   "name": "conda-env-ray200-py"
  },
  "language_info": {
   "codemirror_mode": {
    "name": "ipython",
    "version": 3
   },
   "file_extension": ".py",
   "mimetype": "text/x-python",
   "name": "python",
   "nbconvert_exporter": "python",
   "pygments_lexer": "ipython3",
   "version": "3.9.13"
  }
 },
 "nbformat": 4,
 "nbformat_minor": 5
}
