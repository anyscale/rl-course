{
 "cells": [
  {
   "cell_type": "markdown",
   "id": "18e2222c-d00d-4c69-b86e-18560e51896d",
   "metadata": {},
   "source": [
    "## Módulo 4 Resultados del aprendizaje"
   ]
  },
  {
   "cell_type": "markdown",
   "id": "9a878f79-7a09-45cc-bbde-c1f3e4626b78",
   "metadata": {},
   "source": [
    "#### Resultados de aprendizaje del módulo\n",
    "\n",
    "Al final de este módulo, serás capaz de\n",
    "\n",
    "- Diseñar un entorno que simule un sistema de recomendación muy básico\n",
    "- Implementar un entorno de sistema de recomendación\n",
    "- Aplicar RLlib para entrenar a un agente recomendador\n",
    "- Explicar e interpretar el factor de descuento en RL\n",
    "- Aplicar RL offline para entrenar a un agente recomendador dados los datos históricos"
   ]
  },
  {
   "cell_type": "markdown",
   "id": "f847e29d-4776-40b1-8dd4-ae8e51f11483",
   "metadata": {},
   "source": [
    "#### ¡Empecemos el módulo 4!"
   ]
  }
 ],
 "metadata": {
  "kernelspec": {
   "display_name": "Python [conda env:ray200]",
   "language": "python",
   "name": "conda-env-ray200-py"
  },
  "language_info": {
   "codemirror_mode": {
    "name": "ipython",
    "version": 3
   },
   "file_extension": ".py",
   "mimetype": "text/x-python",
   "name": "python",
   "nbconvert_exporter": "python",
   "pygments_lexer": "ipython3",
   "version": "3.9.13"
  }
 },
 "nbformat": 4,
 "nbformat_minor": 5
}
