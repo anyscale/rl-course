{
 "cells": [
  {
   "cell_type": "markdown",
   "id": "18e2222c-d00d-4c69-b86e-18560e51896d",
   "metadata": {},
   "source": [
    "## Modul 4 Lernergebnisse"
   ]
  },
  {
   "cell_type": "markdown",
   "id": "9a878f79-7a09-45cc-bbde-c1f3e4626b78",
   "metadata": {},
   "source": [
    "#### Lernergebnisse des Moduls\n",
    "\n",
    "Am Ende dieses Moduls wirst du in der Lage sein:\n",
    "\n",
    "- Eine Environment zu entwerfen, die ein sehr einfaches Empfehlungssystem simuliert\n",
    "- Eine Environment für ein Empfehlungssystem zu implementieren\n",
    "- RLlib anwenden, um einen Empfehlungsagenten zu trainieren\n",
    "- Den Diskontierungsfaktor in RL zu erklären und zu interpretieren.\n",
    "- Offline-RL anwenden, um einen Empfehlungsagenten anhand historischer Daten zu trainieren"
   ]
  },
  {
   "cell_type": "markdown",
   "id": "f847e29d-4776-40b1-8dd4-ae8e51f11483",
   "metadata": {},
   "source": [
    "#### Los geht's mit Modul 4!"
   ]
  }
 ],
 "metadata": {
  "kernelspec": {
   "display_name": "Python [conda env:ray200]",
   "language": "python",
   "name": "conda-env-ray200-py"
  },
  "language_info": {
   "codemirror_mode": {
    "name": "ipython",
    "version": 3
   },
   "file_extension": ".py",
   "mimetype": "text/x-python",
   "name": "python",
   "nbconvert_exporter": "python",
   "pygments_lexer": "ipython3",
   "version": "3.9.13"
  }
 },
 "nbformat": 4,
 "nbformat_minor": 5
}
