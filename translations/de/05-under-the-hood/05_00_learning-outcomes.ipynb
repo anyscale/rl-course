{
 "cells": [
  {
   "cell_type": "markdown",
   "id": "18e2222c-d00d-4c69-b86e-18560e51896d",
   "metadata": {},
   "source": [
    "## Modul 5 Lernergebnisse"
   ]
  },
  {
   "cell_type": "markdown",
   "id": "9a4fb6d8-19f9-407a-9393-a99269afd577",
   "metadata": {},
   "source": [
    "#### Lernergebnisse des Moduls\n",
    "\n",
    "Am Ende dieses Moduls wirst du in der Lage sein:\n",
    "\n",
    "- Zwischen verschiedenen RL-Algorithmen wie PPO und DQN in RLlib zu wechseln\n",
    "- Q-Werte zu definieren und zu interpretieren\n",
    "- Einen Blick unter die Haube des tiefen neuronalen Netzes werfen, das den RLlib-Agenten zugrunde liegt\n",
    "- Benutze Ray tune, um die Hyperparameter eines RL-Algorithmus in RLlib zu tunen\n",
    "- Beschreibe die grundlegenden Fähigkeiten von Ray und wie RLlib darauf aufbaut"
   ]
  },
  {
   "cell_type": "markdown",
   "id": "f72b16f7-7bae-436d-b5db-a3a0f39dd52d",
   "metadata": {},
   "source": [
    "#### Los geht's mit Modul 5!"
   ]
  }
 ],
 "metadata": {
  "kernelspec": {
   "display_name": "Python [conda env:ray200]",
   "language": "python",
   "name": "conda-env-ray200-py"
  },
  "language_info": {
   "codemirror_mode": {
    "name": "ipython",
    "version": 3
   },
   "file_extension": ".py",
   "mimetype": "text/x-python",
   "name": "python",
   "nbconvert_exporter": "python",
   "pygments_lexer": "ipython3",
   "version": "3.9.13"
  }
 },
 "nbformat": 4,
 "nbformat_minor": 5
}
