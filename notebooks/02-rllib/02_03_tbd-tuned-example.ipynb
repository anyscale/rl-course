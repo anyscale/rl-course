{
 "cells": [
  {
   "cell_type": "markdown",
   "id": "90c01ab9-1cd0-47d8-a198-e07e36e2c1fc",
   "metadata": {
    "tags": []
   },
   "source": [
    "## TBD Tuned Example"
   ]
  },
  {
   "cell_type": "code",
   "execution_count": 15,
   "id": "e74417a3-63bc-4000-951a-72ab882b689e",
   "metadata": {},
   "outputs": [],
   "source": [
    "# HIDDEN\n",
    "import gym\n",
    "import numpy as np\n",
    "import matplotlib.pyplot as plt\n",
    "import time\n",
    "from IPython import display\n",
    "# from ipywidgets import Output"
   ]
  },
  {
   "cell_type": "code",
   "execution_count": 2,
   "id": "0c77d56c-ef6f-4745-8ade-10e3f88a550e",
   "metadata": {},
   "outputs": [],
   "source": [
    "from ray import rllib"
   ]
  },
  {
   "cell_type": "code",
   "execution_count": 3,
   "id": "96403c53-a6ec-44db-ba0b-be8b75624bc0",
   "metadata": {},
   "outputs": [],
   "source": [
    "config = { # MOVE TO DEFAULT CONFIG?\n",
    "    \"framework\"             : \"torch\",\n",
    "    \"create_env_on_driver\"  : True,\n",
    "    \"seed\"                  : 0,\n",
    "    \"model\"                 : {\"fcnet_hiddens\" : [32, 32]}\n",
    "}"
   ]
  },
  {
   "cell_type": "code",
   "execution_count": 4,
   "id": "df9c65e0-083e-4822-adc9-b2c1beaa9409",
   "metadata": {},
   "outputs": [],
   "source": [
    "trainer = rllib.agents.ppo.PPOTrainer(config, env=\"CartPole-v1\")"
   ]
  },
  {
   "cell_type": "code",
   "execution_count": 5,
   "id": "cf389ee1-981b-41b7-8d94-da9f2983aa09",
   "metadata": {},
   "outputs": [],
   "source": [
    "rewards = []\n",
    "for i in range(50):\n",
    "    out = trainer.train()\n",
    "    rewards.append(out[\"episode_reward_mean\"])"
   ]
  },
  {
   "cell_type": "code",
   "execution_count": 6,
   "id": "637fa583-f446-4f40-8c9d-63e84ca07d1c",
   "metadata": {
    "tags": []
   },
   "outputs": [
    {
     "data": {
      "image/png": "[encoded data removed]",
      "text/plain": [
       "<Figure size 432x288 with 1 Axes>"
      ]
     },
     "metadata": {
      "needs_background": "light"
     },
     "output_type": "display_data"
    }
   ],
   "source": [
    "plt.plot(rewards);"
   ]
  },
  {
   "cell_type": "code",
   "execution_count": 16,
   "id": "d3e20925-7c16-4ff4-9d25-6931483c0d8e",
   "metadata": {},
   "outputs": [
    {
     "data": {
      "text/plain": [
       "array([-0.01000785,  0.03771147,  0.00728125,  0.00458686], dtype=float32)"
      ]
     },
     "execution_count": 16,
     "metadata": {},
     "output_type": "execute_result"
    }
   ],
   "source": [
    "env = gym.make(\"CartPole-v1\")\n",
    "env.reset()"
   ]
  },
  {
   "cell_type": "code",
   "execution_count": 17,
   "id": "1531bba8-dd26-47f5-baff-a81c05a46744",
   "metadata": {},
   "outputs": [],
   "source": [
    "# HIDDEN\n",
    "from utils import fix_cartpole_render\n",
    "fix_cartpole_render(env)"
   ]
  },
  {
   "cell_type": "code",
   "execution_count": 18,
   "id": "5d3ad323-2adc-415d-953c-2556ed941456",
   "metadata": {},
   "outputs": [
    {
     "data": {
      "image/png": "[encoded data removed]",
      "text/plain": [
       "<Figure size 432x288 with 1 Axes>"
      ]
     },
     "metadata": {
      "needs_background": "light"
     },
     "output_type": "display_data"
    }
   ],
   "source": [
    "# out = Output();\n",
    "# display.display(out);\n",
    "\n",
    "# with out:\n",
    "for i in range(20):\n",
    "    o,r,d,_ = env.step(np.random.rand()<0.6)\n",
    "\n",
    "    env.render()\n",
    "    time.sleep(0.2)\n",
    "\n",
    "display.clear_output(wait=True);\n",
    "# print(o,r,d)"
   ]
  },
  {
   "cell_type": "code",
   "execution_count": 12,
   "id": "897f7a3a-07ec-469f-9dbe-1d4e0643892a",
   "metadata": {},
   "outputs": [],
   "source": [
    "import matplotlib.patches\n",
    "from IPython import display"
   ]
  },
  {
   "cell_type": "code",
   "execution_count": 19,
   "id": "2a58e0d6-edbc-4e67-af75-ae8a56fb282a",
   "metadata": {},
   "outputs": [
    {
     "data": {
      "image/png": "[encoded data removed]",
      "text/plain": [
       "<Figure size 432x288 with 1 Axes>"
      ]
     },
     "metadata": {
      "needs_background": "light"
     },
     "output_type": "display_data"
    }
   ],
   "source": [
    "theta = 45/180*np.pi#0.2\n",
    "x = 1\n",
    "\n",
    "base_width = 0.75\n",
    "pole_length = 5\n",
    "base_height = 0.075 * pole_length\n",
    "\n",
    "flag = False\n",
    "for i in range(5):\n",
    "    x = x + ((np.random.rand()<0.5)*2-1)*.3\n",
    "    # print(x)\n",
    "\n",
    "    # fig = plt.figure(666)\n",
    "    if flag == False:\n",
    "        plt.figure()\n",
    "        print(\"new fig\")\n",
    "        ax = plt.gca()\n",
    "\n",
    "    flag = True\n",
    "    # plt.sca(ax)\n",
    "    ax.clear()\n",
    "    ax.set_yticks([]);\n",
    "    ax.set_xticks([-4.8, -2.4, 0, 2.4, 4.8]);\n",
    "    ax.set_xlim([-5,5]);\n",
    "    ax.set_ylim([-base_height-0.02, pole_length + 0.2]);\n",
    "    ax.set_aspect('equal')\n",
    "    ax.plot([x,x+np.sin(theta)*pole_length], [0,np.cos(theta)*pole_length], linewidth=4, color=\"goldenrod\");\n",
    "    rect = matplotlib.patches.Rectangle((x-base_width/2, -base_height), \n",
    "                base_width, base_height, linewidth=1, edgecolor='black', facecolor='black')\n",
    "    ax.add_patch(rect);\n",
    "    ax.set_title(f\"angle = {theta*180/np.pi:.2f} degrees\");\n",
    "    # plt.show(); \n",
    "    \n",
    "    display.clear_output(wait=True);\n",
    "    display.display(plt.gcf());\n",
    "    time.sleep(0.4);\n",
    "    \n",
    "display.clear_output(wait=True);"
   ]
  },
  {
   "cell_type": "code",
   "execution_count": 33,
   "id": "9efdf681-b7e2-4bd5-a75b-312b5d7938b5",
   "metadata": {},
   "outputs": [
    {
     "data": {
      "text/plain": [
       "<AxesSubplot:title={'center':'angle = 11.46 degrees'}>"
      ]
     },
     "execution_count": 33,
     "metadata": {},
     "output_type": "execute_result"
    }
   ],
   "source": [
    "ax"
   ]
  },
  {
   "cell_type": "code",
   "execution_count": 34,
   "id": "964af81c-5d97-4453-b61f-78386b63e186",
   "metadata": {},
   "outputs": [],
   "source": [
    "ax.clear()"
   ]
  },
  {
   "cell_type": "code",
   "execution_count": 35,
   "id": "ee58a604-80e0-4e68-9834-906a0bbc47b6",
   "metadata": {},
   "outputs": [],
   "source": [
    "plt.show()"
   ]
  },
  {
   "cell_type": "code",
   "execution_count": 28,
   "id": "b0cc30e6-d6cb-4ce7-b522-53f43812228c",
   "metadata": {},
   "outputs": [
    {
     "data": {
      "text/plain": [
       "<AxesSubplot:>"
      ]
     },
     "execution_count": 28,
     "metadata": {},
     "output_type": "execute_result"
    }
   ],
   "source": [
    "fig.gca()"
   ]
  },
  {
   "cell_type": "code",
   "execution_count": 29,
   "id": "86bfe6f5-45ad-4fa0-9801-247fb5389d7e",
   "metadata": {},
   "outputs": [
    {
     "ename": "ValueError",
     "evalue": "Given element not contained in the stack",
     "output_type": "error",
     "traceback": [
      "\u001b[0;31m---------------------------------------------------------------------------\u001b[0m",
      "\u001b[0;31mValueError\u001b[0m                                Traceback (most recent call last)",
      "Input \u001b[0;32mIn [29]\u001b[0m, in \u001b[0;36m<cell line: 1>\u001b[0;34m()\u001b[0m\n\u001b[0;32m----> 1\u001b[0m \u001b[43mfig\u001b[49m\u001b[38;5;241;43m.\u001b[39;49m\u001b[43msca\u001b[49m\u001b[43m(\u001b[49m\u001b[43max\u001b[49m\u001b[43m)\u001b[49m\n",
      "File \u001b[0;32m~/miniconda3/envs/rl-course-dev-2/lib/python3.8/site-packages/matplotlib/figure.py:1535\u001b[0m, in \u001b[0;36mFigureBase.sca\u001b[0;34m(self, a)\u001b[0m\n\u001b[1;32m   1533\u001b[0m \u001b[38;5;28;01mdef\u001b[39;00m \u001b[38;5;21msca\u001b[39m(\u001b[38;5;28mself\u001b[39m, a):\n\u001b[1;32m   1534\u001b[0m     \u001b[38;5;124;03m\"\"\"Set the current Axes to be *a* and return *a*.\"\"\"\u001b[39;00m\n\u001b[0;32m-> 1535\u001b[0m     \u001b[38;5;28;43mself\u001b[39;49m\u001b[38;5;241;43m.\u001b[39;49m\u001b[43m_axstack\u001b[49m\u001b[38;5;241;43m.\u001b[39;49m\u001b[43mbubble\u001b[49m\u001b[43m(\u001b[49m\u001b[43ma\u001b[49m\u001b[43m)\u001b[49m\n\u001b[1;32m   1536\u001b[0m     \u001b[38;5;28mself\u001b[39m\u001b[38;5;241m.\u001b[39m_axobservers\u001b[38;5;241m.\u001b[39mprocess(\u001b[38;5;124m\"\u001b[39m\u001b[38;5;124m_axes_change_event\u001b[39m\u001b[38;5;124m\"\u001b[39m, \u001b[38;5;28mself\u001b[39m)\n\u001b[1;32m   1537\u001b[0m     \u001b[38;5;28;01mreturn\u001b[39;00m a\n",
      "File \u001b[0;32m~/miniconda3/envs/rl-course-dev-2/lib/python3.8/site-packages/matplotlib/figure.py:82\u001b[0m, in \u001b[0;36m_AxesStack.bubble\u001b[0;34m(self, a)\u001b[0m\n\u001b[1;32m     78\u001b[0m \u001b[38;5;28;01mdef\u001b[39;00m \u001b[38;5;21mbubble\u001b[39m(\u001b[38;5;28mself\u001b[39m, a):\n\u001b[1;32m     79\u001b[0m     \u001b[38;5;124;03m\"\"\"\u001b[39;00m\n\u001b[1;32m     80\u001b[0m \u001b[38;5;124;03m    Move the given axes, which must already exist in the stack, to the top.\u001b[39;00m\n\u001b[1;32m     81\u001b[0m \u001b[38;5;124;03m    \"\"\"\u001b[39;00m\n\u001b[0;32m---> 82\u001b[0m     \u001b[38;5;28;01mreturn\u001b[39;00m \u001b[38;5;28;43msuper\u001b[39;49m\u001b[43m(\u001b[49m\u001b[43m)\u001b[49m\u001b[38;5;241;43m.\u001b[39;49m\u001b[43mbubble\u001b[49m\u001b[43m(\u001b[49m\u001b[38;5;28;43mself\u001b[39;49m\u001b[38;5;241;43m.\u001b[39;49m\u001b[43m_entry_from_axes\u001b[49m\u001b[43m(\u001b[49m\u001b[43ma\u001b[49m\u001b[43m)\u001b[49m\u001b[43m)\u001b[49m\n",
      "File \u001b[0;32m~/miniconda3/envs/rl-course-dev-2/lib/python3.8/site-packages/matplotlib/cbook/__init__.py:638\u001b[0m, in \u001b[0;36mStack.bubble\u001b[0;34m(self, o)\u001b[0m\n\u001b[1;32m    629\u001b[0m \u001b[38;5;124;03m\"\"\"\u001b[39;00m\n\u001b[1;32m    630\u001b[0m \u001b[38;5;124;03mRaise all references of *o* to the top of the stack, and return it.\u001b[39;00m\n\u001b[1;32m    631\u001b[0m \n\u001b[0;32m   (...)\u001b[0m\n\u001b[1;32m    635\u001b[0m \u001b[38;5;124;03m    If *o* is not in the stack.\u001b[39;00m\n\u001b[1;32m    636\u001b[0m \u001b[38;5;124;03m\"\"\"\u001b[39;00m\n\u001b[1;32m    637\u001b[0m \u001b[38;5;28;01mif\u001b[39;00m o \u001b[38;5;129;01mnot\u001b[39;00m \u001b[38;5;129;01min\u001b[39;00m \u001b[38;5;28mself\u001b[39m\u001b[38;5;241m.\u001b[39m_elements:\n\u001b[0;32m--> 638\u001b[0m     \u001b[38;5;28;01mraise\u001b[39;00m \u001b[38;5;167;01mValueError\u001b[39;00m(\u001b[38;5;124m'\u001b[39m\u001b[38;5;124mGiven element not contained in the stack\u001b[39m\u001b[38;5;124m'\u001b[39m)\n\u001b[1;32m    639\u001b[0m old_elements \u001b[38;5;241m=\u001b[39m \u001b[38;5;28mself\u001b[39m\u001b[38;5;241m.\u001b[39m_elements\u001b[38;5;241m.\u001b[39mcopy()\n\u001b[1;32m    640\u001b[0m \u001b[38;5;28mself\u001b[39m\u001b[38;5;241m.\u001b[39mclear()\n",
      "\u001b[0;31mValueError\u001b[0m: Given element not contained in the stack"
     ]
    }
   ],
   "source": [
    "fig.sca(ax)"
   ]
  },
  {
   "cell_type": "markdown",
   "id": "d713b73d-c45b-4fb0-ade1-9f42d719de6a",
   "metadata": {},
   "source": [
    "#### Placeholder\n",
    "\n",
    "Test"
   ]
  },
  {
   "cell_type": "markdown",
   "id": "d205da70-1255-437c-8a99-6ea8a5e8d2a0",
   "metadata": {},
   "source": [
    "#### Let's apply what we learned!"
   ]
  }
 ],
 "metadata": {
  "kernelspec": {
   "display_name": "Python [conda env:rl-course-dev-2]",
   "language": "python",
   "name": "conda-env-rl-course-dev-2-py"
  },
  "language_info": {
   "codemirror_mode": {
    "name": "ipython",
    "version": 3
   },
   "file_extension": ".py",
   "mimetype": "text/x-python",
   "name": "python",
   "nbconvert_exporter": "python",
   "pygments_lexer": "ipython3",
   "version": "3.8.13"
  }
 },
 "nbformat": 4,
 "nbformat_minor": 5
}
