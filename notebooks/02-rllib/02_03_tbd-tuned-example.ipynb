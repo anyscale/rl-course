{
 "cells": [
  {
   "cell_type": "markdown",
   "id": "90c01ab9-1cd0-47d8-a198-e07e36e2c1fc",
   "metadata": {
    "tags": []
   },
   "source": [
    "## TBD Tuned Example"
   ]
  },
  {
   "cell_type": "code",
   "execution_count": 1,
   "id": "e74417a3-63bc-4000-951a-72ab882b689e",
   "metadata": {},
   "outputs": [],
   "source": [
    "# HIDDEN\n",
    "import gym\n",
    "import numpy as np\n",
    "import matplotlib.pyplot as plt"
   ]
  },
  {
   "cell_type": "code",
   "execution_count": 2,
   "id": "0c77d56c-ef6f-4745-8ade-10e3f88a550e",
   "metadata": {},
   "outputs": [],
   "source": [
    "from ray import rllib"
   ]
  },
  {
   "cell_type": "code",
   "execution_count": 3,
   "id": "96403c53-a6ec-44db-ba0b-be8b75624bc0",
   "metadata": {},
   "outputs": [],
   "source": [
    "config = {\n",
    "    \"framework\"             : \"torch\",\n",
    "    \"create_env_on_driver\"  : True,\n",
    "    \"seed\"                  : 0,\n",
    "    \"model\"                 : {\"fcnet_hiddens\" : [32, 32]}\n",
    "}"
   ]
  },
  {
   "cell_type": "code",
   "execution_count": 4,
   "id": "df9c65e0-083e-4822-adc9-b2c1beaa9409",
   "metadata": {},
   "outputs": [],
   "source": [
    "trainer = rllib.agents.ppo.PPOTrainer(config, env=\"CartPole-v1\")"
   ]
  },
  {
   "cell_type": "code",
   "execution_count": 5,
   "id": "cf389ee1-981b-41b7-8d94-da9f2983aa09",
   "metadata": {},
   "outputs": [],
   "source": [
    "rewards = []\n",
    "for i in range(50):\n",
    "    out = trainer.train()\n",
    "    rewards.append(out[\"episode_reward_mean\"])"
   ]
  },
  {
   "cell_type": "code",
   "execution_count": 6,
   "id": "637fa583-f446-4f40-8c9d-63e84ca07d1c",
   "metadata": {
    "tags": []
   },
   "outputs": [
    {
     "data": {
      "image/png": "[encoded data removed]",
      "text/plain": [
       "<Figure size 432x288 with 1 Axes>"
      ]
     },
     "metadata": {
      "needs_background": "light"
     },
     "output_type": "display_data"
    }
   ],
   "source": [
    "plt.plot(rewards);"
   ]
  },
  {
   "cell_type": "code",
   "execution_count": 28,
   "id": "1531bba8-dd26-47f5-baff-a81c05a46744",
   "metadata": {},
   "outputs": [],
   "source": []
  },
  {
   "cell_type": "code",
   "execution_count": 72,
   "id": "c94bf55b-16cf-469d-ba4c-a7456386e7e7",
   "metadata": {},
   "outputs": [
    {
     "name": "stdout",
     "output_type": "stream",
     "text": [
      "                    ...                                     \n",
      "                    ...                                     \n",
      "                    ..                                      \n",
      "                    ..                                      \n",
      "                    ..                                      \n",
      "                    ..                                      \n",
      "                    ..                                      \n",
      "                    .                                       \n",
      "                    .                                       \n",
      "                    .                                       \n",
      "                    .                                       \n",
      "                    O                                       \n"
     ]
    }
   ],
   "source": [
    "x = -10\n",
    "theta = 0.1\n",
    "\n",
    "POLE_LENGTH = 12\n",
    "SCREEN_WIDTH = 60\n",
    "\n",
    "screen = np.full((POLE_LENGTH, SCREEN_WIDTH), \" \")\n",
    "screen[0, np.round(x - SCREEN_WIDTH//2)] = \"O\"#\"⬛️\"\n",
    "\n",
    "for i in range(1, POLE_LENGTH):\n",
    "    for j in range(SCREEN_WIDTH):\n",
    "        yy = i\n",
    "        xx = j - SCREEN_WIDTH//2\n",
    "        angle = np.arctan2(xx-x,  yy)\n",
    "        if theta - 0.1 <= angle <= theta + 0.1:\n",
    "            # print(angle, i, j, yy, xx, x)\n",
    "            screen[i, j] = \".\"#\"🔸\"\n",
    "\n",
    "screen = screen[-1::-1,:]\n",
    "            \n",
    "for line in screen:\n",
    "    s = \"\".join(line)\n",
    "    flag = False\n",
    "    if s.count(\".\") > 1:\n",
    "        s = s.lstrip(\".\") if flag else s.rstrip(\".\"\n",
    "    print(s)"
   ]
  },
  {
   "cell_type": "code",
   "execution_count": 8,
   "id": "6fed5b0b-5c54-465d-bc10-bb51a73212a9",
   "metadata": {},
   "outputs": [],
   "source": [
    "\n",
    "\n",
    "# x, x_dot, theta, theta_dot = self.state\n",
    "\n",
    "top_x_displacement = np.sin(theta) * POLE_LENGTH\n",
    "top_x_displacement = np.round(top_x_displacement)\n",
    "top_x_loc = SCREEN_WIDTH//2 + top_x_displacement\n",
    "\n",
    "top_y_loc = np.cos(theta) * POLE_LENGTH\n",
    "top_y_loc = np.round(top_y_loc)\n",
    "\n",
    "bottom_x_loc = x\n",
    "bottom_y_loc = 0\n",
    "\n",
    "left_x_loc = min(top_x_loc, bottom_x_loc)\n",
    "right_x_loc= max(top_x_loc, bottom_x_loc)\n",
    "\n",
    "# bottom always at (0,0)\n"
   ]
  },
  {
   "cell_type": "code",
   "execution_count": null,
   "id": "8e867c21-551a-4578-a937-812fd131ceb9",
   "metadata": {},
   "outputs": [],
   "source": [
    "# for i in range(bottom_y_loc, top_y_loc+1):\n",
    "#     for j in range(left_x_loc, right_x_loc+1):\n",
    "#         angle = np.tan(j/i)\n",
    "#         if "
   ]
  },
  {
   "cell_type": "markdown",
   "id": "d713b73d-c45b-4fb0-ade1-9f42d719de6a",
   "metadata": {},
   "source": [
    "#### Placeholder\n",
    "\n",
    "Test"
   ]
  },
  {
   "cell_type": "markdown",
   "id": "d205da70-1255-437c-8a99-6ea8a5e8d2a0",
   "metadata": {},
   "source": [
    "#### Let's apply what we learned!"
   ]
  }
 ],
 "metadata": {
  "kernelspec": {
   "display_name": "Python [conda env:rl-course-dev-2]",
   "language": "python",
   "name": "conda-env-rl-course-dev-2-py"
  },
  "language_info": {
   "codemirror_mode": {
    "name": "ipython",
    "version": 3
   },
   "file_extension": ".py",
   "mimetype": "text/x-python",
   "name": "python",
   "nbconvert_exporter": "python",
   "pygments_lexer": "ipython3",
   "version": "3.8.13"
  }
 },
 "nbformat": 4,
 "nbformat_minor": 5
}
