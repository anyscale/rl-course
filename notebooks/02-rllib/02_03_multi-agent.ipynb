{
 "cells": [
  {
   "cell_type": "markdown",
   "id": "90c01ab9-1cd0-47d8-a198-e07e36e2c1fc",
   "metadata": {
    "tags": []
   },
   "source": [
    "## RLlib for multi-agent RL"
   ]
  },
  {
   "cell_type": "code",
   "execution_count": 1,
   "id": "e74417a3-63bc-4000-951a-72ab882b689e",
   "metadata": {},
   "outputs": [],
   "source": [
    "# HIDDEN\n",
    "import gym\n",
    "import numpy as np\n",
    "\n",
    "# References for this notebook:\n",
    "# https://github.com/sven1977/rllib_tutorials/blob/main/ray_summit_2021/tutorial_notebook.ipynb\n",
    "# https://github.com/anyscale/ray-summit-2022-training/blob/main/ray-rllib/ex_02_create_multiagent_rllib_env.ipynb"
   ]
  },
  {
   "cell_type": "code",
   "execution_count": 2,
   "id": "19622972-1ae8-4288-af47-b9d268edb5b9",
   "metadata": {},
   "outputs": [],
   "source": [
    "# HIDDEN\n",
    "import ray\n",
    "import logging\n",
    "ray.init(log_to_driver=False, ignore_reinit_error=True, logging_level=logging.ERROR) # logging.FATAL\n",
    "\n",
    "import warnings\n",
    "warnings.filterwarnings(\"ignore\", category=DeprecationWarning) "
   ]
  },
  {
   "cell_type": "code",
   "execution_count": 3,
   "id": "a0f0d1b5-2e3e-4e35-b65c-1ade016763d0",
   "metadata": {},
   "outputs": [],
   "source": [
    "# HIDDEN\n",
    "import matplotlib.pyplot as plt\n",
    "plt.rcParams['font.size'] = 14"
   ]
  },
  {
   "cell_type": "markdown",
   "id": "87867cf7-c998-4627-8592-a9535054c16b",
   "metadata": {},
   "source": [
    "#### Multi-agent RL\n",
    "\n",
    "- So far we've dealt with one agent\n",
    "- Multi-agent RL deals with multiple agents\n",
    "- This could be competitive, e.g. two parties engaging in monetary transactions\n",
    "- It could be cooperative, e.g. two robots trying to complete a task together\n",
    "- See [this fun video](https://www.youtube.com/watch?v=Lu56xVlZ40M) for a competitive hide and seek game!\n",
    "\n",
    "Notes:\n",
    "\n",
    "Relationship to game theory, especially in the competitive scenarios."
   ]
  },
  {
   "cell_type": "markdown",
   "id": "8a94916c-f649-4de7-b15c-69ca2e7bed09",
   "metadata": {},
   "source": [
    "#### Multi agent arena\n",
    "\n",
    "![](img/multi-agent-arena-6x6.png)\n",
    "\n",
    "Notes:\n",
    "\n",
    "This arena game will be our running example.\n",
    "\n",
    "We have two agents, agent 1 and agent 2. In this case they have the same actions spaces and observations spaces but (critically) different reward functions. Agent 1 gets positive rewards if it explores a new square field, and a negative reward if it collides with agent 2. Agent 2 gets positive reward if it collides with agent 2. So in a way this is a game of tag, with agent 2 trying to catch agent 1, but agent 1 also has the additional goal of trying to explore territory rather than purely just running away. Since the field is 6x6, there are 36 squares. Our observation space is MultiDiscrete(36,36) because it contains the location of agent 1 (discrete 36) and agent 2 (also discrete 36).\n",
    "\n",
    "Agent 2 moves first at each time step."
   ]
  },
  {
   "cell_type": "markdown",
   "id": "ec5bbbc9-2700-437d-827b-d18d393645b7",
   "metadata": {},
   "source": [
    "#### Testing out the multi-agent env\n",
    "\n",
    "We import the env (code available on the course GitHub):"
   ]
  },
  {
   "cell_type": "code",
   "execution_count": 4,
   "id": "fb272d1c-c4fc-439d-beee-ddfcb40e5310",
   "metadata": {},
   "outputs": [],
   "source": [
    "from envs_02 import MultiAgentArena"
   ]
  },
  {
   "cell_type": "code",
   "execution_count": 5,
   "id": "29a9d01f-9437-4e6c-8e12-2eb6f181ea79",
   "metadata": {},
   "outputs": [
    {
     "data": {
      "text/plain": [
       "{'agent1': array([ 0, 35]), 'agent2': array([35,  0])}"
      ]
     },
     "execution_count": 5,
     "metadata": {},
     "output_type": "execute_result"
    }
   ],
   "source": [
    "env = MultiAgentArena()\n",
    "env.reset()"
   ]
  },
  {
   "cell_type": "markdown",
   "id": "b1d97243-f8a9-472c-9ac3-a550bb763d13",
   "metadata": {},
   "source": [
    "What is the observation space?"
   ]
  },
  {
   "cell_type": "code",
   "execution_count": 6,
   "id": "9d2b7a39-5b24-4bab-92d8-92015ba6433f",
   "metadata": {},
   "outputs": [
    {
     "data": {
      "text/plain": [
       "MultiDiscrete([36 36])"
      ]
     },
     "execution_count": 6,
     "metadata": {},
     "output_type": "execute_result"
    }
   ],
   "source": [
    "env.observation_space"
   ]
  },
  {
   "cell_type": "markdown",
   "id": "96ec63aa-60ee-40fa-bae0-fa2850b21aa4",
   "metadata": {},
   "source": [
    "- We see that it's `MultiDiscrete([36 36])`.\n",
    "- Actually it is `MultiDiscrete([36 36])` _for each agent_.\n",
    "- The 36 comes from the 6x6 grid, and represents one location.\n",
    "- Both agents observe the locations of both agents.\n",
    "- In this particular env, both agents observe the same thing, though each agent sees itself \"first\"."
   ]
  },
  {
   "cell_type": "markdown",
   "id": "fcb1ef26-ee87-40b6-9342-7d67aac0295c",
   "metadata": {},
   "source": [
    "#### Testing out the multi-agent env\n",
    "\n",
    "Let's look at the action space now:"
   ]
  },
  {
   "cell_type": "code",
   "execution_count": 7,
   "id": "64e9ef51-15d2-45d3-aa98-1d2ab2552d31",
   "metadata": {},
   "outputs": [
    {
     "data": {
      "text/plain": [
       "Discrete(4)"
      ]
     },
     "execution_count": 7,
     "metadata": {},
     "output_type": "execute_result"
    }
   ],
   "source": [
    "env.action_space"
   ]
  },
  {
   "cell_type": "markdown",
   "id": "c327f0cf-cd21-490b-993b-ade2ee7f5758",
   "metadata": {},
   "source": [
    "- Again, this is for each agent.\n",
    "- The env uses the same convention as Frozen Lake: 0=left, 1=down, 2=right, 3=up"
   ]
  },
  {
   "cell_type": "code",
   "execution_count": 8,
   "id": "78b6b8c3-f6ab-4a1a-8cfa-c1abfbf77cdd",
   "metadata": {},
   "outputs": [],
   "source": [
    "obs, rewards, dones, _ = env.step({\"agent1\": 1, \"agent2\": 0}) # agent 1: down, agent2: up"
   ]
  },
  {
   "cell_type": "code",
   "execution_count": 9,
   "id": "07423354-aad5-4ef9-a493-47591f65c441",
   "metadata": {},
   "outputs": [
    {
     "name": "stdout",
     "output_type": "stream",
     "text": [
      "________\n",
      "|.     |\n",
      "|1     |\n",
      "|      |\n",
      "|      |\n",
      "|      |\n",
      "|    2 |\n",
      "‾‾‾‾‾‾‾‾\n",
      "\n",
      "R1= 1.0\n",
      "R2=-0.1 (0 collisions)\n",
      "Env timesteps=1/50\n"
     ]
    }
   ],
   "source": [
    "env.render()"
   ]
  },
  {
   "cell_type": "markdown",
   "id": "9c7eda38-fcd3-4176-8709-0f5bacdf6099",
   "metadata": {},
   "source": [
    "#### Testing out the multi-agent env"
   ]
  },
  {
   "cell_type": "code",
   "execution_count": 10,
   "id": "b2322127-1d21-49a8-973f-2844198ed107",
   "metadata": {},
   "outputs": [
    {
     "name": "stdout",
     "output_type": "stream",
     "text": [
      "________\n",
      "|.     |\n",
      "|1     |\n",
      "|      |\n",
      "|      |\n",
      "|      |\n",
      "|    2 |\n",
      "‾‾‾‾‾‾‾‾\n",
      "\n",
      "R1= 1.0\n",
      "R2=-0.1 (0 collisions)\n",
      "Env timesteps=1/50\n"
     ]
    }
   ],
   "source": [
    "env.render()"
   ]
  },
  {
   "cell_type": "code",
   "execution_count": 31,
   "id": "08cf16a6-c851-45ea-a006-e3c573192753",
   "metadata": {},
   "outputs": [
    {
     "data": {
      "text/plain": [
       "{'agent1': array([ 0, 35]), 'agent2': array([35,  0])}"
      ]
     },
     "execution_count": 31,
     "metadata": {},
     "output_type": "execute_result"
    }
   ],
   "source": [
    "obs"
   ]
  },
  {
   "cell_type": "markdown",
   "id": "69429196-8301-401a-99a2-12bed7092cdb",
   "metadata": {},
   "source": [
    "#### Testing out the multi-agent env"
   ]
  },
  {
   "cell_type": "code",
   "execution_count": 32,
   "id": "69207fa9-f54b-4731-8343-aca08cd69495",
   "metadata": {},
   "outputs": [
    {
     "data": {
      "text/plain": [
       "{'agent1': array([ 0, 35]), 'agent2': array([35,  0])}"
      ]
     },
     "execution_count": 32,
     "metadata": {},
     "output_type": "execute_result"
    }
   ],
   "source": [
    "obs"
   ]
  },
  {
   "cell_type": "markdown",
   "id": "ec17dbbd-fc32-448a-a17b-2f843c366a7f",
   "metadata": {},
   "source": [
    "This makes sense given the observation space mapping:\n",
    "\n",
    "```\n",
    "--------------------\n",
    "| 0  1  2  3  4  5 |\n",
    "| 6  7  8  9 10 11 |\n",
    "|12 13 14 15 16 17 |\n",
    "|18 19 20 21 22 23 |\n",
    "|24 25 26 27 28 29 |\n",
    "|30 31 32 33 34 35 |\n",
    "--------------------\n",
    "```"
   ]
  },
  {
   "cell_type": "code",
   "execution_count": 12,
   "id": "cd3c60ff-3e42-4c26-a886-ffe2e256c1ef",
   "metadata": {},
   "outputs": [
    {
     "name": "stdout",
     "output_type": "stream",
     "text": [
      "--------------------\n",
      "| 0  1  2  3  4  5 |\n",
      "| 6  7  8  9 10 11 |\n",
      "|12 13 14 15 16 17 |\n",
      "|18 19 20 21 22 23 |\n",
      "|24 25 26 27 28 29 |\n",
      "|30 31 32 33 34 35 |\n",
      "--------------------"
     ]
    }
   ],
   "source": [
    "# HIDDEN\n",
    "\n",
    "n = 6\n",
    "for i in range(20):\n",
    "    print(\"-\", end=\"\")\n",
    "print()\n",
    "for i in range(n):\n",
    "    print(\"|\", end=\"\")\n",
    "    for j in range(n):\n",
    "        print(f\"{j + i*n:2d}\", end=\" \")\n",
    "    print(\"|\")\n",
    "for i in range(20):\n",
    "    print(\"-\", end=\"\")\n",
    "    \n",
    "    \n",
    "# --------------------------------\n",
    "# | 0  1  2  3  4  5  6  7  8  9 |\n",
    "# |10 11 12 13 14 15 16 17 18 19 |\n",
    "# |20 21 22 23 24 25 26 27 28 29 |\n",
    "# |30 31 32 33 34 35 36 37 38 39 |\n",
    "# |40 41 42 43 44 45 46 47 48 49 |\n",
    "# |50 51 52 53 54 55 56 57 58 59 |\n",
    "# |60 61 62 63 64 65 66 67 68 69 |\n",
    "# |70 71 72 73 74 75 76 77 78 79 |\n",
    "# |80 81 82 83 84 85 86 87 88 89 |\n",
    "# |90 91 92 93 94 95 96 97 98 99 |\n",
    "# --------------------------------\n",
    "\n",
    "# ------------------------\n",
    "# | 0  1  2  3  4  5  6  7 |\n",
    "# | 8  9 10 11 12 13 14 15 |\n",
    "# |16 17 18 19 20 21 22 23 |\n",
    "# |24 25 26 27 28 29 30 31 |\n",
    "# |32 33 34 35 36 37 38 39 |\n",
    "# |40 41 42 43 44 45 46 47 |\n",
    "# |48 49 50 51 52 53 54 55 |\n",
    "# |56 57 58 59 60 61 62 63 |\n",
    "# ------------------------"
   ]
  },
  {
   "cell_type": "markdown",
   "id": "0a53cae9-cbef-429a-bdab-1aee7aa7cf7d",
   "metadata": {},
   "source": [
    "#### Testing out the multi-agent env\n",
    "\n",
    "Let's also look at the rewards and dones returned by `step()`:"
   ]
  },
  {
   "cell_type": "code",
   "execution_count": 13,
   "id": "e699ba08-f263-4038-b59f-5171446ea08b",
   "metadata": {},
   "outputs": [
    {
     "data": {
      "text/plain": [
       "{'agent1': 1.0, 'agent2': -0.1}"
      ]
     },
     "execution_count": 13,
     "metadata": {},
     "output_type": "execute_result"
    }
   ],
   "source": [
    "rewards"
   ]
  },
  {
   "cell_type": "markdown",
   "id": "da41fc58-e865-4a65-bd3f-293406f1cddc",
   "metadata": {},
   "source": [
    "Here we see agent 1 collected reward of +1 for exploring whereas agent 2 collected -0.1 for a regular move."
   ]
  },
  {
   "cell_type": "code",
   "execution_count": 14,
   "id": "e20a3596-e706-43f5-b15e-4675e0f5c14d",
   "metadata": {},
   "outputs": [
    {
     "data": {
      "text/plain": [
       "{'agent1': False, 'agent2': False, '__all__': False}"
      ]
     },
     "execution_count": 14,
     "metadata": {},
     "output_type": "execute_result"
    }
   ],
   "source": [
    "dones"
   ]
  },
  {
   "cell_type": "markdown",
   "id": "55ced2be-b0c1-4f86-8031-ab15cb2ff49e",
   "metadata": {},
   "source": [
    "The `\"__all__\"` is True when both (all) agents are done."
   ]
  },
  {
   "cell_type": "markdown",
   "id": "21ec6c92-65be-48bb-87a0-faa77188ec9f",
   "metadata": {},
   "source": [
    "Notes:\n",
    "\n",
    "In this environment, episodes end after 50 time steps."
   ]
  },
  {
   "cell_type": "markdown",
   "id": "a4a5d662-5194-458a-8da2-df5f2abd1895",
   "metadata": {},
   "source": [
    "#### Multi-agent training with RLlib\n",
    "\n",
    "We can see that PPO supports multi-agent training from the Ray docs [here](https://docs.ray.io/en/latest/rllib/rllib-algorithms.html#available-algorithms-overview)."
   ]
  },
  {
   "cell_type": "code",
   "execution_count": 15,
   "id": "e2a132b6-a5c3-4886-9ef1-17020d2d357b",
   "metadata": {},
   "outputs": [],
   "source": [
    "# HIDDEN\n",
    "from ray.rllib.algorithms.ppo import PPOConfig"
   ]
  },
  {
   "cell_type": "code",
   "execution_count": 16,
   "id": "c8334f57-e390-4a67-8ef3-9946481c9fb6",
   "metadata": {},
   "outputs": [],
   "source": [
    "# This is the same as before\n",
    "ppo_config = (\n",
    "    PPOConfig()\\\n",
    "    .framework(\"torch\")\\\n",
    "    .rollouts(create_env_on_local_worker=True)\\\n",
    "    .debugging(seed=0, log_level=\"ERROR\")\\\n",
    "    .training(model={\"fcnet_hiddens\" : [64, 64]})\\\n",
    ")\n",
    "# This is new\n",
    "ppo_config = ppo_config.multi_agent(\n",
    "    policies=[\"policy1\", \"policy2\"],\n",
    "    policy_mapping_fn=lambda agent_id, episode, worker, **kwargs: \"policy1\" if agent_id == \"agent1\" else \"policy2\"\n",
    ")"
   ]
  },
  {
   "cell_type": "code",
   "execution_count": 17,
   "id": "d50cf7ac-873e-4d29-aeb0-1351a5f5af00",
   "metadata": {},
   "outputs": [],
   "source": [
    "# TODO\n",
    "# use a default config for the above, to make it cleaner"
   ]
  },
  {
   "cell_type": "markdown",
   "id": "1d387cf1-58ab-4442-89dc-d7d8bf9bfddf",
   "metadata": {},
   "source": [
    "- We name the policies and map the agent ids to policy ids.\n",
    "- The policy ids must match in the two lines above.\n",
    "- The agent ids must match the env:"
   ]
  },
  {
   "cell_type": "code",
   "execution_count": 18,
   "id": "7987bff1-e666-433e-87e2-c482d5c2a636",
   "metadata": {},
   "outputs": [
    {
     "data": {
      "text/plain": [
       "{'agent1': array([ 6, 34]), 'agent2': array([34,  6])}"
      ]
     },
     "execution_count": 18,
     "metadata": {},
     "output_type": "execute_result"
    }
   ],
   "source": [
    "obs"
   ]
  },
  {
   "cell_type": "markdown",
   "id": "8d18e54e-1f13-4342-afb2-ea89b11a4f30",
   "metadata": {},
   "source": [
    "#### Multi-policy\n",
    "\n",
    "- In multi-agent RL, the two agents might share the same policy, or they might not.\n",
    "- In this case, we want _separate policies_.\n",
    "- This was specified in the code on the previous slide via the config.\n",
    "\n",
    "![](img/from_single_agent_to_multi_agent.png)"
   ]
  },
  {
   "cell_type": "markdown",
   "id": "882c9ae4-1fe2-4d45-b0dd-712defe26194",
   "metadata": {},
   "source": [
    "#### Training\n",
    "\n",
    "Let's build the algorithm and train for 20 iterations:"
   ]
  },
  {
   "cell_type": "code",
   "execution_count": 19,
   "id": "f5af9d8c-cc7c-4572-a0dc-ff4c22cf388d",
   "metadata": {},
   "outputs": [],
   "source": [
    "ppo = ppo_config.build(env=MultiAgentArena)"
   ]
  },
  {
   "cell_type": "code",
   "execution_count": 20,
   "id": "f929c4fc-3e8d-47cf-b44e-9c61830bbd90",
   "metadata": {},
   "outputs": [],
   "source": [
    "rewards1 = []\n",
    "rewards2 = []"
   ]
  },
  {
   "cell_type": "code",
   "execution_count": 21,
   "id": "73cff77b-9864-4e75-937b-29e3c4431c43",
   "metadata": {},
   "outputs": [],
   "source": [
    "for i in range(20):\n",
    "    result = ppo.train()\n",
    "    rewards1.append(result['policy_reward_mean']['policy1'])\n",
    "    rewards2.append(result['policy_reward_mean']['policy2'])"
   ]
  },
  {
   "cell_type": "code",
   "execution_count": 22,
   "id": "5669198d-70db-41bd-8ab5-8c85e4bd5647",
   "metadata": {},
   "outputs": [],
   "source": [
    "# HIDDEN\n",
    "# rewards1 = np.array(rewards1)\n",
    "# rewards2 = np.array(rewards2)"
   ]
  },
  {
   "cell_type": "markdown",
   "id": "d089bd7d-4681-44d2-8789-182bec431a0b",
   "metadata": {},
   "source": [
    "#### Training curve\n",
    "\n",
    "It looks like learning is happening!"
   ]
  },
  {
   "cell_type": "code",
   "execution_count": 26,
   "id": "30d80ea8-89c6-4bf2-a59c-607f8dd5859f",
   "metadata": {},
   "outputs": [
    {
     "data": {
      "image/png": "[encoded data removed]",
      "text/plain": [
       "<Figure size 400x300 with 1 Axes>"
      ]
     },
     "metadata": {},
     "output_type": "display_data"
    }
   ],
   "source": [
    "plt.figure(figsize=(4,3))\n",
    "plt.plot(rewards1, label=\"Agent 1\")\n",
    "plt.plot(rewards2, label=\"Agent 2\")\n",
    "plt.plot(np.array(rewards1)+np.array(rewards2), label=\"Total reward\", linewidth=3, color=\"black\")\n",
    "plt.legend(fontsize=12)\n",
    "plt.xlabel(\"Iterations\")\n",
    "plt.ylabel(\"Reward\");"
   ]
  },
  {
   "cell_type": "markdown",
   "id": "71746f6a-8fd1-45ba-bce1-9eb0a6c5efec",
   "metadata": {},
   "source": [
    "Notes:\n",
    "\n",
    "It is just coincidence that the two agents end up with a similar reward."
   ]
  },
  {
   "cell_type": "markdown",
   "id": "9eac4c21-78b9-46dc-9c68-d45537b3d52a",
   "metadata": {},
   "source": [
    "#### A constantly changing environment\n",
    "\n",
    "- From each agent's perspective, the environment keeps changes (as the other agent learns).\n",
    "- As one agent learns new strategies, the other agent has to learn about and counter them.\n",
    "- This makes multi-agent RL quite special!"
   ]
  },
  {
   "cell_type": "markdown",
   "id": "4e1c5285-f02b-48e4-ad4c-0b1f62e1de41",
   "metadata": {},
   "source": [
    "#### Actions\n",
    "\n",
    "When we want to use the trained agents, we still use `compute_single_action` but once for each agent:"
   ]
  },
  {
   "cell_type": "code",
   "execution_count": 27,
   "id": "2d6bf26a-2e08-4196-809d-24b2d8ffb953",
   "metadata": {},
   "outputs": [],
   "source": [
    "obs = env.reset()"
   ]
  },
  {
   "cell_type": "code",
   "execution_count": 28,
   "id": "b9a71f41-3ad8-4997-be6e-1ace02a8ccf6",
   "metadata": {},
   "outputs": [],
   "source": [
    "# HIDDEN\n",
    "# env.render()"
   ]
  },
  {
   "cell_type": "code",
   "execution_count": 29,
   "id": "4d4032cf-0c76-445f-a0e5-b15082bddb92",
   "metadata": {},
   "outputs": [
    {
     "data": {
      "text/plain": [
       "1"
      ]
     },
     "execution_count": 29,
     "metadata": {},
     "output_type": "execute_result"
    }
   ],
   "source": [
    "ppo.compute_single_action(obs[\"agent1\"], policy_id=\"policy1\", explore=False)"
   ]
  },
  {
   "cell_type": "markdown",
   "id": "e88d7111-47fe-4afb-bb3c-a5a8e6d82cd7",
   "metadata": {},
   "source": [
    "Agent 1 moves  right (0=left, 1=down, 2=right, 3=up)."
   ]
  },
  {
   "cell_type": "code",
   "execution_count": 30,
   "id": "e2c5770c-bdab-42cd-b0c7-a3cfdd5bf8f5",
   "metadata": {},
   "outputs": [
    {
     "data": {
      "text/plain": [
       "3"
      ]
     },
     "execution_count": 30,
     "metadata": {},
     "output_type": "execute_result"
    }
   ],
   "source": [
    "ppo.compute_single_action(obs[\"agent2\"], policy_id=\"policy2\", explore=False)"
   ]
  },
  {
   "cell_type": "markdown",
   "id": "2414f80f-2b16-4174-81f4-7906f1438348",
   "metadata": {},
   "source": [
    "Agent 2 moves up."
   ]
  },
  {
   "cell_type": "markdown",
   "id": "329274ee-0f18-4278-bf1e-1c25948a566a",
   "metadata": {},
   "source": [
    "We need to pass in the observation for that agent, and also the correct policy since we are using separate policies."
   ]
  },
  {
   "cell_type": "markdown",
   "id": "d205da70-1255-437c-8a99-6ea8a5e8d2a0",
   "metadata": {},
   "source": [
    "#### Let's apply what we learned!"
   ]
  },
  {
   "cell_type": "code",
   "execution_count": 28,
   "id": "76c284ef-6058-4a05-b4c9-709014f34885",
   "metadata": {},
   "outputs": [],
   "source": [
    "# HIDDEN\n",
    "# ppo.save(\"models/MultiAgent20\")"
   ]
  },
  {
   "cell_type": "markdown",
   "id": "660798a8-c360-48ac-bd9a-f023157d4908",
   "metadata": {},
   "source": [
    "## Multi-agent RL use cases\n",
    "<!-- multiple choice -->\n",
    "\n",
    "Which of the following is **NOT** a reasonable use case of multi-agent RL?\n",
    "\n",
    "- [ ] Multiple competing agents learning to play an adversarial game.\n",
    "- [ ] Multiple cooperative agents learning to play a cooperative game.\n",
    "- [ ] Learning to operate in a financial market with multiple stakeholders.\n",
    "- [x] Frozen Lake"
   ]
  },
  {
   "cell_type": "markdown",
   "id": "94c06797-db39-42cc-96c4-48537827c16a",
   "metadata": {
    "tags": []
   },
   "source": [
    "## What do the agents share?\n",
    "<!-- multiple choice -->\n",
    "\n",
    "#### Observations and actions: our example\n",
    "\n",
    "Which of the following is true **about our arena example specifically**?\n",
    "\n",
    "- [ ] The agents share the same observation space but have different action spaces.\n",
    "- [ ] The agents share the same action space but have different observation spaces.\n",
    "- [x] The agents share the same observation and action spaces.\n",
    "- [ ] The agents have different observation and action spaces.\n",
    "\n",
    "#### Observations and actions: in general\n",
    "\n",
    "Which of the following is true **about multi-agent RL in general**?\n",
    "\n",
    "- [ ] The agents always share the same observation space but may have different action spaces.\n",
    "- [ ] The agents always share the same action space but may have different observation spaces.\n",
    "- [ ] The agents always share the same observation and action spaces.\n",
    "- [x] The agents may have different observation and action spaces.\n",
    "\n",
    "#### Rewards and policies: our example\n",
    "\n",
    "Which of the following is true **about our arena example specifically**?\n",
    "\n",
    "- [ ] The agents have the same goals but different policies.\n",
    "- [ ] The agents have the same policies but different goals.\n",
    "- [ ] The agents have the same goals and the same policies. \n",
    "- [x] The agents have different goals and different policies."
   ]
  },
  {
   "cell_type": "markdown",
   "id": "9a6a315b-2271-4484-959c-483e40dc5f22",
   "metadata": {},
   "source": [
    "## Visualizing the trained arena agent\n",
    "<!-- coding exercise -->\n",
    "\n",
    "In the slides we trained two agents to play the arena game. In the code below, we restore the agent that was trained in the slides. Fill in the missing code so that we can watch the trained agents play the game. Then, answer the multiple choice question below."
   ]
  },
  {
   "cell_type": "code",
   "execution_count": 29,
   "id": "1df51067-0dcb-4758-acc0-ac7c44af7067",
   "metadata": {
    "tags": [
     "raises-exception"
    ]
   },
   "outputs": [
    {
     "ename": "SyntaxError",
     "evalue": "keyword argument repeated: ____ (2618409439.py, line 8)",
     "output_type": "error",
     "traceback": [
      "\u001b[0;36m  Input \u001b[0;32mIn [29]\u001b[0;36m\u001b[0m\n\u001b[0;31m    PPOConfig()\\\u001b[0m\n\u001b[0m        ^\u001b[0m\n\u001b[0;31mSyntaxError\u001b[0m\u001b[0;31m:\u001b[0m keyword argument repeated: ____\n"
     ]
    }
   ],
   "source": [
    "# EXERCISE\n",
    "\n",
    "from envs_02 import MultiAgentArena\n",
    "from ray.rllib.algorithms.ppo import PPOConfig\n",
    "import time\n",
    "\n",
    "ppo_config = (\n",
    "    PPOConfig()\\\n",
    "    .framework(\"torch\")\\\n",
    "    .rollouts(create_env_on_local_worker=True)\\\n",
    "    .debugging(seed=0, log_level=\"ERROR\")\\\n",
    "    .training(model={\"fcnet_hiddens\" : [64, 64]})\\\n",
    "    .multi_agent(\n",
    "        ____=[\"policy1\", \"policy2\"],\n",
    "        ____=lambda agent_id, episode, worker, **kwargs: \"policy1\" if agent_id == \"agent1\" else \"policy2\"\n",
    "    )\n",
    ")\n",
    "\n",
    "ppo_arena = ppo_config.build(env=MultiAgentArena)\n",
    "\n",
    "ppo_arena.restore(\"models/MultiAgent20/checkpoint_000020\")\n",
    "\n",
    "env = MultiAgentArena(config={\"render\": True})\n",
    "obs = env.reset()\n",
    "dones = {\"__all__\" : False}\n",
    "    \n",
    "while not dones[\"__all__\"]:\n",
    "\n",
    "    action1 = ppo_arena.compute_single_action(____, policy_id=\"policy1\")\n",
    "    action2 = ppo_arena.compute_single_action(____, policy_id=\"policy2\")\n",
    "\n",
    "    obs, rewards, dones, infos = env.step({\"agent1\": ____, \"agent2\": ____})\n",
    "\n",
    "    env.render()\n",
    "    time.sleep(0.5)"
   ]
  },
  {
   "cell_type": "code",
   "execution_count": 30,
   "id": "5a9df7e2-2962-417c-94ee-9a48e50c56c2",
   "metadata": {},
   "outputs": [
    {
     "name": "stdout",
     "output_type": "stream",
     "text": [
      "________\n",
      "|...   |\n",
      "|......|\n",
      "|......|\n",
      "|.  .2.|\n",
      "|.  . 1|\n",
      "|..... |\n",
      "‾‾‾‾‾‾‾‾\n",
      "\n",
      "R1= 6.0\n",
      "R2= 6.0 (10 collisions)\n",
      "Env timesteps=50/50\n"
     ]
    }
   ],
   "source": [
    "# SOLUTION\n",
    "\n",
    "from envs_02 import MultiAgentArena\n",
    "from ray.rllib.algorithms.ppo import PPOConfig\n",
    "import time\n",
    "\n",
    "ppo_config = (\n",
    "    PPOConfig()\\\n",
    "    .framework(\"torch\")\\\n",
    "    .rollouts(create_env_on_local_worker=True)\\\n",
    "    .debugging(seed=0, log_level=\"ERROR\")\\\n",
    "    .training(model={\"fcnet_hiddens\" : [64, 64]})\\\n",
    "    .multi_agent(\n",
    "        policies=[\"policy1\", \"policy2\"],\n",
    "        policy_mapping_fn=lambda agent_id, episode, worker, **kwargs: \"policy1\" if agent_id == \"agent1\" else \"policy2\"\n",
    "    )\n",
    ")\n",
    "\n",
    "ppo_arena = ppo_config.build(env=MultiAgentArena)\n",
    "\n",
    "ppo_arena.restore(\"models/MultiAgent20/checkpoint_000020\")\n",
    "\n",
    "env = MultiAgentArena(config={\"render\": True})\n",
    "obs = env.reset()\n",
    "dones = {\"__all__\" : False}\n",
    "    \n",
    "while not dones[\"__all__\"]:\n",
    "\n",
    "    action1 = ppo_arena.compute_single_action(obs[\"agent1\"], policy_id=\"policy1\")\n",
    "    action2 = ppo_arena.compute_single_action(obs[\"agent2\"], policy_id=\"policy2\")\n",
    "\n",
    "    obs, rewards, dones, infos = env.step({\"agent1\": action1, \"agent2\": action2})\n",
    "\n",
    "    env.render()\n",
    "    time.sleep(0.5)"
   ]
  },
  {
   "cell_type": "markdown",
   "id": "079e7363-6ba8-4333-94c8-62bd1fd8e985",
   "metadata": {},
   "source": [
    "#### Choose the option below that best describes the agents' behavior.\n",
    "\n",
    "- [x] Agent 2 appears to \"guard\" some of the unexplored territory from Agent 1. \n",
    "- [ ] Agent 1 manages to explore the entire arena in the given number of time steps.\n",
    "- [ ] Agent 1 manages to avoid colliding with Agent 2 in the given number of time steps.\n",
    "- [ ] The agents appear to ignore each other. "
   ]
  }
 ],
 "metadata": {
  "kernelspec": {
   "display_name": "Python [conda env:ray200]",
   "language": "python",
   "name": "conda-env-ray200-py"
  },
  "language_info": {
   "codemirror_mode": {
    "name": "ipython",
    "version": 3
   },
   "file_extension": ".py",
   "mimetype": "text/x-python",
   "name": "python",
   "nbconvert_exporter": "python",
   "pygments_lexer": "ipython3",
   "version": "3.9.13"
  }
 },
 "nbformat": 4,
 "nbformat_minor": 5
}
