{
 "cells": [
  {
   "cell_type": "markdown",
   "id": "058de0ad-9b08-4713-bca9-8a2b113ce4e7",
   "metadata": {},
   "source": [
    "can also talk about what is not covered"
   ]
  },
  {
   "cell_type": "markdown",
   "id": "fade6b57-cb09-46ae-bdb6-68f1260f6961",
   "metadata": {},
   "source": [
    "e.g. multi-agent \n",
    "images with CNNs\n",
    "various applications, e.g.\n",
    "\n",
    "- supply chain / logistics / OR -> portfolio allocation / portfolio optimization ;; energy optimization! ; dynamic decision making\n",
    "\n",
    "is offline RL the future?"
   ]
  },
  {
   "cell_type": "code",
   "execution_count": null,
   "id": "7af3482c-2b95-46a0-b4a0-7921aec09bc6",
   "metadata": {},
   "outputs": [],
   "source": []
  }
 ],
 "metadata": {
  "kernelspec": {
   "display_name": "Python [conda env:rl-course-dev-2]",
   "language": "python",
   "name": "conda-env-rl-course-dev-2-py"
  },
  "language_info": {
   "codemirror_mode": {
    "name": "ipython",
    "version": 3
   },
   "file_extension": ".py",
   "mimetype": "text/x-python",
   "name": "python",
   "nbconvert_exporter": "python",
   "pygments_lexer": "ipython3",
   "version": "3.8.13"
  }
 },
 "nbformat": 4,
 "nbformat_minor": 5
}
