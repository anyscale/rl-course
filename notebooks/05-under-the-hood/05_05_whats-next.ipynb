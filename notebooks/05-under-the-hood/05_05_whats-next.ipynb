{
 "cells": [
  {
   "cell_type": "markdown",
   "id": "e582ca56-d09b-4ca2-8706-b50bf65cf29f",
   "metadata": {},
   "source": [
    "## What's next?"
   ]
  },
  {
   "cell_type": "markdown",
   "id": "a75dd2d1-0e68-4c21-b26c-c5de4c1850cb",
   "metadata": {},
   "source": [
    "#### What is not covered in this course"
   ]
  },
  {
   "cell_type": "code",
   "execution_count": null,
   "id": "cd8f3d47-8d67-4b6c-8cb5-d6f88a02ed30",
   "metadata": {},
   "outputs": [],
   "source": []
  },
  {
   "cell_type": "markdown",
   "id": "a5cf3769-ef5b-4969-867d-c57e54f64a3d",
   "metadata": {},
   "source": [
    "#### Other resources"
   ]
  },
  {
   "cell_type": "markdown",
   "id": "058de0ad-9b08-4713-bca9-8a2b113ce4e7",
   "metadata": {},
   "source": [
    "can also talk about what is not covered"
   ]
  },
  {
   "cell_type": "markdown",
   "id": "fade6b57-cb09-46ae-bdb6-68f1260f6961",
   "metadata": {},
   "source": [
    "e.g. multi-agent \n",
    "images with CNNs\n",
    "various applications, e.g.\n",
    "\n",
    "- supply chain / logistics / OR -> portfolio allocation / portfolio optimization ;; energy optimization! ; dynamic decision making\n",
    "\n",
    "is offline RL the future?"
   ]
  },
  {
   "cell_type": "code",
   "execution_count": null,
   "id": "7af3482c-2b95-46a0-b4a0-7921aec09bc6",
   "metadata": {},
   "outputs": [],
   "source": [
    "envs that are based on data\n"
   ]
  },
  {
   "cell_type": "markdown",
   "id": "6cb0e2ec-6905-4178-b11d-f27551cb05e2",
   "metadata": {},
   "source": [
    "#### Thanks for joining!"
   ]
  },
  {
   "cell_type": "code",
   "execution_count": null,
   "id": "3d5dfa52-0ceb-409c-ad8a-45c6d9f9a196",
   "metadata": {},
   "outputs": [],
   "source": []
  },
  {
   "cell_type": "markdown",
   "id": "138aedc0-f8bc-4095-894c-f3e666d064f5",
   "metadata": {},
   "source": [
    "#### Let's apply what we learned!"
   ]
  }
 ],
 "metadata": {
  "kernelspec": {
   "display_name": "Python [conda env:rl-course-dev-2]",
   "language": "python",
   "name": "conda-env-rl-course-dev-2-py"
  },
  "language_info": {
   "codemirror_mode": {
    "name": "ipython",
    "version": 3
   },
   "file_extension": ".py",
   "mimetype": "text/x-python",
   "name": "python",
   "nbconvert_exporter": "python",
   "pygments_lexer": "ipython3",
   "version": "3.8.13"
  }
 },
 "nbformat": 4,
 "nbformat_minor": 5
}
