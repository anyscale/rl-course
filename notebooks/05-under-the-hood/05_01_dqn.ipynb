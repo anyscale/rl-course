{
 "cells": [
  {
   "cell_type": "markdown",
   "id": "734f5ff7-bfbf-4238-8ef4-9a3d6cb20f9a",
   "metadata": {},
   "source": [
    "## RL algorithms"
   ]
  },
  {
   "cell_type": "code",
   "execution_count": 1,
   "id": "4411aa7c-d51c-4fa7-be20-303ed6daa841",
   "metadata": {},
   "outputs": [],
   "source": [
    "# HIDDEN\n",
    "import gym\n",
    "import time\n",
    "import matplotlib.pyplot as plt\n",
    "import numpy as np\n",
    "plt.rcParams[\"font.size\"] = 14"
   ]
  },
  {
   "cell_type": "code",
   "execution_count": 2,
   "id": "0f186ff0-d05a-4fc2-a802-c5aa9be09437",
   "metadata": {},
   "outputs": [],
   "source": [
    "# HIDDEN\n",
    "import ray\n",
    "import logging\n",
    "ray.init(log_to_driver=False, ignore_reinit_error=True, logging_level=logging.ERROR); # logging.FATAL\n",
    "\n",
    "import warnings\n",
    "warnings.filterwarnings(\"ignore\", category=DeprecationWarning) "
   ]
  },
  {
   "cell_type": "markdown",
   "id": "10cdfc52-615c-4b7d-9ffb-b3fcd9a9549f",
   "metadata": {},
   "source": [
    "#### RL algorithms\n",
    "\n",
    "- We used the PPO algorithm for almost the entire course (except offline RL)\n",
    "- In fact, RLlib offers many algorithms! See [here](https://docs.ray.io/en/latest/rllib/rllib-algorithms.html).\n",
    "- Let's look at one more algorithm, DQN.\n",
    "\n",
    "Notes:\n",
    "\n",
    "There are over 20 algorithms at the time of recording."
   ]
  },
  {
   "cell_type": "markdown",
   "id": "b7d768d1-373d-49e3-87fb-f510be26745f",
   "metadata": {},
   "source": [
    "#### Deep Q-Network (DQN)\n",
    "\n",
    "- DQN is famous in the RL world for many breakthroughs such as the [Atari results](https://www.cs.toronto.edu/~vmnih/docs/dqn.pdf) from 2013.\n",
    "- In RLlib, we only need to make the smallest of swaps:\n",
    "\n",
    "PPO:"
   ]
  },
  {
   "cell_type": "code",
   "execution_count": 3,
   "id": "0732a5c6-4e7e-4d01-9eb4-51fa02a28ff3",
   "metadata": {},
   "outputs": [],
   "source": [
    "from ray.rllib.algorithms.ppo import PPOConfig\n",
    "\n",
    "ppo = PPOConfig().framework(\"torch\").debugging(log_level=\"ERROR\").build(env=\"FrozenLake-v1\")"
   ]
  },
  {
   "cell_type": "markdown",
   "id": "34cbc410-9e67-42f0-9ada-397fa2e84855",
   "metadata": {},
   "source": [
    "DQN:"
   ]
  },
  {
   "cell_type": "code",
   "execution_count": 4,
   "id": "b67329e9-5c13-48e9-b376-b8c608a5fbde",
   "metadata": {},
   "outputs": [],
   "source": [
    "from ray.rllib.algorithms.dqn import DQNConfig\n",
    "\n",
    "dqn = DQNConfig().framework(\"torch\").debugging(log_level=\"ERROR\").build(env=\"FrozenLake-v1\")"
   ]
  },
  {
   "cell_type": "markdown",
   "id": "4989c48f-cd51-4474-9b42-d98ff61bf3ac",
   "metadata": {},
   "source": [
    "And that's it!"
   ]
  },
  {
   "cell_type": "markdown",
   "id": "d56e32ec-9000-4ccd-a1fb-92fb596ecc7c",
   "metadata": {},
   "source": [
    "#### PPO vs. DQN on Frozen Lake"
   ]
  },
  {
   "cell_type": "code",
   "execution_count": 5,
   "id": "a165c957-8dbd-4ed2-bf37-8b19cc493b35",
   "metadata": {},
   "outputs": [
    {
     "name": "stdout",
     "output_type": "stream",
     "text": [
      "Elapsed time 144.8 s\n"
     ]
    }
   ],
   "source": [
    "t = time.time()\n",
    "ppo_results = []\n",
    "for i in range(50):\n",
    "    ppo_results.append( ppo.train()[\"episode_reward_mean\"] )\n",
    "print(f\"Elapsed time {time.time()-t:.1f} s\")"
   ]
  },
  {
   "cell_type": "code",
   "execution_count": 6,
   "id": "fe8e88dc-093f-4144-a81a-5d9742e80f2f",
   "metadata": {},
   "outputs": [
    {
     "name": "stdout",
     "output_type": "stream",
     "text": [
      "Elapsed time 118.3 s\n"
     ]
    }
   ],
   "source": [
    "t = time.time()\n",
    "dqn_results = []\n",
    "for i in range(50):\n",
    "    dqn_results.append( dqn.train()[\"episode_reward_mean\"] )\n",
    "print(f\"Elapsed time {time.time()-t:.1f} s\")"
   ]
  },
  {
   "cell_type": "markdown",
   "id": "1953512e-b853-48c7-a8ef-2e9422b5e789",
   "metadata": {},
   "source": [
    "#### PPO vs. DQN on Frozen Lake"
   ]
  },
  {
   "cell_type": "code",
   "execution_count": 7,
   "id": "1216163b-359f-4a69-86b6-37c8670ec8b4",
   "metadata": {},
   "outputs": [
    {
     "data": {
      "image/png": "[encoded data removed]",
      "text/plain": [
       "<Figure size 432x288 with 1 Axes>"
      ]
     },
     "metadata": {
      "needs_background": "light"
     },
     "output_type": "display_data"
    }
   ],
   "source": [
    "plt.plot(ppo_results, label=\"PPO\")\n",
    "plt.plot(dqn_results, label=\"DQN\")\n",
    "plt.legend();\n",
    "plt.xlabel(\"training iterations\");\n",
    "plt.ylabel(\"reward\");"
   ]
  },
  {
   "cell_type": "markdown",
   "id": "b806203c-8504-451b-90b7-1b8fb130afd6",
   "metadata": {},
   "source": [
    "- In this particular run of this case, the two algorithms seem to do about equally well.\n",
    "- But, in general, one may be more suitable than the other.\n",
    "\n",
    "Notes:\n",
    "\n",
    "As in supervised learning, if you don't have domain expertise, an empirical approach is practical: try a few algorithms. PPO is a workhorse of RL, similar to something like a random forest or XGBoost in SL. That is why we focused on it in this course."
   ]
  },
  {
   "cell_type": "markdown",
   "id": "f7fa9f10-dcb6-4f53-b3ca-e7fd162606e0",
   "metadata": {},
   "source": [
    "#### On-policy vs. off-policy\n",
    "\n",
    "- Under the hood PPO and DQN work very differently\n",
    "- PPO is an **on-policy** algorithm, DQN is **off-policy**\n",
    "- This makes DQN more _sample efficient_ than PPO.\n",
    "- They also have similarities, e.g. both are _model-free_ methods\n",
    "\n",
    "Notes:\n",
    "\n",
    "- PPO trains while running its own policy\n",
    "- DQN can train on _experiences_ that may come from another policy (related to offline RL)\n",
    "- DQN learns like offline RL (from data) but it continuously generates new data from the env\n",
    "- Because DQN can learn from experiences, it can save up experiences and reuse them, meaning it can use the simulator less. This makes it more sample efficient. PPO is less sample efficient; by being on-policy it needs to be generating new data all the time to update the policy."
   ]
  },
  {
   "cell_type": "markdown",
   "id": "5335c92a-b76a-4f51-a1b8-91f37ee841a0",
   "metadata": {},
   "source": [
    "#### Q-values\n",
    "\n",
    "- One big difference is that DQN directly learns _Q-values_\n",
    "- For each state-action pair, a Q-value is a measure of \"goodness\" of taking that action.\n",
    "- Let's take a look:"
   ]
  },
  {
   "cell_type": "code",
   "execution_count": 8,
   "id": "f5cd8bde-8081-4b2b-87a7-e111161e556b",
   "metadata": {},
   "outputs": [],
   "source": [
    "# HIDDEN\n",
    "import utils"
   ]
  },
  {
   "cell_type": "code",
   "execution_count": 9,
   "id": "916c494b-3b4d-4c8c-8e3c-bd60b50b285a",
   "metadata": {},
   "outputs": [
    {
     "data": {
      "text/plain": [
       "array([-0.06429265, -0.10165626, -0.07749158,  0.05933957], dtype=float32)"
      ]
     },
     "execution_count": 9,
     "metadata": {},
     "output_type": "execute_result"
    }
   ],
   "source": [
    "env = gym.make(\"FrozenLake-v1\")\n",
    "utils.get_q_state_action(dqn, env, 3) # See GitHub for the source code"
   ]
  },
  {
   "cell_type": "markdown",
   "id": "fae73a5c-fc93-4552-97d9-d49b6e99e822",
   "metadata": {},
   "source": [
    "Notes:\n",
    "\n",
    "- The interpretation is _somewhat_ similar to the action probabilities we saw with PPO, but these values are _not_ probabilities.\n",
    "- The above is consistent with what we saw in Module 2, where we saw the agent tries to move up towards the edge of the map in this situation (using PPO in that case)."
   ]
  },
  {
   "cell_type": "markdown",
   "id": "85e237ad-ed79-4b8e-831c-17e2530b2108",
   "metadata": {},
   "source": [
    "#### Q-values\n",
    "\n",
    "Here are the Q-values for all 16 possible observations:"
   ]
  },
  {
   "cell_type": "code",
   "execution_count": 10,
   "id": "b2eff7e3-bb9d-495e-b48e-52b70dae80b2",
   "metadata": {},
   "outputs": [
    {
     "data": {
      "text/plain": [
       "array([[ 0.01178058, -0.01243308, -0.01992002, -0.02328416],\n",
       "       [-0.07297245, -0.11419626, -0.10103753,  0.06659888],\n",
       "       [-0.01738127, -0.03290066, -0.03224129, -0.00309269],\n",
       "       [-0.06429265, -0.10165626, -0.07749158,  0.05933957],\n",
       "       [ 0.1241755 , -0.05826544, -0.10803059, -0.07162949],\n",
       "       [-0.0941615 , -0.01083766,  0.00750799, -0.02923728],\n",
       "       [ 0.05468804, -0.04806233,  0.05219751, -0.1229748 ],\n",
       "       [-0.04019574,  0.09429464, -0.00272179,  0.01204462],\n",
       "       [-0.13350473, -0.11583142, -0.13849398,  0.10854381],\n",
       "       [-0.03289278,  0.18439792, -0.02347143, -0.04941537],\n",
       "       [ 0.11867873,  0.00533286, -0.06567188, -0.08079379],\n",
       "       [-0.01257503,  0.00094413, -0.07582183,  0.07007836],\n",
       "       [ 0.02402775,  0.00685143,  0.03579623, -0.06733035],\n",
       "       [-0.16532828, -0.09951892,  0.14798597, -0.10628328],\n",
       "       [-0.07862489,  0.11409644, -0.0382952 , -0.03409812],\n",
       "       [-0.18762805, -0.09358893, -0.12985383, -0.04729923]],\n",
       "      dtype=float32)"
      ]
     },
     "execution_count": 10,
     "metadata": {},
     "output_type": "execute_result"
    }
   ],
   "source": [
    "q_sa = np.array([utils.get_q_state_action(dqn, env, i) for i in range(16)])\n",
    "q_sa"
   ]
  },
  {
   "cell_type": "markdown",
   "id": "49b6a829-05ae-4fe9-8e0a-d7314bc7f1ac",
   "metadata": {},
   "source": [
    "#### Q-values\n",
    "\n",
    "We can plot these 64 (16x4) Q-values:"
   ]
  },
  {
   "cell_type": "code",
   "execution_count": 11,
   "id": "49350a17-a3fd-4398-87cc-a9c2b6f83d26",
   "metadata": {},
   "outputs": [
    {
     "data": {
      "image/png": "[encoded data removed]",
      "text/plain": [
       "<Figure size 432x288 with 2 Axes>"
      ]
     },
     "metadata": {
      "needs_background": "light"
     },
     "output_type": "display_data"
    }
   ],
   "source": [
    "utils.q_state_action_plot_frozenlake(q_sa, env) # See GitHub for source code"
   ]
  },
  {
   "cell_type": "markdown",
   "id": "f5cd6391-7081-420f-934c-83551a9c0758",
   "metadata": {},
   "source": [
    "We saw a similar plot in Module 2 with the PPO action probabilities.\n",
    "\n",
    "Observations:\n",
    "\n",
    "- We again see the desire to move up from the top-right.\n",
    "- The strongest desire is to not die at square 10. Moving left is the only 100% safe move.\n",
    "- Why move down at square 14? Because 13 is better than 10.\n",
    "  - You can confirm that by scrolling back to the state Q-value plot."
   ]
  },
  {
   "cell_type": "markdown",
   "id": "8793eba7-a26a-42bb-8b49-65ac241323ce",
   "metadata": {},
   "source": [
    "#### State Q-values\n",
    "\n",
    "There are also Q-values for each state, independent of actions. Let's turn out attention to these."
   ]
  },
  {
   "cell_type": "code",
   "execution_count": 12,
   "id": "b374d557-ff08-4160-8afd-5bbe42269e73",
   "metadata": {},
   "outputs": [
    {
     "data": {
      "text/plain": [
       "0.2333979457616806"
      ]
     },
     "execution_count": 12,
     "metadata": {},
     "output_type": "execute_result"
    }
   ],
   "source": [
    "utils.get_q_state(dqn, env, 3) # See GitHub for the source code"
   ]
  },
  {
   "cell_type": "markdown",
   "id": "12553aae-98dc-4ca9-9fd1-dc5356539cb9",
   "metadata": {},
   "source": [
    "- Apparently the observation \"3\" (player at top-right) has a \"value\" of 0.16.\n",
    "- The units of this \"value\" is expected discounted total reward.\n",
    "  - Recall, we discussed discounting from Module 4!"
   ]
  },
  {
   "cell_type": "markdown",
   "id": "77d6e30d-8d4c-4982-8d6f-abf591afe18d",
   "metadata": {},
   "source": [
    "With PPO, Q-values are not available:"
   ]
  },
  {
   "cell_type": "code",
   "execution_count": 13,
   "id": "3d1674bc-9a67-4a46-82b4-2ac31a026c75",
   "metadata": {
    "tags": [
     "raises-exception"
    ]
   },
   "outputs": [
    {
     "ename": "AttributeError",
     "evalue": "'FullyConnectedNetwork' object has no attribute 'get_state_value'",
     "output_type": "error",
     "traceback": [
      "\u001b[0;31m---------------------------------------------------------------------------\u001b[0m",
      "\u001b[0;31mAttributeError\u001b[0m                            Traceback (most recent call last)",
      "Input \u001b[0;32mIn [13]\u001b[0m, in \u001b[0;36m<cell line: 1>\u001b[0;34m()\u001b[0m\n\u001b[0;32m----> 1\u001b[0m \u001b[43mutils\u001b[49m\u001b[38;5;241;43m.\u001b[39;49m\u001b[43mget_q_state\u001b[49m\u001b[43m(\u001b[49m\u001b[43mppo\u001b[49m\u001b[43m,\u001b[49m\u001b[43m \u001b[49m\u001b[43menv\u001b[49m\u001b[43m,\u001b[49m\u001b[43m \u001b[49m\u001b[38;5;241;43m3\u001b[39;49m\u001b[43m)\u001b[49m\n",
      "File \u001b[0;32m~/git/anyscale/rl-course/notebooks/05-under-the-hood/utils.py:12\u001b[0m, in \u001b[0;36mget_q_state\u001b[0;34m(algo, env, obs)\u001b[0m\n\u001b[1;32m     10\u001b[0m prep \u001b[38;5;241m=\u001b[39m get_preprocessor(env\u001b[38;5;241m.\u001b[39mobservation_space)(env\u001b[38;5;241m.\u001b[39mobservation_space)\n\u001b[1;32m     11\u001b[0m model_out \u001b[38;5;241m=\u001b[39m model({\u001b[38;5;124m\"\u001b[39m\u001b[38;5;124mobs\u001b[39m\u001b[38;5;124m\"\u001b[39m: torch\u001b[38;5;241m.\u001b[39mfrom_numpy(prep\u001b[38;5;241m.\u001b[39mtransform(obs)[\u001b[38;5;28;01mNone\u001b[39;00m])})[\u001b[38;5;241m0\u001b[39m]\n\u001b[0;32m---> 12\u001b[0m \u001b[38;5;28;01mreturn\u001b[39;00m \u001b[38;5;28mfloat\u001b[39m(\u001b[43mmodel\u001b[49m\u001b[38;5;241;43m.\u001b[39;49m\u001b[43mget_state_value\u001b[49m(model_out))\n",
      "File \u001b[0;32m~/miniconda3/envs/ray2beta/lib/python3.9/site-packages/torch/nn/modules/module.py:1207\u001b[0m, in \u001b[0;36mModule.__getattr__\u001b[0;34m(self, name)\u001b[0m\n\u001b[1;32m   1205\u001b[0m     \u001b[38;5;28;01mif\u001b[39;00m name \u001b[38;5;129;01min\u001b[39;00m modules:\n\u001b[1;32m   1206\u001b[0m         \u001b[38;5;28;01mreturn\u001b[39;00m modules[name]\n\u001b[0;32m-> 1207\u001b[0m \u001b[38;5;28;01mraise\u001b[39;00m \u001b[38;5;167;01mAttributeError\u001b[39;00m(\u001b[38;5;124m\"\u001b[39m\u001b[38;5;124m'\u001b[39m\u001b[38;5;132;01m{}\u001b[39;00m\u001b[38;5;124m'\u001b[39m\u001b[38;5;124m object has no attribute \u001b[39m\u001b[38;5;124m'\u001b[39m\u001b[38;5;132;01m{}\u001b[39;00m\u001b[38;5;124m'\u001b[39m\u001b[38;5;124m\"\u001b[39m\u001b[38;5;241m.\u001b[39mformat(\n\u001b[1;32m   1208\u001b[0m     \u001b[38;5;28mtype\u001b[39m(\u001b[38;5;28mself\u001b[39m)\u001b[38;5;241m.\u001b[39m\u001b[38;5;18m__name__\u001b[39m, name))\n",
      "\u001b[0;31mAttributeError\u001b[0m: 'FullyConnectedNetwork' object has no attribute 'get_state_value'"
     ]
    }
   ],
   "source": [
    "utils.get_q_state(ppo, env, 3)"
   ]
  },
  {
   "cell_type": "markdown",
   "id": "316bfc3a-59e5-43ae-bd78-f2e85f362d47",
   "metadata": {},
   "source": [
    "Notes:\n",
    "\n",
    "For Frozen Lake, all the values will be less than 1 because 1 is the maximum reward of an episode. Even if an agent is sure it will get to the end, the value will be less than 1 because of the discounting. \n",
    "\n",
    "Because of the discounting, we shouldn't interpret this 0.16 is a probability of reaching the goal."
   ]
  },
  {
   "cell_type": "markdown",
   "id": "4a13435e-a4c5-461d-b63c-9627cff1a82e",
   "metadata": {},
   "source": [
    "#### Q-values\n",
    "\n",
    "We can look at these for all 16 observations using a plot:"
   ]
  },
  {
   "cell_type": "code",
   "execution_count": 14,
   "id": "f9109a87-932e-41ab-90ca-236dc32b1617",
   "metadata": {},
   "outputs": [],
   "source": [
    "q_s = [utils.get_q_state(dqn, env, i) for i in range(16)]"
   ]
  },
  {
   "cell_type": "code",
   "execution_count": 15,
   "id": "80ad6475-402e-443a-b19a-95d7cb03680a",
   "metadata": {},
   "outputs": [
    {
     "data": {
      "image/png": "[encoded data removed]",
      "text/plain": [
       "<Figure size 432x288 with 2 Axes>"
      ]
     },
     "metadata": {
      "needs_background": "light"
     },
     "output_type": "display_data"
    }
   ],
   "source": [
    "utils.q_state_plot_frozenlake(q_s, env) # See GitHub for the source code"
   ]
  },
  {
   "cell_type": "markdown",
   "id": "ffb4a3e4-29a6-4308-93fc-c161a6a33d23",
   "metadata": {},
   "source": [
    "- Let's loop back to what we saw in Module 2, that the agent wanted to move _down_ from location 14.\n",
    "- Now we can see that state 10 has a lower value than state 14.\n",
    "- So, although PPO doesn't explicitly represent a value function for each state, this may be the \"logic\"."
   ]
  },
  {
   "cell_type": "markdown",
   "id": "f622ffd6-584f-4996-9305-da0925eb5586",
   "metadata": {},
   "source": [
    "Notes:\n",
    "    \n",
    "Here we see that the most desirable state is the one before the goal. We can also see that the states have higher Q values as they get nearer the goal. Remember that this is the slippery Frozen Lake, so winning isn't guaranteed and being closer to the goal is indeed better.\n",
    "\n",
    "The Q-values for the end states (O and G) don't look particularly meaningful. "
   ]
  },
  {
   "cell_type": "markdown",
   "id": "460e25be-0114-4873-8565-ac747ddf4d56",
   "metadata": {
    "tags": []
   },
   "source": [
    "#### Policy network internals\n",
    "\n",
    "- In module 2 we used `query_policy` and here `get_q_state` and `get_q_state_action`.\n",
    "- What do these functions actually look like?\n",
    "- Here's `get_q_state`."
   ]
  },
  {
   "cell_type": "code",
   "execution_count": 22,
   "id": "776bc635-c779-45ad-a07a-f72cf0963515",
   "metadata": {},
   "outputs": [],
   "source": [
    "import torch\n",
    "from ray.rllib.models.preprocessors import get_preprocessor \n",
    "\n",
    "def get_q_state(algo, env, obs):\n",
    "    model = algo.get_policy().model\n",
    "    prep = get_preprocessor(env.observation_space)(env.observation_space)\n",
    "    model_output = model({\"obs\": torch.from_numpy(prep.transform(obs)[None])})[0]\n",
    "    return float(model.get_state_value(model_output))"
   ]
  },
  {
   "cell_type": "markdown",
   "id": "a05e8622-72d6-4d81-b081-8cdbd10d2b30",
   "metadata": {},
   "source": [
    "- Let's unpack this code step-by-step.\n",
    "- FYI: these next few slides assume some familiarity with deep learning / neural networks.\n",
    "- If this is not your cup of tea, feel free to skip them."
   ]
  },
  {
   "cell_type": "markdown",
   "id": "cf4eac3c-b5d1-4722-967e-05619a0f2d1c",
   "metadata": {},
   "source": [
    "#### Policy network internals: model"
   ]
  },
  {
   "cell_type": "code",
   "execution_count": 48,
   "id": "5efdc600-29e9-425e-8dbb-12becf86a609",
   "metadata": {},
   "outputs": [],
   "source": [
    "model = dqn.get_policy().model"
   ]
  },
  {
   "cell_type": "code",
   "execution_count": 26,
   "id": "0b5ddc36-797f-4533-a9d8-a6223f23dd86",
   "metadata": {},
   "outputs": [
    {
     "data": {
      "text/plain": [
       "FullyConnectedNetwork_as_DQNTorchModel(\n",
       "  (_hidden_layers): Sequential(\n",
       "    (0): SlimFC(\n",
       "      (_model): Sequential(\n",
       "        (0): Linear(in_features=16, out_features=256, bias=True)\n",
       "        (1): Tanh()\n",
       "      )\n",
       "    )\n",
       "    (1): SlimFC(\n",
       "      (_model): Sequential(\n",
       "        (0): Linear(in_features=256, out_features=256, bias=True)\n",
       "        (1): Tanh()\n",
       "      )\n",
       "    )\n",
       "  )\n",
       "  (_value_branch): SlimFC(\n",
       "    (_model): Sequential(\n",
       "      (0): Linear(in_features=256, out_features=1, bias=True)\n",
       "    )\n",
       "  )\n",
       "  (advantage_module): Sequential(\n",
       "    (dueling_A_0): SlimFC(\n",
       "      (_model): Sequential(\n",
       "        (0): Linear(in_features=256, out_features=256, bias=True)\n",
       "        (1): ReLU()\n",
       "      )\n",
       "    )\n",
       "    (A): SlimFC(\n",
       "      (_model): Sequential(\n",
       "        (0): Linear(in_features=256, out_features=4, bias=True)\n",
       "      )\n",
       "    )\n",
       "  )\n",
       "  (value_module): Sequential(\n",
       "    (dueling_V_0): SlimFC(\n",
       "      (_model): Sequential(\n",
       "        (0): Linear(in_features=256, out_features=256, bias=True)\n",
       "        (1): ReLU()\n",
       "      )\n",
       "    )\n",
       "    (V): SlimFC(\n",
       "      (_model): Sequential(\n",
       "        (0): Linear(in_features=256, out_features=1, bias=True)\n",
       "      )\n",
       "    )\n",
       "  )\n",
       ")"
      ]
     },
     "execution_count": 26,
     "metadata": {},
     "output_type": "execute_result"
    }
   ],
   "source": [
    "model"
   ]
  },
  {
   "cell_type": "markdown",
   "id": "b750d390-fb4f-4275-8b63-d73fa3670451",
   "metadata": {},
   "source": [
    "Notes:\n",
    "\n",
    "Here we see the internals of the policy network, which is a deep neural network implemented in pytorch. We can see the detals of the network like the hidden layers, activation functions (ReLU here), number of hidden units, etc.  "
   ]
  },
  {
   "cell_type": "markdown",
   "id": "90cc20c3-2db8-4c19-9fd0-f69411656a77",
   "metadata": {},
   "source": [
    "#### Policy network internals: preprocessor"
   ]
  },
  {
   "cell_type": "code",
   "execution_count": 27,
   "id": "543cd42f-4141-4cbe-a587-0310e747058f",
   "metadata": {},
   "outputs": [],
   "source": [
    "prep = get_preprocessor(env.observation_space)(env.observation_space)"
   ]
  },
  {
   "cell_type": "code",
   "execution_count": 28,
   "id": "d3cbc47e-2a76-47f0-b9e2-0a6464d8cd79",
   "metadata": {},
   "outputs": [
    {
     "data": {
      "text/plain": [
       "<ray.rllib.models.preprocessors.OneHotPreprocessor at 0x2f6d56730>"
      ]
     },
     "execution_count": 28,
     "metadata": {},
     "output_type": "execute_result"
    }
   ],
   "source": [
    "prep"
   ]
  },
  {
   "cell_type": "markdown",
   "id": "096f2d0b-c7d9-491a-b24d-6609ed0ee326",
   "metadata": {},
   "source": [
    "- This is interesting. You may have encountered one-hot encoding in your DL or ML work.\n",
    "- Recall our observation space is `Discrete(16)`.\n",
    "  - And the observation is the input to a neural network.\n",
    "- So, the observation is one-hot encoded by RLlib automatically.\n",
    "- For example:"
   ]
  },
  {
   "cell_type": "code",
   "execution_count": 29,
   "id": "a620aa5f-cced-444b-b8a8-2383debe44a7",
   "metadata": {},
   "outputs": [
    {
     "data": {
      "text/plain": [
       "array([0., 0., 0., 1., 0., 0., 0., 0., 0., 0., 0., 0., 0., 0., 0., 0.],\n",
       "      dtype=float32)"
      ]
     },
     "execution_count": 29,
     "metadata": {},
     "output_type": "execute_result"
    }
   ],
   "source": [
    "prep.transform(3)"
   ]
  },
  {
   "cell_type": "markdown",
   "id": "a940de74-07c5-4105-a004-44b6e3efe518",
   "metadata": {},
   "source": [
    "#### Policy network internals: model output\n",
    "\n",
    "The next line is:"
   ]
  },
  {
   "cell_type": "code",
   "execution_count": 34,
   "id": "e863d662-c2ef-45ce-811d-3f5236298f69",
   "metadata": {},
   "outputs": [],
   "source": [
    "obs = 3\n",
    "model_output = model({\"obs\": torch.from_numpy(prep.transform(obs)[None])})[0]"
   ]
  },
  {
   "cell_type": "markdown",
   "id": "dbc41065-5eef-45b8-be41-bd6b345afbd3",
   "metadata": {},
   "source": [
    "1. The observation is one-hot encoded by the preprocessor.\n",
    "2. The observation is cast from a numpy array to a pytorch tensor.\n",
    "3. The tensor is passed into the neural network."
   ]
  },
  {
   "cell_type": "code",
   "execution_count": 36,
   "id": "6f0febef-1c46-4f41-b359-7a7b375f0a99",
   "metadata": {},
   "outputs": [
    {
     "data": {
      "text/plain": [
       "torch.Tensor"
      ]
     },
     "execution_count": 36,
     "metadata": {},
     "output_type": "execute_result"
    }
   ],
   "source": [
    "type(model_output)"
   ]
  },
  {
   "cell_type": "code",
   "execution_count": 37,
   "id": "33e12346-52a6-4b7c-a1ea-cc05b51be011",
   "metadata": {},
   "outputs": [
    {
     "data": {
      "text/plain": [
       "torch.Size([1, 256])"
      ]
     },
     "execution_count": 37,
     "metadata": {},
     "output_type": "execute_result"
    }
   ],
   "source": [
    "model_output.shape"
   ]
  },
  {
   "cell_type": "markdown",
   "id": "b1a2ac18-ce02-4e64-9053-a72d9ff552c8",
   "metadata": {},
   "source": [
    "- This is the output right before the end of the network.\n",
    "- The size would be different if we had set `fcnet_hiddens` to a different value in the config."
   ]
  },
  {
   "cell_type": "markdown",
   "id": "b42ffa26-04ea-409c-b4ca-1565af1011b1",
   "metadata": {},
   "source": [
    "#### Policy network internals: Q-value\n",
    "\n",
    "And finally:"
   ]
  },
  {
   "cell_type": "code",
   "execution_count": 41,
   "id": "762a7f29-0aa5-4598-bac5-de56b07e2b90",
   "metadata": {},
   "outputs": [
    {
     "data": {
      "text/plain": [
       "0.2333979457616806"
      ]
     },
     "execution_count": 41,
     "metadata": {},
     "output_type": "execute_result"
    }
   ],
   "source": [
    "float(model.get_state_value(model_output))"
   ]
  },
  {
   "cell_type": "markdown",
   "id": "3f8d1a9c-24b4-42b6-a325-78f1c757aed4",
   "metadata": {},
   "source": [
    "- This is the Q-value for the observation 3.\n",
    "\n",
    "Notes: \n",
    "\n",
    "Note that `get_state_value` is a built-in RLlib model method, unlike `get_q_state` or `query_policy` which were created separately for this course."
   ]
  },
  {
   "cell_type": "markdown",
   "id": "03a0f1f1-9a9e-4721-8c8c-0e4fb488e83d",
   "metadata": {},
   "source": [
    "#### Policy network internals: state-action Q-values\n",
    "\n",
    "The code to get state-action Q-values just differs at the last line:"
   ]
  },
  {
   "cell_type": "code",
   "execution_count": 46,
   "id": "4a3a3fc4-c58c-4da3-84ee-985a91a02f79",
   "metadata": {},
   "outputs": [
    {
     "data": {
      "text/plain": [
       "array([-0.06429265, -0.10165626, -0.07749158,  0.05933957], dtype=float32)"
      ]
     },
     "execution_count": 46,
     "metadata": {},
     "output_type": "execute_result"
    }
   ],
   "source": [
    "model.get_q_value_distributions(model_output)[0].detach().numpy()[0]"
   ]
  },
  {
   "cell_type": "markdown",
   "id": "e61c1ec0-0ceb-4c9d-8621-faf5e37d6b26",
   "metadata": {},
   "source": [
    "Here we have a Q-value for each state-action pair, with the state set to 3 in this case."
   ]
  },
  {
   "cell_type": "markdown",
   "id": "e0365881-3042-4413-8431-dbae770ceb0f",
   "metadata": {},
   "source": [
    "#### Policy network internals: query policy\n",
    "\n",
    "- The code for `query_policy` also uses the same initial lines of code.\n",
    "- We want to use this on our PPO agent, though."
   ]
  },
  {
   "cell_type": "code",
   "execution_count": 65,
   "id": "90cc91c8-09db-4672-9ed9-f543594f12e2",
   "metadata": {},
   "outputs": [],
   "source": [
    "model = ppo.get_policy().model\n",
    "prep = get_preprocessor(env.observation_space)(env.observation_space)\n",
    "model_output = model({\"obs\": torch.from_numpy(prep.transform(obs)[None])})[0]"
   ]
  },
  {
   "cell_type": "markdown",
   "id": "bc479350-8243-4742-8d3e-23e01aa2605a",
   "metadata": {},
   "source": [
    "Notes:\n",
    "\n",
    "We re-run those same initial lines but with our PPO agent."
   ]
  },
  {
   "cell_type": "markdown",
   "id": "8ee940c8-acc5-4706-8f7b-7daa752740d1",
   "metadata": {},
   "source": [
    "#### Policy network internals: query policy\n",
    "\n",
    "The rest of the code is as follows:"
   ]
  },
  {
   "cell_type": "code",
   "execution_count": 66,
   "id": "91c0c0dd-1083-4c97-9b77-016ab5057607",
   "metadata": {},
   "outputs": [],
   "source": [
    "dist = policy.dist_class(model_output, model)"
   ]
  },
  {
   "cell_type": "markdown",
   "id": "db5338aa-0a62-4fcf-be40-914c897365b5",
   "metadata": {},
   "source": [
    "⬆️ Gets a class representing the distribution over actions"
   ]
  },
  {
   "cell_type": "code",
   "execution_count": 67,
   "id": "2a2563de-c06c-4571-9fea-f9925fb4fe8b",
   "metadata": {},
   "outputs": [],
   "source": [
    "actions = torch.from_numpy(np.array([0,1,2,3]))"
   ]
  },
  {
   "cell_type": "markdown",
   "id": "b33aaa80-eab3-4df1-ac0d-f90d636ce123",
   "metadata": {},
   "source": [
    "⬆️ Create a pytorch tensor containing the possible actions for Frozen Lake"
   ]
  },
  {
   "cell_type": "code",
   "execution_count": 68,
   "id": "6fa767fd-d6fc-43a3-9da9-58b3322930c6",
   "metadata": {},
   "outputs": [
    {
     "data": {
      "text/plain": [
       "array([-2.5782592 , -0.9202799 , -2.8476949 , -0.75990987], dtype=float32)"
      ]
     },
     "execution_count": 68,
     "metadata": {},
     "output_type": "execute_result"
    }
   ],
   "source": [
    "logprobs = dist.logp(actions).detach().numpy()\n",
    "logprobs"
   ]
  },
  {
   "cell_type": "markdown",
   "id": "e2f02c1e-70a4-452e-a745-eae33b20e2a6",
   "metadata": {},
   "source": [
    "⬆️ Get the log probabilities, convert from pytorch tensor to numpy array"
   ]
  },
  {
   "cell_type": "code",
   "execution_count": 69,
   "id": "e2a1db14-ee7c-484c-8757-50cd469a4fdf",
   "metadata": {},
   "outputs": [
    {
     "data": {
      "text/plain": [
       "array([0.07590602, 0.3984075 , 0.05797781, 0.4677086 ], dtype=float32)"
      ]
     },
     "execution_count": 69,
     "metadata": {},
     "output_type": "execute_result"
    }
   ],
   "source": [
    "probs = np.exp(logprobs)\n",
    "probs"
   ]
  },
  {
   "cell_type": "markdown",
   "id": "4ef4bc71-f9b7-4ae4-9750-68a4173e425d",
   "metadata": {},
   "source": [
    "⬆️ Get the log probabilities, convert from pytorch tensor to numpy array"
   ]
  },
  {
   "cell_type": "code",
   "execution_count": 70,
   "id": "8b8ec228-0841-4d8d-85f8-409515315b9f",
   "metadata": {},
   "outputs": [
    {
     "data": {
      "text/plain": [
       "0.9999999"
      ]
     },
     "execution_count": 70,
     "metadata": {},
     "output_type": "execute_result"
    }
   ],
   "source": [
    "probs.sum()"
   ]
  },
  {
   "cell_type": "markdown",
   "id": "5932d43f-33fd-4063-8e48-c3fd69d80e24",
   "metadata": {},
   "source": [
    "⬆️ Looks right 😮‍💨"
   ]
  },
  {
   "cell_type": "markdown",
   "id": "f5eb4941-bc55-4645-b91a-b9040a0f8e6d",
   "metadata": {},
   "source": [
    "#### Beyond DQN\n",
    "\n",
    "- There are many RL algorithms, and new ones are being invented every year!\n",
    "- DQN: 2013, PPO: 2017, ...\n",
    "- As with deep learning, RL as a field is moving fast."
   ]
  },
  {
   "cell_type": "markdown",
   "id": "129769da-7255-4cfc-86e7-0af722124dc3",
   "metadata": {},
   "source": [
    "#### Let's apply what we learned!"
   ]
  },
  {
   "cell_type": "markdown",
   "id": "f1ee53af-de7d-47b7-9d3e-ee1917b156f1",
   "metadata": {
    "tags": []
   },
   "source": [
    "## PPO vs. DQN\n",
    "<!-- multiple choice -->\n",
    "\n",
    "Which is a better algorithm, PPO or DQN?\n",
    "\n",
    "- [x] PPO is our recommended starting point for most problems, but DQN might be more suitable sometimes.\n",
    "- [ ] DQN is our recommended starting point for most problems, but PPO might be more suitable sometimes.\n",
    "- [ ] PPO is always a better choice than DQN.\n",
    "- [ ] DQN is always a better choice than PPO."
   ]
  },
  {
   "cell_type": "markdown",
   "id": "a6a0d03f-bb9a-4abe-8976-68caec7a98e9",
   "metadata": {},
   "source": [
    "## Switching algorithms in RLlib\n",
    "<!-- multiple choice -->\n",
    "\n",
    "How does one switch to a different RL algorithm in RLlib?\n",
    "\n",
    "- [ ] In the config, change the `algo` parameter, e.g. `config.training(algo=\"DQN\")\n",
    "- [ ] Specify this when calling `.train()`, e.g. `algo.train(\"DQN\")`\n",
    "- [ ] Instantiate the base config for that algorithm, e.g. `DQNConfig()` instead of `PPOConfig()`\n",
    "- [ ] To change RL algorithms, you need to switch to another package instead of RLlib"
   ]
  },
  {
   "cell_type": "markdown",
   "id": "19751aa5-f4e2-48b3-9a2b-50422af5a652",
   "metadata": {},
   "source": [
    "## TODO coding exercise "
   ]
  },
  {
   "cell_type": "code",
   "execution_count": 16,
   "id": "c8095cdf-cfe6-401b-8b8e-d5a8d3701ea2",
   "metadata": {},
   "outputs": [],
   "source": [
    "# TODO: show the actual torch model? just one slide even?"
   ]
  },
  {
   "cell_type": "code",
   "execution_count": null,
   "id": "c4dcb9b8-57fc-4aff-9f1a-cda9728cff4a",
   "metadata": {},
   "outputs": [],
   "source": []
  },
  {
   "cell_type": "code",
   "execution_count": null,
   "id": "842dd772-340c-4d72-ad26-c85496b122f7",
   "metadata": {},
   "outputs": [],
   "source": []
  }
 ],
 "metadata": {
  "kernelspec": {
   "display_name": "Python [conda env:ray2beta]",
   "language": "python",
   "name": "conda-env-ray2beta-py"
  },
  "language_info": {
   "codemirror_mode": {
    "name": "ipython",
    "version": 3
   },
   "file_extension": ".py",
   "mimetype": "text/x-python",
   "name": "python",
   "nbconvert_exporter": "python",
   "pygments_lexer": "ipython3",
   "version": "3.9.13"
  }
 },
 "nbformat": 4,
 "nbformat_minor": 5
}
