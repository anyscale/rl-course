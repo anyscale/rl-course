{
 "cells": [
  {
   "cell_type": "markdown",
   "id": "734f5ff7-bfbf-4238-8ef4-9a3d6cb20f9a",
   "metadata": {},
   "source": [
    "## RL algorithms"
   ]
  },
  {
   "cell_type": "code",
   "execution_count": 1,
   "id": "4411aa7c-d51c-4fa7-be20-303ed6daa841",
   "metadata": {},
   "outputs": [],
   "source": [
    "import gym\n",
    "\n",
    "import time\n",
    "import warnings\n",
    "warnings.filterwarnings(\"ignore\", category=DeprecationWarning) \n",
    "\n",
    "import matplotlib.pyplot as plt\n",
    "plt.rcParams[\"font.size\"] = 14"
   ]
  },
  {
   "cell_type": "markdown",
   "id": "10cdfc52-615c-4b7d-9ffb-b3fcd9a9549f",
   "metadata": {},
   "source": [
    "#### RL algorithms\n",
    "\n",
    "- We used the PPO algorithm for almost the entire course (except offline RL)\n",
    "- In fact, RLlib offers many algorithms! See [here](https://docs.ray.io/en/latest/rllib/rllib-algorithms.html).\n",
    "- Let's look at one more algorithm, DQN.\n",
    "\n",
    "Notes:\n",
    "\n",
    "There are over 20 algorithms at the time of recording."
   ]
  },
  {
   "cell_type": "markdown",
   "id": "b7d768d1-373d-49e3-87fb-f510be26745f",
   "metadata": {},
   "source": [
    "#### Deep Q-Network (DQN)\n",
    "\n",
    "- DQN is famous in the RL world for many breakthroughs such as the [Atari results](https://www.cs.toronto.edu/~vmnih/docs/dqn.pdf) from 2013.\n",
    "- In RLlib, we only need to make the smallest of swaps:\n",
    "\n",
    "PPO:"
   ]
  },
  {
   "cell_type": "code",
   "execution_count": 2,
   "id": "0732a5c6-4e7e-4d01-9eb4-51fa02a28ff3",
   "metadata": {},
   "outputs": [],
   "source": [
    "from ray.rllib.algorithms.ppo import PPOConfig\n",
    "\n",
    "ppo = PPOConfig().framework(\"torch\").build(env=\"FrozenLake-v1\")"
   ]
  },
  {
   "cell_type": "markdown",
   "id": "34cbc410-9e67-42f0-9ada-397fa2e84855",
   "metadata": {},
   "source": [
    "DQN:"
   ]
  },
  {
   "cell_type": "code",
   "execution_count": 3,
   "id": "b67329e9-5c13-48e9-b376-b8c608a5fbde",
   "metadata": {},
   "outputs": [
    {
     "name": "stderr",
     "output_type": "stream",
     "text": [
      "2022-07-31 14:24:12,717\tWARNING deprecation.py:47 -- DeprecationWarning: `ray.rllib.algorithms.dqn.dqn.DEFAULT_CONFIG` has been deprecated. Use `ray.rllib.algorithms.dqn.dqn.DQNConfig(...)` instead. This will raise an error in the future!\n",
      "2022-07-31 14:24:12,719\tWARNING deprecation.py:47 -- DeprecationWarning: `config['multiagent']['replay_mode']` has been deprecated. config['replay_buffer_config']['replay_mode'] This will raise an error in the future!\n"
     ]
    }
   ],
   "source": [
    "from ray.rllib.algorithms.dqn import DQNConfig\n",
    "\n",
    "dqn = DQNConfig().framework(\"torch\").build(env=\"FrozenLake-v1\")"
   ]
  },
  {
   "cell_type": "markdown",
   "id": "4989c48f-cd51-4474-9b42-d98ff61bf3ac",
   "metadata": {},
   "source": [
    "And that's it!"
   ]
  },
  {
   "cell_type": "markdown",
   "id": "d56e32ec-9000-4ccd-a1fb-92fb596ecc7c",
   "metadata": {},
   "source": [
    "#### PPO vs. DQN on Frozen Lake"
   ]
  },
  {
   "cell_type": "code",
   "execution_count": 19,
   "id": "a165c957-8dbd-4ed2-bf37-8b19cc493b35",
   "metadata": {},
   "outputs": [
    {
     "name": "stdout",
     "output_type": "stream",
     "text": [
      "Elapsed time 40.9 s\n"
     ]
    }
   ],
   "source": [
    "t = time.time()\n",
    "ppo_results = []\n",
    "for i in range(30):\n",
    "    ppo_results.append( ppo.train()[\"episode_reward_mean\"] )\n",
    "print(f\"Elapsed time {time.time()-t:.1f} s\")"
   ]
  },
  {
   "cell_type": "code",
   "execution_count": 20,
   "id": "fe8e88dc-093f-4144-a81a-5d9742e80f2f",
   "metadata": {},
   "outputs": [
    {
     "name": "stdout",
     "output_type": "stream",
     "text": [
      "Elapsed time 35.0 s\n"
     ]
    }
   ],
   "source": [
    "t = time.time()\n",
    "dqn_results = []\n",
    "for i in range(30):\n",
    "    dqn_results.append( dqn.train()[\"episode_reward_mean\"] )\n",
    "print(f\"Elapsed time {time.time()-t:.1f} s\")"
   ]
  },
  {
   "cell_type": "markdown",
   "id": "1953512e-b853-48c7-a8ef-2e9422b5e789",
   "metadata": {},
   "source": [
    "#### PPO vs. DQN on Frozen Lake"
   ]
  },
  {
   "cell_type": "code",
   "execution_count": 21,
   "id": "1216163b-359f-4a69-86b6-37c8670ec8b4",
   "metadata": {},
   "outputs": [
    {
     "data": {
      "image/png": "[encoded data removed]",
      "text/plain": [
       "<Figure size 432x288 with 1 Axes>"
      ]
     },
     "metadata": {
      "needs_background": "light"
     },
     "output_type": "display_data"
    }
   ],
   "source": [
    "plt.plot(ppo_results, label=\"PPO\")\n",
    "plt.plot(dqn_results, label=\"DQN\")\n",
    "plt.legend();\n",
    "plt.xlabel(\"training iterations\");\n",
    "plt.ylabel(\"reward\");"
   ]
  },
  {
   "cell_type": "markdown",
   "id": "b806203c-8504-451b-90b7-1b8fb130afd6",
   "metadata": {},
   "source": [
    "- In this particular run of this case, the two algorithms seem to do about equally well.\n",
    "- But, in general, one may be more suitable than the other.\n",
    "\n",
    "Notes:\n",
    "\n",
    "As in supervised learning, if you don't have domain expertise, an empirical approach is practical: try a few algorithms. PPO is a workhorse of RL, similar to something like a random forest or XGBoost in SL. That is why we focused on it in this course."
   ]
  },
  {
   "cell_type": "markdown",
   "id": "f7fa9f10-dcb6-4f53-b3ca-e7fd162606e0",
   "metadata": {},
   "source": [
    "#### Under the hood\n",
    "\n",
    "- Under the hood PPO and DQN work very differently\n",
    "- PPO is an **on-policy** algorithm, DQN is **off-policy**\n",
    "- They also have similarities, e.g. both are _model-free_ methods\n",
    "\n",
    "Notes:\n",
    "\n",
    "- PPO trains while running its own policy\n",
    "- DQN can train on _experiences_ that may come from another policy (related to offline RL)\n",
    "- DQN learns like offline RL (from data) but it is always generating new data from the env"
   ]
  },
  {
   "cell_type": "markdown",
   "id": "5335c92a-b76a-4f51-a1b8-91f37ee841a0",
   "metadata": {},
   "source": [
    "#### Q-values\n",
    "\n",
    "- One big difference is that DQN directly learns _Q-values_\n",
    "- For each state-action pair, a Q-value is a measure of \"goodness\" of taking that action.\n",
    "- There are also Q-values for each state, independent of actions. Let's start with these."
   ]
  },
  {
   "cell_type": "code",
   "execution_count": 53,
   "id": "2f8176da-5a08-4e80-a4f7-f0f6d3b2453a",
   "metadata": {},
   "outputs": [],
   "source": [
    "import utils"
   ]
  },
  {
   "cell_type": "code",
   "execution_count": 9,
   "id": "92de4b3f-6384-4d25-afbd-461a17825eb6",
   "metadata": {},
   "outputs": [],
   "source": [
    "env = gym.make(\"FrozenLake-v1\")"
   ]
  },
  {
   "cell_type": "code",
   "execution_count": 54,
   "id": "b374d557-ff08-4160-8afd-5bbe42269e73",
   "metadata": {},
   "outputs": [
    {
     "data": {
      "text/plain": [
       "0.16610734164714813"
      ]
     },
     "execution_count": 54,
     "metadata": {},
     "output_type": "execute_result"
    }
   ],
   "source": [
    "utils.get_q_state(dqn, env, 3) # See GitHub for the source code"
   ]
  },
  {
   "cell_type": "markdown",
   "id": "12553aae-98dc-4ca9-9fd1-dc5356539cb9",
   "metadata": {},
   "source": [
    "Apparently the observation \"3\" (player at top-right) has a \"value\" of 0.16."
   ]
  },
  {
   "cell_type": "markdown",
   "id": "77d6e30d-8d4c-4982-8d6f-abf591afe18d",
   "metadata": {},
   "source": [
    "With PPO, Q-values are not available:"
   ]
  },
  {
   "cell_type": "code",
   "execution_count": 55,
   "id": "3d1674bc-9a67-4a46-82b4-2ac31a026c75",
   "metadata": {
    "tags": [
     "raises-exception"
    ]
   },
   "outputs": [
    {
     "ename": "AttributeError",
     "evalue": "'FullyConnectedNetwork' object has no attribute 'get_state_value'",
     "output_type": "error",
     "traceback": [
      "\u001b[0;31m---------------------------------------------------------------------------\u001b[0m",
      "\u001b[0;31mAttributeError\u001b[0m                            Traceback (most recent call last)",
      "Input \u001b[0;32mIn [55]\u001b[0m, in \u001b[0;36m<cell line: 1>\u001b[0;34m()\u001b[0m\n\u001b[0;32m----> 1\u001b[0m \u001b[43mutils\u001b[49m\u001b[38;5;241;43m.\u001b[39;49m\u001b[43mget_q_state\u001b[49m\u001b[43m(\u001b[49m\u001b[43mppo\u001b[49m\u001b[43m,\u001b[49m\u001b[43m \u001b[49m\u001b[43menv\u001b[49m\u001b[43m,\u001b[49m\u001b[43m \u001b[49m\u001b[38;5;241;43m3\u001b[39;49m\u001b[43m)\u001b[49m\n",
      "File \u001b[0;32m~/git/anyscale/rl-course/notebooks/05-under-the-hood/utils.py:12\u001b[0m, in \u001b[0;36mget_q_state\u001b[0;34m(algo, env, obs)\u001b[0m\n\u001b[1;32m     10\u001b[0m prep \u001b[38;5;241m=\u001b[39m get_preprocessor(env\u001b[38;5;241m.\u001b[39mobservation_space)(env\u001b[38;5;241m.\u001b[39mobservation_space)\n\u001b[1;32m     11\u001b[0m model_out \u001b[38;5;241m=\u001b[39m model({\u001b[38;5;124m\"\u001b[39m\u001b[38;5;124mobs\u001b[39m\u001b[38;5;124m\"\u001b[39m: torch\u001b[38;5;241m.\u001b[39mfrom_numpy(prep\u001b[38;5;241m.\u001b[39mtransform(obs)[\u001b[38;5;28;01mNone\u001b[39;00m])})[\u001b[38;5;241m0\u001b[39m]\n\u001b[0;32m---> 12\u001b[0m \u001b[38;5;28;01mreturn\u001b[39;00m \u001b[38;5;28mfloat\u001b[39m(\u001b[43mmodel\u001b[49m\u001b[38;5;241;43m.\u001b[39;49m\u001b[43mget_state_value\u001b[49m(model_out))\n",
      "File \u001b[0;32m~/miniconda3/envs/ray2beta/lib/python3.9/site-packages/torch/nn/modules/module.py:1207\u001b[0m, in \u001b[0;36mModule.__getattr__\u001b[0;34m(self, name)\u001b[0m\n\u001b[1;32m   1205\u001b[0m     \u001b[38;5;28;01mif\u001b[39;00m name \u001b[38;5;129;01min\u001b[39;00m modules:\n\u001b[1;32m   1206\u001b[0m         \u001b[38;5;28;01mreturn\u001b[39;00m modules[name]\n\u001b[0;32m-> 1207\u001b[0m \u001b[38;5;28;01mraise\u001b[39;00m \u001b[38;5;167;01mAttributeError\u001b[39;00m(\u001b[38;5;124m\"\u001b[39m\u001b[38;5;124m'\u001b[39m\u001b[38;5;132;01m{}\u001b[39;00m\u001b[38;5;124m'\u001b[39m\u001b[38;5;124m object has no attribute \u001b[39m\u001b[38;5;124m'\u001b[39m\u001b[38;5;132;01m{}\u001b[39;00m\u001b[38;5;124m'\u001b[39m\u001b[38;5;124m\"\u001b[39m\u001b[38;5;241m.\u001b[39mformat(\n\u001b[1;32m   1208\u001b[0m     \u001b[38;5;28mtype\u001b[39m(\u001b[38;5;28mself\u001b[39m)\u001b[38;5;241m.\u001b[39m\u001b[38;5;18m__name__\u001b[39m, name))\n",
      "\u001b[0;31mAttributeError\u001b[0m: 'FullyConnectedNetwork' object has no attribute 'get_state_value'"
     ]
    }
   ],
   "source": [
    "utils.get_q_state(ppo, env, 3)"
   ]
  },
  {
   "cell_type": "markdown",
   "id": "4a13435e-a4c5-461d-b63c-9627cff1a82e",
   "metadata": {},
   "source": [
    "#### Q-values\n",
    "\n",
    "We can look at these for all 16 observations using a plot:"
   ]
  },
  {
   "cell_type": "code",
   "execution_count": 56,
   "id": "f9109a87-932e-41ab-90ca-236dc32b1617",
   "metadata": {},
   "outputs": [
    {
     "name": "stdout",
     "output_type": "stream",
     "text": [
      "[0.4116215705871582, 0.19895410537719727, 0.2634722888469696, 0.16610734164714813, 0.3124083876609802, 0.1859903633594513, 0.21589764952659607, 0.3183194696903229, 0.30947205424308777, 0.4118478000164032, 0.4248697757720947, 0.22886475920677185, 0.25970426201820374, 0.5032680034637451, 0.7400635480880737, 0.31121334433555603]\n"
     ]
    }
   ],
   "source": [
    "q_s = [utils.get_q_state(dqn, env, i) for i in range(16)]\n",
    "print(q_s)"
   ]
  },
  {
   "cell_type": "code",
   "execution_count": 59,
   "id": "80ad6475-402e-443a-b19a-95d7cb03680a",
   "metadata": {},
   "outputs": [
    {
     "data": {
      "image/png": "[encoded data removed]",
      "text/plain": [
       "<Figure size 432x288 with 2 Axes>"
      ]
     },
     "metadata": {
      "needs_background": "light"
     },
     "output_type": "display_data"
    }
   ],
   "source": [
    "utils.q_state_plot_frozenlake(q_s, env) # See GitHub for the source code"
   ]
  },
  {
   "cell_type": "markdown",
   "id": "f622ffd6-584f-4996-9305-da0925eb5586",
   "metadata": {},
   "source": [
    "Notes:\n",
    "    \n",
    "Here we see that the most desirable state is the one before the goal. We can also see that the states have higher Q values as they get nearer the goal. Remember that this is the slippery Frozen Lake, so winning isn't guaranteed and being closer to the goal is indeed better.\n",
    "\n",
    "The Q-values for the end states (O and G) don't look particularly meaningful. "
   ]
  },
  {
   "cell_type": "markdown",
   "id": "f55e117e-38bc-4ed6-9888-9c556ca76589",
   "metadata": {},
   "source": [
    "#### Q-values\n",
    "\n",
    "Let's now look at the state-action Q-values."
   ]
  },
  {
   "cell_type": "code",
   "execution_count": 60,
   "id": "916c494b-3b4d-4c8c-8e3c-bd60b50b285a",
   "metadata": {},
   "outputs": [
    {
     "data": {
      "text/plain": [
       "array([ 0.0029173 ,  0.00149198, -0.00736461,  0.11139473], dtype=float32)"
      ]
     },
     "execution_count": 60,
     "metadata": {},
     "output_type": "execute_result"
    }
   ],
   "source": [
    "utils.get_q_state_action(dqn, env, 3) # # See GitHub for the source code"
   ]
  },
  {
   "cell_type": "markdown",
   "id": "b28c9f84-f4e3-4383-83de-aef004d94be2",
   "metadata": {},
   "source": [
    "This is consistent with a coding exercise from earlier, where we saw the agent tries to move up in this situation (using PPO in that case)."
   ]
  },
  {
   "cell_type": "code",
   "execution_count": 61,
   "id": "b2eff7e3-bb9d-495e-b48e-52b70dae80b2",
   "metadata": {},
   "outputs": [
    {
     "data": {
      "text/plain": [
       "array([[ 0.0088903 , -0.01286292, -0.03412018, -0.00382777],\n",
       "       [-0.05129048, -0.00838892, -0.13734458,  0.0988894 ],\n",
       "       [ 0.02749778,  0.01311466, -0.02323138,  0.01477144],\n",
       "       [ 0.0029173 ,  0.00149198, -0.00736461,  0.11139473],\n",
       "       [ 0.14435405, -0.00871129, -0.06975938,  0.01305549],\n",
       "       [ 0.0034796 , -0.05827228,  0.10638069, -0.03048788],\n",
       "       [ 0.0594745 , -0.00388548,  0.0203508 , -0.08703135],\n",
       "       [-0.07572865, -0.01463264,  0.02287911,  0.00697899],\n",
       "       [-0.12751591, -0.06583301, -0.10803185,  0.09258421],\n",
       "       [-0.0664983 ,  0.12165849, -0.10849473, -0.13943659],\n",
       "       [ 0.1733895 , -0.00418257, -0.01920396, -0.22108737],\n",
       "       [-0.07049423, -0.03574087,  0.11100063,  0.07036274],\n",
       "       [-0.04510463, -0.08504594, -0.08470869, -0.15281594],\n",
       "       [-0.10746758, -0.09605262,  0.08242726, -0.19105414],\n",
       "       [-0.050584  ,  0.03680855, -0.04779096, -0.07337979],\n",
       "       [-0.06486548,  0.04281203,  0.03018547, -0.06062168]],\n",
       "      dtype=float32)"
      ]
     },
     "execution_count": 61,
     "metadata": {},
     "output_type": "execute_result"
    }
   ],
   "source": [
    "q_sa = np.array([get_q_state_action(dqn, env, i) for i in range(16)])\n",
    "q_sa"
   ]
  },
  {
   "cell_type": "markdown",
   "id": "940cb93d-b7e8-415e-b5db-45647560617c",
   "metadata": {},
   "source": [
    "#### Q-values\n",
    "\n",
    "We can plot these 64 (16x4) Q-values:"
   ]
  },
  {
   "cell_type": "code",
   "execution_count": 110,
   "id": "49350a17-a3fd-4398-87cc-a9c2b6f83d26",
   "metadata": {},
   "outputs": [
    {
     "data": {
      "image/png": "[encoded data removed]",
      "text/plain": [
       "<Figure size 432x288 with 2 Axes>"
      ]
     },
     "metadata": {
      "needs_background": "light"
     },
     "output_type": "display_data"
    }
   ],
   "source": [
    "utils.q_state_action_plot_frozenlake(q_sa, env) # See GitHub for source code"
   ]
  },
  {
   "cell_type": "markdown",
   "id": "37bb9551-bea4-432a-a1e9-cb585a934bd0",
   "metadata": {},
   "source": [
    "Interesting observations:\n",
    "\n",
    "- We again see the desire to move up from the top-right.\n",
    "- The strongest desire is to not die at square 10. Moving left is the only 100% safe move.\n",
    "- Why move down at square 14? Because 13 is better than 10.\n",
    "  - You can confirm that by scrolling back to the state Q-value plot!"
   ]
  },
  {
   "cell_type": "markdown",
   "id": "429f5582-7e4a-4723-bcf2-f903e52077c6",
   "metadata": {},
   "source": [
    "Notes:\n",
    "    \n",
    "I could stare at this plot all day!"
   ]
  },
  {
   "cell_type": "code",
   "execution_count": 109,
   "id": "8b1ab140-bc99-4f08-bd4c-57eb37762ad7",
   "metadata": {},
   "outputs": [
    {
     "data": {
      "text/plain": [
       "<module 'utils' from '/Users/mike/git/anyscale/rl-course/notebooks/05-under-the-hood/utils.py'>"
      ]
     },
     "execution_count": 109,
     "metadata": {},
     "output_type": "execute_result"
    }
   ],
   "source": [
    "import importlib\n",
    "import utils\n",
    "importlib.reload(utils)"
   ]
  },
  {
   "cell_type": "markdown",
   "id": "f5eb4941-bc55-4645-b91a-b9040a0f8e6d",
   "metadata": {},
   "source": [
    "#### Beyond DQN"
   ]
  },
  {
   "cell_type": "code",
   "execution_count": null,
   "id": "9ce404f4-9150-47af-824c-cef401cdb647",
   "metadata": {},
   "outputs": [],
   "source": []
  },
  {
   "cell_type": "code",
   "execution_count": null,
   "id": "e08223a7-6a2c-44b6-b80a-5f990ec96338",
   "metadata": {},
   "outputs": [],
   "source": []
  },
  {
   "cell_type": "code",
   "execution_count": null,
   "id": "935afbaa-3853-41ac-bfc2-5884c9add93f",
   "metadata": {},
   "outputs": [],
   "source": []
  },
  {
   "cell_type": "code",
   "execution_count": null,
   "id": "55490556-94ca-4451-ba48-616d75e46cf3",
   "metadata": {},
   "outputs": [],
   "source": []
  },
  {
   "cell_type": "markdown",
   "id": "129769da-7255-4cfc-86e7-0af722124dc3",
   "metadata": {},
   "source": [
    "#### Let's apply what we learned!"
   ]
  },
  {
   "cell_type": "markdown",
   "id": "f1ee53af-de7d-47b7-9d3e-ee1917b156f1",
   "metadata": {
    "tags": []
   },
   "source": [
    "## MCQ\n",
    "<!-- multiple choice -->\n",
    "\n",
    "on off policy\n",
    "\n",
    "- [ ] lr\n",
    "- [ ] train_batch_size\n",
    "- [ ] num_sgd_iter\n",
    "- [x] entropy_coeff"
   ]
  },
  {
   "cell_type": "code",
   "execution_count": null,
   "id": "9da827e9-9970-477c-9d55-42f458a088c7",
   "metadata": {},
   "outputs": [],
   "source": []
  }
 ],
 "metadata": {
  "kernelspec": {
   "display_name": "Python [conda env:ray2beta]",
   "language": "python",
   "name": "conda-env-ray2beta-py"
  },
  "language_info": {
   "codemirror_mode": {
    "name": "ipython",
    "version": 3
   },
   "file_extension": ".py",
   "mimetype": "text/x-python",
   "name": "python",
   "nbconvert_exporter": "python",
   "pygments_lexer": "ipython3",
   "version": "3.9.13"
  }
 },
 "nbformat": 4,
 "nbformat_minor": 5
}
