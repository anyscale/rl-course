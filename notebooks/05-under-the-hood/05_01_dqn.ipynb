{
 "cells": [
  {
   "cell_type": "markdown",
   "id": "734f5ff7-bfbf-4238-8ef4-9a3d6cb20f9a",
   "metadata": {},
   "source": [
    "## RL algorithms"
   ]
  },
  {
   "cell_type": "code",
   "execution_count": 34,
   "id": "4411aa7c-d51c-4fa7-be20-303ed6daa841",
   "metadata": {},
   "outputs": [],
   "source": [
    "import gym\n",
    "\n",
    "import time\n",
    "import warnings\n",
    "warnings.filterwarnings(\"ignore\", category=DeprecationWarning) \n",
    "\n",
    "import matplotlib.pyplot as plt\n",
    "plt.rcParams[\"font.size\"] = 14"
   ]
  },
  {
   "cell_type": "markdown",
   "id": "10cdfc52-615c-4b7d-9ffb-b3fcd9a9549f",
   "metadata": {},
   "source": [
    "#### RL algorithms\n",
    "\n",
    "- We used the PPO algorithm for almost the entire course (except offline RL)\n",
    "- In fact, RLlib offers many algorithms! See [here](https://docs.ray.io/en/latest/rllib/rllib-algorithms.html).\n",
    "- Let's look at one more algorithm, DQN.\n",
    "\n",
    "Notes:\n",
    "\n",
    "There are over 20 algorithms at the time of recording."
   ]
  },
  {
   "cell_type": "markdown",
   "id": "b7d768d1-373d-49e3-87fb-f510be26745f",
   "metadata": {},
   "source": [
    "#### Deep Q-Network (DQN)\n",
    "\n",
    "- DQN is famous in the RL world for many breakthroughs such as the [Atari results](https://www.cs.toronto.edu/~vmnih/docs/dqn.pdf) from 2013.\n",
    "- In RLlib, we only need to make the smallest of swaps:\n",
    "\n",
    "PPO:"
   ]
  },
  {
   "cell_type": "code",
   "execution_count": 4,
   "id": "0732a5c6-4e7e-4d01-9eb4-51fa02a28ff3",
   "metadata": {},
   "outputs": [],
   "source": [
    "from ray.rllib.algorithms.ppo import PPOConfig\n",
    "\n",
    "ppo = PPOConfig().framework(\"torch\").build(env=\"FrozenLake-v1\")"
   ]
  },
  {
   "cell_type": "markdown",
   "id": "34cbc410-9e67-42f0-9ada-397fa2e84855",
   "metadata": {},
   "source": [
    "DQN:"
   ]
  },
  {
   "cell_type": "code",
   "execution_count": 5,
   "id": "b67329e9-5c13-48e9-b376-b8c608a5fbde",
   "metadata": {},
   "outputs": [
    {
     "name": "stderr",
     "output_type": "stream",
     "text": [
      "2022-07-31 08:14:37,340\tWARNING deprecation.py:47 -- DeprecationWarning: `ray.rllib.algorithms.dqn.dqn.DEFAULT_CONFIG` has been deprecated. Use `ray.rllib.algorithms.dqn.dqn.DQNConfig(...)` instead. This will raise an error in the future!\n",
      "2022-07-31 08:14:37,342\tWARNING deprecation.py:47 -- DeprecationWarning: `config['multiagent']['replay_mode']` has been deprecated. config['replay_buffer_config']['replay_mode'] This will raise an error in the future!\n"
     ]
    }
   ],
   "source": [
    "from ray.rllib.algorithms.dqn import DQNConfig\n",
    "\n",
    "dqn = DQNConfig().framework(\"torch\").build(env=\"FrozenLake-v1\")"
   ]
  },
  {
   "cell_type": "markdown",
   "id": "4989c48f-cd51-4474-9b42-d98ff61bf3ac",
   "metadata": {},
   "source": [
    "And that's it!"
   ]
  },
  {
   "cell_type": "markdown",
   "id": "d56e32ec-9000-4ccd-a1fb-92fb596ecc7c",
   "metadata": {},
   "source": [
    "#### Using a DQN"
   ]
  },
  {
   "cell_type": "code",
   "execution_count": 6,
   "id": "a165c957-8dbd-4ed2-bf37-8b19cc493b35",
   "metadata": {},
   "outputs": [
    {
     "name": "stderr",
     "output_type": "stream",
     "text": [
      "\u001b[2m\u001b[36m(RolloutWorker pid=13332)\u001b[0m 2022-07-31 09:00:18,276\tWARNING deprecation.py:47 -- DeprecationWarning: `concat_samples` has been deprecated. Use `concat_samples() from rllib.policy.sample_batch` instead. This will raise an error in the future!\n",
      "2022-07-31 09:00:19,156\tWARNING deprecation.py:47 -- DeprecationWarning: `concat_samples` has been deprecated. Use `concat_samples() from rllib.policy.sample_batch` instead. This will raise an error in the future!\n"
     ]
    }
   ],
   "source": [
    "t = time.time()\n",
    "ppo_results = []\n",
    "for i in range(8):\n",
    "    ppo_results.append( ppo.train()[\"episode_reward_mean\"] )\n",
    "print(f\"Elapsed time {time.time()-t:.1f} s\")"
   ]
  },
  {
   "cell_type": "code",
   "execution_count": 10,
   "id": "fe8e88dc-093f-4144-a81a-5d9742e80f2f",
   "metadata": {},
   "outputs": [
    {
     "name": "stderr",
     "output_type": "stream",
     "text": [
      "2022-07-31 09:01:36,089\tWARNING deprecation.py:47 -- DeprecationWarning: `ReplayBuffer.add_batch()` has been deprecated. Use `ReplayBuffer.add()` instead. This will raise an error in the future!\n",
      "2022-07-31 09:01:36,100\tWARNING multi_agent_prioritized_replay_buffer.py:211 -- Adding batches with column `weights` to this buffer while providing weights as a call argument to the add method results in the column being overwritten.\n"
     ]
    },
    {
     "ename": "ValueError",
     "evalue": "Invalid format specifier",
     "output_type": "error",
     "traceback": [
      "\u001b[0;31m---------------------------------------------------------------------------\u001b[0m",
      "\u001b[0;31mValueError\u001b[0m                                Traceback (most recent call last)",
      "Input \u001b[0;32mIn [10]\u001b[0m, in \u001b[0;36m<cell line: 5>\u001b[0;34m()\u001b[0m\n\u001b[1;32m      3\u001b[0m \u001b[38;5;28;01mfor\u001b[39;00m i \u001b[38;5;129;01min\u001b[39;00m \u001b[38;5;28mrange\u001b[39m(\u001b[38;5;241m8\u001b[39m):\n\u001b[1;32m      4\u001b[0m     dqn_results\u001b[38;5;241m.\u001b[39mappend( dqn\u001b[38;5;241m.\u001b[39mtrain()[\u001b[38;5;124m\"\u001b[39m\u001b[38;5;124mepisode_reward_mean\u001b[39m\u001b[38;5;124m\"\u001b[39m] )\n\u001b[0;32m----> 5\u001b[0m \u001b[38;5;28mprint\u001b[39m(\u001b[38;5;124mf\u001b[39m\u001b[38;5;124m\"\u001b[39m\u001b[38;5;124mElapsed time \u001b[39m\u001b[38;5;132;01m{\u001b[39;00mtime\u001b[38;5;241m.\u001b[39mtime()\u001b[38;5;241m-\u001b[39mt\u001b[38;5;132;01m:\u001b[39;00m\u001b[38;5;124m%.1f\u001b[39m\u001b[38;5;132;01m}\u001b[39;00m\u001b[38;5;124m s\u001b[39m\u001b[38;5;124m\"\u001b[39m)\n",
      "\u001b[0;31mValueError\u001b[0m: Invalid format specifier"
     ]
    }
   ],
   "source": [
    "t = time.time()\n",
    "dqn_results = []\n",
    "for i in range(8):\n",
    "    dqn_results.append( dqn.train()[\"episode_reward_mean\"] )\n",
    "print(f\"Elapsed time {time.time()-t:.1f} s\")"
   ]
  },
  {
   "cell_type": "markdown",
   "id": "1953512e-b853-48c7-a8ef-2e9422b5e789",
   "metadata": {},
   "source": [
    "#### Training"
   ]
  },
  {
   "cell_type": "code",
   "execution_count": 19,
   "id": "1216163b-359f-4a69-86b6-37c8670ec8b4",
   "metadata": {},
   "outputs": [
    {
     "data": {
      "image/png": "[encoded data removed]",
      "text/plain": [
       "<Figure size 432x288 with 1 Axes>"
      ]
     },
     "metadata": {
      "needs_background": "light"
     },
     "output_type": "display_data"
    }
   ],
   "source": [
    "plt.plot(ppo_results, label=\"PPO\")\n",
    "plt.plot(dqn_results, label=\"DQN\")\n",
    "plt.legend();\n",
    "plt.xlabel(\"training iterations\");\n",
    "plt.ylabel(\"reward\");"
   ]
  },
  {
   "cell_type": "markdown",
   "id": "b806203c-8504-451b-90b7-1b8fb130afd6",
   "metadata": {},
   "source": [
    "- In this particular run of this case, DQN learns faster.\n",
    "- But, like anything in ML, the answer is: \"it depends\"."
   ]
  },
  {
   "cell_type": "markdown",
   "id": "f7fa9f10-dcb6-4f53-b3ca-e7fd162606e0",
   "metadata": {},
   "source": [
    "#### Under the hood\n",
    "\n",
    "- Under the hood PPO and DQN work very differently\n",
    "- PPO is an **on-policy** algorithm, DQN is **off-policy**\n",
    "- They also have similarities, e.g. both are _model-free_ methods\n",
    "\n",
    "Notes:\n",
    "\n",
    "- PPO trains while running its own policy\n",
    "- DQN can train on _experiences_ that may come from another policy (related to offline RL)\n",
    "- DQN learns like offline RL (from data) but it is always generating new data from the env"
   ]
  },
  {
   "cell_type": "markdown",
   "id": "5335c92a-b76a-4f51-a1b8-91f37ee841a0",
   "metadata": {},
   "source": [
    "#### Q-values\n",
    "\n",
    "- One big difference is that DQN directly learns _Q-values_\n",
    "- What are these?"
   ]
  },
  {
   "cell_type": "code",
   "execution_count": 25,
   "id": "2f8176da-5a08-4e80-a4f7-f0f6d3b2453a",
   "metadata": {},
   "outputs": [],
   "source": [
    "model = dqn.get_policy().model"
   ]
  },
  {
   "cell_type": "code",
   "execution_count": 37,
   "id": "a603fcd5-b5fb-43fc-94d7-a31d3fb20e9a",
   "metadata": {},
   "outputs": [],
   "source": [
    "from ray.rllib.models.preprocessors import get_preprocessor \n",
    "import torch"
   ]
  },
  {
   "cell_type": "code",
   "execution_count": 35,
   "id": "92de4b3f-6384-4d25-afbd-461a17825eb6",
   "metadata": {},
   "outputs": [],
   "source": [
    "env = gym.make(\"FrozenLake-v1\")"
   ]
  },
  {
   "cell_type": "code",
   "execution_count": 39,
   "id": "b374d557-ff08-4160-8afd-5bbe42269e73",
   "metadata": {},
   "outputs": [],
   "source": [
    "prep = get_preprocessor(env.observation_space)(env.observation_space)\n",
    "model_out = model({\"obs\": torch.from_numpy(prep.transform(5)[None])})[0]"
   ]
  },
  {
   "cell_type": "code",
   "execution_count": 41,
   "id": "dfe0736c-f74b-40b5-b764-9715e7c5458b",
   "metadata": {},
   "outputs": [
    {
     "data": {
      "text/plain": [
       "tensor([[0.1166, 0.0269, 0.0571, 0.0180]], grad_fn=<AddmmBackward0>)"
      ]
     },
     "execution_count": 41,
     "metadata": {},
     "output_type": "execute_result"
    }
   ],
   "source": [
    "model.get_q_value_distributions(model_out)[0]"
   ]
  },
  {
   "cell_type": "code",
   "execution_count": 48,
   "id": "1a364b4c-4f89-4479-9d27-51ec6c0c7a67",
   "metadata": {},
   "outputs": [
    {
     "data": {
      "text/plain": [
       "0.029845546931028366"
      ]
     },
     "execution_count": 48,
     "metadata": {},
     "output_type": "execute_result"
    }
   ],
   "source": [
    "float(model.get_state_value(model_out))"
   ]
  },
  {
   "cell_type": "code",
   "execution_count": 51,
   "id": "c9be45be-b806-4e02-a858-50ae0f80dc75",
   "metadata": {},
   "outputs": [],
   "source": [
    "q = [float(model.get_state_value(model({\"obs\": torch.from_numpy(prep.transform(i)[None])})[0])) for i in range(16)]"
   ]
  },
  {
   "cell_type": "code",
   "execution_count": 77,
   "id": "769ab7f6-b179-4d04-9fef-3c61a34fa0b8",
   "metadata": {},
   "outputs": [
    {
     "data": {
      "image/png": "[encoded data removed]",
      "text/plain": [
       "<Figure size 432x288 with 2 Axes>"
      ]
     },
     "metadata": {
      "needs_background": "light"
     },
     "output_type": "display_data"
    }
   ],
   "source": [
    "import numpy as np\n",
    "plt.imshow(np.reshape(q, (4,4)));\n",
    "plt.colorbar();\n",
    "plt.xticks(());\n",
    "plt.yticks(());\n",
    "desc = [[c.decode(\"utf-8\") for c in line] for line in env.desc.tolist()]\n",
    "mapper = {\"F\" : \".\", \"H\" : \"O\", \"S\" : \"S\", \"G\" : \"G\"}\n",
    "for i in range(4):\n",
    "    for j in range(4):\n",
    "        plt.text(j,i, mapper[desc[i][j]], fontsize=25, color=\"white\")"
   ]
  },
  {
   "cell_type": "markdown",
   "id": "0ebea7dd-10bd-4a2e-9bf1-495e07becf98",
   "metadata": {},
   "source": [
    "#### Q-values"
   ]
  },
  {
   "cell_type": "code",
   "execution_count": null,
   "id": "8b1ab140-bc99-4f08-bd4c-57eb37762ad7",
   "metadata": {},
   "outputs": [],
   "source": []
  },
  {
   "cell_type": "markdown",
   "id": "f5eb4941-bc55-4645-b91a-b9040a0f8e6d",
   "metadata": {},
   "source": [
    "#### Beyond DQN"
   ]
  },
  {
   "cell_type": "code",
   "execution_count": null,
   "id": "9ce404f4-9150-47af-824c-cef401cdb647",
   "metadata": {},
   "outputs": [],
   "source": []
  },
  {
   "cell_type": "code",
   "execution_count": null,
   "id": "e08223a7-6a2c-44b6-b80a-5f990ec96338",
   "metadata": {},
   "outputs": [],
   "source": []
  },
  {
   "cell_type": "code",
   "execution_count": null,
   "id": "935afbaa-3853-41ac-bfc2-5884c9add93f",
   "metadata": {},
   "outputs": [],
   "source": []
  },
  {
   "cell_type": "code",
   "execution_count": null,
   "id": "55490556-94ca-4451-ba48-616d75e46cf3",
   "metadata": {},
   "outputs": [],
   "source": []
  },
  {
   "cell_type": "markdown",
   "id": "129769da-7255-4cfc-86e7-0af722124dc3",
   "metadata": {},
   "source": [
    "#### Let's apply what we learned!"
   ]
  },
  {
   "cell_type": "markdown",
   "id": "f1ee53af-de7d-47b7-9d3e-ee1917b156f1",
   "metadata": {
    "tags": []
   },
   "source": [
    "## MCQ\n",
    "<!-- multiple choice -->\n",
    "\n",
    "on off policy\n",
    "\n",
    "- [ ] lr\n",
    "- [ ] train_batch_size\n",
    "- [ ] num_sgd_iter\n",
    "- [x] entropy_coeff"
   ]
  },
  {
   "cell_type": "code",
   "execution_count": null,
   "id": "9da827e9-9970-477c-9d55-42f458a088c7",
   "metadata": {},
   "outputs": [],
   "source": []
  }
 ],
 "metadata": {
  "kernelspec": {
   "display_name": "Python [conda env:ray2beta]",
   "language": "python",
   "name": "conda-env-ray2beta-py"
  },
  "language_info": {
   "codemirror_mode": {
    "name": "ipython",
    "version": 3
   },
   "file_extension": ".py",
   "mimetype": "text/x-python",
   "name": "python",
   "nbconvert_exporter": "python",
   "pygments_lexer": "ipython3",
   "version": "3.9.13"
  }
 },
 "nbformat": 4,
 "nbformat_minor": 5
}
