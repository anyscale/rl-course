{
 "cells": [
  {
   "cell_type": "markdown",
   "id": "be76afd1-30c0-4f6a-9107-bf9eef74f904",
   "metadata": {},
   "source": [
    "## Ray"
   ]
  },
  {
   "cell_type": "code",
   "execution_count": null,
   "id": "86817390-ac99-44a0-97d1-05df3eafe4b5",
   "metadata": {},
   "outputs": [],
   "source": []
  },
  {
   "cell_type": "markdown",
   "id": "fe5a664b-9078-4978-98cc-106773123eea",
   "metadata": {},
   "source": [
    "Talk about the capabilities of ray in general briefly, and how this can make RL extra powerful for bigger problems. Basically, how does RLlib leverage ray (rollout workers etc)"
   ]
  },
  {
   "cell_type": "markdown",
   "id": "541fdc35-c4dc-4d02-9040-68a93db3b111",
   "metadata": {},
   "source": [
    "also mention how tune (previous slide deck) fits in"
   ]
  },
  {
   "cell_type": "markdown",
   "id": "4d5ad3ca-8b8a-45b4-95b0-ec008c2f8d29",
   "metadata": {},
   "source": [
    "RLlib config params that use ray, e.g.\n",
    "\n",
    "        # num_workers: 16\n",
    "        # num_gpus: 1\n",
    "        num_envs_per_worker:\n",
    "            grid_search: [16, 32]\n",
    "\n",
    "and also the \n",
    "\n",
    "    \"create_env_on_driver\"  : True,\n",
    "    \n",
    "that  we've been ignoring the whole time"
   ]
  },
  {
   "cell_type": "code",
   "execution_count": null,
   "id": "340e0f0a-7954-44b1-ad30-a146f3ba89b2",
   "metadata": {},
   "outputs": [],
   "source": []
  }
 ],
 "metadata": {
  "kernelspec": {
   "display_name": "Python [conda env:rl-course-dev-2]",
   "language": "python",
   "name": "conda-env-rl-course-dev-2-py"
  },
  "language_info": {
   "codemirror_mode": {
    "name": "ipython",
    "version": 3
   },
   "file_extension": ".py",
   "mimetype": "text/x-python",
   "name": "python",
   "nbconvert_exporter": "python",
   "pygments_lexer": "ipython3",
   "version": "3.8.13"
  }
 },
 "nbformat": 4,
 "nbformat_minor": 5
}
