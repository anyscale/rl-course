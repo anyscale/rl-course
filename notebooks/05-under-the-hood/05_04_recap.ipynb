{
 "cells": [
  {
   "cell_type": "markdown",
   "id": "b319c9ae-8087-4fb1-b57d-d8fc63c3c7f6",
   "metadata": {},
   "source": [
    "review key points and big theoretical ideas of RL that came up along the way"
   ]
  },
  {
   "cell_type": "code",
   "execution_count": null,
   "id": "aac201d7-d1e5-48a4-a2d3-280530d627f8",
   "metadata": {},
   "outputs": [],
   "source": []
  }
 ],
 "metadata": {
  "kernelspec": {
   "display_name": "Python [conda env:rl-course-dev-2]",
   "language": "python",
   "name": "conda-env-rl-course-dev-2-py"
  },
  "language_info": {
   "codemirror_mode": {
    "name": "ipython",
    "version": 3
   },
   "file_extension": ".py",
   "mimetype": "text/x-python",
   "name": "python",
   "nbconvert_exporter": "python",
   "pygments_lexer": "ipython3",
   "version": "3.8.13"
  }
 },
 "nbformat": 4,
 "nbformat_minor": 5
}
