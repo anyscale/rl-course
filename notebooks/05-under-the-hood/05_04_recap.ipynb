{
 "cells": [
  {
   "cell_type": "markdown",
   "id": "c7ae02c1-5195-4c7d-a05b-13ad17c035c5",
   "metadata": {},
   "source": [
    "## Course recap"
   ]
  },
  {
   "cell_type": "markdown",
   "id": "dae5e6f1-c47c-4d84-bbde-ee3dad73d30b",
   "metadata": {},
   "source": [
    "#### Module 1: RL components"
   ]
  },
  {
   "cell_type": "markdown",
   "id": "b319c9ae-8087-4fb1-b57d-d8fc63c3c7f6",
   "metadata": {},
   "source": [
    "- SL vs. RL\n",
    "- Environments\n",
    "- Policies"
   ]
  },
  {
   "cell_type": "markdown",
   "id": "5d12d652-41fe-41ad-adeb-b45408df0381",
   "metadata": {},
   "source": [
    "#### Module 2: RLlib"
   ]
  },
  {
   "cell_type": "markdown",
   "id": "0d9b4f75-c665-4a51-842b-81d22ba29a2e",
   "metadata": {},
   "source": [
    "- Algorithms\n",
    "- Training, evaluation, prediction\n",
    "- Configs\n",
    "- Saving/restoring\n",
    "- Multi-agent"
   ]
  },
  {
   "cell_type": "markdown",
   "id": "7a77653d-07b3-4220-a567-89ac22a4c88a",
   "metadata": {},
   "source": [
    "#### Module 3: designing environments"
   ]
  },
  {
   "cell_type": "markdown",
   "id": "f6f7d6a8-a9ff-4eb9-8ccc-11e3eaf65d0a",
   "metadata": {},
   "source": [
    "- Python classes and methods\n",
    "- Creating the Random Lake\n",
    "- Encoding observations (e.g. nearby squares on the lake)\n",
    "- Shaping rewards (e.g. negative rewards at each step)\n",
    "- Exploration vs. exploitation"
   ]
  },
  {
   "cell_type": "markdown",
   "id": "87712906-54cd-47a4-bb2a-42b96f649b04",
   "metadata": {},
   "source": [
    "#### Module 4: recommender application"
   ]
  },
  {
   "cell_type": "markdown",
   "id": "a6458064-c43a-456c-b8f3-95c35a3188a3",
   "metadata": {},
   "source": [
    "- What are recommender systems\n",
    "- Designing the environment conceptually: candy/veggies\n",
    "- Implementing the environment\n",
    "- Discount factors\n",
    "- Offline RL\n",
    "\n",
    "Notes:\n",
    "\n",
    "A big challenge with RL is having a high-fidelity simulator, which we certainty didn't really have in this example. "
   ]
  },
  {
   "cell_type": "markdown",
   "id": "115079c4-c59e-42bc-8630-2b769f8e4199",
   "metadata": {},
   "source": [
    "#### Module 5: under the hood\n",
    "\n",
    "- Algorithms and DQN\n",
    "- Tuning\n",
    "- Ray"
   ]
  },
  {
   "cell_type": "markdown",
   "id": "b477dc19-e371-4db1-8d8c-6ccb266d6f1f",
   "metadata": {},
   "source": [
    "#### What is not covered in this course"
   ]
  },
  {
   "cell_type": "markdown",
   "id": "8c46de44-1087-4092-a49b-bf612a9df501",
   "metadata": {},
   "source": [
    "- Code that takes longer to run (e.g. images/CNNs)\n",
    "- Off-policy estimation for offline RL\n",
    "- Combining online and offline RL\n",
    "- Many more algorithms\n",
    "- Many more RLlib features\n",
    "- There are endless applications!"
   ]
  },
  {
   "cell_type": "markdown",
   "id": "87f9e48d-1e1d-45dd-833e-89701489a1f0",
   "metadata": {},
   "source": [
    "#### Other resources\n",
    "\n",
    "Online courses:\n",
    "\n",
    "- [Hugging Face course](https://huggingface.co/course/chapter1/1)\n",
    "- [Delta Academy](https://delta-academy.xyz/)\n",
    "- [Fast Deep RL](https://courses.dibya.online/p/fastdeeprl)\n",
    "- [Coursera RL Specialization from U of A](https://www.coursera.org/specializations/reinforcement-learning)\n",
    "- [Udacity RL course](https://www.udacity.com/course/reinforcement-learning--ud600)\n",
    "\n",
    "Video lectures:\n",
    "\n",
    "- [David Silver's lectures](https://www.davidsilver.uk/teaching/)\n",
    "- [Sergey Levine's lectures](http://rail.eecs.berkeley.edu/deeprlcourse/)\n",
    "\n",
    "Books:\n",
    "\n",
    "- [Sutton & Barto](http://incompleteideas.net/book/the-book-2nd.html) (considered the definitive RL book)\n",
    "- [Deep RL Hands-On](https://www.packtpub.com/product/deep-reinforcement-learning-hands-on-second-edition/9781838826994)\n",
    "\n",
    "Other:\n",
    "\n",
    "- [Spinning Up](https://spinningup.openai.com/en/latest/) (a well-known resource for RL)\n",
    "\n",
    "_This is not an endorsement for any of these resources._\n",
    "\n",
    "Notes:\n",
    "\n",
    "And, try your own project!"
   ]
  },
  {
   "cell_type": "markdown",
   "id": "6685b4e7-d5e7-4898-9f77-8f07ecd3439a",
   "metadata": {},
   "source": [
    "#### Thanks for joining!"
   ]
  },
  {
   "cell_type": "code",
   "execution_count": null,
   "id": "eebbd062-9477-4378-a294-930b243aa178",
   "metadata": {},
   "outputs": [],
   "source": []
  }
 ],
 "metadata": {
  "kernelspec": {
   "display_name": "Python [conda env:rl-course-dev-2]",
   "language": "python",
   "name": "conda-env-rl-course-dev-2-py"
  },
  "language_info": {
   "codemirror_mode": {
    "name": "ipython",
    "version": 3
   },
   "file_extension": ".py",
   "mimetype": "text/x-python",
   "name": "python",
   "nbconvert_exporter": "python",
   "pygments_lexer": "ipython3",
   "version": "3.8.13"
  }
 },
 "nbformat": 4,
 "nbformat_minor": 5
}
