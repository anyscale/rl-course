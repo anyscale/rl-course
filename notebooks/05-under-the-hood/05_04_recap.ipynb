{
 "cells": [
  {
   "cell_type": "markdown",
   "id": "c7ae02c1-5195-4c7d-a05b-13ad17c035c5",
   "metadata": {},
   "source": [
    "## Course recap"
   ]
  },
  {
   "cell_type": "markdown",
   "id": "dae5e6f1-c47c-4d84-bbde-ee3dad73d30b",
   "metadata": {},
   "source": [
    "#### Module 1"
   ]
  },
  {
   "cell_type": "markdown",
   "id": "b319c9ae-8087-4fb1-b57d-d8fc63c3c7f6",
   "metadata": {},
   "source": [
    "review key points and big theoretical ideas of RL that came up along the way"
   ]
  },
  {
   "cell_type": "markdown",
   "id": "5d12d652-41fe-41ad-adeb-b45408df0381",
   "metadata": {},
   "source": [
    "#### Module 2"
   ]
  },
  {
   "cell_type": "code",
   "execution_count": null,
   "id": "aac201d7-d1e5-48a4-a2d3-280530d627f8",
   "metadata": {},
   "outputs": [],
   "source": []
  },
  {
   "cell_type": "code",
   "execution_count": null,
   "id": "e82b4448-9e1f-476f-82e8-e8c1c8586559",
   "metadata": {},
   "outputs": [],
   "source": []
  },
  {
   "cell_type": "markdown",
   "id": "7a77653d-07b3-4220-a567-89ac22a4c88a",
   "metadata": {},
   "source": [
    "#### Module 3"
   ]
  },
  {
   "cell_type": "code",
   "execution_count": null,
   "id": "883481db-7afa-4b6d-b7b1-cd772ce5206c",
   "metadata": {},
   "outputs": [],
   "source": []
  },
  {
   "cell_type": "code",
   "execution_count": null,
   "id": "a62f1d22-bca4-4a5d-9d87-3a23f00d07a3",
   "metadata": {},
   "outputs": [],
   "source": []
  },
  {
   "cell_type": "markdown",
   "id": "87712906-54cd-47a4-bb2a-42b96f649b04",
   "metadata": {},
   "source": [
    "#### Module 4"
   ]
  },
  {
   "cell_type": "code",
   "execution_count": null,
   "id": "ff106f78-3c11-4b9f-8a99-280e97de8fbd",
   "metadata": {},
   "outputs": [],
   "source": []
  },
  {
   "cell_type": "markdown",
   "id": "115079c4-c59e-42bc-8630-2b769f8e4199",
   "metadata": {},
   "source": [
    "#### Module 4"
   ]
  },
  {
   "cell_type": "code",
   "execution_count": null,
   "id": "f98f9e08-40f3-48d7-be2a-f771d4652bc4",
   "metadata": {},
   "outputs": [],
   "source": []
  },
  {
   "cell_type": "markdown",
   "id": "9b1a9dd7-f67f-42e7-a0f2-03fda00f2647",
   "metadata": {},
   "source": [
    "#### Let's apply what we learned!"
   ]
  }
 ],
 "metadata": {
  "kernelspec": {
   "display_name": "Python [conda env:rl-course-dev-2]",
   "language": "python",
   "name": "conda-env-rl-course-dev-2-py"
  },
  "language_info": {
   "codemirror_mode": {
    "name": "ipython",
    "version": 3
   },
   "file_extension": ".py",
   "mimetype": "text/x-python",
   "name": "python",
   "nbconvert_exporter": "python",
   "pygments_lexer": "ipython3",
   "version": "3.8.13"
  }
 },
 "nbformat": 4,
 "nbformat_minor": 5
}
