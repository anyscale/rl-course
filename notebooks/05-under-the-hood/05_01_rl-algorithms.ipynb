{
 "cells": [
  {
   "cell_type": "markdown",
   "id": "e0f998ea-6974-4078-8391-f05cec919e20",
   "metadata": {},
   "source": [
    "including q values, off-policy, the issue of acting stochastically/deterministically"
   ]
  },
  {
   "cell_type": "code",
   "execution_count": null,
   "id": "cbdabde8-88c5-460d-9708-9a182169315e",
   "metadata": {},
   "outputs": [],
   "source": []
  }
 ],
 "metadata": {
  "kernelspec": {
   "display_name": "Python [conda env:rl-course-dev-2]",
   "language": "python",
   "name": "conda-env-rl-course-dev-2-py"
  },
  "language_info": {
   "codemirror_mode": {
    "name": "ipython",
    "version": 3
   },
   "file_extension": ".py",
   "mimetype": "text/x-python",
   "name": "python",
   "nbconvert_exporter": "python",
   "pygments_lexer": "ipython3",
   "version": "3.8.13"
  }
 },
 "nbformat": 4,
 "nbformat_minor": 5
}
