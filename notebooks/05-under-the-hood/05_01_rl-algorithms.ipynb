{
 "cells": [
  {
   "cell_type": "markdown",
   "id": "734f5ff7-bfbf-4238-8ef4-9a3d6cb20f9a",
   "metadata": {},
   "source": [
    "## RL algorithms"
   ]
  },
  {
   "cell_type": "code",
   "execution_count": null,
   "id": "0b4e1818-bb1b-47f1-8df1-76d62b01d031",
   "metadata": {},
   "outputs": [],
   "source": []
  },
  {
   "cell_type": "markdown",
   "id": "e0f998ea-6974-4078-8391-f05cec919e20",
   "metadata": {},
   "source": [
    "including q values, off-policy, the issue of acting stochastically/deterministically"
   ]
  },
  {
   "cell_type": "markdown",
   "id": "0909e6f6-d5e7-4042-962b-4bb0490fbaab",
   "metadata": {},
   "source": [
    "should show that for the recommender problem, acting deterministically without exploration would not work at all, because the optimal strategy is random. though this effect would be a lot less severe with history available. "
   ]
  }
 ],
 "metadata": {
  "kernelspec": {
   "display_name": "Python [conda env:rl-course-dev-2]",
   "language": "python",
   "name": "conda-env-rl-course-dev-2-py"
  },
  "language_info": {
   "codemirror_mode": {
    "name": "ipython",
    "version": 3
   },
   "file_extension": ".py",
   "mimetype": "text/x-python",
   "name": "python",
   "nbconvert_exporter": "python",
   "pygments_lexer": "ipython3",
   "version": "3.8.13"
  }
 },
 "nbformat": 4,
 "nbformat_minor": 5
}
