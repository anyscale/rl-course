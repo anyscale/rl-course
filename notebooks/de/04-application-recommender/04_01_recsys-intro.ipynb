{
 "cells": [
  {
   "cell_type": "markdown",
   "id": "b5aa21ad-6bb9-4990-ab4d-fb9435b0bc00",
   "metadata": {},
   "source": [
    "## Einführung in Empfehlungssysteme"
   ]
  },
  {
   "cell_type": "markdown",
   "id": "815cecfb-6ed2-4522-a83d-29de9c4a8792",
   "metadata": {},
   "source": [
    "#### Empfehlungssysteme\n",
    "\n",
    "In diesem Modul befassen wir uns mit der Anwendung von _Empfehlungssystemen_."
   ]
  },
  {
   "cell_type": "code",
   "execution_count": 2,
   "id": "9e6e80a5-0f7b-4924-9d41-7c8305d304e7",
   "metadata": {},
   "outputs": [],
   "source": [
    "# TODO\n",
    "# add pictures\n",
    "# this is pretty boring temporarily\n",
    "# make this one short"
   ]
  },
  {
   "cell_type": "markdown",
   "id": "3b9ea003-8011-4799-a641-147e0e816cf4",
   "metadata": {},
   "source": [
    "#### Empfehlungssysteme\n",
    "\n",
    "Beispiele für Empfehlungssysteme sind:\n",
    "\n",
    "- Videoempfehlungen (z. B. YouTube, Netflix)\n",
    "- Online-Einkaufsempfehlungen (z. B. Amazon)\n",
    "- Alle anderen Inhaltsempfehlungen, die auf einen Nutzer zugeschnitten sind"
   ]
  },
  {
   "cell_type": "markdown",
   "id": "651525e7-a5ea-47d8-8d33-c00d5e8abfce",
   "metadata": {},
   "source": [
    "#### Recommender-Environment\n",
    "\n",
    "- In einem einfachen Empfehlungssystem betrachten wir nur einen Zeitschritt:\n",
    "  - Was soll ich diesem Nutzer empfehlen?\n",
    "- Wir können dies mit überwachten oder unüberwachten Lernmethoden angehen (z. B. [Collaborative Filtering](https://en.wikipedia.org/wiki/Collaborative_filtering))\n",
    "- In der Realität interagieren wir jedoch im Laufe der Zeit immer wieder mit einem Nutzer.\n",
    "  - Wir können dies mit RL angehen!"
   ]
  },
  {
   "cell_type": "markdown",
   "id": "eea28cf7-7bfa-46a7-87f7-74cf3893d27d",
   "metadata": {},
   "source": [
    "#### Komplexe Sachverhalte\n",
    "\n",
    "Empfehlungssysteme sind in vielerlei Hinsicht komplex. Zum Beispiel:\n",
    "\n",
    "- Benutzerbeziehungen\n",
    "- Neue Benutzer/Artikel\n",
    "- Datenquellen\n",
    "- Größe der Daten\n",
    "- Slate-Empfehlungen\n",
    "- **Stimmung/Mentalität des Nutzers**\n",
    "\n",
    "Anmerkungen:\n",
    "\n",
    "- Behandeln wir die Nutzer individuell oder lernen wir etwas über die Nutzer anhand anderer Nutzer?\n",
    "- Wie gehen wir mit neuen Nutzern oder neuen Artikeln (z. B. Fernsehsendungen) um, die gerade eingetroffen sind?\n",
    "- Welche Datenquellen nutzen wir, um etwas über Nutzer/innen, Artikel und ihre Interaktionen zu erfahren?\n",
    "- Wie gehen wir mit der riesigen Datenmenge um (potenziell über Millionen von Nutzern/Einträgen)?\n",
    "- Was ist, wenn wir mehrere Artikel gleichzeitig empfehlen wollen?\n",
    "- **Wie berücksichtigen wir die Stimmung des Nutzers und wie sich diese mit der Zeit verändert?"
   ]
  },
  {
   "cell_type": "markdown",
   "id": "a0af9012-7aec-423a-b272-703452bb39f7",
   "metadata": {},
   "source": [
    "#### RL-Recommender-Einrichtung\n",
    "\n",
    "- Wenn wir 10 Millionen Artikel haben, würde der RL-Aktionsraum 10 Millionen Optionen umfassen.\n",
    "- Das ist zu groß, um machbar zu sein.\n",
    "- Wenn wir RL für Empfehlungssysteme verwenden, werden wir eine andere Methode verwenden, um eine Vorauswahl von Kandidaten zu treffen, und dann RL anwenden \n",
    "- Deshalb werden wir mit einer kleinen Anzahl von Kandidaten arbeiten."
   ]
  },
  {
   "cell_type": "markdown",
   "id": "ca012ec2-9ce1-4e98-92d0-bf239a4bcb13",
   "metadata": {},
   "source": [
    "#### RL-Ausbildung\n",
    "\n",
    "- Das echte System hier hat Menschen in der Schleife (die aus den empfohlenen Artikeln auswählen).\n",
    "- Das wäre jedoch komplex, langsam, teuer und würde möglicherweise schlechte Empfehlungen aussprechen.\n",
    "- Deshalb werden wir, wie in RL üblich, einen _Simulator_ (env) bauen.\n",
    "- Später werden wir auch das Lernen aus den Daten des Nutzerverhaltens in Betracht ziehen, wenn kein Simulator verfügbar ist."
   ]
  },
  {
   "cell_type": "markdown",
   "id": "a065884d-1c9e-4815-985a-91f6faadf40e",
   "metadata": {
    "jp-MarkdownHeadingCollapsed": true,
    "tags": []
   },
   "source": [
    "#### Lass uns das Gelernte anwenden!"
   ]
  },
  {
   "cell_type": "markdown",
   "id": "2eebcdd6-e039-4162-bb40-045879282931",
   "metadata": {},
   "source": [
    "## Vorteile von RL für Empfehlungen\n",
    "<!-- multiple choice -->\n",
    "\n",
    "Was ist der Hauptvorteil der Verwendung von RL für ein Empfehlungssystem im Gegensatz zu traditionellen Methoden wie dem kollaborativen Filtern?\n",
    "\n",
    "- [RL ist für große Datenmengen besser skalierbar als überwachtes oder unüberwachtes Lernen.\n",
    "- [RL ermöglicht es uns, mit diskreten Aktionsräumen zu arbeiten, z. B. bei der Auswahl des zu empfehlenden Artikels.\n",
    "- [RL ermöglicht es uns, sequenzielle Empfehlungen zu berücksichtigen, bei denen die Belohnungen von der Historie der Aktionen abhängen.\n",
    "- [RL ist die einzige Option, wenn es um Empfehlungssysteme geht."
   ]
  },
  {
   "cell_type": "markdown",
   "id": "022719e4-f05f-4082-b434-0462ee1adc64",
   "metadata": {},
   "source": [
    "## Nachteile von RL für Empfehlungen\n",
    "<!-- multiple choice -->\n",
    "\n",
    "Was ist ein Nachteil von RL für ein Empfehlungssystem im Vergleich zu traditionellen Methoden wie kollaborativen Filtern?\n",
    "\n",
    "- [Die überwachten und unüberwachten Methoden sind für Empfehlungssysteme noch nicht ausreichend entwickelt worden.\n",
    "- [RL lässt sich nur schwer auf große Aktionsräume übertragen. | Du hast es erfasst.\n",
    "- [ ] RL kann nur verwendet werden, wenn du einen Simulator/eine Environment hast. | Am Ende dieses Moduls wirst du einen anderen Ansatz kennenlernen!\n",
    "- [ ] Industrielle Open-Source-Software ist für RL nicht verfügbar. | Moment mal... was ist mit RLlib?!"
   ]
  },
  {
   "cell_type": "markdown",
   "id": "74454c2d-e4ac-4dbf-88b5-b4a3a5d45ac0",
   "metadata": {},
   "source": [
    "## Empfehlungssysteme Schwierigkeit\n",
    "<!-- multiple choice -->\n",
    "\n",
    "Richtig oder falsch: Empfehlungssysteme sind ein einfach zu lösendes Problemfeld, das nicht allzu komplex ist.\n",
    "\n",
    "- [ ] Richtig\n",
    "- [x] Falsch!\n"
   ]
  }
 ],
 "metadata": {
  "kernelspec": {
   "display_name": "Python [conda env:ray200]",
   "language": "python",
   "name": "conda-env-ray200-py"
  },
  "language_info": {
   "codemirror_mode": {
    "name": "ipython",
    "version": 3
   },
   "file_extension": ".py",
   "mimetype": "text/x-python",
   "name": "python",
   "nbconvert_exporter": "python",
   "pygments_lexer": "ipython3",
   "version": "3.9.13"
  }
 },
 "nbformat": 4,
 "nbformat_minor": 5
}
