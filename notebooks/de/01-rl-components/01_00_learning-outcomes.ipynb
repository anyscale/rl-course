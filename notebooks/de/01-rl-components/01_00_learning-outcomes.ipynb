{
 "cells": [
  {
   "cell_type": "markdown",
   "id": "18e2222c-d00d-4c69-b86e-18560e51896d",
   "metadata": {},
   "source": [
    "## Modul 1 Lernergebnisse"
   ]
  },
  {
   "cell_type": "markdown",
   "id": "9a878f79-7a09-45cc-bbde-c1f3e4626b78",
   "metadata": {},
   "source": [
    "#### Lernergebnisse des Moduls\n",
    "\n",
    "Am Ende dieses Moduls wirst du in der Lage sein:\n",
    "\n",
    "- Reinforcement Learning und überwachtes Lernen vergleichen und gegenüberstellen\n",
    "- Mit RL-Environmenten umgehen und ihre Schlüsselkomponenten diskutieren\n",
    "- Mit RL-Policyn umgehen und verschiedene Arten von Policyn besprechen\n",
    "- Erklären, wie Environmenten und Policyn in die \"API\" von RL passen"
   ]
  },
  {
   "cell_type": "markdown",
   "id": "f847e29d-4776-40b1-8dd4-ae8e51f11483",
   "metadata": {
    "pycharm": {
     "name": "#%% md\n"
    }
   },
   "source": [
    "#### Los geht's mit Modul 1!"
   ]
  }
 ],
 "metadata": {
  "kernelspec": {
   "display_name": "Python [conda env:ray200]",
   "language": "python",
   "name": "conda-env-ray200-py"
  },
  "language_info": {
   "codemirror_mode": {
    "name": "ipython",
    "version": 3
   },
   "file_extension": ".py",
   "mimetype": "text/x-python",
   "name": "python",
   "nbconvert_exporter": "python",
   "pygments_lexer": "ipython3",
   "version": "3.9.13"
  }
 },
 "nbformat": 4,
 "nbformat_minor": 5
}
