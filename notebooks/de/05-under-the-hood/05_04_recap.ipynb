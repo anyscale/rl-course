{
 "cells": [
  {
   "cell_type": "markdown",
   "id": "c7ae02c1-5195-4c7d-a05b-13ad17c035c5",
   "metadata": {},
   "source": [
    "## Kurszusammenfassung"
   ]
  },
  {
   "cell_type": "markdown",
   "id": "dae5e6f1-c47c-4d84-bbde-ee3dad73d30b",
   "metadata": {},
   "source": [
    "#### Modul 1: RL-Komponenten"
   ]
  },
  {
   "cell_type": "markdown",
   "id": "b319c9ae-8087-4fb1-b57d-d8fc63c3c7f6",
   "metadata": {},
   "source": [
    "- SL vs. RL\n",
    "- Environmenten\n",
    "- Policyn"
   ]
  },
  {
   "cell_type": "markdown",
   "id": "5d12d652-41fe-41ad-adeb-b45408df0381",
   "metadata": {},
   "source": [
    "#### Modul 2: RLlib"
   ]
  },
  {
   "cell_type": "markdown",
   "id": "0d9b4f75-c665-4a51-842b-81d22ba29a2e",
   "metadata": {},
   "source": [
    "- Algorithmen\n",
    "- Training, Bewertung, Vorhersage\n",
    "- Konfigurationen\n",
    "- Speichern/Wiederherstellen\n",
    "- Multi-Agenten"
   ]
  },
  {
   "cell_type": "markdown",
   "id": "7a77653d-07b3-4220-a567-89ac22a4c88a",
   "metadata": {},
   "source": [
    "#### Modul 3: Environmenten gestalten"
   ]
  },
  {
   "cell_type": "markdown",
   "id": "f6f7d6a8-a9ff-4eb9-8ccc-11e3eaf65d0a",
   "metadata": {},
   "source": [
    "- Python-Klassen und -Methoden\n",
    "- Den Zufallssee erstellen\n",
    "- Beobachtungen kodieren (z.B. nahegelegene Quadrate auf dem See)\n",
    "- Belohnungen formen (z. B. negative Belohnungen bei jedem Schritt)\n",
    "- Erkundung vs. Ausbeutung"
   ]
  },
  {
   "cell_type": "markdown",
   "id": "87712906-54cd-47a4-bb2a-42b96f649b04",
   "metadata": {},
   "source": [
    "#### Modul 4: Empfehlungsanwendung"
   ]
  },
  {
   "cell_type": "markdown",
   "id": "a6458064-c43a-456c-b8f3-95c35a3188a3",
   "metadata": {},
   "source": [
    "- Was sind Empfehlungssysteme?\n",
    "- Die Environment konzeptionell gestalten: Süßigkeiten/Gemüse\n",
    "- Implementierung der Environment\n",
    "- Rabattfaktoren\n",
    "- Offline RL\n",
    "\n",
    "Anmerkungen:\n",
    "\n",
    "Eine große Herausforderung bei RL ist ein realitätsnaher Simulator, den wir in diesem Beispiel mit Sicherheit nicht hatten "
   ]
  },
  {
   "cell_type": "markdown",
   "id": "115079c4-c59e-42bc-8630-2b769f8e4199",
   "metadata": {},
   "source": [
    "#### Modul 5: Unter der Haube\n",
    "\n",
    "- Algorithmen und DQN\n",
    "- Tuning\n",
    "- Ray"
   ]
  },
  {
   "cell_type": "markdown",
   "id": "b477dc19-e371-4db1-8d8c-6ccb266d6f1f",
   "metadata": {},
   "source": [
    "#### Was in diesem Kurs nicht behandelt wird"
   ]
  },
  {
   "cell_type": "markdown",
   "id": "8c46de44-1087-4092-a49b-bf612a9df501",
   "metadata": {},
   "source": [
    "- Code, dessen Ausführung länger dauert (z. B. Bilder/CNNs)\n",
    "- Off-Policy-Schätzung für Offline-RL\n",
    "- Kombination von Online- und Offline-RL\n",
    "- Viele weitere Algorithmen\n",
    "- Viele weitere RLlib-Funktionen\n",
    "- Es gibt unendlich viele Anwendungen!"
   ]
  },
  {
   "cell_type": "markdown",
   "id": "87f9e48d-1e1d-45dd-833e-89701489a1f0",
   "metadata": {},
   "source": [
    "#### Andere Ressourcen\n",
    "\n",
    "Online-Kurse:\n",
    "\n",
    "- [Hugging Face Kurs](https://huggingface.co/course/chapter1/1)\n",
    "- [Delta Academy](https://delta-academy.xyz/)\n",
    "- [Fast Deep RL](https://courses.dibya.online/p/fastdeeprl)\n",
    "- [Coursera RL-Spezialisierung der U of A](https://www.coursera.org/specializations/reinforcement-learning)\n",
    "- [Udacity RL-Kurs](https://www.udacity.com/course/reinforcement-learning--ud600)\n",
    "\n",
    "Video-Vorlesungen:\n",
    "\n",
    "- [David Silver's Vorlesungen](https://www.davidsilver.uk/teaching/)\n",
    "- [Sergey Levine's Vorlesungen](http://rail.eecs.berkeley.edu/deeprlcourse/)\n",
    "\n",
    "Bücher:\n",
    "\n",
    "- [Sutton &amp; Barto](http://incompleteideas.net/book/the-book-2nd.html) (gilt als das maßgebliche RL-Buch)\n",
    "- [Deep RL Hands-On](https://www.packtpub.com/product/deep-reinforcement-learning-hands-on-second-edition/9781838826994)\n",
    "\n",
    "Sonstiges:\n",
    "\n",
    "- [Spinning Up](https://spinningup.openai.com/en/latest/) (eine bekannte Quelle für RL)\n",
    "\n",
    "_Dies ist keine Empfehlung für eine dieser Ressourcen\n",
    "\n",
    "Anmerkungen:\n",
    "\n",
    "Probiere dein eigenes Projekt aus!"
   ]
  },
  {
   "cell_type": "markdown",
   "id": "6685b4e7-d5e7-4898-9f77-8f07ecd3439a",
   "metadata": {},
   "source": [
    "#### Danke fürs Mitmachen!"
   ]
  },
  {
   "cell_type": "code",
   "execution_count": null,
   "id": "eebbd062-9477-4378-a294-930b243aa178",
   "metadata": {},
   "outputs": [],
   "source": []
  }
 ],
 "metadata": {
  "kernelspec": {
   "display_name": "Python [conda env:ray200]",
   "language": "python",
   "name": "conda-env-ray200-py"
  },
  "language_info": {
   "codemirror_mode": {
    "name": "ipython",
    "version": 3
   },
   "file_extension": ".py",
   "mimetype": "text/x-python",
   "name": "python",
   "nbconvert_exporter": "python",
   "pygments_lexer": "ipython3",
   "version": "3.9.13"
  }
 },
 "nbformat": 4,
 "nbformat_minor": 5
}
