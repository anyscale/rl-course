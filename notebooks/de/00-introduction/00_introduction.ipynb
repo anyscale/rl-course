{
 "cells": [
  {
   "cell_type": "markdown",
   "id": "15b89d29-6b6a-492d-9421-c3395dfd2020",
   "metadata": {},
   "source": [
    "## Einleitung\n",
    "<!-- video shot=\"/OSdFnBfDwT0\" start=\"00:10\" end=\"02:52\" -->\n",
    "\n",
    "Anmerkungen:\n",
    "\n",
    "Willkommen zu diesem Kurs!"
   ]
  },
  {
   "cell_type": "markdown",
   "id": "18e2222c-d00d-4c69-b86e-18560e51896d",
   "metadata": {},
   "source": [
    "#### Kursziel\n",
    "\n",
    "Am Ende dieses Kurses wirst du in der Lage sein, ein praktisches Problem in eine RL-Environment zu übertragen und dann RL anzuwenden, um eine Policy zu finden, die das Problem löst "
   ]
  },
  {
   "cell_type": "markdown",
   "id": "cc246420-7abf-4584-9d76-fbfb660c5ac9",
   "metadata": {},
   "source": [
    "#### Übersicht über den Kurs\n",
    "\n",
    "0. Einführung\n",
    "1. RL-Komponenten\n",
    "2. Ray RLlib\n",
    "3. Baue deine eigenen Environmenten\n",
    "4. Anwendungen für Empfehlungssysteme\n",
    "5. Unter der Haube"
   ]
  },
  {
   "cell_type": "markdown",
   "id": "df4dd879-8c05-4651-9dbd-a42ce1456a7a",
   "metadata": {},
   "source": [
    "#### Zielpublikum / Voraussetzungen\n",
    "\n",
    "Personen, die von diesem Kurs sehr profitieren können:\n",
    "\n",
    "- Ingenieure für maschinelles Lernen oder Datenwissenschaftler, die Reinforcement Learning (RL) anwenden wollen\n",
    "\n",
    "Vorausgesetztes Wissen:\n",
    "\n",
    "- Vertrautheit mit Python/numpy\n",
    "- Vertraut mit grundlegenden ML und Scikit-Learn\n",
    "\n",
    "Wünschenswert, aber nicht erforderlich:\n",
    "\n",
    "- Vertrautheit mit neuronalen Netzen\n",
    "\n",
    "Kenntnisse *NICHT* erforderlich:\n",
    "\n",
    "- Wenn du noch nie Ray benutzt hast (oder davon gehört hast), ist das in Ordnung\n",
    "- Wenn du noch nie RL benutzt hast, ist das auch in Ordnung\n",
    "- Anspruchsvolle Mathematik"
   ]
  },
  {
   "cell_type": "markdown",
   "id": "c66fb22e-ebef-4dfb-bcc3-4864edf5bdb4",
   "metadata": {
    "pycharm": {
     "name": "#%% md\n"
    }
   },
   "source": [
    "## Wann können wir RL verwenden?\n",
    "<!-- multiple choice -->\n",
    "\n",
    "Für welche der folgenden Probleme wäre RL geeignet?\n",
    "\n",
    "- [ ] Segmentierung deiner Kunden in verschiedene Gruppen\n",
    "- [ ] Vorhersage von Hauspreisen anhand von Hausmerkmalen\n",
    "- [x] Einen Roboter steuern\n",
    "- [ ] Erkennen, ob ein Bild einen Hund enthält\n",
    "\n"
   ]
  }
 ],
 "metadata": {
  "kernelspec": {
   "display_name": "Python [conda env:ray200]",
   "language": "python",
   "name": "conda-env-ray200-py"
  },
  "language_info": {
   "codemirror_mode": {
    "name": "ipython",
    "version": 3
   },
   "file_extension": ".py",
   "mimetype": "text/x-python",
   "name": "python",
   "nbconvert_exporter": "python",
   "pygments_lexer": "ipython3",
   "version": "3.9.13"
  }
 },
 "nbformat": 4,
 "nbformat_minor": 5
}
