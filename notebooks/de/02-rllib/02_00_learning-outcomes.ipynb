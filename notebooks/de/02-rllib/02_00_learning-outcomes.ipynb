{
 "cells": [
  {
   "cell_type": "markdown",
   "id": "18e2222c-d00d-4c69-b86e-18560e51896d",
   "metadata": {},
   "source": [
    "## Modul 2 Lernergebnisse"
   ]
  },
  {
   "cell_type": "markdown",
   "id": "9a4fb6d8-19f9-407a-9393-a99269afd577",
   "metadata": {},
   "source": [
    "#### Lernergebnisse des Moduls\n",
    "\n",
    "Am Ende dieses Moduls wirst du in der Lage sein:\n",
    "\n",
    "- RL-Probleme mit dem branchenführenden RL-Paket RLlib zu lösen\n",
    "- RLlib auf eine Vielzahl von RL-Problemen anwenden\n",
    "- Die Schnittstelle von RLlib und scikit-learn vergleichen und gegenüberstellen\n",
    "- RLlib-Algorithmen mit Hilfe von Konfigurationsobjekten konfigurieren\n",
    "- Trainierte RLlib-Agenten speichern und wiederherstellen"
   ]
  },
  {
   "cell_type": "markdown",
   "id": "f72b16f7-7bae-436d-b5db-a3a0f39dd52d",
   "metadata": {},
   "source": [
    "#### Los geht's mit Modul 2!"
   ]
  }
 ],
 "metadata": {
  "kernelspec": {
   "display_name": "Python [conda env:ray200]",
   "language": "python",
   "name": "conda-env-ray200-py"
  },
  "language_info": {
   "codemirror_mode": {
    "name": "ipython",
    "version": 3
   },
   "file_extension": ".py",
   "mimetype": "text/x-python",
   "name": "python",
   "nbconvert_exporter": "python",
   "pygments_lexer": "ipython3",
   "version": "3.9.13"
  }
 },
 "nbformat": 4,
 "nbformat_minor": 5
}
