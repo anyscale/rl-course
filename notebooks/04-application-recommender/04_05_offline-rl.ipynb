{
 "cells": [
  {
   "cell_type": "markdown",
   "id": "b5aa21ad-6bb9-4990-ab4d-fb9435b0bc00",
   "metadata": {},
   "source": [
    "## Baselines"
   ]
  },
  {
   "cell_type": "code",
   "execution_count": 9,
   "id": "204bbdb7-e15f-4e5c-be77-b58b39dd3dde",
   "metadata": {},
   "outputs": [],
   "source": [
    "# HIDDEN\n",
    "import gym\n",
    "import numpy as np"
   ]
  },
  {
   "cell_type": "markdown",
   "id": "ed6aff9a-c9c6-455a-a4ab-8dc488a15cf8",
   "metadata": {},
   "source": [
    "Try something not even RL?? then PPO and then Bandits."
   ]
  },
  {
   "cell_type": "markdown",
   "id": "8049ef58-4f5e-4116-abd7-4aad06f65ee0",
   "metadata": {},
   "source": [
    "https://docs.ray.io/en/latest/rllib/rllib-offline.html"
   ]
  },
  {
   "cell_type": "code",
   "execution_count": 18,
   "id": "8610f1a2-b704-4b22-aeba-3eb3826693e6",
   "metadata": {},
   "outputs": [],
   "source": [
    "json_output_file = \"data/out1/output-2022-07-14_09-56-03_worker-1_0.json\""
   ]
  },
  {
   "cell_type": "code",
   "execution_count": 23,
   "id": "2212796c-048a-4293-a2dc-de64faf98dbe",
   "metadata": {},
   "outputs": [],
   "source": [
    "from ray.rllib.agents.marwil import BCTrainer"
   ]
  },
  {
   "cell_type": "code",
   "execution_count": 24,
   "id": "cbdfb9f6-45b5-4918-ba14-cedcc5311689",
   "metadata": {},
   "outputs": [],
   "source": [
    "from envs import BasicRecommender"
   ]
  },
  {
   "cell_type": "code",
   "execution_count": 50,
   "id": "9e49c3ee-1e7b-4d7f-bedc-eedee084e2e5",
   "metadata": {},
   "outputs": [],
   "source": [
    "obs = \"\"\"BCJNGGhAwAYAAAAAAAA6wAYAgIAFlbUGAAAAAAAAjBJudW1weS5jb3JlLm51bWVyaWOUjAtfZnJvbWJ1ZmZlcpSTlCiWQAYAAAAAAABE4ZY+khK3PW97dz8Vpgw/8iMGP95UCz++jmE/XiYpPgcgrT6Icho/fObkPqq7FT/YvOg+8sRkP9dvFT/3EVU/+0/OPnZdAT5HdiY/qkPfPqCwWT+AUOc9ruhMPwNm2Dv6Fn8/NThUP3faUj9673I/Poz3Ph4cZT1IIBs/56YvPxP0Jj+v5Ms+//llPs5maD9FQPw9TJ0OPlqmET9uIos9EPeZPmnm5z7LBBo//P1VP2uqEj/K8fA+z05IPeFdOT0DFA8/adk7PeKZfD9IWN49HpUQPzgm2j32VV8/xKG8PhR/8T1xBTg8PmdNPsCJND/lYOY+SqRHPunAkT7r/I8+apY+P80LWj9iYEY/uo8vP8Bq1Tym3Ck/JtMMPy913z7Qg34/IMJUP9Biiz56y54+DGYeP1LGJz+G1wU+/DDGPl8E+z6j7O095c4zPz0Hbj/gXos+R8IRPtOhMz8K96c+Q7MXPq+47z7qtvg9LG6bPnqOEz1D/sU+Q+oqP4Zqaj9ccQU/Y1WfPnSbrj6MLZ8+kXCiPt2aWz4Gvzs/Hac2P3yuzj3TI08/K9pjPw9Zbj9gdjg/2h4TP6tl6D2VStI+KzxNPhYKVj9YNN8+V9nVPjq0RT81EBo/qstZP+/PCT8bGFE/BSbtPsI3Vj+XXm49KCgQP/T93j1xEA0+EhmgPgLU6D4sJUk/0vN6PxrxUT9Mb1g+BnA2P4rljT4Psm4+23HiPpCO9D4mOKM+F56MPi9aOT/4uAc+7Qk/PuIB4z7Tv28/CnVTP/YKKj4f300/4YDcPpzKPT5HpBs/uBIIP0Z2BT+usYA6OLzBPFmFIT+uU7I+12tyPzg9oz7QGIw+UyIKP3qnUz/H46Q+ePY4PS9mlD5pmf8+T95bP+X7cz/lM4w+KK50Py+tZT/moxo/gwo+Phvjdz9v5WU/Wb85PzREYz6Gtgs/j32wPm9aMz4ytTA/CTjWPlYvKj1Cqf0+aiUBP9oBuD05dx0/N8JdPwQvID9DGkI/nd2qPqnpBz5Tm3A/U09PPzjmZz/RzyE/lgWNPmjyID+6taU+4GzSPqWbrj4RWBU/DfUhPysiSz4VEcc9DJ06PzUVCD/BOHQ/kGtgP4CZYD8jrE8/ey05Pjqtsj5CoYk+P0xqP0S5Fj8G9yw/foIlPuBocj9k0p0+Eb4gPrUWUz4+hcw+FhlBPo6ePz/5pkE/oVluPqambT+r6Bs/xA0/P94Faz4l0uk+gk6rPrE/bD+poKw+5t87P6tfdj9h6VM/y59EPzmjnj5I+GI/AFkQP3jRqj7ANpk+zYzePfbgDD9GqWA+L9mhPt5DST+2YfA+8gEGP3utCz9T8SE/lPx/P+PzmT0RDlY+uF0ZPza5eD5m+Gw/pQ9MPjgSBj/tI1o/yhvYPjOY2D5JTu8+rrOAPeT8Nz5kQbM+2hniPl6e3j5DIg8/eMUqPQbBBT21iQ0/8F6PPE/wcD8SlFI/IlT3PnaJOD+42Gg/ntwKPy3ebT4Nfnc/aMl9P0lCkT6QR+M8sBMmP4ghYT80oCI/ZJPiPoIQSz8sAuo9r0AXP6z0tz4r00Y/zRDdPuYhYT56Kcs+GNtxP3oFJj8ZQUY+tKUVPqlOnz7ql8Q9f/L+PkSecz4rRYk9xPyiPjw2AT6ivWU/iA4MPuvUnD7t8Uo/jyDXPod0oT778Qw/SeCKPVa8FT/ukR8/rjunPigjLj9uFRI/BtEiP2x5uD7Flng/LQxEP1HIZD/oSXE/tB8DPkNiNT9LlcA+VHQxPpcj8z4fbR0/aNqMPd48dT88GfM9/rFqPxKe8z674SI/u01RPviCTz+yK2E+sV84P+185D79Ulw9lqpeP9XNjj66icE+JcsyPOVwqT5+Rto75WAZP2iNdz8MpMs+WCocPfkhEz/HKU0+NEk1P3GfaT/5PQQ/r3eqPn5nkT5LtRI/QW3HPpt1XT97h/I99l62PthWQj9CXvk+onRSP/PJFT+Y8C0/YAIqP8DDHj3PXEE/4DPAPU+g8T7E9M89f4UJP6LbUj/gN9k9wxR/P+Gwoj6P/hM/M1vhPoeHLz0KAD0/SzekPnwtNj9Wxks/4aNhP4ZPrz2jtUY/pXxdPmnM1z2dzfU+Qr6PPkIlBT8Ducg9lIwFbnVtcHmUjAVkdHlwZZSTlIwCZjSUiYiHlFKUKEsDjAE8lE5OTkr/////Sv////9LAHSUYkvISwKGlIwBQ5R0lFKULgAAAAA=\", \"new_obs\": \"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\"\"\""
   ]
  },
  {
   "cell_type": "code",
   "execution_count": 51,
   "id": "7b108d8b-eb6b-4dea-a4c8-8d8113f765dd",
   "metadata": {},
   "outputs": [],
   "source": [
    "import base64"
   ]
  },
  {
   "cell_type": "code",
   "execution_count": 54,
   "id": "83c47ad7-2e9e-492c-a2f7-5cbd7bee7ca6",
   "metadata": {},
   "outputs": [],
   "source": [
    "#base64.b64decode(obs)\n"
   ]
  },
  {
   "cell_type": "code",
   "execution_count": 57,
   "id": "7bea5937-5fc8-4bd8-9368-0450b132a4cd",
   "metadata": {},
   "outputs": [],
   "source": [
    "import ray.utils"
   ]
  },
  {
   "cell_type": "code",
   "execution_count": 60,
   "id": "b5fc1eb5-8bdf-4af1-80c7-b5fb7db4608c",
   "metadata": {},
   "outputs": [],
   "source": [
    "from ray.rllib.utils.compression import unpack, pack"
   ]
  },
  {
   "cell_type": "code",
   "execution_count": 62,
   "id": "3f1b7010-33e3-4316-bee9-3d7178acad54",
   "metadata": {},
   "outputs": [
    {
     "data": {
      "text/plain": [
       "(200, 2)"
      ]
     },
     "execution_count": 62,
     "metadata": {},
     "output_type": "execute_result"
    }
   ],
   "source": [
    "unpack(obs).shape"
   ]
  },
  {
   "cell_type": "code",
   "execution_count": 33,
   "id": "dd79971d-61bb-42ec-b691-2b60f3796a7c",
   "metadata": {},
   "outputs": [
    {
     "ename": "AttributeError",
     "evalue": "'str' object has no attribute 'decode'",
     "output_type": "error",
     "traceback": [
      "\u001b[0;31m---------------------------------------------------------------------------\u001b[0m",
      "\u001b[0;31mAttributeError\u001b[0m                            Traceback (most recent call last)",
      "Input \u001b[0;32mIn [33]\u001b[0m, in \u001b[0;36m<cell line: 1>\u001b[0;34m()\u001b[0m\n\u001b[0;32m----> 1\u001b[0m \u001b[43mobs\u001b[49m\u001b[38;5;241;43m.\u001b[39;49m\u001b[43mdecode\u001b[49m()\n",
      "\u001b[0;31mAttributeError\u001b[0m: 'str' object has no attribute 'decode'"
     ]
    }
   ],
   "source": [
    "obs."
   ]
  },
  {
   "cell_type": "code",
   "execution_count": 36,
   "id": "91e99557-dca4-48bb-9d43-a6c681234504",
   "metadata": {},
   "outputs": [],
   "source": [
    "Str = \"this is string example....wow!!!\";\n",
    "Str = Str.encode('utf-8','strict');"
   ]
  },
  {
   "cell_type": "code",
   "execution_count": 38,
   "id": "fa8c8eae-c3f6-4be4-9998-471abb7035b3",
   "metadata": {},
   "outputs": [
    {
     "data": {
      "text/plain": [
       "bytes"
      ]
     },
     "execution_count": 38,
     "metadata": {},
     "output_type": "execute_result"
    }
   ],
   "source": [
    "type(Str)"
   ]
  },
  {
   "cell_type": "code",
   "execution_count": 25,
   "id": "db7be4e3-588c-4f2d-a5e7-47e391d16fb4",
   "metadata": {},
   "outputs": [],
   "source": [
    "env_config = {\n",
    "    \"num_candidates\" : 2,\n",
    "    \"alpha\"          : 0.5,\n",
    "    \"seed\"           : 42\n",
    "}"
   ]
  },
  {
   "cell_type": "code",
   "execution_count": 63,
   "id": "56e22e98-6ca9-4c34-850e-488c4bb38db3",
   "metadata": {},
   "outputs": [],
   "source": [
    "env = BasicRecommender(env_config)\n",
    "\n",
    "# trainer_config = {\n",
    "#     \"lr\"                    : 0.001,\n",
    "#     \"model\"                 : {\n",
    "#         \"fcnet_hiddens\"     : [64, 64]\n",
    "#     },\n",
    "#     \"env_config\"            : env_config\n",
    "# }\n",
    "\n",
    "# Configuring the BCTrainer:\n",
    "offline_rl_config = {\n",
    "    \"framework\"             : \"torch\",\n",
    "    \"create_env_on_driver\"  : True,\n",
    "    \"seed\"                  : 0,\n",
    "    \"env_config\" : env_config,\n",
    "\n",
    "    # Specify your offline RL algo's historic (JSON) inputs:\n",
    "    \"input\": [json_output_file],\n",
    "    \"actions_in_input_normalized\": True,\n",
    "    # Note: For non-offline RL algos, this is set to \"sampler\" by default.\n",
    "    #\"input\": \"sampler\",\n",
    "\n",
    "    # Since we don't have an environment and the obs/action-spaces are not defined in the JSON file,\n",
    "    # we need to provide these here manually.\n",
    "    \"env\": None,  # default\n",
    "    \"observation_space\": env.observation_space,\n",
    "    \"action_space\": env.action_space,\n",
    "\n",
    "    # Perform \"off-policy estimation\" (OPE) on train batches and report results.\n",
    "    \"input_evaluation\": [\"is\", \"wis\"],\n",
    "}"
   ]
  },
  {
   "cell_type": "code",
   "execution_count": 64,
   "id": "4fb3a4ac-0c14-4d82-842e-a473eba4f3e0",
   "metadata": {},
   "outputs": [],
   "source": [
    "# Create a behavior cloning (BC) Trainer from our config.\n",
    "bc_trainer = BCTrainer(config=offline_rl_config)"
   ]
  },
  {
   "cell_type": "code",
   "execution_count": 66,
   "id": "1697d5d2-4d40-4868-9a70-a3c05adf0b92",
   "metadata": {},
   "outputs": [],
   "source": [
    "out = bc_trainer.train()"
   ]
  },
  {
   "cell_type": "code",
   "execution_count": null,
   "id": "13219285-d8fa-428b-b677-21dd6566a32a",
   "metadata": {},
   "outputs": [],
   "source": []
  }
 ],
 "metadata": {
  "kernelspec": {
   "display_name": "Python [conda env:rl-course-dev-2]",
   "language": "python",
   "name": "conda-env-rl-course-dev-2-py"
  },
  "language_info": {
   "codemirror_mode": {
    "name": "ipython",
    "version": 3
   },
   "file_extension": ".py",
   "mimetype": "text/x-python",
   "name": "python",
   "nbconvert_exporter": "python",
   "pygments_lexer": "ipython3",
   "version": "3.8.13"
  }
 },
 "nbformat": 4,
 "nbformat_minor": 5
}
