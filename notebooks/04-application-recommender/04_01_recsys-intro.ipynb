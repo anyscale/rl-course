{
 "cells": [
  {
   "cell_type": "markdown",
   "id": "b5aa21ad-6bb9-4990-ab4d-fb9435b0bc00",
   "metadata": {},
   "source": [
    "## Intro to recommender systems\n",
    "<!-- video shot=\"/5h3tuhOwevM\" start=\"00:35\" end=\"03:35\" -->"
   ]
  },
  {
   "cell_type": "markdown",
   "id": "815cecfb-6ed2-4522-a83d-29de9c4a8792",
   "metadata": {},
   "source": [
    "#### Recommender systems\n",
    "\n",
    "In this module we'll consider the application of _recommender systems_."
   ]
  },
  {
   "cell_type": "code",
   "execution_count": 2,
   "id": "9e6e80a5-0f7b-4924-9d41-7c8305d304e7",
   "metadata": {},
   "outputs": [],
   "source": [
    "# TODO\n",
    "# add pictures\n",
    "# this is pretty boring temporarily\n",
    "# make this one short"
   ]
  },
  {
   "cell_type": "markdown",
   "id": "3b9ea003-8011-4799-a641-147e0e816cf4",
   "metadata": {},
   "source": [
    "#### Recommender systems\n",
    "\n",
    "Examples of recommender systems include:\n",
    "\n",
    "- Video recommendations (e.g. YouTube, Netflix)\n",
    "- Online shopping recommendations (e.g. Amazon)\n",
    "- Any other content recommendations you might encounter, that are personalized to a user"
   ]
  },
  {
   "cell_type": "markdown",
   "id": "651525e7-a5ea-47d8-8d33-c00d5e8abfce",
   "metadata": {},
   "source": [
    "#### Recommender environment\n",
    "\n",
    "- In a simple recommender system setup, we consider only one time step:\n",
    "  - What should I recommend to this user?\n",
    "- We can address this with supervised or unsupervised learning methods (e.g. [collaborative filtering](https://en.wikipedia.org/wiki/Collaborative_filtering))\n",
    "- However, in reality we interact with a user repeatedly over time.\n",
    "  - We can approach this with RL!"
   ]
  },
  {
   "cell_type": "markdown",
   "id": "eea28cf7-7bfa-46a7-87f7-74cf3893d27d",
   "metadata": {},
   "source": [
    "#### Complexities\n",
    "\n",
    "Recommender systems are complex in many, many ways. For example:\n",
    "\n",
    "- User relationships\n",
    "- New users/items\n",
    "- Data sources\n",
    "- Data size\n",
    "- Slate recommendations\n",
    "- **User's mood/mindset**\n",
    "\n",
    "Notes:\n",
    "\n",
    "- Do we treat users individually or learn about users based on other users?\n",
    "- How to deal with new users or new items (e.g. TV shows) that just arrived?\n",
    "- What data sources do we use to learn about users, items, and their interactions?\n",
    "- How do we deal with the huge data size (potentially millions+ of users/items)\n",
    "- What if we want to recommend multiple items at the same time?\n",
    "- **How do we account for the user's mood/mindset, and how this drifts over time?**"
   ]
  },
  {
   "cell_type": "markdown",
   "id": "a0af9012-7aec-423a-b272-703452bb39f7",
   "metadata": {},
   "source": [
    "#### RL recommender setup\n",
    "\n",
    "- If we have 10 million items, the RL action space would be 10 million options.\n",
    "- This is too large to be feasible.\n",
    "- When using RL for recommenders, we'll use some other method to pre-select some candidates, and then apply the RL. \n",
    "- Therefore, we'll work with small numbers of candidates."
   ]
  },
  {
   "cell_type": "markdown",
   "id": "ca012ec2-9ce1-4e98-92d0-bf239a4bcb13",
   "metadata": {},
   "source": [
    "#### RL training\n",
    "\n",
    "- The real system here has humans in the loop (selecting from recommended items).\n",
    "- However, this would be complex, slow, expensive, and potentially make bad recommendations.\n",
    "- Therefore, as in common in RL, we'll build a _simulator_ (env).\n",
    "- Later, we'll also consider learning from user behavior data when a simulator is not available."
   ]
  },
  {
   "cell_type": "markdown",
   "id": "a065884d-1c9e-4815-985a-91f6faadf40e",
   "metadata": {
    "jp-MarkdownHeadingCollapsed": true,
    "tags": []
   },
   "source": [
    "#### Let's apply what we learned!"
   ]
  },
  {
   "cell_type": "markdown",
   "id": "2eebcdd6-e039-4162-bb40-045879282931",
   "metadata": {},
   "source": [
    "## Benefits of RL for recommendations\n",
    "<!-- multiple choice -->\n",
    "\n",
    "What is the main benefit of using RL for a recommender system, rather than more traditional methods like collaborative filtering?\n",
    "\n",
    "- [ ] RL is more scalable to big data sets than supervised or unsupervised learning.\n",
    "- [ ] RL allows us to work with discrete action spaces, like choosing which item to recommend.\n",
    "- [x] RL allows us to account for sequential recommendations, where rewards depend on the history of actions.\n",
    "- [ ] RL is the only option when it comes to recommender systems."
   ]
  },
  {
   "cell_type": "markdown",
   "id": "022719e4-f05f-4082-b434-0462ee1adc64",
   "metadata": {},
   "source": [
    "## Drawbacks of RL for recommendations\n",
    "<!-- multiple choice -->\n",
    "\n",
    "What is a drawback of using RL for a recommender system, as compared to more traditional methods like collaborative filtering?\n",
    "\n",
    "- [ ] Supervised and unsupervised methods have not been thoroughly developed for recommender applications.\n",
    "- [x] RL struggles to scale up to large action spaces. | You got it.\n",
    "- [ ] RL can only be used if you have a simulator/env. | By the end of this module, you'll learn another approach!\n",
    "- [ ] Industrial-strength open source software is not available for RL. | Wait a minute... what about RLlib?!"
   ]
  },
  {
   "cell_type": "markdown",
   "id": "74454c2d-e4ac-4dbf-88b5-b4a3a5d45ac0",
   "metadata": {},
   "source": [
    "## Recommender systems difficulty\n",
    "<!-- multiple choice -->\n",
    "\n",
    "True or false: recommender systems are an easy domain to solve, without too many complexities.\n",
    "\n",
    "- [ ] True\n",
    "- [x] False!\n"
   ]
  }
 ],
 "metadata": {
  "kernelspec": {
   "display_name": "Python [conda env:ray200]",
   "language": "python",
   "name": "conda-env-ray200-py"
  },
  "language_info": {
   "codemirror_mode": {
    "name": "ipython",
    "version": 3
   },
   "file_extension": ".py",
   "mimetype": "text/x-python",
   "name": "python",
   "nbconvert_exporter": "python",
   "pygments_lexer": "ipython3",
   "version": "3.9.13"
  }
 },
 "nbformat": 4,
 "nbformat_minor": 5
}
