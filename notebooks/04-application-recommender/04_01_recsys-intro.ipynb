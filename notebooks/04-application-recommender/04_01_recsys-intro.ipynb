{
 "cells": [
  {
   "cell_type": "markdown",
   "id": "b5aa21ad-6bb9-4990-ab4d-fb9435b0bc00",
   "metadata": {},
   "source": [
    "## Intro to recommender systems"
   ]
  },
  {
   "cell_type": "markdown",
   "id": "815cecfb-6ed2-4522-a83d-29de9c4a8792",
   "metadata": {},
   "source": [
    "#### Recommender systems\n",
    "\n",
    "In this module we'll consider the application of _recommender systems_."
   ]
  },
  {
   "cell_type": "code",
   "execution_count": 2,
   "id": "9e6e80a5-0f7b-4924-9d41-7c8305d304e7",
   "metadata": {},
   "outputs": [],
   "source": [
    "# TODO\n",
    "# add pictures\n",
    "# this is pretty boring temporarily\n",
    "# make this one short"
   ]
  },
  {
   "cell_type": "markdown",
   "id": "3b9ea003-8011-4799-a641-147e0e816cf4",
   "metadata": {},
   "source": [
    "#### Recommender systems\n",
    "\n",
    "Examples of recommender systems include:\n",
    "\n",
    "- Video recommendations (e.g. YouTube, Netflix)\n",
    "- Online shopping recommendations (e.g. Amazon)\n",
    "- Any other content recommendations you might encounter, that are personalized to a user"
   ]
  },
  {
   "cell_type": "markdown",
   "id": "651525e7-a5ea-47d8-8d33-c00d5e8abfce",
   "metadata": {},
   "source": [
    "#### Recommender environment\n",
    "\n",
    "- In a simple recommender system setup, we consider only one time step:\n",
    "  - What should I recommend to this user?\n",
    "- We can address this with supervised or unsupervised learning methods (e.g. [collaborative filtering](https://en.wikipedia.org/wiki/Collaborative_filtering))\n",
    "- However, in reality we interact with a user repeatedly over time.\n",
    "  - We can approach this with RL!"
   ]
  },
  {
   "cell_type": "markdown",
   "id": "f9b3642b-ad42-40db-9c28-cc710b8f4354",
   "metadata": {},
   "source": [
    "#### Complexities\n",
    "\n",
    "Recommender systems are complex in many, many ways. For example:\n",
    "\n",
    "- Do we treat users individually or learn about users based on other users?\n",
    "- How to deal with new users or new items (e.g. TV shows) that just arrived?\n",
    "- What data sources do we use to learn about users, items, and their interactions?\n",
    "- How do we deal with the huge data size (potentially millions+ of users/items)\n",
    "- How do we account for the user's mood/mindset, and how this drifts over time?\n",
    "- What if we want to recommend multiple items at the same time?"
   ]
  },
  {
   "cell_type": "markdown",
   "id": "eea28cf7-7bfa-46a7-87f7-74cf3893d27d",
   "metadata": {},
   "source": [
    "#### Complexities\n",
    "\n",
    "Recommender systems are complex in many, many ways. For example:\n",
    "\n",
    "- Do we treat users individually or learn about users based on other users?\n",
    "- How to deal with new users or new items (e.g. TV shows) that just arrived?\n",
    "- What data sources do we use to learn about users, items, and their interactions?\n",
    "- How do we deal with the huge data size (potentially millions+ of users/items)\n",
    "- **How do we account for the user's mood/mindset, and how this drifts over time?**\n",
    "- **What if we want to recommend multiple items at the same time?**"
   ]
  },
  {
   "cell_type": "markdown",
   "id": "a0af9012-7aec-423a-b272-703452bb39f7",
   "metadata": {},
   "source": [
    "#### RL recommender setup\n",
    "\n",
    "- If we have 10 million items, the RL action space would be 10 million options.\n",
    "- This is too large to be feasible.\n",
    "- When using RL for recommenders, we'll use some other method to pre-select some candidates, and then apply the RL. \n",
    "- Therefore, we'll work with small numbers of candidates."
   ]
  },
  {
   "cell_type": "markdown",
   "id": "ca012ec2-9ce1-4e98-92d0-bf239a4bcb13",
   "metadata": {},
   "source": [
    "#### RL training\n",
    "\n",
    "- The real system here has humans in the loop (selecting from recommended items).\n",
    "- However, this would be complex, slow, expensive, and potentially make bad recommendations.\n",
    "- Therefore, as in common in RL, we'll build a _simulator_.\n",
    "- Later, we'll also consider learning from user behavior data."
   ]
  },
  {
   "cell_type": "markdown",
   "id": "798a91f3-9319-42c3-bb19-d24533df4368",
   "metadata": {},
   "source": [
    "#### Our simulator environment"
   ]
  },
  {
   "cell_type": "code",
   "execution_count": 1,
   "id": "a1205e29-2cb5-4c77-aaf9-62d04952edcc",
   "metadata": {},
   "outputs": [],
   "source": [
    "# HIDDEN\n",
    "from envs import SlateRecommender"
   ]
  },
  {
   "cell_type": "code",
   "execution_count": 2,
   "id": "6ce536ce-3411-4faa-88a5-a1ecb9171d54",
   "metadata": {},
   "outputs": [],
   "source": [
    "env = SlateRecommender()"
   ]
  },
  {
   "cell_type": "code",
   "execution_count": 4,
   "id": "c9fc30bc-09c7-480b-990c-efb4d0203878",
   "metadata": {},
   "outputs": [
    {
     "data": {
      "text/plain": [
       "array([0.2105833 , 0.60410827, 0.51134207, 0.75196898, 0.90220815,\n",
       "       0.40286872, 0.34402952, 0.08004007, 0.21685117, 0.62273069])"
      ]
     },
     "execution_count": 4,
     "metadata": {},
     "output_type": "execute_result"
    }
   ],
   "source": [
    "env.reset()"
   ]
  },
  {
   "cell_type": "code",
   "execution_count": 5,
   "id": "9c5dec4c-239b-4def-93e1-416ec087d6ac",
   "metadata": {},
   "outputs": [
    {
     "data": {
      "text/plain": [
       "(array([0.90168038, 0.48215267, 0.82335164, 0.77497286, 0.37003972,\n",
       "        0.17257607, 0.44149993, 0.56984513, 0.59861252, 0.87051784]),\n",
       " 0.21058330160784544,\n",
       " False,\n",
       " {'sugar_level': 0.1803360760135326})"
      ]
     },
     "execution_count": 5,
     "metadata": {},
     "output_type": "execute_result"
    }
   ],
   "source": [
    "env.step(0)"
   ]
  },
  {
   "cell_type": "code",
   "execution_count": 6,
   "id": "bf2e5080-5ebc-4864-93ff-3decfc8f8afd",
   "metadata": {},
   "outputs": [],
   "source": [
    "# TODO: get images from Sven"
   ]
  },
  {
   "cell_type": "code",
   "execution_count": null,
   "id": "03adc875-6f91-4686-943f-67d7fdf9075a",
   "metadata": {},
   "outputs": [],
   "source": []
  }
 ],
 "metadata": {
  "kernelspec": {
   "display_name": "Python [conda env:rl-course-dev-2]",
   "language": "python",
   "name": "conda-env-rl-course-dev-2-py"
  },
  "language_info": {
   "codemirror_mode": {
    "name": "ipython",
    "version": 3
   },
   "file_extension": ".py",
   "mimetype": "text/x-python",
   "name": "python",
   "nbconvert_exporter": "python",
   "pygments_lexer": "ipython3",
   "version": "3.8.13"
  }
 },
 "nbformat": 4,
 "nbformat_minor": 5
}
