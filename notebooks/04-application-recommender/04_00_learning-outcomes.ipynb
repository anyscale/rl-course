{
 "cells": [
  {
   "cell_type": "markdown",
   "id": "18e2222c-d00d-4c69-b86e-18560e51896d",
   "metadata": {},
   "source": [
    "## Module 4 Learning Outcomes"
   ]
  },
  {
   "cell_type": "markdown",
   "id": "9a878f79-7a09-45cc-bbde-c1f3e4626b78",
   "metadata": {},
   "source": [
    "#### Module Learning Outcomes\n",
    "\n",
    "By the end of this module, you will be able to:\n",
    "\n",
    "- Apply RL to a recommender system task\n",
    "- look at training curve?\n",
    "- hmm..."
   ]
  },
  {
   "cell_type": "markdown",
   "id": "f847e29d-4776-40b1-8dd4-ae8e51f11483",
   "metadata": {},
   "source": [
    "#### Let's start Module 4!"
   ]
  },
  {
   "cell_type": "markdown",
   "id": "96d7870f-53cc-41df-b676-74a52c035dbe",
   "metadata": {},
   "source": []
  }
 ],
 "metadata": {
  "kernelspec": {
   "display_name": "Python [conda env:rl-course]",
   "language": "python",
   "name": "conda-env-rl-course-py"
  },
  "language_info": {
   "codemirror_mode": {
    "name": "ipython",
    "version": 3
   },
   "file_extension": ".py",
   "mimetype": "text/x-python",
   "name": "python",
   "nbconvert_exporter": "python",
   "pygments_lexer": "ipython3",
   "version": "3.8.13"
  }
 },
 "nbformat": 4,
 "nbformat_minor": 5
}
