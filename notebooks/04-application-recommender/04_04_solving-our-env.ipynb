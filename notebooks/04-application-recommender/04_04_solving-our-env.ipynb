{
 "cells": [
  {
   "cell_type": "markdown",
   "id": "b5aa21ad-6bb9-4990-ab4d-fb9435b0bc00",
   "metadata": {
    "tags": []
   },
   "source": [
    "## Solving the environment"
   ]
  },
  {
   "cell_type": "markdown",
   "id": "f9dbe4bc-2f0d-4d83-82c9-bd51bcde1e53",
   "metadata": {},
   "source": [
    "- ALSO: this might be a great example to try supervised learning and show why it doesn't work...???\n",
    "  - in some ways this is a way better example than frozen lake... because there IS a short-term reward, it's just not what you should look at.\n",
    "  - with frozen lake there is no short-term reward, so RL seems \"obvious\"\n"
   ]
  },
  {
   "cell_type": "markdown",
   "id": "7b9d2405-214c-47dd-a59f-c95ab1ba2c78",
   "metadata": {},
   "source": [
    "- REWARD SHAPING 2 types:\n",
    "  - help it learn\n",
    "  - actually change what you care about\n",
    "- examples here: ethical recommendations\n",
    "- some sort of total reward for the whole episode, not interim rewards\n",
    "- other stuff"
   ]
  },
  {
   "cell_type": "code",
   "execution_count": 1,
   "id": "175f11b9-513b-4f5f-8350-c36b722e30ca",
   "metadata": {},
   "outputs": [],
   "source": [
    "from ray import tune\n",
    "from envs import BasicRecommender"
   ]
  },
  {
   "cell_type": "code",
   "execution_count": 7,
   "id": "3c9367a9-f38f-4e78-b8e1-cf4e16e777a6",
   "metadata": {},
   "outputs": [],
   "source": [
    "from ray.rllib.agents.ppo import PPOTrainer\n",
    "from envs import BasicRecommender"
   ]
  },
  {
   "cell_type": "code",
   "execution_count": 8,
   "id": "4d2519c1-ff1f-4c32-a190-01ef17a17d51",
   "metadata": {},
   "outputs": [],
   "source": [
    "env_config = {\n",
    "    \"num_candidates\" : 2,\n",
    "    \"alpha\"          : 0.5,\n",
    "    \"seed\"           : 42\n",
    "}\n",
    "\n",
    "trainer_config = {\n",
    "    \"framework\"             : \"torch\",\n",
    "    \"create_env_on_driver\"  : True,\n",
    "    \"seed\"                  : 0,\n",
    "    \"lr\"                    : 0.001,\n",
    "    \"model\"                 : {\n",
    "        \"fcnet_hiddens\"     : [64, 64]\n",
    "    },\n",
    "    \"env_config\"            : env_config,\n",
    "    \"output\"                : \"./data/out1\",\n",
    "    \"output_max_file_size\"  : 5000000\n",
    "}"
   ]
  },
  {
   "cell_type": "code",
   "execution_count": 9,
   "id": "8319fd62-90cb-47cb-b037-dfc1711cf2a5",
   "metadata": {},
   "outputs": [
    {
     "name": "stderr",
     "output_type": "stream",
     "text": [
      "2022-07-14 09:55:54,398\tINFO ppo.py:249 -- In multi-agent mode, policies will be optimized sequentially by the multi-GPU optimizer. Consider setting simple_optimizer=True if this doesn't work for you.\n",
      "2022-07-14 09:55:54,400\tINFO trainer.py:779 -- Current log_level is WARN. For more information, set 'log_level': 'INFO' / 'DEBUG' or use the -v and -vv flags.\n"
     ]
    }
   ],
   "source": [
    "trainer = PPOTrainer(trainer_config, env=BasicRecommender)"
   ]
  },
  {
   "cell_type": "code",
   "execution_count": 10,
   "id": "2b02226a-324e-4b4d-a637-e3ba2ccc1686",
   "metadata": {},
   "outputs": [],
   "source": [
    "for i in range(5):\n",
    "    trainer.train()\n"
   ]
  }
 ],
 "metadata": {
  "kernelspec": {
   "display_name": "Python [conda env:rl-course-dev-2]",
   "language": "python",
   "name": "conda-env-rl-course-dev-2-py"
  },
  "language_info": {
   "codemirror_mode": {
    "name": "ipython",
    "version": 3
   },
   "file_extension": ".py",
   "mimetype": "text/x-python",
   "name": "python",
   "nbconvert_exporter": "python",
   "pygments_lexer": "ipython3",
   "version": "3.8.13"
  }
 },
 "nbformat": 4,
 "nbformat_minor": 5
}
