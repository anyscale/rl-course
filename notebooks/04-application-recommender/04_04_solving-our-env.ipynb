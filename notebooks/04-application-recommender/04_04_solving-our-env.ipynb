{
 "cells": [
  {
   "cell_type": "markdown",
   "id": "b5aa21ad-6bb9-4990-ab4d-fb9435b0bc00",
   "metadata": {
    "tags": []
   },
   "source": [
    "## Solving the environment"
   ]
  },
  {
   "cell_type": "markdown",
   "id": "f9dbe4bc-2f0d-4d83-82c9-bd51bcde1e53",
   "metadata": {},
   "source": [
    "- ALSO: this might be a great example to try supervised learning and show why it doesn't work...???\n",
    "  - in some ways this is a way better example than frozen lake... because there IS a short-term reward, it's just not what you should look at.\n",
    "  - with frozen lake there is no short-term reward, so RL seems \"obvious\"\n"
   ]
  },
  {
   "cell_type": "markdown",
   "id": "7b9d2405-214c-47dd-a59f-c95ab1ba2c78",
   "metadata": {},
   "source": [
    "- REWARD SHAPING 2 types:\n",
    "  - help it learn\n",
    "  - actually change what you care about\n",
    "- examples here: ethical recommendations\n",
    "- some sort of total reward for the whole episode, not interim rewards\n",
    "- other stuff"
   ]
  },
  {
   "cell_type": "code",
   "execution_count": null,
   "id": "175f11b9-513b-4f5f-8350-c36b722e30ca",
   "metadata": {},
   "outputs": [],
   "source": []
  }
 ],
 "metadata": {
  "kernelspec": {
   "display_name": "Python [conda env:rl-course]",
   "language": "python",
   "name": "conda-env-rl-course-py"
  },
  "language_info": {
   "codemirror_mode": {
    "name": "ipython",
    "version": 3
   },
   "file_extension": ".py",
   "mimetype": "text/x-python",
   "name": "python",
   "nbconvert_exporter": "python",
   "pygments_lexer": "ipython3",
   "version": "3.8.13"
  }
 },
 "nbformat": 4,
 "nbformat_minor": 5
}
