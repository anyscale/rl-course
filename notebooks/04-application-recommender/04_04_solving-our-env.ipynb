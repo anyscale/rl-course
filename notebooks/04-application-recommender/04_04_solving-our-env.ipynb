{
 "cells": [
  {
   "cell_type": "markdown",
   "id": "b5aa21ad-6bb9-4990-ab4d-fb9435b0bc00",
   "metadata": {
    "tags": []
   },
   "source": [
    "## Solving the environment"
   ]
  },
  {
   "cell_type": "code",
   "execution_count": 2,
   "id": "0469451f-c20b-4ac9-a4e2-6c4b7b14db25",
   "metadata": {},
   "outputs": [],
   "source": [
    "# HIDDEN\n",
    "import gym\n",
    "import numpy as np"
   ]
  },
  {
   "cell_type": "markdown",
   "id": "4a06eaf2-e15f-4abd-b851-368e3f896df0",
   "metadata": {},
   "source": [
    "#### Solving with RLlib\n",
    "\n",
    "- Let's see if we can do better than 25.5 with RLlib.\n",
    "- We'll set up a config file for our RLlib trainer as usual."
   ]
  },
  {
   "cell_type": "code",
   "execution_count": 28,
   "id": "48df6ba8-4032-4db8-988d-606cceb4f2a0",
   "metadata": {},
   "outputs": [],
   "source": [
    "trainer_config = {\n",
    "    \"framework\"             : \"torch\",\n",
    "    \"create_env_on_driver\"  : True,\n",
    "    \"seed\"                  : 0,\n",
    "    \"lr\"                    : 0.001,\n",
    "    \"model\"                 : {\n",
    "        \"fcnet_hiddens\"     : [64, 64]\n",
    "    },\n",
    "    \"env_config\"            : env_config\n",
    "}"
   ]
  },
  {
   "cell_type": "markdown",
   "id": "b53bda44-5950-4c55-b618-26de92f5834a",
   "metadata": {},
   "source": [
    "- The `\"lr\"` parameter sets the learning rate. \n",
    "- We'll set `\"fcnet_hiddens\"` as in the previous module.\n",
    "- `\"env_config\"` passed info about the environment.\n",
    "\n",
    "Notes:\n",
    "\n",
    "We found 0.001 to work a bit better than the default of 0.0001.\n",
    "As in the previous module, we'll set the neural network architecture to be smaller than the default, so that the code runs a bit faster.\n",
    "See how we pass the environment config into the broader RLlib algorithm config. RLlib will pass it on to the environment for us."
   ]
  },
  {
   "cell_type": "markdown",
   "id": "fb50a673-3138-43ad-bc27-f26462e5723e",
   "metadata": {},
   "source": [
    "#### Solving with RLlib\n",
    "\n",
    "Next, we set up our trainer:"
   ]
  },
  {
   "cell_type": "code",
   "execution_count": 29,
   "id": "0f8a9a66-f402-41f8-9577-71b602f010a5",
   "metadata": {},
   "outputs": [],
   "source": [
    "from ray.rllib.agents.ppo import PPOTrainer"
   ]
  },
  {
   "cell_type": "code",
   "execution_count": 30,
   "id": "28c41556-1c05-48d6-a489-337172bd0a5e",
   "metadata": {},
   "outputs": [],
   "source": [
    "trainer = PPOTrainer(trainer_config, env=BasicRecommender)"
   ]
  },
  {
   "cell_type": "markdown",
   "id": "785eb327-e60a-45af-b0bc-eb6f6cdedb8b",
   "metadata": {},
   "source": [
    "And then we train for 25 iterations:"
   ]
  },
  {
   "cell_type": "code",
   "execution_count": 31,
   "id": "452f27a7-49ee-4d9c-9f0a-7c8ed3983d1c",
   "metadata": {},
   "outputs": [],
   "source": [
    "rewards = []\n",
    "for i in range(25):\n",
    "    result = trainer.train()\n",
    "    rewards.append(result[\"episode_reward_mean\"])"
   ]
  },
  {
   "cell_type": "markdown",
   "id": "aae270a6-e942-48c6-a2b4-9b6bf9878343",
   "metadata": {},
   "source": [
    "Finally, we print out the average episode reward over 1000 episodes:"
   ]
  },
  {
   "cell_type": "code",
   "execution_count": 32,
   "id": "2d32a2ce-7367-42b3-b08a-1481a9000b43",
   "metadata": {},
   "outputs": [],
   "source": [
    "# HIDDEN\n",
    "np.random.seed(1)"
   ]
  },
  {
   "cell_type": "code",
   "execution_count": 33,
   "id": "0772f8bb-6b15-46d1-b931-662d2b0eea4b",
   "metadata": {},
   "outputs": [
    {
     "data": {
      "text/plain": [
       "25.443062399127108"
      ]
     },
     "execution_count": 33,
     "metadata": {},
     "output_type": "execute_result"
    }
   ],
   "source": [
    "trainer.evaluate(duration_fn=1000)[\"evaluation\"][\"episode_reward_mean\"]"
   ]
  },
  {
   "cell_type": "markdown",
   "id": "89a1e896-4016-42fa-96a7-ea3fd894687f",
   "metadata": {},
   "source": [
    "Hmm....\n",
    "\n",
    "Notes:\n",
    "\n",
    "The results look underwhelming here. They are about the same as the random agent."
   ]
  },
  {
   "cell_type": "markdown",
   "id": "2bb719ef-6c12-4766-8b85-2c97b3a89a04",
   "metadata": {},
   "source": [
    "#### Is the agent learning?\n",
    "\n",
    "We can try plotting the reward across training iterations:"
   ]
  },
  {
   "cell_type": "code",
   "execution_count": 34,
   "id": "ddc408e7-9b87-48ee-a64d-d7943033c601",
   "metadata": {},
   "outputs": [],
   "source": [
    "# HIDDEN\n",
    "import matplotlib.pyplot as plt\n",
    "plt.rcParams['font.size'] = 16"
   ]
  },
  {
   "cell_type": "code",
   "execution_count": 35,
   "id": "32f171b6-d80c-4aa1-864c-5a2daeb21530",
   "metadata": {},
   "outputs": [
    {
     "data": {
      "image/png": "[encoded data removed]",
      "text/plain": [
       "<Figure size 432x288 with 1 Axes>"
      ]
     },
     "metadata": {
      "needs_background": "light"
     },
     "output_type": "display_data"
    }
   ],
   "source": [
    "plt.plot(rewards);\n",
    "plt.xlabel(\"Iterations\");\n",
    "plt.ylabel(\"Episode Reward\");"
   ]
  },
  {
   "cell_type": "markdown",
   "id": "03a1812b-e5be-40ba-935b-11b3839fa87f",
   "metadata": {},
   "source": [
    "- It looks like learning is not happening very effectively here.\n",
    "- And we don't do better than random (25.5)."
   ]
  },
  {
   "cell_type": "markdown",
   "id": "0cc79a0d-efbb-4571-872e-7de34494f0a3",
   "metadata": {},
   "source": [
    "#### What is this agent doing?\n",
    "\n",
    "- As in the previous module, we can check out what the agent is doing:"
   ]
  },
  {
   "cell_type": "code",
   "execution_count": 36,
   "id": "0397ef50-e3c4-4bac-b5d5-0f076ce0d515",
   "metadata": {},
   "outputs": [],
   "source": [
    "# HIDDEN\n",
    "from utils import query_policy"
   ]
  },
  {
   "cell_type": "code",
   "execution_count": 37,
   "id": "875fd99f-dc67-4f5a-a10b-ff32ab263fc3",
   "metadata": {},
   "outputs": [
    {
     "data": {
      "text/plain": [
       "array([0.29418236, 0.70581764], dtype=float32)"
      ]
     },
     "execution_count": 37,
     "metadata": {},
     "output_type": "execute_result"
    }
   ],
   "source": [
    "query_policy(trainer, env, np.array([0,1]), actions=[0,1])"
   ]
  },
  {
   "cell_type": "code",
   "execution_count": 38,
   "id": "439cfe4d-581f-4d9f-8356-013747252db5",
   "metadata": {},
   "outputs": [
    {
     "data": {
      "text/plain": [
       "array([0.9087891, 0.0912109], dtype=float32)"
      ]
     },
     "execution_count": 38,
     "metadata": {},
     "output_type": "execute_result"
    }
   ],
   "source": [
    "query_policy(trainer, env, np.array([1,0]), actions=[0,1])"
   ]
  },
  {
   "cell_type": "markdown",
   "id": "3a62eb71-c97a-488b-b2ed-e5e69e1a1d86",
   "metadata": {},
   "source": [
    "The agent chooses candy 70% of the time and veggies 30% of the time.\n",
    "\n",
    "Notes: \n",
    "\n",
    "First, we are passing in the observation [0,1], meaning the first item is veggies and the second is candy. We see the corresponding action probabilities 29% and 71%. Then we try switching the order of the items, hence [0,1]. We expect something roughly symmetrical, though the symmetry is not exact, due to arbitrary/random effects in the simulation and the RL training."
   ]
  },
  {
   "cell_type": "markdown",
   "id": "bf227270-90c7-4961-8479-2b3bc3942a33",
   "metadata": {},
   "source": [
    "#### Discount factor\n",
    "\n",
    "- The agent is a bit more \"greedy\" than random - it takes candy more often. Why?\n",
    "- During RL training, we don't actually maximize total reward.\n",
    "- We maximize total _discounted_ reward.\n",
    "- That is, for episodes of length 100,\n",
    "\n",
    "![](img/discounted_reward.png)\n",
    "\n",
    "- The default value for PPO in RLlib is 0.99:"
   ]
  },
  {
   "cell_type": "code",
   "execution_count": 55,
   "id": "2fcb906d-5e7d-45b7-82f3-cfb28513a7ab",
   "metadata": {},
   "outputs": [
    {
     "data": {
      "text/plain": [
       "0.99"
      ]
     },
     "execution_count": 55,
     "metadata": {},
     "output_type": "execute_result"
    }
   ],
   "source": [
    "trainer.config[\"gamma\"]"
   ]
  },
  {
   "cell_type": "markdown",
   "id": "65c72fc2-5ee1-44f7-a88f-119d4c7a3164",
   "metadata": {},
   "source": [
    "Notes:\n",
    "\n",
    "Thus, the agent would rather gain 0.1 extra reward now even if it loses 0.1 reward later on. In fact, it would rather gain 0.1 extra reward now even if it loses 0.2 extra reward 100 time steps later. In one of the upcoming coding exercises we'll explore this phenomenon a bit more.\n",
    "\n",
    "Choosing some gamma less than 1 is needed for RL training to work properly. The exact choice of gamma is fairly arbitrary but the default of 0.99 is a popular choice."
   ]
  },
  {
   "cell_type": "markdown",
   "id": "7558ab27-42ee-4bfc-93bb-88bd6d545dd9",
   "metadata": {
    "tags": []
   },
   "source": [
    "#### What is this agent doing?\n",
    "\n",
    "We can also try intermediate sweetness values:"
   ]
  },
  {
   "cell_type": "code",
   "execution_count": 39,
   "id": "bd6f51bf-c8bd-4c50-ba57-6ebc63eae70e",
   "metadata": {},
   "outputs": [
    {
     "data": {
      "text/plain": [
       "array([0.61250085, 0.38749912], dtype=float32)"
      ]
     },
     "execution_count": 39,
     "metadata": {},
     "output_type": "execute_result"
    }
   ],
   "source": [
    "query_policy(trainer, env, np.array([0.5, 0.5]), actions=[0,1])"
   ]
  },
  {
   "cell_type": "code",
   "execution_count": 40,
   "id": "31f3a866-5796-4318-85bc-566d2085c029",
   "metadata": {},
   "outputs": [
    {
     "data": {
      "text/plain": [
       "array([0.5691653, 0.4308348], dtype=float32)"
      ]
     },
     "execution_count": 40,
     "metadata": {},
     "output_type": "execute_result"
    }
   ],
   "source": [
    "query_policy(trainer, env, np.array([0.25, 0.25]), actions=[0,1])"
   ]
  },
  {
   "cell_type": "markdown",
   "id": "a7b377c4-22f9-47ae-90a6-4b74ea867ea0",
   "metadata": {},
   "source": [
    "- The agent seems to prefer action \"1\" to action \"0\".\n",
    "- This is completely arbitrary.\n",
    "\n",
    "Notes:\n",
    "\n",
    "There is randomness during the training that breaks the symmetry.\n",
    "Randomness both in the env and in the RL algorihtm."
   ]
  },
  {
   "cell_type": "markdown",
   "id": "21836273-ef0d-4d8f-9295-01c154a1b6ee",
   "metadata": {},
   "source": [
    "#### Can we improve the agent?\n",
    "\n",
    "- Can we improve the agent?\n",
    "- In the last module we talked about the observation space.\n",
    "- Can we provide the agent with more information?\n",
    "- (Feel free to think about this for a minute!)\n",
    "\n",
    "🤔..."
   ]
  },
  {
   "cell_type": "markdown",
   "id": "c529c4e7-9452-442d-be5e-0d687098e1e1",
   "metadata": {},
   "source": [
    "#### Observation space\n",
    "\n",
    "- Currently the agent's actions only depend on the _currently_ available items.\n",
    "- What if the agent knew more about the past or the future?\n",
    "- We'll try: giving the agent a brief \"memory\" of what items it chose recently.\n",
    "\n",
    "Notes:\n",
    "\n",
    "For example. If the agent new it was the last time step of the episode, it should always just pick the sweetest item."
   ]
  },
  {
   "cell_type": "markdown",
   "id": "0636ca34-d20e-4318-ad7d-be9d8daf415f",
   "metadata": {},
   "source": [
    "#### Recording history - constructor\n",
    "\n",
    "We'll need to modify the code in a couple places."
   ]
  },
  {
   "cell_type": "code",
   "execution_count": 41,
   "id": "b3342184-982f-4f57-aa57-eac227517eba",
   "metadata": {},
   "outputs": [],
   "source": [
    "class BasicRecommenderWithHistory(gym.Env):\n",
    "    def __init__(self, env_config=None):\n",
    "        # Set parameters    \n",
    "        self.num_candidates = env_config.get(\"num_candidates\", 10)\n",
    "        self.alpha = env_config.get(\"alpha\", 0.9)\n",
    "        self.history_len = env_config.get(\"history_len\", 2) # new\n",
    "\n",
    "        # Set observation and action spaces\n",
    "        self.observation_space = gym.spaces.Box(low=0, high=1, \n",
    "                    shape=(self.num_candidates + self.history_len,)) # changed\n",
    "        self.action_space = gym.spaces.Discrete(self.num_candidates)"
   ]
  },
  {
   "cell_type": "markdown",
   "id": "f218995b-f240-4944-80f9-34a9bd1f86dc",
   "metadata": {},
   "source": [
    "Notes:\n",
    "    \n",
    "There are two changes here. First, we added a new parameter called history_len, which is the number of steps backward that we record history. \n",
    "Second, we changed the observation space shape to be num_candidates + history_len instead of just num_candidates. This way the agent sees the same feature information as before, plus additional information of the previously chosen item features."
   ]
  },
  {
   "cell_type": "markdown",
   "id": "4f6f1f21-e0cd-4a6d-84b4-03e1bec5d6d8",
   "metadata": {},
   "source": [
    "#### Recording history - other changes\n",
    "\n",
    "We'll also need to modify a few other things:\n",
    "\n",
    "- `reset()` will reset the history \n",
    "- The observations returned will concatenate the item features with the history \n",
    "- `step()` will need to shift the history and place the most recent chosen item into history\n",
    "\n",
    "The code is not shown here but is available at our GitHub repo."
   ]
  },
  {
   "cell_type": "markdown",
   "id": "6519834d-6d11-4fb6-9411-3ad87b07ee6f",
   "metadata": {},
   "source": [
    "#### Recording history\n",
    "\n",
    "Let's test it out."
   ]
  },
  {
   "cell_type": "code",
   "execution_count": 42,
   "id": "d152e8bc-89ed-4b42-950a-68b47a1054ed",
   "metadata": {},
   "outputs": [],
   "source": [
    "# HIDDEN\n",
    "from envs import BasicRecommenderWithHistory"
   ]
  },
  {
   "cell_type": "code",
   "execution_count": 43,
   "id": "9e0ed914-b703-4ad7-8472-1dea72447614",
   "metadata": {},
   "outputs": [],
   "source": [
    "env = BasicRecommenderWithHistory(env_config)"
   ]
  },
  {
   "cell_type": "code",
   "execution_count": 44,
   "id": "0609ec45-703e-4022-a59c-5754e776063e",
   "metadata": {},
   "outputs": [
    {
     "data": {
      "text/plain": [
       "array([0.37454012, 0.95071431, 0.        , 0.        ])"
      ]
     },
     "execution_count": 44,
     "metadata": {},
     "output_type": "execute_result"
    }
   ],
   "source": [
    "env.reset()"
   ]
  },
  {
   "cell_type": "code",
   "execution_count": 45,
   "id": "dc0b6cf7-c9bb-4d7d-a9aa-313813018133",
   "metadata": {},
   "outputs": [
    {
     "data": {
      "text/plain": [
       "(array([0.73199394, 0.59865848, 0.37454012, 0.        ]),\n",
       " 0.3745401188473625,\n",
       " False,\n",
       " {'sugar_level': 0.18727005942368125})"
      ]
     },
     "execution_count": 45,
     "metadata": {},
     "output_type": "execute_result"
    }
   ],
   "source": [
    "env.step(0)"
   ]
  },
  {
   "cell_type": "code",
   "execution_count": 46,
   "id": "b79b89b0-5508-429b-9a7d-44160a1fe1e9",
   "metadata": {},
   "outputs": [
    {
     "data": {
      "text/plain": [
       "(array([0.15601864, 0.15599452, 0.59865848, 0.37454012]),\n",
       " 0.4865476742869666,\n",
       " False,\n",
       " {'sugar_level': 0.3929642718103589})"
      ]
     },
     "execution_count": 46,
     "metadata": {},
     "output_type": "execute_result"
    }
   ],
   "source": [
    "env.step(1)"
   ]
  },
  {
   "cell_type": "code",
   "execution_count": 47,
   "id": "cb03291b-a6de-4d71-a989-87c4e354c9f3",
   "metadata": {},
   "outputs": [
    {
     "data": {
      "text/plain": [
       "(array([0.05808361, 0.86617615, 0.15599452, 0.59865848]),\n",
       " 0.09469424724588053,\n",
       " False,\n",
       " {'sugar_level': 0.27447939607328076})"
      ]
     },
     "execution_count": 47,
     "metadata": {},
     "output_type": "execute_result"
    }
   ],
   "source": [
    "env.step(1)"
   ]
  },
  {
   "cell_type": "markdown",
   "id": "9444da34-28e2-428a-b70b-7ae2e243df75",
   "metadata": {},
   "source": [
    "Notes:\n",
    "\n",
    "- Here we see the item features _and_ the (empty) history.\n",
    "- Since we chose item 0, it is placed into the history.\n",
    "- We are given 2 new item candidates as usual.\n",
    "- As we continue to step, the history gets shifted."
   ]
  },
  {
   "cell_type": "markdown",
   "id": "2f08d51a-f280-4a35-972d-6e6857f39df9",
   "metadata": {
    "tags": []
   },
   "source": [
    "#### Does this help?\n",
    "\n",
    "Let's try training an agent with this new observation space 🤖"
   ]
  },
  {
   "cell_type": "code",
   "execution_count": 48,
   "id": "19de6824-315f-4307-9ed5-1c95fa184d4f",
   "metadata": {},
   "outputs": [],
   "source": [
    "trainer_history = PPOTrainer(trainer_config, env=BasicRecommenderWithHistory)"
   ]
  },
  {
   "cell_type": "markdown",
   "id": "c54fe537-12eb-4f0d-8225-8af78b07144f",
   "metadata": {},
   "source": [
    "And then we train for 25 iterations:"
   ]
  },
  {
   "cell_type": "code",
   "execution_count": 49,
   "id": "c7609fc8-dc07-49d4-9110-4e71f2b520bc",
   "metadata": {},
   "outputs": [],
   "source": [
    "rewards_history = []\n",
    "for i in range(25):\n",
    "    result = trainer_history.train()\n",
    "    rewards_history.append(result[\"episode_reward_mean\"])"
   ]
  },
  {
   "cell_type": "code",
   "execution_count": 50,
   "id": "f1f96110-559a-4ebc-a632-c6dc4393e6f5",
   "metadata": {},
   "outputs": [
    {
     "data": {
      "text/plain": [
       "26.163430549147535"
      ]
     },
     "execution_count": 50,
     "metadata": {},
     "output_type": "execute_result"
    }
   ],
   "source": [
    "trainer_history.evaluate(duration_fn=1000)[\"evaluation\"][\"episode_reward_mean\"]"
   ]
  },
  {
   "cell_type": "markdown",
   "id": "13d43286-42dc-4950-bac7-34e8678bf743",
   "metadata": {},
   "source": [
    "This time, we exceeded $26M 💰🚀"
   ]
  },
  {
   "cell_type": "markdown",
   "id": "3f4c71a2-37de-4586-8831-080cddd117cf",
   "metadata": {},
   "source": [
    "#### Training curve"
   ]
  },
  {
   "cell_type": "code",
   "execution_count": 51,
   "id": "5e67f2c6-a517-4a51-a0c3-8af62920575b",
   "metadata": {},
   "outputs": [
    {
     "data": {
      "image/png": "[encoded data removed]",
      "text/plain": [
       "<Figure size 432x288 with 1 Axes>"
      ]
     },
     "metadata": {
      "needs_background": "light"
     },
     "output_type": "display_data"
    }
   ],
   "source": [
    "plt.plot(rewards_history);\n",
    "plt.xlabel(\"Iterations\");\n",
    "plt.ylabel(\"Episode Reward\");"
   ]
  },
  {
   "cell_type": "markdown",
   "id": "dc22a1a0-9d52-477d-bfe4-6a9a630eb46d",
   "metadata": {},
   "source": [
    "This also looks a lot healthier."
   ]
  },
  {
   "cell_type": "code",
   "execution_count": 52,
   "id": "3a45b66d-2795-474d-afa1-d24e4de8817d",
   "metadata": {},
   "outputs": [],
   "source": [
    "# TODO\n",
    "# show that a deterministic agent will do terribly (e.g. DQN)?"
   ]
  },
  {
   "cell_type": "markdown",
   "id": "c855682d-04ed-4ae7-a0fb-4195515e3142",
   "metadata": {},
   "source": [
    "#### Policy"
   ]
  },
  {
   "cell_type": "code",
   "execution_count": 53,
   "id": "24be7554-7331-4381-a9d2-1a4da7a78170",
   "metadata": {},
   "outputs": [
    {
     "data": {
      "text/plain": [
       "array([0.88446987, 0.11553016], dtype=float32)"
      ]
     },
     "execution_count": 53,
     "metadata": {},
     "output_type": "execute_result"
    }
   ],
   "source": [
    "query_policy(trainer_history, env, np.array([1,0,0,0]), actions=[0,1])"
   ]
  },
  {
   "cell_type": "code",
   "execution_count": 54,
   "id": "7e00c890-e92c-433a-bc34-4fb84f977a89",
   "metadata": {},
   "outputs": [
    {
     "data": {
      "text/plain": [
       "array([0.14858791, 0.8514121 ], dtype=float32)"
      ]
     },
     "execution_count": 54,
     "metadata": {},
     "output_type": "execute_result"
    }
   ],
   "source": [
    "query_policy(trainer_history, env, np.array([1,0,1,1]), actions=[0,1])"
   ]
  },
  {
   "cell_type": "markdown",
   "id": "91dc1c65-fda3-4b0a-9e17-f58a2aeb892f",
   "metadata": {},
   "source": [
    "Notes:\n",
    "\n",
    "- Note how the agent now leans toward veggies if it had a lot of candy recently, and vice versa.\n",
    "- That is, when it sees candy and veggies, its decision is influenced by the past."
   ]
  },
  {
   "cell_type": "markdown",
   "id": "499517f4-23bd-4fbc-9a78-27efd9b7a87d",
   "metadata": {},
   "source": [
    "#### Let's apply what we learned!"
   ]
  },
  {
   "cell_type": "markdown",
   "id": "79ba5317-7fe1-4e7e-990f-4361c58a49e6",
   "metadata": {
    "tags": []
   },
   "source": [
    "## Recommender rewards\n",
    "<!-- multiple choice -->\n",
    "\n",
    "In the slides above we improved our agent by augmenting the observation space. In module 3 we talked about encoding the observation space, and also about _reward shaping_. We discussed reward shaping in the context of trying to train the agent more successfully. However, we may also simply want to change our definition of success. \n",
    "\n",
    "Let's say that we our organization does not just want to maximize profits, but also create an ethical recommender AI that doesn't feed users too much candy. Which of the following new reward functions would best achieve this?\n",
    "\n",
    "As a reminder, here is the current reward function:\n",
    "\n",
    "```python\n",
    "def reward(self, item_sweetness):\n",
    "    return item_sweetness * (1 - self.sugar_level)\n",
    "```\n",
    "\n",
    "- [ ] `item_sweetness/2 * (1 - self.sugar_level)` | This is a rescaling of the old reward function, but does not change the relative rewards of different actions.\n",
    "- [x] `item_sweetness * (1/2 - self.sugar_level)` | This is effectively a penalty of item_sweetness/2, thus penalizing sweeter items, including potentially negative rewards for overly sweet items.\n",
    "- [ ] `item_sweetness * (1 - self.sugar_level/2)` | This makes the sugar effect less potent, which may encourage sweeter items."
   ]
  },
  {
   "cell_type": "code",
   "execution_count": null,
   "id": "361029cc-e593-4b55-9b5d-90026da816c1",
   "metadata": {},
   "outputs": [],
   "source": [
    "# TODO\n",
    "# check the above multiple choice to make sure the behaviour of an agent is as expected"
   ]
  },
  {
   "cell_type": "markdown",
   "id": "fc8151b2-b92e-4a08-8d67-808820ad3e61",
   "metadata": {
    "tags": []
   },
   "source": [
    "## Discount factor\n",
    "<!-- coding exercise -->\n",
    "\n",
    "The slides introduced the idea of the _discount factor_, namely that the agent is really maximizing something like this:\n",
    "\n",
    "![](img/discounted_reward.png)\n",
    "\n",
    "In RLlib, we can set the discount factor by setting `\"gamma\"` in the algorithm config. The default value is 0.99. In the code below, change the value of `\"gamma\"` to 0.5, 0.9, 0.99 (default), and 0.9999, and observe how the trained agent responds to the choice of veggies vs. candy. Then, answer the multiple choice question below."
   ]
  },
  {
   "cell_type": "code",
   "execution_count": 8,
   "id": "d1cebc6d-8bb0-4b06-a239-9d70cdd79461",
   "metadata": {},
   "outputs": [
    {
     "name": "stdout",
     "output_type": "stream",
     "text": [
      "[0.34318933 0.65681064]\n"
     ]
    }
   ],
   "source": [
    "# EXERCISE\n",
    "import numpy as np\n",
    "from ray.rllib.agents.ppo import PPOTrainer\n",
    "from envs import BasicRecommender\n",
    "from utils import query_policy\n",
    "\n",
    "env_config = {\n",
    "    \"num_candidates\" : 2,\n",
    "    \"alpha\"          : 0.5,\n",
    "    \"seed\"           : 42\n",
    "}\n",
    "\n",
    "trainer_config = { # SET \"gamma\" in here\n",
    "    \"framework\"             : \"torch\",\n",
    "    \"create_env_on_driver\"  : True,\n",
    "    \"seed\"                  : 0,\n",
    "    \"lr\"                    : 0.001,\n",
    "    \"model\"                 : {\n",
    "        \"fcnet_hiddens\"     : [64, 64]\n",
    "    },\n",
    "    \"gamma\"                 : 0.9,\n",
    "    \"env_config\"            : env_config\n",
    "}\n",
    "\n",
    "trainer = PPOTrainer(trainer_config, env=BasicRecommender)\n",
    "\n",
    "rewards = []\n",
    "for i in range(5):\n",
    "    result = trainer.train()\n",
    "    rewards.append(result[\"episode_reward_mean\"])\n",
    "\n",
    "env = BasicRecommender(env_config)\n",
    "env.reset()\n",
    "print(query_policy(trainer, env, np.array([0,1]), actions=[0,1]))\n",
    "\n",
    "trainer.stop()"
   ]
  },
  {
   "cell_type": "code",
   "execution_count": null,
   "id": "ac7db71e-8a23-4e60-ac9e-84954cfa31d7",
   "metadata": {},
   "outputs": [],
   "source": [
    "# SOLUTION\n"
   ]
  },
  {
   "cell_type": "code",
   "execution_count": 11,
   "id": "55d89c6a-0115-489b-b53b-73011db180b4",
   "metadata": {},
   "outputs": [],
   "source": [
    "# HIDDEN\n",
    "{\n",
    "0.5  : 0.94,\n",
    "0.9 : 0.65,\n",
    "0.99 : 0.365, \n",
    "0.9999 : 30,\n",
    "};"
   ]
  },
  {
   "cell_type": "markdown",
   "id": "2ebee945-bf1c-4ad8-8755-5b33791598f4",
   "metadata": {},
   "source": [
    "#### How does gamma affect the agent's candy-seeking behavior?\n",
    "\n",
    "- [x] When gamma is larger, the agent is more interested in candy\n",
    "- [ ] When gamma is larger, the agent is less interested in candy\n",
    "- [ ] The agent's candy-seeking does not exhibit a clear dependence on gamma"
   ]
  },
  {
   "cell_type": "code",
   "execution_count": null,
   "id": "b5eff0df-3433-4bbf-a3a0-88f8c4881687",
   "metadata": {
    "tags": []
   },
   "outputs": [],
   "source": [
    "# TODO\n",
    "# ## Another coding exercise\n",
    "# <!-- coding exercise -->\n",
    "\n",
    "# Talk about changing alpha, or changing num_candidates, or something.\n",
    "\n",
    "# Or, having the initial sugar level be random. would that be interesting at all? i guess that's one of those cases where, in that case, it would help to have the reward be part of the observation, as that is useful info. a bit confusing.\n",
    "\n",
    "# ANOTHER IDEA: what if the candidates were sorted by sweetness. that might help make learning a lot faster? would be interesting then for 3 or more candidates, to see if it every picks the middle one. \n",
    "\n",
    "# it's sort of like having a user feature but more transient. "
   ]
  },
  {
   "cell_type": "code",
   "execution_count": null,
   "id": "eeee63ce-6ad7-45cf-8f97-87baf280b1e3",
   "metadata": {},
   "outputs": [],
   "source": []
  }
 ],
 "metadata": {
  "kernelspec": {
   "display_name": "Python [conda env:rl-course-dev-2]",
   "language": "python",
   "name": "conda-env-rl-course-dev-2-py"
  },
  "language_info": {
   "codemirror_mode": {
    "name": "ipython",
    "version": 3
   },
   "file_extension": ".py",
   "mimetype": "text/x-python",
   "name": "python",
   "nbconvert_exporter": "python",
   "pygments_lexer": "ipython3",
   "version": "3.8.13"
  }
 },
 "nbformat": 4,
 "nbformat_minor": 5
}
