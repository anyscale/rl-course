{
 "cells": [
  {
   "cell_type": "markdown",
   "id": "b5aa21ad-6bb9-4990-ab4d-fb9435b0bc00",
   "metadata": {},
   "source": [
    "## Supervised learning vs. reinforcement learning"
   ]
  },
  {
   "cell_type": "markdown",
   "id": "281ff2e0-a58c-46a3-8250-aa0002f2ad9f",
   "metadata": {},
   "source": [
    "#### Supervised learning refresher\n",
    "\n",
    "- Supervised learning learns to predict $y$ (most commonly a number or category) from $x$ (most commonly a vector of numbers or an image) given a dataset."
   ]
  },
  {
   "cell_type": "markdown",
   "id": "8fb4df9c-fc80-4571-9f51-8efebc175d24",
   "metadata": {},
   "source": [
    "#### Supervised learning examples\n",
    "\n",
    "- Predicting house prices given house features\n",
    "- Classifying an email as spam or not spam\n",
    "- Identifying whether an image contains a dog"
   ]
  },
  {
   "cell_type": "markdown",
   "id": "b0f2188e-0756-4fc7-a038-83b1d54fac8f",
   "metadata": {},
   "source": [
    "#### Reinforcement learning\n",
    "\n",
    "- SL input: a dataset of $(x,y)$ pairs\n",
    "- SL output: a piece of code (\"model\") that takes in an $x$ and predicts the $y$\n",
    "- RL input: an **environment** \n",
    "- RL output: a **policy** that makes decisions"
   ]
  },
  {
   "cell_type": "markdown",
   "id": "dfa3b9b3-f4da-47d3-9de6-8ee3ed3adcb3",
   "metadata": {},
   "source": [
    "#### What is an environment?\n",
    "\n",
    "- Let's start with some examples. An environment could be:\n",
    "  - a game, like a video game.\n",
    "  - a simulation of a real world scenario, like a robot, user behaviour, or the stock market\n",
    " "
   ]
  },
  {
   "cell_type": "markdown",
   "id": "4ab07411-e364-43de-91f2-af5b8af50421",
   "metadata": {},
   "source": [
    "#### Running example: frozen lake\n",
    "\n",
    "As a running example of an environment, we will use the [Frozen Lake](https://gym.openai.com/envs/FrozenLake-v0/) environment from [OpenAI Gym](https://gym.openai.com/). We can visualize the environment like this:"
   ]
  },
  {
   "cell_type": "code",
   "execution_count": 10,
   "id": "9c872158-8c59-4ae7-9b26-4224c3a1e528",
   "metadata": {},
   "outputs": [],
   "source": [
    "# HIDDEN\n",
    "import gym"
   ]
  },
  {
   "cell_type": "code",
   "execution_count": 23,
   "id": "9e98ecb1-30d3-4eaa-8808-e61534ffe75f",
   "metadata": {},
   "outputs": [
    {
     "name": "stdout",
     "output_type": "stream",
     "text": [
      "\n",
      "\u001b[41mS\u001b[0mFFF\n",
      "FHFH\n",
      "FFFH\n",
      "HFFG\n"
     ]
    }
   ],
   "source": [
    "env = gym.make(\"FrozenLake-v1\")\n",
    "env.reset()\n",
    "env.render()"
   ]
  },
  {
   "cell_type": "markdown",
   "id": "ad27aeb8-1381-4b6a-9df8-1b382b708664",
   "metadata": {},
   "source": [
    "The goal is for the player (red highlight) to reach the goal (`G`) by walking on the frozen lake segments (`F`) without falling in the holes (`H`)."
   ]
  },
  {
   "cell_type": "markdown",
   "id": "0fd4c22e-41f1-4204-b5c8-2edfe3b8892a",
   "metadata": {},
   "source": [
    "#### Movement\n",
    "\n",
    "The player can move around the frozen lake. For example:"
   ]
  },
  {
   "cell_type": "code",
   "execution_count": 24,
   "id": "af58ba73-178e-434c-8ab0-ee3c12e3534b",
   "metadata": {},
   "outputs": [],
   "source": [
    "# HIDDEN\n",
    "env.seed(6);"
   ]
  },
  {
   "cell_type": "code",
   "execution_count": 25,
   "id": "c4d238b0-77ae-46df-b9b4-005d9dba37d1",
   "metadata": {},
   "outputs": [
    {
     "name": "stdout",
     "output_type": "stream",
     "text": [
      "  (Down)\n",
      "SFFF\n",
      "\u001b[41mF\u001b[0mHFH\n",
      "FFFH\n",
      "HFFG\n"
     ]
    }
   ],
   "source": [
    "env.step(1);\n",
    "env.render()"
   ]
  },
  {
   "cell_type": "markdown",
   "id": "0a34e849-dfe5-4345-9d1a-2aca7586b02e",
   "metadata": {},
   "source": [
    "Don't worry about `step(1)` for now; we'll get to that. \n",
    "\n",
    "What you can see is that the player (red highlight) moved downward."
   ]
  },
  {
   "cell_type": "markdown",
   "id": "0adb36ae-cb2f-4765-ace8-a6c352c0b267",
   "metadata": {},
   "source": [
    "#### Goal\n",
    "\n",
    "Fast-forward a lot of steps, and you've completed the puzzle:"
   ]
  },
  {
   "cell_type": "code",
   "execution_count": 30,
   "id": "8a81232e-0684-49f3-87e9-85ceece09a6d",
   "metadata": {},
   "outputs": [
    {
     "name": "stdout",
     "output_type": "stream",
     "text": [
      "  (Right)\n",
      "SFFF\n",
      "F\u001b[41mH\u001b[0mFH\n",
      "FFFH\n",
      "HFFG\n"
     ]
    }
   ],
   "source": [
    "env.reset()\n",
    "env.\n",
    "env.step(2);\n",
    "env.render()"
   ]
  },
  {
   "cell_type": "markdown",
   "id": "22f71691-2597-4cf8-8c05-770a51e0ab73",
   "metadata": {},
   "source": [
    "#### What makes an environment?\n",
    "\n",
    "An environment involves these key components:\n",
    "\n",
    "- \n"
   ]
  }
 ],
 "metadata": {
  "kernelspec": {
   "display_name": "Python [conda env:rllib]",
   "language": "python",
   "name": "conda-env-rllib-py"
  },
  "language_info": {
   "codemirror_mode": {
    "name": "ipython",
    "version": 3
   },
   "file_extension": ".py",
   "mimetype": "text/x-python",
   "name": "python",
   "nbconvert_exporter": "python",
   "pygments_lexer": "ipython3",
   "version": "3.8.12"
  }
 },
 "nbformat": 4,
 "nbformat_minor": 5
}
