{
 "cells": [
  {
   "cell_type": "markdown",
   "id": "b5aa21ad-6bb9-4990-ab4d-fb9435b0bc00",
   "metadata": {},
   "source": [
    "## Supervised learning vs. reinforcement learning"
   ]
  },
  {
   "cell_type": "markdown",
   "id": "281ff2e0-a58c-46a3-8250-aa0002f2ad9f",
   "metadata": {},
   "source": [
    "#### Supervised learning refresher\n",
    "\n",
    "- Supervised learning learns to predict $y$ (most commonly a number or category) from $x$ (most commonly a vector of numbers or an image) given a dataset."
   ]
  },
  {
   "cell_type": "markdown",
   "id": "8fb4df9c-fc80-4571-9f51-8efebc175d24",
   "metadata": {},
   "source": [
    "#### Supervised learning examples\n",
    "\n",
    "- Predicting house prices given house features\n",
    "- Classifying an email as spam or not spam\n",
    "- Identifying whether an image contains a dog"
   ]
  },
  {
   "cell_type": "markdown",
   "id": "b0f2188e-0756-4fc7-a038-83b1d54fac8f",
   "metadata": {},
   "source": [
    "#### Reinforcement learning\n",
    "\n",
    "- SL input: a dataset of $(x,y)$ pairs\n",
    "- SL output: a piece of code (\"model\") that takes in an $x$ and predicts the $y$\n",
    "- RL input: an **environment** \n",
    "- RL output: a **policy** that makes decisions"
   ]
  },
  {
   "cell_type": "markdown",
   "id": "d6714de6-59d5-428a-90d5-caa45d222203",
   "metadata": {},
   "source": [
    "## Ex 1"
   ]
  },
  {
   "cell_type": "markdown",
   "id": "1f33df0c-77bc-4d65-81e1-09bdd923c6a2",
   "metadata": {},
   "source": [
    "## Ex 2"
   ]
  },
  {
   "cell_type": "markdown",
   "id": "e92c9358-1dd8-4e5a-bc34-5f14cc8e49bc",
   "metadata": {},
   "source": [
    "## Ex 3"
   ]
  },
  {
   "cell_type": "markdown",
   "id": "81333365-8b5e-4503-88c2-cf43d095e446",
   "metadata": {},
   "source": [
    "## Ex 4"
   ]
  }
 ],
 "metadata": {
  "kernelspec": {
   "display_name": "Python [conda env:rllib]",
   "language": "python",
   "name": "conda-env-rllib-py"
  },
  "language_info": {
   "codemirror_mode": {
    "name": "ipython",
    "version": 3
   },
   "file_extension": ".py",
   "mimetype": "text/x-python",
   "name": "python",
   "nbconvert_exporter": "python",
   "pygments_lexer": "ipython3",
   "version": "3.8.12"
  }
 },
 "nbformat": 4,
 "nbformat_minor": 5
}
