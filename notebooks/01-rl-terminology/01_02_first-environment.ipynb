{
 "cells": [
  {
   "cell_type": "markdown",
   "id": "c331561e-c62d-4486-9252-b9ff362f8fa4",
   "metadata": {},
   "source": [
    "## Environments"
   ]
  },
  {
   "cell_type": "markdown",
   "id": "de064a2a-0a07-4c94-a9ac-b6f2d978f412",
   "metadata": {},
   "source": [
    "#### What is an environment?\n",
    "\n",
    "- Let's start with some examples. An environment could be:\n",
    "  - a game, like a video game.\n",
    "  - a simulation of a real world scenario, like a robot, user behaviour, or the stock market\n",
    " "
   ]
  },
  {
   "cell_type": "markdown",
   "id": "c5748d00-5c07-49db-aa9f-3cc1613bd0a7",
   "metadata": {},
   "source": [
    "#### Running example: frozen lake\n",
    "\n",
    "As a running example of an environment, we will use the [Frozen Lake](https://gym.openai.com/envs/FrozenLake-v0/) environment from [OpenAI Gym](https://gym.openai.com/). We can visualize the environment like this:"
   ]
  },
  {
   "cell_type": "code",
   "execution_count": 35,
   "id": "2f87dba7-b5de-4ba9-b89d-b5ea2d069f0a",
   "metadata": {},
   "outputs": [
    {
     "name": "stdout",
     "output_type": "stream",
     "text": [
      "\n",
      "\u001b[41mS\u001b[0mFFF\n",
      "FHFH\n",
      "FFFH\n",
      "HFFG\n"
     ]
    }
   ],
   "source": [
    "import gym\n",
    "env = gym.make(\"FrozenLake-v1\")\n",
    "env.reset()\n",
    "env.render()"
   ]
  },
  {
   "cell_type": "markdown",
   "id": "693db547-8f4d-49ae-b759-80308d6803e0",
   "metadata": {},
   "source": [
    "The goal is for the player (red highlight) to reach the goal (`G`) by walking on the frozen lake segments (`F`) without falling in the holes (`H`)."
   ]
  },
  {
   "cell_type": "markdown",
   "id": "f4a34b31-5bbb-45f4-9e7f-e925fc96d0ee",
   "metadata": {},
   "source": [
    "#### Movement\n",
    "\n",
    "The player can move around the frozen lake. For example:"
   ]
  },
  {
   "cell_type": "code",
   "execution_count": 49,
   "id": "3e787118-3952-48c0-b8d4-22ea69f88eea",
   "metadata": {},
   "outputs": [],
   "source": [
    "# HIDDEN\n",
    "env.reset();\n",
    "env.seed(6);"
   ]
  },
  {
   "cell_type": "code",
   "execution_count": 50,
   "id": "8d5d954a-7890-427c-aea1-7daec590c91b",
   "metadata": {},
   "outputs": [
    {
     "name": "stdout",
     "output_type": "stream",
     "text": [
      "  (Down)\n",
      "SFFF\n",
      "\u001b[41mF\u001b[0mHFH\n",
      "FFFH\n",
      "HFFG\n"
     ]
    }
   ],
   "source": [
    "env.step(1);\n",
    "env.render()"
   ]
  },
  {
   "cell_type": "markdown",
   "id": "4cb8ff83-f2b0-464f-934c-9e6144977c2c",
   "metadata": {},
   "source": [
    "Don't worry about `step(1)` for now; we'll get to that. \n",
    "\n",
    "What you can see is that the player (red highlight) moved downward."
   ]
  },
  {
   "cell_type": "markdown",
   "id": "87c7ab81-0402-4302-a46f-1b4bc115ca63",
   "metadata": {},
   "source": [
    "#### Goal\n",
    "\n",
    "Fast-forward a lot of steps, and you've completed the puzzle:"
   ]
  },
  {
   "cell_type": "code",
   "execution_count": 77,
   "id": "3a799321-538a-4f9c-ae1d-31e15a9e0e13",
   "metadata": {},
   "outputs": [
    {
     "name": "stdout",
     "output_type": "stream",
     "text": [
      "  (Down)\n",
      "SFFF\n",
      "FHFH\n",
      "FFFH\n",
      "HFF\u001b[41mG\u001b[0m\n"
     ]
    }
   ],
   "source": [
    "# HIDDEN, OUTPUT SHOWN\n",
    "env.reset();\n",
    "env.seed(6);\n",
    "env.step(1);\n",
    "env.step(3);\n",
    "env.step(1);\n",
    "env.step(3);\n",
    "env.step(2);\n",
    "env.step(2);\n",
    "env.step(2);\n",
    "env.step(2);\n",
    "env.step(0);\n",
    "env.step(0);\n",
    "env.step(2);\n",
    "env.step(0);\n",
    "env.step(1);\n",
    "env.render()"
   ]
  },
  {
   "cell_type": "markdown",
   "id": "98858094-a152-4e3e-bd03-ed5c81af095b",
   "metadata": {},
   "source": [
    "You've achieved the goal by reaching `G`."
   ]
  },
  {
   "cell_type": "markdown",
   "id": "1635d0e4-7d38-434c-a956-d47646e57b4a",
   "metadata": {
    "tags": []
   },
   "source": [
    "#### What makes an environment?\n",
    "\n",
    "An environment involves several key components, that we'll go through in the following slides."
   ]
  },
  {
   "cell_type": "markdown",
   "id": "73df9894-c37a-4d34-93d9-c4e43ecf0564",
   "metadata": {},
   "source": [
    "#### States\n",
    "\n",
    "- Different **states** of the environment. TODO\n",
    "- The possible **actions** that the agent can take in the environment. \n",
    "  - Here, there are 4: up\n"
   ]
  },
  {
   "cell_type": "markdown",
   "id": "cc1907e0-63fe-4c72-af65-f9869b590365",
   "metadata": {},
   "source": [
    "#### Observations"
   ]
  },
  {
   "cell_type": "markdown",
   "id": "7d0e72e4-8f86-4c05-9f33-7e888ef44045",
   "metadata": {},
   "source": [
    "#### Actions"
   ]
  },
  {
   "cell_type": "markdown",
   "id": "46ee9cb4-8650-4d39-87b7-97202ffca199",
   "metadata": {},
   "source": [
    "#### Rewards"
   ]
  },
  {
   "cell_type": "markdown",
   "id": "a99e7834-5d92-4789-8007-f9ce29b80365",
   "metadata": {},
   "source": [
    "#### Summary\n",
    "\n",
    "- States\n",
    "- Actions\n",
    "- Rewards\n",
    "- Observations?\n"
   ]
  },
  {
   "cell_type": "markdown",
   "id": "4c511b50-fae2-4764-8eaa-c47ca7dab1d7",
   "metadata": {},
   "source": [
    "## Ex 1"
   ]
  },
  {
   "cell_type": "markdown",
   "id": "4dcfbbb6-1765-473c-8b7e-c24e914949d3",
   "metadata": {},
   "source": [
    "## Ex 2"
   ]
  },
  {
   "cell_type": "markdown",
   "id": "547ac9b5-b354-44c0-8dbf-f0eaeda58ffd",
   "metadata": {},
   "source": [
    "## Ex 3"
   ]
  },
  {
   "cell_type": "markdown",
   "id": "c8165060-f1cc-4b42-956a-de9486777812",
   "metadata": {},
   "source": [
    "## Ex 4"
   ]
  },
  {
   "cell_type": "code",
   "execution_count": null,
   "id": "418b2e2c-7b23-41d5-b9c9-1be49d403ca5",
   "metadata": {},
   "outputs": [],
   "source": [
    "exercise: would this be a reasonable environment\n",
    "reward\n",
    "etc"
   ]
  }
 ],
 "metadata": {
  "kernelspec": {
   "display_name": "Python [conda env:rllib]",
   "language": "python",
   "name": "conda-env-rllib-py"
  },
  "language_info": {
   "codemirror_mode": {
    "name": "ipython",
    "version": 3
   },
   "file_extension": ".py",
   "mimetype": "text/x-python",
   "name": "python",
   "nbconvert_exporter": "python",
   "pygments_lexer": "ipython3",
   "version": "3.8.12"
  }
 },
 "nbformat": 4,
 "nbformat_minor": 5
}
