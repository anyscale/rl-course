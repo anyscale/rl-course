{
 "cells": [
  {
   "cell_type": "markdown",
   "id": "15b89d29-6b6a-492d-9421-c3395dfd2020",
   "metadata": {},
   "source": [
    "## Applied Reinforcement Learning\n"
   ]
  },
  {
   "cell_type": "markdown",
   "id": "18e2222c-d00d-4c69-b86e-18560e51896d",
   "metadata": {},
   "source": [
    "## Course objective\n",
    "\n",
    "By the end of this course, you will be able to take a practical problem, translate it into an RL environment and then apply RL to find a policy that solves the problem. "
   ]
  },
  {
   "cell_type": "markdown",
   "id": "cc246420-7abf-4584-9d76-fbfb660c5ac9",
   "metadata": {},
   "source": [
    "## Course outline\n",
    "\n",
    "1. What can RL do for you?\n",
    "2. RL basics\n",
    "3. Solving a puzzle game\n",
    "4. Building a recommender system\n",
    "5. TBD\n",
    "6. Conclusion"
   ]
  },
  {
   "cell_type": "markdown",
   "id": "df4dd879-8c05-4651-9dbd-a42ce1456a7a",
   "metadata": {},
   "source": [
    "## Target audience / prerequisites\n",
    "\n",
    "Here's a persona who might benefit a lot from this course:\n",
    "\n",
    "- Machine learning engineers or data scientists who want to apply reinforcement learning (RL)\n",
    "\n",
    "Assumed knowledge:\n",
    "\n",
    "- Familiar with Python/Numpy\n",
    "- Familiar with basic ML\n",
    "- Basic familiarity with neural networks, ideally having dabbled pytorch or tensorflow.\n",
    "\n",
    "NOT required knowledge:\n",
    "\n",
    "- If you have never used (or heard of) Ray, that's fine\n",
    "- If you have never used RL, that's fine\n",
    "- We will doing a lot of problem-solving, but we will not be using complex mathematics"
   ]
  },
  {
   "cell_type": "markdown",
   "id": "c66fb22e-ebef-4dfb-bcc3-4864edf5bdb4",
   "metadata": {},
   "source": [
    "## Exercise\n",
    "\n",
    "For which of the following problems would RL be suitable?\n",
    "\n",
    "- [ ] Segmenting your customers into different groups\n",
    "- [ ] Predicting house prices given house features\n",
    "- [x] Controlling a robot\n",
    "- [ ] Detecting whether an image contains a dog"
   ]
  },
  {
   "cell_type": "code",
   "execution_count": null,
   "id": "e1172953-8c76-4aa0-9d22-0e894bf3a6bd",
   "metadata": {},
   "outputs": [],
   "source": []
  }
 ],
 "metadata": {
  "kernelspec": {
   "display_name": "Python [conda env:rllib]",
   "language": "python",
   "name": "conda-env-rllib-py"
  },
  "language_info": {
   "codemirror_mode": {
    "name": "ipython",
    "version": 3
   },
   "file_extension": ".py",
   "mimetype": "text/x-python",
   "name": "python",
   "nbconvert_exporter": "python",
   "pygments_lexer": "ipython3",
   "version": "3.8.11"
  }
 },
 "nbformat": 4,
 "nbformat_minor": 5
}
