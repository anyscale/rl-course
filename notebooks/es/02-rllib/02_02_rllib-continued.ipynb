{
 "cells": [
  {
   "cell_type": "markdown",
   "id": "90c01ab9-1cd0-47d8-a198-e07e36e2c1fc",
   "metadata": {
    "tags": []
   },
   "source": [
    "## RLlib continúa"
   ]
  },
  {
   "cell_type": "code",
   "execution_count": 1,
   "id": "e74417a3-63bc-4000-951a-72ab882b689e",
   "metadata": {},
   "outputs": [],
   "source": [
    "# HIDDEN\n",
    "import gym\n",
    "import numpy as np\n",
    "import matplotlib.pyplot as plt\n",
    "plt.rcParams['font.size'] = 14"
   ]
  },
  {
   "cell_type": "code",
   "execution_count": 2,
   "id": "27a0a477-40eb-44e1-b3aa-59e4f6f31fea",
   "metadata": {},
   "outputs": [],
   "source": [
    "# HIDDEN\n",
    "import ray\n",
    "import logging\n",
    "ray.init(log_to_driver=False, ignore_reinit_error=True, logging_level=logging.ERROR) # logging.FATAL\n",
    "\n",
    "import warnings\n",
    "warnings.filterwarnings(\"ignore\", category=DeprecationWarning) "
   ]
  },
  {
   "cell_type": "code",
   "execution_count": 3,
   "id": "08a296a4-e50a-4530-8034-c8bc1e27671c",
   "metadata": {},
   "outputs": [],
   "source": [
    "# HIDDEN\n",
    "from ray.rllib.algorithms.ppo import PPO, PPOConfig"
   ]
  },
  {
   "cell_type": "markdown",
   "id": "32f67da7-14aa-456a-84bb-5813db493143",
   "metadata": {},
   "source": [
    "#### Características de RLlib\n",
    "\n",
    "- Hasta ahora hemos visto el entrenamiento, la evaluación y la \"predicción\" con RLlib.\n",
    "- A continuación exploraremos algunas características más:\n",
    "   - Configuraciones de algoritmos\n",
    "   - Guardar/restaurar modelos\n",
    "   - Interpretación de políticas estocásticas"
   ]
  },
  {
   "cell_type": "markdown",
   "id": "5e07d9e0-cc95-43f0-81b4-2b937070a7f2",
   "metadata": {},
   "source": [
    "#### Configuraciones del algoritmo\n",
    "\n",
    "¿Recuerdas este código?\n",
    "\n",
    "``python\n",
    "from ray.rllib.algorithms.ppo import PPO, PPOConfig\n",
    "ppo = PPO(env=\"FrozenLake-v1\", config=ppo_config)\n",
    "```\n",
    "\n",
    "Anteriormente, hemos ocultado el `ppo_config`. Ahora profundizaremos en él."
   ]
  },
  {
   "cell_type": "code",
   "execution_count": 4,
   "id": "b6e49ba6-315f-42d5-949a-6ae5d98ae758",
   "metadata": {},
   "outputs": [],
   "source": [
    "ppo_config = PPOConfig()"
   ]
  },
  {
   "cell_type": "code",
   "execution_count": 5,
   "id": "ae2a8631-271c-4f85-8715-6cf1f95393f5",
   "metadata": {
    "tags": []
   },
   "outputs": [],
   "source": [
    "# HIDDEN - this shows up in module 5 instead\n",
    "# The number of options is way too many to read:\n",
    "# len(ppo_config.to_dict())\n",
    "# # ppo_config.to_dict()"
   ]
  },
  {
   "cell_type": "markdown",
   "id": "0af4f47b-ef9a-4443-9dad-d5bb2e533b3b",
   "metadata": {},
   "source": [
    "#### Configuraciones del algoritmo\n",
    "\n",
    "- Cuando instanciamos un `PPOConfig()` obtenemos los valores de configuración por defecto.\n",
    "- Hay algunos valores que cambiamos:"
   ]
  },
  {
   "cell_type": "code",
   "execution_count": 6,
   "id": "0308301b-4f37-4218-8360-862b18574c8c",
   "metadata": {},
   "outputs": [],
   "source": [
    "ppo_config = ppo_config.framework(\"torch\")"
   ]
  },
  {
   "cell_type": "markdown",
   "id": "e78fb6f4-36b4-424d-8535-9473934b7e88",
   "metadata": {},
   "source": [
    "⬆️ Cambia el marco de trabajo de tensorflow (por defecto) a pytorch para el modelo de políticas."
   ]
  },
  {
   "cell_type": "code",
   "execution_count": 7,
   "id": "d746f6bf-d5d0-41b6-b717-796d91a45f74",
   "metadata": {},
   "outputs": [],
   "source": [
    "ppo_config = ppo_config.debugging(seed=0, log_level=\"ERROR\")"
   ]
  },
  {
   "cell_type": "markdown",
   "id": "33ca478e-2c3b-4c47-beba-94014f376469",
   "metadata": {},
   "source": [
    "⬆️ Establece una semilla aleatoria para la reproducibilidad del curso, reduce las advertencias mostradas."
   ]
  },
  {
   "cell_type": "code",
   "execution_count": 8,
   "id": "b8890eef-bbad-41a7-af8e-7fac509eb04f",
   "metadata": {},
   "outputs": [],
   "source": [
    "ppo_config = ppo_config.training(model={\"fcnet_hiddens\" : [32, 32]})"
   ]
  },
  {
   "cell_type": "markdown",
   "id": "6b4ecc0b-0d85-4aec-8011-28a2adc309f3",
   "metadata": {},
   "source": [
    "⬆️ Ajusta la red neuronal política para que tenga una arquitectura más pequeña que la predeterminada, lo que ayuda a que los materiales del curso se ejecuten más rápidamente."
   ]
  },
  {
   "cell_type": "code",
   "execution_count": 9,
   "id": "098f8aa8-16b3-455e-9a92-4d92063da388",
   "metadata": {},
   "outputs": [],
   "source": [
    "ppo_config = ppo_config.rollouts(create_env_on_local_worker=True)"
   ]
  },
  {
   "cell_type": "markdown",
   "id": "a68b5322-8fb4-4d07-9913-6696aa8905cf",
   "metadata": {},
   "source": [
    "⬆️ Esto se relaciona con el Rayo, que tocaremos brevemente en el Módulo 5, pero lo omitiremos por ahora."
   ]
  },
  {
   "cell_type": "code",
   "execution_count": 10,
   "id": "4e215df8-9e3e-4607-a831-b083cd949cca",
   "metadata": {},
   "outputs": [],
   "source": [
    "ppo_config = ppo_config.environment(env_config={\"is_slippery\" : False})"
   ]
  },
  {
   "cell_type": "markdown",
   "id": "0cc6380d-b76e-4960-a3c0-9e1618109ebd",
   "metadata": {},
   "source": [
    "⬆️ Así es como establecemos los parámetros env, en este caso especificando el Lago Congelado no resbaladizo."
   ]
  },
  {
   "cell_type": "markdown",
   "id": "322b9bd0-8426-4648-80c0-479f96f6cddc",
   "metadata": {},
   "source": [
    "Notas:\n",
    "\n",
    "Recuerda que la política es una función que va de las observaciones a las acciones, y esta función es una red neuronal. Por eso necesitamos un marco de aprendizaje profundo como pytorch.\n",
    "\n",
    "La semilla aleatoria es sólo para el propio algoritmo, por ejemplo, la aleatoriedad en la optimización de la red neuronal. No establece la semilla aleatoria para la propia aleatoriedad del entorno "
   ]
  },
  {
   "cell_type": "markdown",
   "id": "e834f6c3-0b1f-49dc-8c65-136e8b93fa5f",
   "metadata": {},
   "source": [
    "#### Configuraciones del algoritmo\n",
    "\n",
    "También podemos generar esta configuración en una gigantesca línea de Python como sigue:"
   ]
  },
  {
   "cell_type": "code",
   "execution_count": 11,
   "id": "447b397b-a875-417b-8bc7-ef862229ca64",
   "metadata": {},
   "outputs": [],
   "source": [
    "ppo_config = (\n",
    "    PPOConfig()\\\n",
    "    .framework(\"torch\")\\\n",
    "    .rollouts(create_env_on_local_worker=True)\\\n",
    "    .debugging(seed=0, log_level=\"ERROR\")\\\n",
    "    .training(model={\"fcnet_hiddens\" : [32, 32]})\\\n",
    "    .environment(env_config={\"is_slippery\" : False})\n",
    ")"
   ]
  },
  {
   "cell_type": "markdown",
   "id": "7254e6af-7f07-4afc-b46d-575214eed645",
   "metadata": {},
   "source": [
    "(El carácter ``sólo significa que la línea de Python continúa a continuación)"
   ]
  },
  {
   "cell_type": "markdown",
   "id": "c8cfa9d1-fbfa-455f-a722-950b634d4d45",
   "metadata": {},
   "source": [
    "Notas:\n",
    "\n",
    "Hablaremos de la afinación en el módulo 5."
   ]
  },
  {
   "cell_type": "code",
   "execution_count": 12,
   "id": "30eb0986-9e52-4656-9819-7c43b6d083a8",
   "metadata": {},
   "outputs": [],
   "source": [
    "# HIDDEN\n",
    "algo_config = (\n",
    "    PPOConfig()\\\n",
    "    .framework(\"torch\")\\\n",
    "    .rollouts(create_env_on_local_worker=True)\\\n",
    "    .debugging(seed=0, log_level=\"ERROR\")\\\n",
    "    .training(model={\"fcnet_hiddens\" : [32, 32]})\\\n",
    "    .environment(env_config={\"is_slippery\" : False})\n",
    ")"
   ]
  },
  {
   "cell_type": "markdown",
   "id": "185074d6-c847-4790-94ba-381030616f56",
   "metadata": {},
   "source": [
    "#### Construir un algoritmo a partir de la configuración\n",
    "\n",
    "Anteriormente instanciamos nuestro algoritmo PPO así"
   ]
  },
  {
   "cell_type": "code",
   "execution_count": 13,
   "id": "3f8b977e-e59d-4afd-9d82-2010be65ed40",
   "metadata": {},
   "outputs": [],
   "source": [
    "ppo = PPO(env=\"FrozenLake-v1\", config=ppo_config)"
   ]
  },
  {
   "cell_type": "markdown",
   "id": "499bf30c-c42a-40d5-957c-477686ee7ee7",
   "metadata": {},
   "source": [
    "La sintaxis preferida en la última versión de Ray/RLlib es:"
   ]
  },
  {
   "cell_type": "code",
   "execution_count": 14,
   "id": "217ddfaf-0332-42a8-8178-23c949a80b3b",
   "metadata": {},
   "outputs": [],
   "source": [
    "ppo = ppo_config.build(env=\"FrozenLake-v1\")"
   ]
  },
  {
   "cell_type": "markdown",
   "id": "4e483661-3f65-4f61-8db4-3ac3a650619d",
   "metadata": {},
   "source": [
    "Como tercera opción, también puedes especificar el entorno en la configuración en lugar de como argumento de `build`:"
   ]
  },
  {
   "cell_type": "code",
   "execution_count": 15,
   "id": "b2be522c-6b40-4b0d-8cf3-c473b420c325",
   "metadata": {},
   "outputs": [],
   "source": [
    "ppo_config.environment(env=\"FrozenLake-v1\")\n",
    "\n",
    "ppo = ppo_config.build()"
   ]
  },
  {
   "cell_type": "markdown",
   "id": "fef84da1-19ef-4300-8555-7e6e65b3e3b7",
   "metadata": {},
   "source": [
    "El resultado final es el mismo sea cual sea la forma que elijas."
   ]
  },
  {
   "cell_type": "markdown",
   "id": "b9e3069d-b826-447f-ad34-24eb1d912c4a",
   "metadata": {},
   "source": [
    "#### Modelos de ahorro\n",
    "\n",
    "- Es posible que queramos guardar los agentes entrenados para utilizarlos en el futuro.\n",
    "- Esto también se llama _checkpointing_, especialmente cuando se hace durante un bucle de entrenamiento.\n",
    "- En RLlib, esto puede hacerse simplemente con\n",
    "\n",
    "``python\n",
    "algo.guardar(ruta_al_punto_de_control)\n",
    "```\n",
    "\n",
    "Después se puede restaurar con\n",
    "\n",
    "``python\n",
    "algo.restaurar(ruta_a_punto_de_control)\n",
    "```\n",
    "\n",
    "Sólo tienes que asegurarte de que creas el entrenador con el mismo entorno y parámetros al restaurar desde un punto de control."
   ]
  },
  {
   "cell_type": "markdown",
   "id": "27092e6c-772e-4940-b140-fa77b8469397",
   "metadata": {},
   "source": [
    "#### Restaurar modelos\n",
    "\n",
    "Vamos a restaurar un agente desde un punto de control (creado anteriormente):"
   ]
  },
  {
   "cell_type": "code",
   "execution_count": 16,
   "id": "517db53e-410c-441f-8823-53b76a3cf825",
   "metadata": {},
   "outputs": [],
   "source": [
    "# # HIDDEN\n",
    "# ppo_config = (\n",
    "#     PPOConfig()\\\n",
    "#     .framework(\"torch\")\\\n",
    "#     .rollouts(create_env_on_local_worker=True)\\\n",
    "#     .debugging(seed=0, log_level=\"ERROR\")\\\n",
    "#     .training(model={\"fcnet_hiddens\" : [32, 32]})\n",
    "#     .environment(env_config={\"is_slippery\" : True})\\\n",
    "#     .evaluation(evaluation_config = {\"explore\" : False})\n",
    "# )\n",
    "\n",
    "# ppo = ppo_config.build(\"FrozenLake-v1\")"
   ]
  },
  {
   "cell_type": "code",
   "execution_count": 17,
   "id": "c7ec02f5-d9f0-4b67-a69c-83a075b49cd1",
   "metadata": {},
   "outputs": [],
   "source": [
    "# # HIDDEN\n",
    "# for i in range(30):\n",
    "#     ppo.train()\n",
    "\n",
    "# ppo.save(\"models/FrozenLakeSlippery-3232-Ray2-2\")"
   ]
  },
  {
   "cell_type": "code",
   "execution_count": 18,
   "id": "4c6d8542-6f88-4b2d-9627-34a16add29e1",
   "metadata": {},
   "outputs": [],
   "source": [
    "# # HIDDEN\n",
    "# ppo_config = (\n",
    "#     PPOConfig()\\\n",
    "#     .framework(\"torch\")\\\n",
    "#     .rollouts(create_env_on_local_worker=True)\\\n",
    "#     .debugging(seed=0, log_level=\"ERROR\")\\\n",
    "#     .training(model={\"fcnet_hiddens\" : [32, 32]})\n",
    "#     .environment(env_config={\"is_slippery\" : True})\\\n",
    "#     .evaluation(evaluation_config = {\"explore\" : False})\n",
    "# )\n",
    "\n",
    "# ppo = ppo_config.build(\"FrozenLake-v1\")"
   ]
  },
  {
   "cell_type": "code",
   "execution_count": 19,
   "id": "107266f4-2f49-43c5-a9f8-80053d048017",
   "metadata": {},
   "outputs": [],
   "source": [
    "# # HIDDEN\n",
    "# for i in range(60):\n",
    "#     ppo.train()\n",
    "\n",
    "# ppo.save(\"models/FrozenLakeSlippery-3232-Ray2\")"
   ]
  },
  {
   "cell_type": "markdown",
   "id": "b3c89432-d4dd-4a58-ba69-38e9512970ab",
   "metadata": {},
   "source": [
    "Importante: el agente guardado se creó con la misma configuración que el objeto `ppo` anterior."
   ]
  },
  {
   "cell_type": "markdown",
   "id": "370d6ffb-b48b-4209-b7b8-ce0cb4d45e8c",
   "metadata": {},
   "source": [
    "#### Ver las políticas estocásticas\n",
    "\n",
    "- Si queremos ver lo que hace una política, podemos utilizar `compute_single action`\n",
    "- Pero algunos algoritmos de RL, incluido el PPO, aprenden _políticas estocásticas_.\n",
    "- Puede que queramos ver estas _probabilidades de acción_."
   ]
  },
  {
   "cell_type": "code",
   "execution_count": 20,
   "id": "bc24efa0-bc12-4d99-b9c6-88fc9bf10550",
   "metadata": {},
   "outputs": [],
   "source": [
    "# HIDDEN\n",
    "import utils_02"
   ]
  },
  {
   "cell_type": "code",
   "execution_count": 21,
   "id": "7096f91a-7a14-4b9a-905b-603583d46c18",
   "metadata": {},
   "outputs": [],
   "source": [
    "env = gym.make(\"FrozenLake-v1\", is_slippery=False)"
   ]
  },
  {
   "cell_type": "code",
   "execution_count": 22,
   "id": "9cd397c9-9182-4391-a997-b1e8f23d1c5c",
   "metadata": {},
   "outputs": [
    {
     "data": {
      "text/plain": [
       "array([0.2497611 , 0.24977003, 0.2505136 , 0.24995527], dtype=float32)"
      ]
     },
     "execution_count": 22,
     "metadata": {},
     "output_type": "execute_result"
    }
   ],
   "source": [
    "probs = utils_02.query_policy(ppo, env, obs=0)\n",
    "probs"
   ]
  },
  {
   "cell_type": "markdown",
   "id": "bd53b698-344f-44ec-9846-68430f53feb2",
   "metadata": {},
   "source": [
    "Hasta ahora, las probabilidades son uniformes porque el agente no ha sido entrenado."
   ]
  },
  {
   "cell_type": "markdown",
   "id": "8b41f155-32d8-41e6-87e2-7ad6949dc0e2",
   "metadata": {},
   "source": [
    "(El código está oculto dentro de `query_Policy` por ahora, pero se explorará en el Módulo 5)"
   ]
  },
  {
   "cell_type": "markdown",
   "id": "af552205-3258-4412-9559-8d022438bfe0",
   "metadata": {},
   "source": [
    "#### Ver las políticas estocásticas\n",
    "\n",
    "Vamos a restaurar un modelo entrenado anteriormente y a intentarlo de nuevo:"
   ]
  },
  {
   "cell_type": "code",
   "execution_count": 23,
   "id": "7fd2aced-6906-416c-bedb-fb5b972d0548",
   "metadata": {},
   "outputs": [],
   "source": [
    "ppo.restore(\"models/FrozenLakeNonSlippery-3232-Ray2-2/checkpoint_000030\")"
   ]
  },
  {
   "cell_type": "code",
   "execution_count": 24,
   "id": "1f6eda12-97a7-46c9-bf37-79e911d2d826",
   "metadata": {},
   "outputs": [
    {
     "data": {
      "text/plain": [
       "array([3.0708601e-04, 8.6194783e-01, 1.3743131e-01, 3.1362689e-04],\n",
       "      dtype=float32)"
      ]
     },
     "execution_count": 24,
     "metadata": {},
     "output_type": "execute_result"
    }
   ],
   "source": [
    "probs = utils_02.query_policy(ppo, env, obs=0)\n",
    "probs"
   ]
  },
  {
   "cell_type": "markdown",
   "id": "b92923e7-e5a9-40e2-8df3-3870306456c0",
   "metadata": {},
   "source": [
    "Acciones: izquierda (0), abajo (1), derecha (2), arriba (3)."
   ]
  },
  {
   "cell_type": "markdown",
   "id": "bf9d5634-93ef-4523-b33a-e7cc2b46e3d7",
   "metadata": {},
   "source": [
    "Notas:\n",
    "\n",
    "Aquí podemos ver al agente queriendo moverse hacia abajo o hacia la derecha desde la casilla superior izquierda (observación 0)."
   ]
  },
  {
   "cell_type": "markdown",
   "id": "17dbf19d-6ce9-4410-893e-9d0bd8bc2b3b",
   "metadata": {},
   "source": [
    "#### Ver las políticas estocásticas\n",
    "\n",
    "Visualicemos esto de forma un poco más limpia:"
   ]
  },
  {
   "cell_type": "code",
   "execution_count": 25,
   "id": "dc50e996-b713-4fd5-a9ce-62fb24148e68",
   "metadata": {},
   "outputs": [
    {
     "name": "stdout",
     "output_type": "stream",
     "text": [
      "Left:   0.03%\n",
      "Down:  86.19%\n",
      "Right: 13.74%\n",
      "Up:     0.03%\n"
     ]
    }
   ],
   "source": [
    "print(f\"Left:  {probs[0]*100:5.2f}%\")\n",
    "print(f\"Down:  {probs[1]*100:5.2f}%\")\n",
    "print(f\"Right: {probs[2]*100:5.2f}%\")\n",
    "print(f\"Up:    {probs[3]*100:5.2f}%\")"
   ]
  },
  {
   "cell_type": "markdown",
   "id": "c43dbb9c-06f8-4e5e-8c7f-5349d39623c4",
   "metadata": {},
   "source": [
    "Arena:\n",
    "\n",
    "```\n",
    "SFFF\n",
    "FHFH\n",
    "FFFH\n",
    "HFFG\n",
    "```"
   ]
  },
  {
   "cell_type": "markdown",
   "id": "0e800476-34c2-4fe4-bb1e-7f9c7e77e94a",
   "metadata": {},
   "source": [
    "Notas:\n",
    "    \n",
    "Para un espacio de acción continua esto sería diferente."
   ]
  },
  {
   "cell_type": "code",
   "execution_count": 26,
   "id": "b4292a22-9b47-4b76-97e7-df17bd0577b4",
   "metadata": {},
   "outputs": [],
   "source": [
    "# HIDDEN\n",
    "# From the top-left, the agent considers moving left down or right, but not up. Presumably left is preferred to up because slipping down is preferred to slipping right."
   ]
  },
  {
   "cell_type": "markdown",
   "id": "44268a54-4855-434d-ac21-d2801f46a322",
   "metadata": {},
   "source": [
    "#### Ver las políticas estocásticas\n",
    "\n",
    "Veamos todas las probabilidades:"
   ]
  },
  {
   "cell_type": "code",
   "execution_count": 27,
   "id": "d4a0e388-5ec4-489b-a4cd-53531859fe9a",
   "metadata": {},
   "outputs": [],
   "source": [
    "# HIDDEN\n",
    "import pandas as pd"
   ]
  },
  {
   "cell_type": "code",
   "execution_count": 28,
   "id": "a8fdedc6-f162-4c92-a674-648f7ae154c7",
   "metadata": {},
   "outputs": [
    {
     "data": {
      "text/html": [
       "<div>\n",
       "<style scoped>\n",
       "    .dataframe tbody tr th:only-of-type {\n",
       "        vertical-align: middle;\n",
       "    }\n",
       "\n",
       "    .dataframe tbody tr th {\n",
       "        vertical-align: top;\n",
       "    }\n",
       "\n",
       "    .dataframe thead th {\n",
       "        text-align: right;\n",
       "    }\n",
       "</style>\n",
       "<table border=\"1\" class=\"dataframe\">\n",
       "  <thead>\n",
       "    <tr style=\"text-align: right;\">\n",
       "      <th></th>\n",
       "      <th>left</th>\n",
       "      <th>down</th>\n",
       "      <th>right</th>\n",
       "      <th>up</th>\n",
       "    </tr>\n",
       "  </thead>\n",
       "  <tbody>\n",
       "    <tr>\n",
       "      <th>0</th>\n",
       "      <td>0.000307</td>\n",
       "      <td>0.861948</td>\n",
       "      <td>0.137431</td>\n",
       "      <td>0.000314</td>\n",
       "    </tr>\n",
       "    <tr>\n",
       "      <th>1</th>\n",
       "      <td>0.001545</td>\n",
       "      <td>0.000129</td>\n",
       "      <td>0.997325</td>\n",
       "      <td>0.001000</td>\n",
       "    </tr>\n",
       "    <tr>\n",
       "      <th>2</th>\n",
       "      <td>0.000614</td>\n",
       "      <td>0.997883</td>\n",
       "      <td>0.000648</td>\n",
       "      <td>0.000855</td>\n",
       "    </tr>\n",
       "    <tr>\n",
       "      <th>3</th>\n",
       "      <td>0.021768</td>\n",
       "      <td>0.002684</td>\n",
       "      <td>0.961310</td>\n",
       "      <td>0.014238</td>\n",
       "    </tr>\n",
       "    <tr>\n",
       "      <th>4</th>\n",
       "      <td>0.000100</td>\n",
       "      <td>0.999648</td>\n",
       "      <td>0.000107</td>\n",
       "      <td>0.000145</td>\n",
       "    </tr>\n",
       "    <tr>\n",
       "      <th>5</th>\n",
       "      <td>0.008260</td>\n",
       "      <td>0.198169</td>\n",
       "      <td>0.786407</td>\n",
       "      <td>0.007165</td>\n",
       "    </tr>\n",
       "    <tr>\n",
       "      <th>6</th>\n",
       "      <td>0.000059</td>\n",
       "      <td>0.999218</td>\n",
       "      <td>0.000640</td>\n",
       "      <td>0.000084</td>\n",
       "    </tr>\n",
       "    <tr>\n",
       "      <th>7</th>\n",
       "      <td>0.041046</td>\n",
       "      <td>0.286452</td>\n",
       "      <td>0.634076</td>\n",
       "      <td>0.038426</td>\n",
       "    </tr>\n",
       "    <tr>\n",
       "      <th>8</th>\n",
       "      <td>0.000334</td>\n",
       "      <td>0.000075</td>\n",
       "      <td>0.999394</td>\n",
       "      <td>0.000197</td>\n",
       "    </tr>\n",
       "    <tr>\n",
       "      <th>9</th>\n",
       "      <td>0.000094</td>\n",
       "      <td>0.029428</td>\n",
       "      <td>0.970416</td>\n",
       "      <td>0.000063</td>\n",
       "    </tr>\n",
       "    <tr>\n",
       "      <th>10</th>\n",
       "      <td>0.000061</td>\n",
       "      <td>0.999676</td>\n",
       "      <td>0.000174</td>\n",
       "      <td>0.000088</td>\n",
       "    </tr>\n",
       "    <tr>\n",
       "      <th>11</th>\n",
       "      <td>0.001793</td>\n",
       "      <td>0.586685</td>\n",
       "      <td>0.409775</td>\n",
       "      <td>0.001747</td>\n",
       "    </tr>\n",
       "    <tr>\n",
       "      <th>12</th>\n",
       "      <td>0.003990</td>\n",
       "      <td>0.652142</td>\n",
       "      <td>0.340331</td>\n",
       "      <td>0.003536</td>\n",
       "    </tr>\n",
       "    <tr>\n",
       "      <th>13</th>\n",
       "      <td>0.000092</td>\n",
       "      <td>0.011372</td>\n",
       "      <td>0.988473</td>\n",
       "      <td>0.000064</td>\n",
       "    </tr>\n",
       "    <tr>\n",
       "      <th>14</th>\n",
       "      <td>0.000092</td>\n",
       "      <td>0.001204</td>\n",
       "      <td>0.998647</td>\n",
       "      <td>0.000057</td>\n",
       "    </tr>\n",
       "    <tr>\n",
       "      <th>15</th>\n",
       "      <td>0.001608</td>\n",
       "      <td>0.627634</td>\n",
       "      <td>0.369347</td>\n",
       "      <td>0.001412</td>\n",
       "    </tr>\n",
       "  </tbody>\n",
       "</table>\n",
       "</div>"
      ],
      "text/plain": [
       "        left      down     right        up\n",
       "0   0.000307  0.861948  0.137431  0.000314\n",
       "1   0.001545  0.000129  0.997325  0.001000\n",
       "2   0.000614  0.997883  0.000648  0.000855\n",
       "3   0.021768  0.002684  0.961310  0.014238\n",
       "4   0.000100  0.999648  0.000107  0.000145\n",
       "5   0.008260  0.198169  0.786407  0.007165\n",
       "6   0.000059  0.999218  0.000640  0.000084\n",
       "7   0.041046  0.286452  0.634076  0.038426\n",
       "8   0.000334  0.000075  0.999394  0.000197\n",
       "9   0.000094  0.029428  0.970416  0.000063\n",
       "10  0.000061  0.999676  0.000174  0.000088\n",
       "11  0.001793  0.586685  0.409775  0.001747\n",
       "12  0.003990  0.652142  0.340331  0.003536\n",
       "13  0.000092  0.011372  0.988473  0.000064\n",
       "14  0.000092  0.001204  0.998647  0.000057\n",
       "15  0.001608  0.627634  0.369347  0.001412"
      ]
     },
     "execution_count": 28,
     "metadata": {},
     "output_type": "execute_result"
    }
   ],
   "source": [
    "action_probs = {obs : utils_02.query_policy(ppo, env, obs) for obs in range(16)}\n",
    "action_probs_df = pd.DataFrame(action_probs, index=[\"left\", \"down\", \"right\", \"up\"]).T\n",
    "action_probs_df"
   ]
  },
  {
   "cell_type": "markdown",
   "id": "12033ae1-8ff6-4177-86fb-43a43a65b8f6",
   "metadata": {},
   "source": [
    "Notas:\n",
    "\n",
    "Antes sólo considerábamos la observación 0, es decir, la primera fila de la tabla anterior."
   ]
  },
  {
   "cell_type": "markdown",
   "id": "4d83f8b3-a489-4da1-b000-402cbf192497",
   "metadata": {
    "tags": []
   },
   "source": [
    "#### Ver las políticas estocásticas\n",
    "\n",
    "También podemos ver esto como una imagen:"
   ]
  },
  {
   "cell_type": "code",
   "execution_count": 29,
   "id": "67a7b13e-82f5-4c51-a3ad-e0b27410aa44",
   "metadata": {
    "tags": []
   },
   "outputs": [],
   "source": [
    "# HIDDEN\n",
    "# df = pd.DataFrame(action_probs, index=[\"left\", \"down\", \"right\", \"up\"]).T\n",
    "# plt.figure(figsize=(8,4))\n",
    "# plt.imshow(df.values.T)\n",
    "# plt.yticks(np.arange(4), labels=[\"left\", \"down\", \"up\", \"right\"])\n",
    "# plt.xticks(np.arange(16), labels=np.arange(16))\n",
    "# plt.setp(plt.gca().get_xticklabels(), rotation=45, ha=\"right\",\n",
    "#          rotation_mode=\"anchor\")\n",
    "# plt.xlabel(\"observations\")\n",
    "# plt.ylabel(\"actions\")\n",
    "# plt.colorbar(location=\"bottom\")\n",
    "# plt.tight_layout()"
   ]
  },
  {
   "cell_type": "code",
   "execution_count": 30,
   "id": "08aed05b-ced6-465f-bc0e-636daf0a0b36",
   "metadata": {},
   "outputs": [
    {
     "data": {
      "image/png": "[encoded data removed]",
      "text/plain": [
       "<Figure size 300x600 with 2 Axes>"
      ]
     },
     "metadata": {},
     "output_type": "display_data"
    }
   ],
   "source": [
    "utils_02.plot_action_probs(action_probs)"
   ]
  },
  {
   "cell_type": "markdown",
   "id": "e860de2e-9b73-4968-a99f-07da50e5978c",
   "metadata": {},
   "source": [
    "Observa cómo el agente sólo se mueve hacia abajo y hacia la derecha en el Lago Helado no resbaladizo.\n",
    "\n",
    "Notas:\n",
    "    \n",
    "Observa cómo el agente sólo se mueve hacia abajo y hacia la derecha. Esto se debe a que estamos utilizando el lago congelado no resbaladizo. En este caso, el agente puede simplemente moverse desde el principio hasta el final sin que nada vaya mal. Por lo tanto, no hay necesidad de moverse hacia arriba o hacia la izquierda."
   ]
  },
  {
   "cell_type": "markdown",
   "id": "26024e5e-9bc1-4149-9d66-16478514214b",
   "metadata": {},
   "source": [
    "#### Visualizar las probabilidades de acción\n",
    "\n",
    "Podemos visualizar estas probabilidades de acción superponiéndolas al mapa del Lago Congelado:"
   ]
  },
  {
   "cell_type": "code",
   "execution_count": 31,
   "id": "60c03554-9cff-4562-a0f9-71969743837b",
   "metadata": {},
   "outputs": [
    {
     "data": {
      "image/png": "[encoded data removed]",
      "text/plain": [
       "<Figure size 640x480 with 2 Axes>"
      ]
     },
     "metadata": {},
     "output_type": "display_data"
    }
   ],
   "source": [
    "utils_02.q_state_action_plot_frozenlake(action_probs_df.values, env)"
   ]
  },
  {
   "cell_type": "markdown",
   "id": "65ad088d-e1dd-40e4-8fd6-1315106b5378",
   "metadata": {},
   "source": [
    "Notas:\n",
    "\n",
    "Observa cómo el agente tiene a menudo probabilidades muy cercanas a 1 (amarillo). Está claro que quiere caminar hacia la meta. Las probabilidades de los estados de agujero o meta están menos definidas porque los episodios terminan allí. El agente suele empezar moviéndose hacia abajo, pero a veces se mueve hacia la derecha, con lo que también llega a la meta \n",
    "\n",
    "En el Módulo 4 hablaremos de algo llamado factor de descuento, que explica por qué al agente no le gusta perder el tiempo caminando hacia el borde del mapa."
   ]
  },
  {
   "cell_type": "markdown",
   "id": "7273e5a4-0b80-433c-98a4-cee3aef8f47c",
   "metadata": {},
   "source": [
    "#### Lago helado resbaladizo\n",
    "\n",
    "Comparemos lo anterior con el resbaladizo Lago Helado, restaurando en su lugar un agente entrenado en ese env:"
   ]
  },
  {
   "cell_type": "code",
   "execution_count": 32,
   "id": "1164c157-10b0-4502-adff-5f2610b72851",
   "metadata": {},
   "outputs": [],
   "source": [
    "ppo_slip = ppo_config.environment(env_config={\"is_slippery\" : True}).build(\"FrozenLake-v1\")\n",
    "env_slip = gym.make(\"FrozenLake-v1\", is_slippery=True)"
   ]
  },
  {
   "cell_type": "code",
   "execution_count": 33,
   "id": "caf34f11-344a-412b-a272-581cac43f5b2",
   "metadata": {},
   "outputs": [],
   "source": [
    "ppo_slip.restore(\"models/FrozenLakeSlippery-3232-Ray2/checkpoint_000060\")"
   ]
  },
  {
   "cell_type": "code",
   "execution_count": 34,
   "id": "2e39804d-b683-404c-9a7a-443569b284d7",
   "metadata": {},
   "outputs": [],
   "source": [
    "action_probs_slip = {obs : utils_02.query_policy(ppo_slip, env_slip, obs) for obs in range(16)}\n",
    "action_probs_slip_df = pd.DataFrame(action_probs_slip, index=[\"left\", \"down\", \"right\", \"up\"]).T"
   ]
  },
  {
   "cell_type": "code",
   "execution_count": 35,
   "id": "6ede9826-c205-4d30-a1c7-3511d5d6af1e",
   "metadata": {},
   "outputs": [
    {
     "data": {
      "image/png": "[encoded data removed]",
      "text/plain": [
       "<Figure size 1000x400 with 4 Axes>"
      ]
     },
     "metadata": {},
     "output_type": "display_data"
    }
   ],
   "source": [
    "plt.figure(figsize=(10,4))\n",
    "plt.subplot(1,2,1)\n",
    "utils_02.q_state_action_plot_frozenlake(action_probs_df.values, env)\n",
    "plt.title(\"Non-slippery\")\n",
    "plt.subplot(1,2,2)\n",
    "utils_02.q_state_action_plot_frozenlake(action_probs_slip_df.values, env_slip)\n",
    "plt.title(\"Slippery\")"
   ]
  },
  {
   "cell_type": "markdown",
   "id": "2017675f-0387-4300-b8fe-0edf66dc8b2b",
   "metadata": {},
   "source": [
    "Notas:\n",
    "\n",
    "Vamos a compararlas una al lado de la otra. Anteriormente hablamos del lago helado no resbaladizo, en el que el agente camina hacia la meta de forma sencilla. En el lago helado resbaladizo, el agente se comporta de forma poco intuitiva al principio, eligiendo a menudo caminar hacia la pared. Sin embargo, tras una inspección más detallada, vemos que esto es para evitar caer en los agujeros.  Por ejemplo, en la posición 10 se mueve hacia la izquierda para evitar cualquier posibilidad de caer en el agujero de la posición 11. Sin embargo, ¿por qué el agente se mueve hacia abajo en la posición 14? ¿Por qué no a la derecha? Responderemos a esta pregunta en el módulo 5, cuando hablemos de los valores Q. ¡Estáte atento! La respuesta breve es que prefiere evitar la ubicación 10, porque la ubicación 10 tiene que evitar la ubicación 11, que es una molestia porque tiene que moverse a la ubicación 9 \n",
    "\n",
    "También podemos ver que este agente se comporta de forma bastante determinista, es decir, para cada estado suele haber una acción con probabilidad cercana a 1. A continuación exploraremos esto un poco más."
   ]
  },
  {
   "cell_type": "markdown",
   "id": "6c35a0fa-b849-4c1c-a93a-4d50a05c1b8e",
   "metadata": {
    "tags": []
   },
   "source": [
    "#### Actuación estocástica\n",
    "\n",
    "- Anteriormente vimos las probabilidades de acción de nuestro agente no resbaladizo.\n",
    "- Podemos comprobar que `compute_single_action` actuará según estas probabilidades:"
   ]
  },
  {
   "cell_type": "code",
   "execution_count": 36,
   "id": "098512e5-5290-4736-99aa-5663d4c3bc12",
   "metadata": {},
   "outputs": [
    {
     "data": {
      "text/plain": [
       "array([3.0708601e-04, 8.6194783e-01, 1.3743131e-01, 3.1362689e-04],\n",
       "      dtype=float32)"
      ]
     },
     "execution_count": 36,
     "metadata": {},
     "output_type": "execute_result"
    }
   ],
   "source": [
    "action_probs[0]"
   ]
  },
  {
   "cell_type": "code",
   "execution_count": 37,
   "id": "700ac122-31cc-4718-98e0-215e58190c17",
   "metadata": {},
   "outputs": [
    {
     "data": {
      "image/png": "[encoded data removed]",
      "text/plain": [
       "<Figure size 640x480 with 1 Axes>"
      ]
     },
     "metadata": {},
     "output_type": "display_data"
    }
   ],
   "source": [
    "counts = np.bincount([ppo.compute_single_action(0) for _ in range(10_000)])\n",
    "plt.bar([0,1,2,3], counts/10_000)\n",
    "plt.xticks([0,1,2,3])\n",
    "plt.xlabel(\"Action\")\n",
    "plt.ylabel(\"Empirical dist\")"
   ]
  },
  {
   "cell_type": "markdown",
   "id": "0d0e4b31-fdb9-4874-bfd6-ed5ed8bc6296",
   "metadata": {},
   "source": [
    "#### Actuar de forma determinista\n",
    "\n",
    "También podemos decirle al agente que actúe de forma determinista con `explorar=False`:"
   ]
  },
  {
   "cell_type": "code",
   "execution_count": 38,
   "id": "d2c8797d-7eb8-480b-887f-470c46901f9b",
   "metadata": {},
   "outputs": [
    {
     "data": {
      "text/plain": [
       "1"
      ]
     },
     "execution_count": 38,
     "metadata": {},
     "output_type": "execute_result"
    }
   ],
   "source": [
    "ppo.compute_single_action(0, explore=False)"
   ]
  },
  {
   "cell_type": "code",
   "execution_count": 39,
   "id": "046bbdf5-ca03-46f9-b6be-2547653d7eff",
   "metadata": {},
   "outputs": [
    {
     "name": "stdout",
     "output_type": "stream",
     "text": [
      "[1, 1, 1, 1, 1, 1, 1, 1, 1, 1, 1, 1, 1, 1, 1, 1, 1, 1, 1, 1, 1, 1, 1, 1, 1, 1, 1, 1, 1, 1, 1, 1, 1, 1, 1, 1, 1, 1, 1, 1, 1, 1, 1, 1, 1, 1, 1, 1, 1, 1, 1, 1, 1, 1, 1, 1, 1, 1, 1, 1, 1, 1, 1, 1, 1, 1, 1, 1, 1, 1, 1, 1, 1, 1, 1, 1, 1, 1, 1, 1, 1, 1, 1, 1, 1, 1, 1, 1, 1, 1, 1, 1, 1, 1, 1, 1, 1, 1, 1, 1]\n"
     ]
    }
   ],
   "source": [
    "print([ppo.compute_single_action(0, explore=False) for _ in range(100)])"
   ]
  },
  {
   "cell_type": "markdown",
   "id": "1a99fdf2-2121-42dd-a0e6-e6bed5544197",
   "metadata": {},
   "source": [
    "A menudo esto es deseable, pero **a veces la política óptima es estocástica**."
   ]
  },
  {
   "cell_type": "markdown",
   "id": "e1cdcb47-11cf-450f-baa9-b63fb975d52a",
   "metadata": {},
   "source": [
    "Notas:\n",
    "\n",
    "Durante el entrenamiento, la exploración es un concepto fundamental en la VR. ¡Lo discutiremos en el Módulo 4!\n",
    "\n",
    "En el Módulo 4 también veremos un ejemplo en el que la política óptima es estocástica, por lo que definitivamente no querremos establecer `explorar=False` en la implementación."
   ]
  },
  {
   "cell_type": "markdown",
   "id": "d205da70-1255-437c-8a99-6ea8a5e8d2a0",
   "metadata": {},
   "source": [
    "#### ¡Apliquemos lo que hemos aprendido!"
   ]
  },
  {
   "cell_type": "markdown",
   "id": "dd539d44-aa7c-4958-b448-7759f3adc20e",
   "metadata": {
    "tags": []
   },
   "source": [
    "## Sintaxis de configuración de RLlib\n",
    "<!-- multiple choice -->\n",
    "\n",
    "¿Cuál de las siguientes es **NO** la sintaxis RLlib correcta para instanciar una instancia del algoritmo PPO? Supón que ya se ha ejecutado la siguiente importación:\n",
    "\n",
    "``python\n",
    "from ray.rllib.algorithms.ppo import PPO, PPOConfig\n",
    "```\n",
    "\n",
    "- [ ] PPOConfig().build(env='FrozenLake-v1')\n",
    "- [ ] PPOConfig().environment(env='FrozenLake-v1').build()\n",
    "- [x] PPOConfig(env='FrozenLake-v1').build()\n",
    "- [ ] PPO(env='FrozenLake-v1')"
   ]
  },
  {
   "cell_type": "code",
   "execution_count": 40,
   "id": "46809a96-dc1f-4d56-ad40-226c68d70a79",
   "metadata": {},
   "outputs": [],
   "source": [
    "# # HIDDEN - TO TEST THE ABOVE QUESTION\n",
    "# from ray.rllib.algorithms.ppo import PPO, PPOConfig\n",
    "\n",
    "# PPOConfig().framework(\"torch\").build(env=\"FrozenLake-v1\")\n",
    "# PPOConfig().framework(\"torch\").environment(env=\"FrozenLake-v1\").build()\n",
    "# PPO(env=\"FrozenLake-v1\", config={\"framework\" : \"torch\"})\n",
    "# PPOConfig(env=\"FrozenLake-v1\").framework(\"torch\").build()"
   ]
  },
  {
   "cell_type": "markdown",
   "id": "fce5cbd1-2669-4470-abd7-573ac1b8205a",
   "metadata": {},
   "source": [
    "## Guardar/restaurar modelos\n",
    "<!-- multiple choice -->\n",
    "\n",
    "¿Cuál de los siguientes es **NO** un uso plausible de guardar (\"checkpointing\") modelos en RLlib?\n",
    "\n",
    "- [x] El checkpointing genera criptomonedas.\n",
    "- [ ] En un curso como éste, cargar un punto de control significa que no tienes que esperar siempre a que los modelos se entrenen.\n",
    "- [ ] Los modelos guardados pueden almacenarse, compartirse, copiarse y/o trasladarse para su despliegue.\n",
    "- [ ] El entrenamiento puede reanudarse desde un punto de control en caso de que falle y sea necesario reiniciarlo."
   ]
  },
  {
   "cell_type": "markdown",
   "id": "b2a2dd37-444e-4bfc-a7eb-220271154672",
   "metadata": {
    "tags": []
   },
   "source": [
    "## Entorno de la cesta de la compra\n",
    "<!-- coding exercise -->\n",
    "\n",
    "Un entorno de referencia famoso en RL es el entorno _Cartpole_, en el que el agente debe equilibrar un [péndulo invertido](https://en.wikipedia.org/wiki/Inverted_pendulum) aplicando fuerza sobre el carro (en la parte inferior) para mantenerlo estable. Hay más información en la documentación del gimnasio [aquí](https://www.gymlibrary.ml/environments/classic_control/cart_pole/).\n",
    "\n",
    "Completa el código para que restaure el modelo entrenado desde el punto de control y luego renderice el entorno con el agente entrenado.\n",
    "\n",
    "Nota: el código que sigue importa el entorno `MyCartPole`. Es idéntica a la de gym `'CartPole-v1`, salvo que se ha anulado el método de renderización con algo que se puede mostrar dentro de esta plataforma de curso interactivo "
   ]
  },
  {
   "cell_type": "code",
   "execution_count": 41,
   "id": "0970d506-7af2-43de-9381-8de380e69497",
   "metadata": {
    "tags": [
     "raises-exception"
    ]
   },
   "outputs": [
    {
     "ename": "NameError",
     "evalue": "name '____' is not defined",
     "output_type": "error",
     "traceback": [
      "\u001b[0;31m---------------------------------------------------------------------------\u001b[0m",
      "\u001b[0;31mNameError\u001b[0m                                 Traceback (most recent call last)",
      "Input \u001b[0;32mIn [41]\u001b[0m, in \u001b[0;36m<cell line: 11>\u001b[0;34m()\u001b[0m\n\u001b[1;32m      7\u001b[0m \u001b[38;5;28;01mfrom\u001b[39;00m \u001b[38;5;21;01menvs\u001b[39;00m \u001b[38;5;28;01mimport\u001b[39;00m MyCartPole\n\u001b[1;32m      8\u001b[0m \u001b[38;5;28;01mfrom\u001b[39;00m \u001b[38;5;21;01mray\u001b[39;00m\u001b[38;5;21;01m.\u001b[39;00m\u001b[38;5;21;01mrllib\u001b[39;00m\u001b[38;5;21;01m.\u001b[39;00m\u001b[38;5;21;01malgorithms\u001b[39;00m\u001b[38;5;21;01m.\u001b[39;00m\u001b[38;5;21;01mppo\u001b[39;00m \u001b[38;5;28;01mimport\u001b[39;00m PPO, PPOConfig\n\u001b[1;32m     10\u001b[0m config \u001b[38;5;241m=\u001b[39m (\n\u001b[0;32m---> 11\u001b[0m     \u001b[43m____\u001b[49m()\\\n\u001b[1;32m     12\u001b[0m     \u001b[38;5;241m.\u001b[39mframework(\u001b[38;5;124m\"\u001b[39m\u001b[38;5;124mtorch\u001b[39m\u001b[38;5;124m\"\u001b[39m)\\\n\u001b[1;32m     13\u001b[0m     \u001b[38;5;241m.\u001b[39mrollouts(create_env_on_local_worker\u001b[38;5;241m=\u001b[39m\u001b[38;5;28;01mTrue\u001b[39;00m)\\\n\u001b[1;32m     14\u001b[0m     \u001b[38;5;241m.\u001b[39mdebugging(seed\u001b[38;5;241m=\u001b[39m\u001b[38;5;241m0\u001b[39m, log_level\u001b[38;5;241m=\u001b[39m\u001b[38;5;124m\"\u001b[39m\u001b[38;5;124mERROR\u001b[39m\u001b[38;5;124m\"\u001b[39m)\\\n\u001b[1;32m     15\u001b[0m     \u001b[38;5;241m.\u001b[39mtraining(model\u001b[38;5;241m=\u001b[39m{\u001b[38;5;124m\"\u001b[39m\u001b[38;5;124mfcnet_hiddens\u001b[39m\u001b[38;5;124m\"\u001b[39m : [\u001b[38;5;241m32\u001b[39m,\u001b[38;5;241m32\u001b[39m]})\n\u001b[1;32m     16\u001b[0m )\n\u001b[1;32m     18\u001b[0m ppo \u001b[38;5;241m=\u001b[39m ____\u001b[38;5;241m.\u001b[39m____(env\u001b[38;5;241m=\u001b[39mMyCartPole);\n\u001b[1;32m     20\u001b[0m ____\u001b[38;5;241m.\u001b[39mrestore(\u001b[38;5;124m\"\u001b[39m\u001b[38;5;124mmodels/CartPole-Ray2/checkpoint_000050\u001b[39m\u001b[38;5;124m\"\u001b[39m)\n",
      "\u001b[0;31mNameError\u001b[0m: name '____' is not defined"
     ]
    }
   ],
   "source": [
    "# EXERCISE\n",
    "import numpy as np\n",
    "import time\n",
    "from IPython import display\n",
    "\n",
    "from envs_02 import MyCartPole\n",
    "from ray.rllib.algorithms.ppo import PPO, PPOConfig\n",
    "\n",
    "config = (\n",
    "    ____()\n",
    "    .framework(\"torch\")\n",
    "    .rollouts(create_env_on_local_worker=True)\n",
    "    .debugging(seed=0, log_level=\"ERROR\")\n",
    "    .training(model={\"fcnet_hiddens\" : [32,32]})\n",
    ")\n",
    "\n",
    "ppo = ____.____(env=MyCartPole)\n",
    "\n",
    "____.restore(\"models/CartPole-Ray2/checkpoint_000050\")\n",
    "\n",
    "env = MyCartPole()\n",
    "obs = env.reset()\n",
    "done = False\n",
    "while not done:\n",
    "    action = ppo.compute_single_action(obs)\n",
    "    obs, reward, done, _ = env.step(action)\n",
    "\n",
    "    env.render()\n",
    "    time.sleep(0.01)\n",
    "\n",
    "display.clear_output(wait=True)"
   ]
  },
  {
   "cell_type": "code",
   "execution_count": 42,
   "id": "c47b1f3a-66b1-463f-9e59-2b3c903cb377",
   "metadata": {},
   "outputs": [
    {
     "data": {
      "image/png": "[encoded data removed]",
      "text/plain": [
       "<Figure size 640x480 with 1 Axes>"
      ]
     },
     "metadata": {},
     "output_type": "display_data"
    }
   ],
   "source": [
    "# SOLUTION\n",
    "import numpy as np\n",
    "import time\n",
    "from IPython import display\n",
    "\n",
    "from envs_02 import MyCartPole\n",
    "from ray.rllib.algorithms.ppo import PPO, PPOConfig\n",
    "\n",
    "config = (\n",
    "    PPOConfig()\n",
    "    .framework(\"torch\")\n",
    "    .rollouts(create_env_on_local_worker=True)\n",
    "    .debugging(seed=0, log_level=\"ERROR\")\n",
    "    .training(model={\"fcnet_hiddens\" : [32,32]})\n",
    ")\n",
    "\n",
    "ppo = config.build(env=MyCartPole)\n",
    "\n",
    "ppo.restore(\"models/CartPole-Ray2/checkpoint_000050\")\n",
    "\n",
    "env = MyCartPole()\n",
    "obs = env.reset()\n",
    "done = False\n",
    "while not done:\n",
    "    action = ppo.compute_single_action(obs)\n",
    "    obs, reward, done, _ = env.step(action)\n",
    "\n",
    "    env.render()\n",
    "    time.sleep(0.01)\n",
    "\n",
    "display.clear_output(wait=True)"
   ]
  },
  {
   "cell_type": "markdown",
   "id": "f243501c-242d-45b9-8fd2-1ae05577e1fb",
   "metadata": {},
   "source": [
    "## Entorno de los cartuchos continuado\n",
    "<!-- coding exercise -->\n",
    "\n",
    "Continuando con el entorno CartPole\n",
    "en este ejercicio exploraremos el comportamiento del agente entrenado utilizando la función\n",
    "función `utils_02.query_Policy` de las diapositivas. En el caso de CartPole\n",
    "el espacio de observación es continuo, pero el espacio de acción es discreto con sólo dos\n",
    "posibilidades (empujar a la izquierda o empujar a la derecha). Por tanto, sólo podemos observar la\n",
    "probabilidad de que el agente empuje a la izquierda, ya que P(derecha) = 1 - P(izquierda).\n",
    "El espacio de acción contiene 4 variables continuas (ángulo del poste, velocidad angular\n",
    "posición horizontal del carro, velocidad horizontal del carro), pero nos centraremos sólo en\n",
    "el ángulo del poste. El resultado es un gráfico de P(izquierda) frente al ángulo del poste\n",
    "(donde los otros tres valores de observación se fijan en cero).\n",
    "Ejecuta el código y luego responde a la pregunta de opción múltiple que aparece a continuación."
   ]
  },
  {
   "cell_type": "code",
   "execution_count": 43,
   "id": "63741c66-fdb3-4da1-8260-5107f144ab54",
   "metadata": {},
   "outputs": [
    {
     "data": {
      "image/png": "[encoded data removed]",
      "text/plain": [
       "<Figure size 640x480 with 1 Axes>"
      ]
     },
     "metadata": {},
     "output_type": "display_data"
    }
   ],
   "source": [
    "# EXERCISE\n",
    "import numpy as np\n",
    "import matplotlib.pyplot as plt\n",
    "\n",
    "import utils_02\n",
    "import envs_02\n",
    "\n",
    "cartpole_config = (\n",
    "    PPOConfig()\n",
    "    .framework(\"torch\")\n",
    "    .rollouts(create_env_on_local_worker=True)\n",
    "    .debugging(seed=0, log_level=\"ERROR\")\n",
    "    .training(model={\"fcnet_hiddens\" : [32, 32]})\n",
    "    .environment(env=envs_02.MyCartPole)\n",
    ")\n",
    "\n",
    "ppo = cartpole_config.build()\n",
    "\n",
    "ppo.restore(\"models/CartPole-Ray2/checkpoint_000050\")\n",
    "\n",
    "angle_range_deg = np.arange(-15,15,0.1)\n",
    "push_left_probs = 0*angle_range_deg\n",
    "\n",
    "env = envs_02.MyCartPole()\n",
    "obs = env.reset()\n",
    "for i, angle_deg in enumerate(angle_range_deg):\n",
    "    angle_rad = angle_deg/180*np.pi\n",
    "    \n",
    "    obs = np.zeros(4)\n",
    "    obs[2] = angle_rad\n",
    "\n",
    "    push_left_probs[i] = utils_02.query_policy(ppo, env, obs, actions=[0,1])[0]\n",
    "\n",
    "plt.plot(angle_range_deg, push_left_probs)\n",
    "plt.xlabel(\"pole angle (degrees)\")\n",
    "plt.ylabel(\"probability of pushing left\")"
   ]
  },
  {
   "cell_type": "code",
   "execution_count": 44,
   "id": "3a5a7f1a-4fd7-4182-b4f9-2a23fb5618de",
   "metadata": {},
   "outputs": [
    {
     "data": {
      "image/png": "[encoded data removed]",
      "text/plain": [
       "<Figure size 640x480 with 1 Axes>"
      ]
     },
     "metadata": {},
     "output_type": "display_data"
    }
   ],
   "source": [
    "# SOLUTION\n",
    "import numpy as np\n",
    "import matplotlib.pyplot as plt\n",
    "\n",
    "import utils_02\n",
    "import envs_02\n",
    "\n",
    "cartpole_config = (\n",
    "    PPOConfig()\n",
    "    .framework(\"torch\")\n",
    "    .rollouts(create_env_on_local_worker=True)\n",
    "    .debugging(seed=0, log_level=\"ERROR\")\n",
    "    .training(model={\"fcnet_hiddens\" : [32, 32]})\n",
    "    .environment(env=envs_02.MyCartPole)\n",
    ")\n",
    "\n",
    "ppo = cartpole_config.build()\n",
    "\n",
    "ppo.restore(\"models/CartPole-Ray2/checkpoint_000050\")\n",
    "\n",
    "angle_range_deg = np.arange(-15,15,0.1)\n",
    "push_left_probs = 0*angle_range_deg\n",
    "\n",
    "env = envs_02.MyCartPole()\n",
    "obs = env.reset()\n",
    "for i, angle_deg in enumerate(angle_range_deg):\n",
    "    angle_rad = angle_deg/180*np.pi\n",
    "    \n",
    "    obs = np.zeros(4)\n",
    "    obs[2] = angle_rad\n",
    "\n",
    "    push_left_probs[i] = utils_02.query_policy(ppo, env, obs, actions=[0,1])[0]\n",
    "\n",
    "plt.plot(angle_range_deg, push_left_probs)\n",
    "plt.xlabel(\"pole angle (degrees)\")\n",
    "plt.ylabel(\"probability of pushing left\")"
   ]
  },
  {
   "cell_type": "markdown",
   "id": "06a14614-d1c5-4319-9559-543ecf432699",
   "metadata": {},
   "source": [
    "#### Interpretación de la trama\n",
    "\n",
    "¿Cómo afecta el ángulo del poste observado a la probabilidad del agente entrenado de empujar hacia la izquierda?\n",
    "\n",
    "- [ ] Los ángulos de poste positivos (inclinados hacia la derecha) hacen que el agente tenga más probabilidades de empujar el carro hacia la izquierda. | Ten en cuenta que el agente quiere empujar el carro por debajo de la parte superior del poste.\n",
    "- [x] Los ángulos negativos del poste (inclinados hacia la izquierda) hacen que el agente tenga más probabilidades de empujar el carro hacia la izquierda.\n",
    "- [ ] La probabilidad de que el agente empuje hacia la izquierda no se ve afectada significativamente por el ángulo del poste.\n",
    "- [ ] Ninguna de las anteriores."
   ]
  },
  {
   "cell_type": "code",
   "execution_count": null,
   "id": "ad2370b6-7abb-4d23-adad-ada45068d3c9",
   "metadata": {},
   "outputs": [],
   "source": []
  }
 ],
 "metadata": {
  "kernelspec": {
   "display_name": "Python [conda env:ray200]",
   "language": "python",
   "name": "conda-env-ray200-py"
  },
  "language_info": {
   "codemirror_mode": {
    "name": "ipython",
    "version": 3
   },
   "file_extension": ".py",
   "mimetype": "text/x-python",
   "name": "python",
   "nbconvert_exporter": "python",
   "pygments_lexer": "ipython3",
   "version": "3.9.13"
  }
 },
 "nbformat": 4,
 "nbformat_minor": 5
}
