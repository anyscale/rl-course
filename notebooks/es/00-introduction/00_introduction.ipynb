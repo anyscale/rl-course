{
 "cells": [
  {
   "cell_type": "markdown",
   "id": "15b89d29-6b6a-492d-9421-c3395dfd2020",
   "metadata": {},
   "source": [
    "## Introducción\n",
    "<!-- video shot=\"/OSdFnBfDwT0\" start=\"00:10\" end=\"02:52\" -->\n",
    "\n",
    "Notas:\n",
    "\n",
    "¡Bienvenido a este curso!"
   ]
  },
  {
   "cell_type": "markdown",
   "id": "18e2222c-d00d-4c69-b86e-18560e51896d",
   "metadata": {},
   "source": [
    "#### Objetivo del curso\n",
    "\n",
    "Al final de este curso, serás capaz de tomar un problema práctico, traducirlo a un entorno de RL y luego aplicar la RL para encontrar una política que resuelva el problema "
   ]
  },
  {
   "cell_type": "markdown",
   "id": "cc246420-7abf-4584-9d76-fbfb660c5ac9",
   "metadata": {},
   "source": [
    "#### Esquema del curso\n",
    "\n",
    "0. Introducción\n",
    "1. Componentes de la LR\n",
    "2. Rayo RLlib\n",
    "3. Construir tus propios entornos\n",
    "4. Aplicaciones del sistema de recomendación\n",
    "5. Bajo el capó"
   ]
  },
  {
   "cell_type": "markdown",
   "id": "df4dd879-8c05-4651-9dbd-a42ce1456a7a",
   "metadata": {},
   "source": [
    "#### Público objetivo / requisitos previos\n",
    "\n",
    "Persona que podría beneficiarse mucho de este curso:\n",
    "\n",
    "- Ingenieros de aprendizaje automático o científicos de datos que quieran aplicar el aprendizaje por refuerzo (RL)\n",
    "\n",
    "Conocimientos asumidos:\n",
    "\n",
    "- Familiarizado con Python/numpy\n",
    "- Familiarizado con ML básico y scikit-learn\n",
    "\n",
    "Es bueno tenerlo, pero no es obligatorio:\n",
    "\n",
    "- Familiaridad con las redes neuronales\n",
    "\n",
    "Conocimientos *NO* necesarios:\n",
    "\n",
    "- Si nunca has utilizado (u oído hablar) de Ray, no pasa nada\n",
    "- Si nunca has utilizado RL, no pasa nada\n",
    "- Matemáticas sofisticadas"
   ]
  },
  {
   "cell_type": "markdown",
   "id": "c66fb22e-ebef-4dfb-bcc3-4864edf5bdb4",
   "metadata": {
    "pycharm": {
     "name": "#%% md\n"
    }
   },
   "source": [
    "## ¿Cuándo podemos utilizar RL?\n",
    "<!-- multiple choice -->\n",
    "\n",
    "¿Para cuál de los siguientes problemas sería adecuada la RL?\n",
    "\n",
    "- [ ] Segmentar a tus clientes en diferentes grupos\n",
    "- [ ] Predecir el precio de la vivienda a partir de las características de la misma\n",
    "- [ ] Controlar un robot\n",
    "- [ ] Detectar si una imagen contiene un perro\n",
    "\n"
   ]
  }
 ],
 "metadata": {
  "kernelspec": {
   "display_name": "Python [conda env:ray200]",
   "language": "python",
   "name": "conda-env-ray200-py"
  },
  "language_info": {
   "codemirror_mode": {
    "name": "ipython",
    "version": 3
   },
   "file_extension": ".py",
   "mimetype": "text/x-python",
   "name": "python",
   "nbconvert_exporter": "python",
   "pygments_lexer": "ipython3",
   "version": "3.9.13"
  }
 },
 "nbformat": 4,
 "nbformat_minor": 5
}
