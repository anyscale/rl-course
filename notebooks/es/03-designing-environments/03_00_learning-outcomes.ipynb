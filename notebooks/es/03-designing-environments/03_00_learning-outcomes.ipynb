{
 "cells": [
  {
   "cell_type": "markdown",
   "id": "18e2222c-d00d-4c69-b86e-18560e51896d",
   "metadata": {},
   "source": [
    "## Módulo 3 Resultados del aprendizaje"
   ]
  },
  {
   "cell_type": "markdown",
   "id": "9a4fb6d8-19f9-407a-9393-a99269afd577",
   "metadata": {},
   "source": [
    "#### Resultados de aprendizaje del módulo\n",
    "\n",
    "Al final de este módulo, serás capaz de\n",
    "\n",
    "- Crear tu propio entorno de RL desde cero en Python.\n",
    "- Dado un problema, seleccionar una representación adecuada del espacio de observación.\n",
    "- Dado un problema, seleccionar una representación adecuada del espacio de acción.\n",
    "- Dar forma a tus recompensas para mejorar el entrenamiento.\n",
    "- Explica la noción de explotación vs. exploración en RL."
   ]
  },
  {
   "cell_type": "markdown",
   "id": "f72b16f7-7bae-436d-b5db-a3a0f39dd52d",
   "metadata": {},
   "source": [
    "#### ¡Empecemos el Módulo 3!"
   ]
  },
  {
   "cell_type": "code",
   "execution_count": null,
   "id": "26c08d84-2974-4796-9656-34a7a1d7140e",
   "metadata": {},
   "outputs": [],
   "source": []
  }
 ],
 "metadata": {
  "kernelspec": {
   "display_name": "Python [conda env:ray200]",
   "language": "python",
   "name": "conda-env-ray200-py"
  },
  "language_info": {
   "codemirror_mode": {
    "name": "ipython",
    "version": 3
   },
   "file_extension": ".py",
   "mimetype": "text/x-python",
   "name": "python",
   "nbconvert_exporter": "python",
   "pygments_lexer": "ipython3",
   "version": "3.9.13"
  }
 },
 "nbformat": 4,
 "nbformat_minor": 5
}
