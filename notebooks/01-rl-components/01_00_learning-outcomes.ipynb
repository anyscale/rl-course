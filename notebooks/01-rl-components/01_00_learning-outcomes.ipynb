{
 "cells": [
  {
   "cell_type": "markdown",
   "id": "18e2222c-d00d-4c69-b86e-18560e51896d",
   "metadata": {},
   "source": [
    "## Module 1 Learning Outcomes"
   ]
  },
  {
   "cell_type": "markdown",
   "id": "9a878f79-7a09-45cc-bbde-c1f3e4626b78",
   "metadata": {},
   "source": [
    "#### Module Learning Outcomes\n",
    "\n",
    "By the end of this module, you will be able to:\n",
    "\n",
    "- Compare and contrast reinforcement learning vs. supervised learning\n",
    "- Interact with RL environments and enumerate their key components\n",
    "- Interact with RL policies and enumerate different types of policies\n",
    "- Explain how environments and policies fit into the \"API\" of RL\n",
    "- Train and agent with RL using Ray RLlib\n",
    "- Compare and contrast the interface of RLlib vs. scikit-learn"
   ]
  },
  {
   "cell_type": "markdown",
   "id": "f847e29d-4776-40b1-8dd4-ae8e51f11483",
   "metadata": {
    "pycharm": {
     "name": "#%% md\n"
    }
   },
   "source": [
    "#### Let's start Module 1!"
   ]
  }
 ],
 "metadata": {
  "kernelspec": {
   "display_name": "Python [conda env:rl-course]",
   "language": "python",
   "name": "conda-env-rl-course-py"
  },
  "language_info": {
   "codemirror_mode": {
    "name": "ipython",
    "version": 3
   },
   "file_extension": ".py",
   "mimetype": "text/x-python",
   "name": "python",
   "nbconvert_exporter": "python",
   "pygments_lexer": "ipython3",
   "version": "3.8.13"
  }
 },
 "nbformat": 4,
 "nbformat_minor": 5
}