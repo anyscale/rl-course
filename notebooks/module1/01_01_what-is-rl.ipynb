{
 "cells": [
  {
   "cell_type": "markdown",
   "id": "15b89d29-6b6a-492d-9421-c3395dfd2020",
   "metadata": {},
   "source": [
    "## Applied Reinforcement Learning\n",
    "\n",
    "## Module 1: RL Terminology"
   ]
  },
  {
   "cell_type": "markdown",
   "id": "9ab582f2-f68b-468f-b81f-81cdaf0975d7",
   "metadata": {},
   "source": [
    "TODO: images to be added to slides later"
   ]
  },
  {
   "cell_type": "markdown",
   "id": "18e2222c-d00d-4c69-b86e-18560e51896d",
   "metadata": {},
   "source": [
    "## Module Learning Outcomes\n",
    "\n",
    "TODO"
   ]
  },
  {
   "cell_type": "markdown",
   "id": "f1b7166b-7d2d-4359-8884-9b555d7250a3",
   "metadata": {},
   "source": [
    "## Supervised learning refresher\n",
    "\n",
    "- Supervised learning learns to predict $y$ (most commonly a number or category) from $x$ (most commonly a vector of numbers or an image) given a dataset."
   ]
  },
  {
   "cell_type": "markdown",
   "id": "c6ac1229-6812-4b4e-90ab-6dea0df4d170",
   "metadata": {},
   "source": [
    "## Supervised learning examples\n",
    "\n",
    "- Predicting house prices given house features\n",
    "- Classifying an email as spam or not spam\n",
    "- Identifying whether an image contains a dog"
   ]
  },
  {
   "cell_type": "markdown",
   "id": "64da2571-1637-499f-8425-28c38bed0fc3",
   "metadata": {},
   "source": [
    "## Reinforcement learning\n",
    "\n",
    "- SL input: a dataset of $(x,y)$ pairs\n",
    "- SL output: a piece of code (\"model\") that takes in an $x$ and predicts the $y$\n",
    "- RL input: an **environment** \n",
    "- RL output: a **policy** that makes decisions"
   ]
  },
  {
   "cell_type": "code",
   "execution_count": null,
   "id": "e1172953-8c76-4aa0-9d22-0e894bf3a6bd",
   "metadata": {},
   "outputs": [],
   "source": []
  }
 ],
 "metadata": {
  "kernelspec": {
   "display_name": "Python [conda env:rllib]",
   "language": "python",
   "name": "conda-env-rllib-py"
  },
  "language_info": {
   "codemirror_mode": {
    "name": "ipython",
    "version": 3
   },
   "file_extension": ".py",
   "mimetype": "text/x-python",
   "name": "python",
   "nbconvert_exporter": "python",
   "pygments_lexer": "ipython3",
   "version": "3.8.12"
  }
 },
 "nbformat": 4,
 "nbformat_minor": 5
}
