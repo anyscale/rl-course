{
 "cells": [
  {
   "cell_type": "markdown",
   "id": "b5aa21ad-6bb9-4990-ab4d-fb9435b0bc00",
   "metadata": {},
   "source": [
    "## Recommender env : implémentation"
   ]
  },
  {
   "cell_type": "code",
   "execution_count": 1,
   "id": "fdd0ce7d-4a5b-4d03-8d93-b176de9e4db7",
   "metadata": {},
   "outputs": [],
   "source": [
    "# HIDDEN\n",
    "import gym\n",
    "import numpy as np"
   ]
  },
  {
   "cell_type": "markdown",
   "id": "c38ea949-1d66-4b7b-a25d-a1ef65ca63a7",
   "metadata": {},
   "source": [
    "#### Mise en œuvre\n",
    "\n",
    "Nous sommes maintenant prêts à mettre en œuvre notre environnement "
   ]
  },
  {
   "cell_type": "markdown",
   "id": "a0293f36-0ca4-40d4-8c4f-456c07627269",
   "metadata": {
    "jp-MarkdownHeadingCollapsed": true,
    "tags": []
   },
   "source": [
    "#### Révision : de quoi un env a-t-il besoin ?\n",
    "\n",
    "Exigences pour un environnement RL :\n",
    "\n",
    "- Espace d'observation\n",
    "- Espace d'action\n",
    "- Constructeur\n",
    "- méthode `reset()`\n",
    "- méthode `step()`\n",
    "\n",
    "Nous allons maintenant créer tous ces éléments pour notre environnement de recommandation. Allons-y !\n",
    "\n",
    "Notes :\n",
    "\n",
    "Dans le module précédent, nous avons énuméré les exigences suivantes pour un environnement RL :"
   ]
  },
  {
   "cell_type": "markdown",
   "id": "56c68cf7-4dc6-4ab4-86c5-93b10fced0ae",
   "metadata": {},
   "source": [
    "#### Espace d'observation\n",
    "\n",
    "- La première étape consiste à définir l'espace d'observation \n",
    "- Nos observations sont les _caractéristiques des articles candidats_.\n",
    "- Pour simplifier, nous supposerons qu'il n'y a qu'une seule caractéristique.\n",
    "- Ici, nos observations sont à valeur continue, et non discrète comme Frozen Lake.\n",
    "- Si tu le souhaites, fais une pause et réfléchis à ce que devrait être l'espace d'observation.\n",
    "  - Tu peux consulter la documentation de la bibliothèque gym [ici] (https://www.gymlibrary.ml/content/spaces/)."
   ]
  },
  {
   "cell_type": "code",
   "execution_count": 2,
   "id": "64a506ca-cb76-4fba-a53d-65de3e467e7f",
   "metadata": {},
   "outputs": [],
   "source": [
    "# TODO\n",
    "# we could have a multiple choice in here\n",
    "# I guess it's potentially fine to have tons of short notebooks in this module???\n",
    "# might be a bit of a hassle for video recording?"
   ]
  },
  {
   "cell_type": "markdown",
   "id": "e2fdd370-3e7b-45f9-92e0-95bf26ca09ec",
   "metadata": {},
   "source": [
    "#### Espace d'observation\n",
    "\n",
    "- Nous voulons l'espace `Box` :"
   ]
  },
  {
   "cell_type": "code",
   "execution_count": 3,
   "id": "d66f7f10-c5e5-4e7b-ad4f-ad90934ba1a8",
   "metadata": {},
   "outputs": [],
   "source": [
    "# HIDDEN\n",
    "num_candidates=10"
   ]
  },
  {
   "cell_type": "code",
   "execution_count": 4,
   "id": "28bfa81a-a401-4bf1-a400-d97b305c7fc8",
   "metadata": {},
   "outputs": [],
   "source": [
    "observation_space = gym.spaces.Box(low=0, high=1, shape=(num_candidates,))"
   ]
  },
  {
   "cell_type": "markdown",
   "id": "d1ad3b01-c30a-4b2b-bdeb-aa9a923f7405",
   "metadata": {},
   "source": [
    "- Les caractéristiques sont comprises entre 0 et 1, le nombre de caractéristiques correspond au nombre de candidats aux postes \n",
    "- Voici un échantillon de l'espace d'observation :"
   ]
  },
  {
   "cell_type": "code",
   "execution_count": 5,
   "id": "d360bb64-1776-452a-976a-5c2ee3718169",
   "metadata": {},
   "outputs": [
    {
     "data": {
      "text/plain": [
       "array([0.84231544, 0.79355806, 0.90070623, 0.17489515, 0.85802037,\n",
       "       0.26228273, 0.88349086, 0.4622379 , 0.77141196, 0.37806642],\n",
       "      dtype=float32)"
      ]
     },
     "execution_count": 5,
     "metadata": {},
     "output_type": "execute_result"
    }
   ],
   "source": [
    "observation_space.sample()"
   ]
  },
  {
   "cell_type": "markdown",
   "id": "931c9abd-3444-4f33-a31e-4cba72b1751d",
   "metadata": {},
   "source": [
    "Ça a l'air bien 👍"
   ]
  },
  {
   "cell_type": "markdown",
   "id": "9bb5cadd-bbdc-4a19-931c-522c8902407f",
   "metadata": {},
   "source": [
    "#### Espace d'action\n",
    "\n",
    "- Dans cet environnement, l'action est l'élément choisi pour recommander.\n",
    "- Si tu le souhaites, fais une pause et réfléchis à ce que devrait être l'espace d'action.\n",
    "  - Tu peux consulter la documentation de la bibliothèque de gymnastique [ici] (https://www.gymlibrary.ml/content/spaces/)."
   ]
  },
  {
   "cell_type": "markdown",
   "id": "2b954af2-20ad-4b11-bdee-f19fca5abd22",
   "metadata": {},
   "source": [
    "#### Espace d'action\n",
    "\n",
    "Contrairement à l'espace d'observation, l'espace d'action _est_ discret :"
   ]
  },
  {
   "cell_type": "code",
   "execution_count": 6,
   "id": "9ee176e9-a81d-48a1-9338-bace6fe0dd2e",
   "metadata": {},
   "outputs": [],
   "source": [
    "action_space = gym.spaces.Discrete(num_candidates)"
   ]
  },
  {
   "cell_type": "markdown",
   "id": "ba417790-94a0-4dab-b3a7-ba3fd98ee567",
   "metadata": {},
   "source": [
    "Voici 15 actions choisies au hasard :"
   ]
  },
  {
   "cell_type": "code",
   "execution_count": 7,
   "id": "537f7414-e182-45bb-877f-4812b44b9e46",
   "metadata": {},
   "outputs": [
    {
     "data": {
      "text/plain": [
       "[9, 4, 5, 4, 5, 1, 6, 8, 7, 6, 8, 8, 6, 1, 7]"
      ]
     },
     "execution_count": 7,
     "metadata": {},
     "output_type": "execute_result"
    }
   ],
   "source": [
    "[action_space.sample() for i in range(15)]"
   ]
  },
  {
   "cell_type": "markdown",
   "id": "539c8ffb-4ebd-4e99-8e0a-08a8c32c9e5f",
   "metadata": {},
   "source": [
    "Ça a l'air bien 👍"
   ]
  },
  {
   "cell_type": "markdown",
   "id": "58280654-1e51-492c-96da-4764c0ceba37",
   "metadata": {
    "tags": []
   },
   "source": [
    "#### Constructeur\n",
    "\n",
    "Commençons par le constructeur :"
   ]
  },
  {
   "cell_type": "code",
   "execution_count": 8,
   "id": "f91a5816-bd80-4863-ba43-7af4cf1ca8ab",
   "metadata": {},
   "outputs": [],
   "source": [
    "class BasicRecommender(gym.Env):\n",
    "    def __init__(self, env_config=None):\n",
    "        # Set parameters    \n",
    "        self.num_candidates = env_config.get(\"num_candidates\", 10)\n",
    "        self.alpha = env_config.get(\"alpha\", 0.9)\n",
    "\n",
    "        # Set observation and action spaces\n",
    "        self.observation_space = gym.spaces.Box(low=0, high=1, shape=(self.num_candidates,))\n",
    "        self.action_space = gym.spaces.Discrete(self.num_candidates)"
   ]
  },
  {
   "cell_type": "markdown",
   "id": "722e84ed-5e80-42d2-a452-9da102588ddc",
   "metadata": {},
   "source": [
    "Notes :\n",
    "\n",
    "Les espaces d'observation et d'action suivent ce que nous avons vu dans le diaporama précédent "
   ]
  },
  {
   "cell_type": "markdown",
   "id": "eb1f4d98-9a6b-4669-98eb-3e59b6b12354",
   "metadata": {},
   "source": [
    "_COPY #### Reset\n",
    "\n",
    "Ensuite, nous avons besoin de notre méthode `reset()`, qui doit :\n",
    "\n",
    "- Réinitialiser le niveau de sucre\n",
    "- Echantillonner/simuler des caractéristiques aléatoires du document\n",
    "- Renvoyer l'observation "
   ]
  },
  {
   "cell_type": "code",
   "execution_count": 9,
   "id": "25a91fe9-1554-41ca-9a34-ec8fffbab641",
   "metadata": {},
   "outputs": [],
   "source": [
    "class BasicRecommender(gym.Env):\n",
    "\n",
    "    def reset(self):\n",
    "        self.sugar_level = 0.0                \n",
    "        self.documents = np.random.rand(self.num_candidates)\n",
    "        return self.documents"
   ]
  },
  {
   "cell_type": "markdown",
   "id": "5aa79d76-ad0d-49f6-9a1b-e53d5ae50064",
   "metadata": {},
   "source": [
    "Notes :\n",
    "\n",
    "Nous réinitialiserons le niveau de sucre à zéro, mais d'autres choix pourraient également être raisonnables. Pour simplifier, nous ferons également en sorte que les caractéristiques soient comprises entre 0 et 1, et nous les choisirons uniformément au hasard. Encore une fois, ce sont tous des choix que nous faisons pour modéliser la situation réelle. Nous optons pour les choix les plus simples à des fins pédagogiques."
   ]
  },
  {
   "cell_type": "markdown",
   "id": "cf79eb86-84d8-49c6-81e7-b3d4cb310121",
   "metadata": {},
   "source": [
    "#### Étape\n",
    "\n",
    "- Comme d'habitude, la méthode `step()` est la plus compliquée.\n",
    "- Cependant, nous pouvons utiliser nos fonctions `update_sugar_level` et `reward` de tout à l'heure.\n",
    "- Pour rappel, les voici à nouveau :"
   ]
  },
  {
   "cell_type": "code",
   "execution_count": 10,
   "id": "9982ede4-b330-41c7-8c18-ab32e0d43c77",
   "metadata": {},
   "outputs": [],
   "source": [
    "def update_sugar_level(self, item_sweetness):\n",
    "    self.sugar_level = self.alpha * self.sugar_level + (1 - self.alpha) * item_sweetness"
   ]
  },
  {
   "cell_type": "code",
   "execution_count": 11,
   "id": "af8f291f-3510-4567-bb2c-3d18d5c5d52b",
   "metadata": {},
   "outputs": [],
   "source": [
    "def reward(self, item_sweetness):\n",
    "    return item_sweetness * (1 - self.sugar_level)"
   ]
  },
  {
   "cell_type": "markdown",
   "id": "bd64f496-0c84-4110-ac2f-bf84ba4051f3",
   "metadata": {},
   "source": [
    "Notes :\n",
    "\n",
    "Nous avons apporté de légères modifications car l'alpha et le niveau de sucre sont maintenant stockés dans la classe en tant que self.alpha et self.sugar_level plutôt que d'être passés dans les fonctions "
   ]
  },
  {
   "cell_type": "markdown",
   "id": "dd598b75-5ad8-4616-91c4-e916c38036fd",
   "metadata": {},
   "source": [
    "#### Étape\n",
    "\n",
    "Et maintenant pour `step()`, qui doit :\n",
    "\n",
    "- Calculer la récompense\n",
    "- Mettre à jour le niveau de sucre\n",
    "- Simuler un ensemble de nouveaux éléments candidats pour la prochaine itération\n",
    "- Renvoie l'observation, la récompense et le drapeau \"done"
   ]
  },
  {
   "cell_type": "code",
   "execution_count": 12,
   "id": "7bc3b3c3-8ca9-4498-a8be-883cdaa2481d",
   "metadata": {},
   "outputs": [],
   "source": [
    "    def step(self, action):\n",
    "\n",
    "        # Get the sweetness of the recommended item\n",
    "        item_sweetness = self.documents[action]\n",
    "\n",
    "        # Compute reward\n",
    "        reward = self.reward(item_sweetness)\n",
    "\n",
    "        # Update sugar level\n",
    "        self.update_sugar_level(item_sweetness)\n",
    "\n",
    "        # Generate new candidates for the next recommendation\n",
    "        if self.resample_documents:\n",
    "            self.documents = np.random.rand(self.num_candidates)\n",
    "\n",
    "        # Set the done flag (not shown for brevity)\n",
    "        done = False\n",
    "            \n",
    "        return self.documents, reward, done, {\"sugar_level\" : self.sugar_level}"
   ]
  },
  {
   "cell_type": "markdown",
   "id": "8b3f449e-cc13-4275-8d33-260a8614d7ef",
   "metadata": {},
   "source": [
    "Notes :\n",
    "\n",
    "Quelques points à noter ici. Pour l'instant, nous retournons toujours done=False. En réalité, nous définirons un nombre maximum fixe d'étapes avant que l'épisode ne se termine, comme indiqué dans le module précédent. Cependant, nous ne le montrons pas ici pour des raisons de brièveté.\n",
    "Note également que la méthode `step` renvoie le niveau de sucre. L'agent n'y accède pas, mais c'est juste pour notre commodité lorsque nous déboguons/introspectons le système RL. Auparavant, nous avions simplement ignoré cette information facultative renvoyée par `step`."
   ]
  },
  {
   "cell_type": "markdown",
   "id": "e248fdac-86c4-49df-b55e-4502761f77a3",
   "metadata": {},
   "source": [
    "#### Testons-le !\n",
    "\n",
    "Testons notre nouvel environnement !"
   ]
  },
  {
   "cell_type": "code",
   "execution_count": 13,
   "id": "beef24dd-4068-4872-a414-5d1c718c8e00",
   "metadata": {},
   "outputs": [],
   "source": [
    "# HIDDEN\n",
    "from envs_04 import BasicRecommender"
   ]
  },
  {
   "cell_type": "code",
   "execution_count": 14,
   "id": "7e310dd9-823b-4bde-8592-54361416e048",
   "metadata": {},
   "outputs": [],
   "source": [
    "env_config = {\n",
    "    \"num_candidates\" : 2,\n",
    "    \"alpha\"          : 0.5,\n",
    "    \"seed\"           : 42\n",
    "}"
   ]
  },
  {
   "cell_type": "code",
   "execution_count": 15,
   "id": "70484c30-0ff8-4c21-aaf7-d6e7a364f542",
   "metadata": {},
   "outputs": [],
   "source": [
    "env = BasicRecommender(env_config)"
   ]
  },
  {
   "cell_type": "markdown",
   "id": "32e9fcf1-8da5-4568-94b2-649e66014b2a",
   "metadata": {},
   "source": [
    "Notes \n",
    "\n",
    "Nous définirons le nombre de candidats à 2 pour faciliter l'illustration par la suite, et l'alpha par défaut à 0,5, ce qui signifie que le nouveau taux de sucre est mis à jour pour être la moyenne (non pondérée) de l'ancien taux de sucre et de la douceur de l'article \n",
    "\n",
    "Nous avons défini la graine aléatoire à 0 pour la reproductibilité "
   ]
  },
  {
   "cell_type": "markdown",
   "id": "91bc64af-9d2d-487b-a6f1-d97ed22d754b",
   "metadata": {},
   "source": [
    "#### Testons-le !"
   ]
  },
  {
   "cell_type": "code",
   "execution_count": 16,
   "id": "b5745a4f-7796-4ed5-9133-b1ec870087a1",
   "metadata": {},
   "outputs": [],
   "source": [
    "# HIDDEN\n",
    "# env.seed(42)"
   ]
  },
  {
   "cell_type": "code",
   "execution_count": 17,
   "id": "2ed63dba-2640-4eda-9bae-0a3647b7b989",
   "metadata": {},
   "outputs": [
    {
     "data": {
      "text/plain": [
       "array([0.37454012, 0.95071431])"
      ]
     },
     "execution_count": 17,
     "metadata": {},
     "output_type": "execute_result"
    }
   ],
   "source": [
    "env.reset()"
   ]
  },
  {
   "cell_type": "markdown",
   "id": "2b639e0d-1db7-45aa-a19e-7fd80e4eb8b4",
   "metadata": {},
   "source": [
    "- Cela semble bon.\n",
    "- Comme nous avons défini `num_candidats` à 2 dans `env_config`, nous voyons 2 candidats.\n",
    "- Chacun des chiffres ci-dessus représente la douceur d'un candidat d'article simulé.\n",
    "- Demandons à l'agent de sélectionner (recommander) le premier article, avec une douceur de 0,37."
   ]
  },
  {
   "cell_type": "code",
   "execution_count": 18,
   "id": "d578c363-e5cb-4ce9-b4b8-031df870ff56",
   "metadata": {},
   "outputs": [
    {
     "data": {
      "text/plain": [
       "(array([0.73199394, 0.59865848]),\n",
       " 0.3745401188473625,\n",
       " False,\n",
       " {'sugar_level': 0.18727005942368125})"
      ]
     },
     "execution_count": 18,
     "metadata": {},
     "output_type": "execute_result"
    }
   ],
   "source": [
    "env.step(0)"
   ]
  },
  {
   "cell_type": "markdown",
   "id": "272f90f0-bee8-417b-a6a1-0a334351ed97",
   "metadata": {},
   "source": [
    "Notes :\n",
    "\n",
    "Nous pouvons observer que le niveau de sucre est passé de 0 à 1-alpha, soit 0,5 fois la douceur de l'article de 0,37. Pour rappel, l'info sur le niveau de sucre n'est pas disponible pour l'agent, elle est juste pour nous. Note également que, après notre action, un nouvel ensemble de documents candidats est donné comme observation."
   ]
  },
  {
   "cell_type": "markdown",
   "id": "0a44686e-5215-4e24-b564-0275df9a3501",
   "metadata": {},
   "source": [
    "#### Ligne de base\n",
    "\n",
    "Avant de former notre agent, établissons d'abord deux lignes de base :\n",
    "\n",
    "- Ligne de base avide : toujours choisir l'article le plus doux\n",
    "- Ligne de base aléatoire : choisis au hasard à chaque fois"
   ]
  },
  {
   "cell_type": "markdown",
   "id": "4322dc8e-9605-40b5-8576-37374d85c79d",
   "metadata": {},
   "source": [
    "#### Ligne de base gourmande"
   ]
  },
  {
   "cell_type": "code",
   "execution_count": 19,
   "id": "1925170f-4870-43c6-b031-3f40d8defa8b",
   "metadata": {},
   "outputs": [],
   "source": [
    "env = BasicRecommender(env_config)\n",
    "\n",
    "def greedy_agent_episode(env):\n",
    "    obs = env.reset()\n",
    "    total_reward = 0\n",
    "    done = False\n",
    "    while not done:\n",
    "        sweetest_item = np.argmax(obs)\n",
    "        obs, reward, done, info = env.step(sweetest_item)\n",
    "        total_reward += reward\n",
    "    return total_reward"
   ]
  },
  {
   "cell_type": "markdown",
   "id": "3821619e-b9e5-4f2b-a175-38f98c53d28b",
   "metadata": {},
   "source": [
    "En raison du caractère aléatoire des valeurs de douceur des articles, nous devons répéter cette opération pour de nombreux épisodes et prendre la moyenne :"
   ]
  },
  {
   "cell_type": "code",
   "execution_count": 20,
   "id": "ca857aef-87dd-4f08-b9c7-82de1a502ded",
   "metadata": {},
   "outputs": [
    {
     "data": {
      "text/plain": [
       "23.07949173189309"
      ]
     },
     "execution_count": 20,
     "metadata": {},
     "output_type": "execute_result"
    }
   ],
   "source": [
    "np.mean([greedy_agent_episode(env) for episode in range(1000)])"
   ]
  },
  {
   "cell_type": "markdown",
   "id": "74fe5487-e939-48a4-b480-efe780abd70d",
   "metadata": {},
   "source": [
    "- Nous pouvons obtenir une récompense de 23,1 en choisissant toujours les articles les plus doux.\n",
    "- Pour rendre cela plus excitant, suppose que cela représente 23,1 $ pour notre entreprise, et que nous avons 1M d'utilisateurs, donc 23,1M $.\n",
    "\n",
    "Notes :\n",
    "\n",
    "C'est le total pour 100 pas de temps, soit environ 0,23 $ par pas de temps. Si nous avions des épisodes plus longs, ce chiffre serait plus important."
   ]
  },
  {
   "cell_type": "markdown",
   "id": "a7c79af7-c0f2-4787-bbde-ba745e45c8b0",
   "metadata": {},
   "source": [
    "#### Ligne de base aléatoire\n",
    "\n",
    "Essayons maintenant une approche aléatoire :\n",
    "\n",
    "Notes \n",
    "\n",
    "Ici, l'agent recommande à chaque fois un élément aléatoire parmi les 10 candidats."
   ]
  },
  {
   "cell_type": "code",
   "execution_count": 21,
   "id": "85e1be55-f27f-48c9-8285-e649ed159036",
   "metadata": {},
   "outputs": [],
   "source": [
    "env = BasicRecommender(env_config)\n",
    "\n",
    "def random_agent_episode(env):\n",
    "    obs = env.reset()\n",
    "    done = False\n",
    "    total_reward = 0\n",
    "    while not done:\n",
    "        random_item = np.random.randint(len(obs))\n",
    "        obs, reward, done, info = env.step(random_item)\n",
    "        total_reward += reward\n",
    "    return total_reward"
   ]
  },
  {
   "cell_type": "markdown",
   "id": "1b7059d9-fe85-4aec-901a-b9b485f90d55",
   "metadata": {},
   "source": [
    "En raison du caractère aléatoire, nous devrions répéter cela pour de nombreux épisodes et prendre la moyenne :"
   ]
  },
  {
   "cell_type": "code",
   "execution_count": 22,
   "id": "5324e3a1-da59-4c2c-9059-4699457d032e",
   "metadata": {},
   "outputs": [
    {
     "data": {
      "text/plain": [
       "25.525709661431282"
      ]
     },
     "execution_count": 22,
     "metadata": {},
     "output_type": "execute_result"
    }
   ],
   "source": [
    "np.mean([random_agent_episode(env) for episode in range(1000)])"
   ]
  },
  {
   "cell_type": "markdown",
   "id": "709316fe-dc62-4ea1-ae32-0b84f123cf62",
   "metadata": {},
   "source": [
    "- Avec des actions aléatoires, nous faisons mieux : environ 25,5 millions de revenus.\n",
    "- Il est temps de me verser une prime ! 💰"
   ]
  },
  {
   "cell_type": "markdown",
   "id": "73eb2a5e-ccde-46d7-90f5-1254e5dad886",
   "metadata": {},
   "source": [
    "#### Appliquons ce que nous avons appris !"
   ]
  },
  {
   "cell_type": "markdown",
   "id": "db4a1094-e99e-4134-8ec5-baa646f8c4ec",
   "metadata": {},
   "source": [
    "## Améliorer le modèle de l'utilisateur\n",
    "<!-- multiple choice -->\n",
    "\n",
    "Nous avons créé un modèle/simulation d'utilisateur très simple pour cet exemple. Lequel des éléments suivants ne serait **PAS** une extension raisonnable de notre modèle utilisateur pour un système de recommandation ?\n",
    "\n",
    "- [ ] Augmenter le nombre de caractéristiques que nous utilisons pour représenter chaque élément candidat.\n",
    "- [ ] Tenir compte des caractéristiques de chaque utilisateur plutôt que de traiter tous les utilisateurs de la même façon.\n",
    "- [ ] Saisis l'interaction des utilisateurs de manière plus riche, par exemple les articles sur lesquels ils cliquent ou qu'ils consomment/achètent.\n",
    "- [ ] Simule les neurones du cerveau de l'utilisateur et la façon dont ils réagissent aux recommandations d'articles."
   ]
  },
  {
   "cell_type": "markdown",
   "id": "9b52e45a-c183-4483-a44b-b98a4ccf35bd",
   "metadata": {
    "jp-MarkdownHeadingCollapsed": true,
    "tags": []
   },
   "source": [
    "## Cupide vs. aléatoire\n",
    "<!-- multiple choice -->\n",
    "\n",
    "Ci-dessus, nous avons vu que notre ligne de base aléatoire surpasse notre ligne de base gourmande. Penses-tu que ce sera toujours le cas ?\n",
    "\n",
    "- [ ] La stratégie aléatoire est toujours plus performante que la stratégie avide. | Et si l'épisode ne comportait qu'une seule étape ?\n",
    "- [La stratégie avide est toujours plus performante que la stratégie aléatoire. | La stratégie aléatoire a cependant fait mieux.\n",
    "- [ ] La stratégie aléatoire est plus performante que la stratégie gourmande lorsque la durée de l'épisode augmente. | La stratégie avide fonctionne à court terme, mais pas à long terme.\n",
    "- [ ] La stratégie gourmande est plus performante que la stratégie aléatoire lorsque la durée de l'épisode augmente. | Je pense que tu as fait les choses à l'envers."
   ]
  },
  {
   "cell_type": "markdown",
   "id": "d3790466-ebad-4a90-a495-993d4ac22bcb",
   "metadata": {},
   "source": [
    "## Greedy vs. random continued\n",
    "<!-- coding exercise -->\n",
    "\n",
    "Dans la question précédente, nous avons décidé que la stratégie aléatoire devrait être plus performante pour les épisodes longs mais que la méthode avide pourrait être meilleure pour les épisodes courts. Par exemple, si l'épisode entier n'est composé que d'une seule recommandation, nous voulons simplement l'élément le plus doux. Teste cette relation de façon empirique en remplissant le code manquant "
   ]
  },
  {
   "cell_type": "code",
   "execution_count": 23,
   "id": "be4d10ce-0abf-452d-b840-127da197f5a6",
   "metadata": {
    "tags": [
     "raises-exception"
    ]
   },
   "outputs": [
    {
     "ename": "NameError",
     "evalue": "name '____' is not defined",
     "output_type": "error",
     "traceback": [
      "\u001b[0;31m---------------------------------------------------------------------------\u001b[0m",
      "\u001b[0;31mNameError\u001b[0m                                 Traceback (most recent call last)",
      "Input \u001b[0;32mIn [23]\u001b[0m, in \u001b[0;36m<cell line: 36>\u001b[0;34m()\u001b[0m\n\u001b[1;32m     33\u001b[0m random_results \u001b[38;5;241m=\u001b[39m []\n\u001b[1;32m     35\u001b[0m \u001b[38;5;66;03m# Run the simulations\u001b[39;00m\n\u001b[0;32m---> 36\u001b[0m \u001b[38;5;28;01mfor\u001b[39;00m ms \u001b[38;5;129;01min\u001b[39;00m \u001b[43m____\u001b[49m:\n\u001b[1;32m     37\u001b[0m     env \u001b[38;5;241m=\u001b[39m BasicRecommender({\u001b[38;5;124m\"\u001b[39m\u001b[38;5;124mmax_steps\u001b[39m\u001b[38;5;124m\"\u001b[39m : ____})\n\u001b[1;32m     38\u001b[0m     greedy_results\u001b[38;5;241m.\u001b[39mappend(baseline_multiple_episodes(env, \u001b[38;5;124m\"\u001b[39m\u001b[38;5;124mgreedy\u001b[39m\u001b[38;5;124m\"\u001b[39m))\n",
      "\u001b[0;31mNameError\u001b[0m: name '____' is not defined"
     ]
    }
   ],
   "source": [
    "# EXERCISE\n",
    "\n",
    "import numpy as np\n",
    "import matplotlib.pyplot as plt\n",
    "from envs_04 import BasicRecommender\n",
    "\n",
    "def baseline_episode(env, method=\"greedy\"):\n",
    "    \"\"\"\n",
    "    Compute the episode reward for a BasicRecommender env by either\n",
    "    acting greedy (max observation) or acting randomly.\n",
    "    Return total reward.\n",
    "    \"\"\"\n",
    "    obs = env.reset()\n",
    "    total_reward = 0\n",
    "    done = False\n",
    "    while not done:\n",
    "        if method == \"greedy\":\n",
    "            chosen_item = np.argmax(____)\n",
    "        elif method == \"random\":\n",
    "            chosen_item = np.random.randint(____)\n",
    "        else:\n",
    "            raise Exception(\"Unknown method.\")\n",
    "        obs, reward, done, info = env.____(chosen_item)\n",
    "        total_reward += reward\n",
    "    return total_reward\n",
    "\n",
    "def baseline_multiple_episodes(env, method, n_ep=100):\n",
    "    \"\"\" Compute baseline reward averaged over multiple episodes \"\"\"\n",
    "    return np.mean([baseline_episode(env, method) for ep in range(n_ep)])\n",
    "\n",
    "max_steps = [1,3,10,30,100] # The different horizon lengths to test out\n",
    "greedy_results = []\n",
    "random_results = []\n",
    "\n",
    "# Run the simulations\n",
    "for ms in ____:\n",
    "    env = BasicRecommender({\"max_steps\" : ____})\n",
    "    greedy_results.append(baseline_multiple_episodes(env, \"greedy\"))\n",
    "    random_results.append(baseline_multiple_episodes(env, \"random\"))\n",
    "    \n",
    "# Plotting code (you can ignore)\n",
    "plt.plot(max_steps, greedy_results, label=\"greedy\")\n",
    "plt.plot(max_steps, random_results, label=\"random\")\n",
    "plt.legend();\n",
    "plt.xlabel(\"horizon of the env\");\n",
    "plt.ylabel(\"episode reward\");"
   ]
  },
  {
   "cell_type": "code",
   "execution_count": 24,
   "id": "05901a19-20be-442d-b794-a96d87f0f04b",
   "metadata": {},
   "outputs": [
    {
     "data": {
      "image/png": "[encoded data removed]",
      "text/plain": [
       "<Figure size 640x480 with 1 Axes>"
      ]
     },
     "metadata": {},
     "output_type": "display_data"
    }
   ],
   "source": [
    "# SOLUTION\n",
    "\n",
    "import numpy as np\n",
    "import matplotlib.pyplot as plt\n",
    "from envs_04 import BasicRecommender\n",
    "\n",
    "def baseline_episode(env, method=\"greedy\"):\n",
    "    \"\"\"\n",
    "    Compute the episode reward for a BasicRecommender env by either\n",
    "    acting greedy (max observation) or acting randomly.\n",
    "    Return total reward.\n",
    "    \"\"\"\n",
    "    obs = env.reset()\n",
    "    total_reward = 0\n",
    "    done = False\n",
    "    while not done:\n",
    "        if method == \"greedy\":\n",
    "            chosen_item = np.argmax(obs)\n",
    "        elif method == \"random\":\n",
    "            chosen_item = np.random.randint(len(obs))\n",
    "        else:\n",
    "            raise Exception(\"Unknown method.\")\n",
    "        obs, reward, done, info = env.step(chosen_item)\n",
    "        total_reward += reward\n",
    "    return total_reward\n",
    "\n",
    "def baseline_multiple_episodes(env, method, n_ep=100):\n",
    "    \"\"\" Compute baseline reward averaged over multiple episodes \"\"\"\n",
    "    return np.mean([baseline_episode(env, method) for ep in range(n_ep)])\n",
    "\n",
    "max_steps = [1,3,10,30,100] # The different horizon lengths to test out\n",
    "greedy_results = []\n",
    "random_results = []\n",
    "\n",
    "# Run the simulations\n",
    "for ms in max_steps:\n",
    "    env = BasicRecommender({\"max_steps\" : ms})\n",
    "    greedy_results.append(baseline_multiple_episodes(env, \"greedy\"))\n",
    "    random_results.append(baseline_multiple_episodes(env, \"random\"))\n",
    "    \n",
    "# Plotting code (you can ignore)\n",
    "plt.plot(max_steps, greedy_results, label=\"greedy\")\n",
    "plt.plot(max_steps, random_results, label=\"random\")\n",
    "plt.legend();\n",
    "plt.xlabel(\"horizon of the env\");\n",
    "plt.ylabel(\"episode reward\");"
   ]
  },
  {
   "cell_type": "markdown",
   "id": "7080835c-896d-4072-a900-8ca1c1b5305c",
   "metadata": {
    "tags": []
   },
   "source": [
    "#### Interpréter l'intrigue\n",
    "\n",
    "Quelle est l'interprétation de l'intrigue ?\n",
    "\n",
    "- [ ] Comme prévu, l'agent aléatoire surpasse l'agent avide de plus en plus à mesure que la longueur de l'épisode augmente.\n",
    "- [ ] Quelque chose s'est horriblement mal passé, et l'effet ci-dessus n'a pas été observé."
   ]
  }
 ],
 "metadata": {
  "kernelspec": {
   "display_name": "Python [conda env:ray200]",
   "language": "python",
   "name": "conda-env-ray200-py"
  },
  "language_info": {
   "codemirror_mode": {
    "name": "ipython",
    "version": 3
   },
   "file_extension": ".py",
   "mimetype": "text/x-python",
   "name": "python",
   "nbconvert_exporter": "python",
   "pygments_lexer": "ipython3",
   "version": "3.9.13"
  }
 },
 "nbformat": 4,
 "nbformat_minor": 5
}
