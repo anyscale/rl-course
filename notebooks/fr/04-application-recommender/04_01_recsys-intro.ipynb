{
 "cells": [
  {
   "cell_type": "markdown",
   "id": "b5aa21ad-6bb9-4990-ab4d-fb9435b0bc00",
   "metadata": {},
   "source": [
    "## Intro aux systèmes de recommandation"
   ]
  },
  {
   "cell_type": "markdown",
   "id": "815cecfb-6ed2-4522-a83d-29de9c4a8792",
   "metadata": {},
   "source": [
    "#### Systèmes de recommandation\n",
    "\n",
    "Dans ce module, nous allons étudier l'application des _systèmes de recommandation_."
   ]
  },
  {
   "cell_type": "code",
   "execution_count": 2,
   "id": "9e6e80a5-0f7b-4924-9d41-7c8305d304e7",
   "metadata": {},
   "outputs": [],
   "source": [
    "# TODO\n",
    "# add pictures\n",
    "# this is pretty boring temporarily\n",
    "# make this one short"
   ]
  },
  {
   "cell_type": "markdown",
   "id": "3b9ea003-8011-4799-a641-147e0e816cf4",
   "metadata": {},
   "source": [
    "#### Systèmes de recommandation\n",
    "\n",
    "Voici quelques exemples de systèmes de recommandation :\n",
    "\n",
    "- Recommandations de vidéos (p. ex. YouTube, Netflix)\n",
    "- Recommandations d'achats en ligne (p. ex. Amazon)\n",
    "- Toute autre recommandation de contenu que tu pourrais rencontrer, qui est personnalisée pour un utilisateur"
   ]
  },
  {
   "cell_type": "markdown",
   "id": "651525e7-a5ea-47d8-8d33-c00d5e8abfce",
   "metadata": {},
   "source": [
    "#### Environnement de recommandation\n",
    "\n",
    "- Dans une configuration simple de système de recommandation, nous ne considérons qu'une seule étape temporelle :\n",
    "  - Que dois-je recommander à cet utilisateur ?\n",
    "- Nous pouvons répondre à cette question avec des méthodes d'apprentissage supervisées ou non supervisées (par exemple [filtrage collaboratif](https://en.wikipedia.org/wiki/Collaborative_filtering))\n",
    "- Cependant, dans la réalité, nous interagissons avec un utilisateur à plusieurs reprises au fil du temps.\n",
    "  - Nous pouvons aborder cela avec RL !"
   ]
  },
  {
   "cell_type": "markdown",
   "id": "eea28cf7-7bfa-46a7-87f7-74cf3893d27d",
   "metadata": {},
   "source": [
    "#### Complexités\n",
    "\n",
    "Les systèmes de recommandation sont complexes à de très nombreux égards. Par exemple :\n",
    "\n",
    "- Relations entre les utilisateurs\n",
    "- Nouveaux utilisateurs/articles\n",
    "- Sources de données\n",
    "- Taille des données\n",
    "- Recommandations d'ardoise\n",
    "- **Humeur de l'utilisateur/ état d'esprit**\n",
    "\n",
    "Notes :\n",
    "\n",
    "- Traitons-nous les utilisateurs individuellement ou apprenons-nous à connaître les utilisateurs en fonction des autres utilisateurs ?\n",
    "- Comment gérer les nouveaux utilisateurs ou les nouveaux articles (par exemple, les émissions de télévision) qui viennent d'arriver ?\n",
    "- Quelles sources de données utilisons-nous pour en savoir plus sur les utilisateurs, les articles et leurs interactions ?\n",
    "- Comment gérer l'énorme taille des données (potentiellement plus de millions d'utilisateurs/articles) ?\n",
    "- Que faire si nous voulons recommander plusieurs articles en même temps ?\n",
    "- **Comment tenir compte de l'humeur/de l'état d'esprit de l'utilisateur et de la façon dont il dérive au fil du temps ?"
   ]
  },
  {
   "cell_type": "markdown",
   "id": "a0af9012-7aec-423a-b272-703452bb39f7",
   "metadata": {},
   "source": [
    "#### Configuration du système de recommandation RL\n",
    "\n",
    "- Si nous avons 10 millions d'articles, l'espace d'action RL serait de 10 millions d'options.\n",
    "- C'est trop grand pour être réalisable.\n",
    "- Lorsque nous utilisons RL pour les recommandeurs, nous utiliserons une autre méthode pour présélectionner certains candidats, puis nous appliquerons RL \n",
    "- Par conséquent, nous travaillerons avec un petit nombre de candidats."
   ]
  },
  {
   "cell_type": "markdown",
   "id": "ca012ec2-9ce1-4e98-92d0-bf239a4bcb13",
   "metadata": {},
   "source": [
    "#### Formation RL\n",
    "\n",
    "- Dans le système réel, les humains sont dans la boucle (ils choisissent parmi les articles recommandés).\n",
    "- Cependant, cela serait complexe, lent, coûteux et ferait potentiellement de mauvaises recommandations.\n",
    "- Par conséquent, comme c'est souvent le cas en RL, nous allons construire un _simulateur_ (env).\n",
    "- Plus tard, nous envisagerons également d'apprendre à partir des données sur le comportement des utilisateurs lorsqu'un simulateur n'est pas disponible."
   ]
  },
  {
   "cell_type": "markdown",
   "id": "a065884d-1c9e-4815-985a-91f6faadf40e",
   "metadata": {
    "jp-MarkdownHeadingCollapsed": true,
    "tags": []
   },
   "source": [
    "#### Appliquons ce que nous avons appris !"
   ]
  },
  {
   "cell_type": "markdown",
   "id": "2eebcdd6-e039-4162-bb40-045879282931",
   "metadata": {},
   "source": [
    "## Avantages de RL pour les recommandations\n",
    "<!-- multiple choice -->\n",
    "\n",
    "Quel est le principal avantage d'utiliser RL pour un système de recommandation, plutôt que des méthodes plus traditionnelles comme le filtrage collaboratif ?\n",
    "\n",
    "- [ ] La RL est plus évolutive pour les grands ensembles de données que l'apprentissage supervisé ou non supervisé.\n",
    "- [ ] La RL nous permet de travailler avec des espaces d'action discrets, comme choisir l'article à recommander.\n",
    "- [ ] RL nous permet de tenir compte des recommandations séquentielles, où les récompenses dépendent de l'historique des actions.\n",
    "- [ ] RL est la seule option lorsqu'il s'agit de systèmes de recommandation."
   ]
  },
  {
   "cell_type": "markdown",
   "id": "022719e4-f05f-4082-b434-0462ee1adc64",
   "metadata": {},
   "source": [
    "## Inconvénients de RL pour les recommandations\n",
    "<!-- multiple choice -->\n",
    "\n",
    "Quel est l'inconvénient d'utiliser RL pour un système de recommandation, par rapport à des méthodes plus traditionnelles comme le filtrage collaboratif ?\n",
    "\n",
    "- [ ] Les méthodes supervisées et non supervisées n'ont pas été développées en profondeur pour les applications de recommandation.\n",
    "- [ ] La RL a du mal à s'adapter à de grands espaces d'action. | Tu as trouvé.\n",
    "- [ ] RL ne peut être utilisé que si tu as un simulateur/env. | À la fin de ce module, tu apprendras une autre approche !\n",
    "- [ ] Il n'existe pas de logiciel open source de qualité industrielle pour RL. | Attends un peu... qu'en est-il de RLlib ?"
   ]
  },
  {
   "cell_type": "markdown",
   "id": "74454c2d-e4ac-4dbf-88b5-b4a3a5d45ac0",
   "metadata": {},
   "source": [
    "## Difficulté des systèmes de recommandation\n",
    "<!-- multiple choice -->\n",
    "\n",
    "Vrai ou faux : les systèmes de recommandation sont un domaine facile à résoudre, sans trop de complexités.\n",
    "\n",
    "- [ ] Vrai\n",
    "- [ x ] Faux\n"
   ]
  }
 ],
 "metadata": {
  "kernelspec": {
   "display_name": "Python [conda env:ray200]",
   "language": "python",
   "name": "conda-env-ray200-py"
  },
  "language_info": {
   "codemirror_mode": {
    "name": "ipython",
    "version": 3
   },
   "file_extension": ".py",
   "mimetype": "text/x-python",
   "name": "python",
   "nbconvert_exporter": "python",
   "pygments_lexer": "ipython3",
   "version": "3.9.13"
  }
 },
 "nbformat": 4,
 "nbformat_minor": 5
}
