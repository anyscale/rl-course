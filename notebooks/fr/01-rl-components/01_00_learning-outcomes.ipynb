{
 "cells": [
  {
   "cell_type": "markdown",
   "id": "18e2222c-d00d-4c69-b86e-18560e51896d",
   "metadata": {},
   "source": [
    "## Résultats d'apprentissage du module 1"
   ]
  },
  {
   "cell_type": "markdown",
   "id": "9a878f79-7a09-45cc-bbde-c1f3e4626b78",
   "metadata": {},
   "source": [
    "#### Résultats d'apprentissage du module\n",
    "\n",
    "À la fin de ce module, tu seras capable de :\n",
    "\n",
    "- Comparer et opposer l'apprentissage par renforcement et l'apprentissage supervisé\n",
    "- Interagir avec les environnements RL et discuter de leurs composants clés\n",
    "- Interagir avec les politiques RL et discuter des différents types de politiques\n",
    "- Expliquer comment les environnements et les politiques s'intègrent dans l'\"API\" du RL"
   ]
  },
  {
   "cell_type": "markdown",
   "id": "f847e29d-4776-40b1-8dd4-ae8e51f11483",
   "metadata": {
    "pycharm": {
     "name": "#%% md\n"
    }
   },
   "source": [
    "#### Commençons le Module 1 !"
   ]
  }
 ],
 "metadata": {
  "kernelspec": {
   "display_name": "Python [conda env:ray200]",
   "language": "python",
   "name": "conda-env-ray200-py"
  },
  "language_info": {
   "codemirror_mode": {
    "name": "ipython",
    "version": 3
   },
   "file_extension": ".py",
   "mimetype": "text/x-python",
   "name": "python",
   "nbconvert_exporter": "python",
   "pygments_lexer": "ipython3",
   "version": "3.9.13"
  }
 },
 "nbformat": 4,
 "nbformat_minor": 5
}
