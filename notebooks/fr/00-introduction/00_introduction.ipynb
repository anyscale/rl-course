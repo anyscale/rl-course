{
 "cells": [
  {
   "cell_type": "markdown",
   "id": "15b89d29-6b6a-492d-9421-c3395dfd2020",
   "metadata": {},
   "source": [
    "## Introduction\n",
    "<!-- video shot=\"/OSdFnBfDwT0\" start=\"00:10\" end=\"02:52\" -->\n",
    "\n",
    "Notes :\n",
    "\n",
    "Bienvenue dans ce cours !"
   ]
  },
  {
   "cell_type": "markdown",
   "id": "18e2222c-d00d-4c69-b86e-18560e51896d",
   "metadata": {},
   "source": [
    "#### Objectif du cours\n",
    "\n",
    "À la fin de ce cours, tu seras capable de prendre un problème pratique, de le traduire dans un environnement RL puis d'appliquer RL pour trouver une politique qui résout le problème "
   ]
  },
  {
   "cell_type": "markdown",
   "id": "cc246420-7abf-4584-9d76-fbfb660c5ac9",
   "metadata": {},
   "source": [
    "#### Plan du cours\n",
    "\n",
    "0. Introduction\n",
    "1. Composants de RL\n",
    "2. Ray RLlib\n",
    "3. Construire tes propres environnements\n",
    "4. Applications du système de recommandation\n",
    "5. Sous le capot"
   ]
  },
  {
   "cell_type": "markdown",
   "id": "df4dd879-8c05-4651-9dbd-a42ce1456a7a",
   "metadata": {},
   "source": [
    "#### Public cible / conditions préalables\n",
    "\n",
    "Les personnes qui pourraient tirer un grand profit de ce cours :\n",
    "\n",
    "- Ingénieurs en apprentissage automatique ou scientifiques des données qui veulent appliquer l'apprentissage par renforcement (RL)\n",
    "\n",
    "Connaissances présumées :\n",
    "\n",
    "- Familiarisé avec Python/numpy\n",
    "- Familiarisé avec les bases de ML et scikit-learn\n",
    "\n",
    "Sympathique, mais pas obligatoire :\n",
    "\n",
    "- Familiarité avec les réseaux neuronaux\n",
    "\n",
    "Connaissances *NON* requises :\n",
    "\n",
    "- Si tu n'as jamais utilisé (ou entendu parler) de Ray, c'est très bien\n",
    "- Si tu n'as jamais utilisé RL, c'est très bien\n",
    "- Mathématiques sophistiquées"
   ]
  },
  {
   "cell_type": "markdown",
   "id": "c66fb22e-ebef-4dfb-bcc3-4864edf5bdb4",
   "metadata": {
    "pycharm": {
     "name": "#%% md\n"
    }
   },
   "source": [
    "## Quand pouvons-nous utiliser RL ?\n",
    "<!-- multiple choice -->\n",
    "\n",
    "Pour lequel des problèmes suivants RL serait-il approprié ?\n",
    "\n",
    "- [ ] Segmenter tes clients en différents groupes\n",
    "- [ ] Prédire les prix des maisons en fonction de leurs caractéristiques\n",
    "- [ ] Contrôler un robot\n",
    "- [ ] Détecter si une image contient un chien\n",
    "\n"
   ]
  }
 ],
 "metadata": {
  "kernelspec": {
   "display_name": "Python [conda env:ray200]",
   "language": "python",
   "name": "conda-env-ray200-py"
  },
  "language_info": {
   "codemirror_mode": {
    "name": "ipython",
    "version": 3
   },
   "file_extension": ".py",
   "mimetype": "text/x-python",
   "name": "python",
   "nbconvert_exporter": "python",
   "pygments_lexer": "ipython3",
   "version": "3.9.13"
  }
 },
 "nbformat": 4,
 "nbformat_minor": 5
}
