{
 "cells": [
  {
   "cell_type": "markdown",
   "id": "90c01ab9-1cd0-47d8-a198-e07e36e2c1fc",
   "metadata": {
    "tags": []
   },
   "source": [
    "## Intro à RLlib"
   ]
  },
  {
   "cell_type": "code",
   "execution_count": 1,
   "id": "e74417a3-63bc-4000-951a-72ab882b689e",
   "metadata": {},
   "outputs": [],
   "source": [
    "# HIDDEN\n",
    "import gym\n",
    "import numpy as np\n",
    "import matplotlib.pyplot as plt\n",
    "plt.rcParams['font.size'] = 14"
   ]
  },
  {
   "cell_type": "code",
   "execution_count": 2,
   "id": "0fd0307b-9589-479a-85e9-0767e9f813af",
   "metadata": {},
   "outputs": [],
   "source": [
    "# HIDDEN\n",
    "import ray\n",
    "import logging\n",
    "ray.init(log_to_driver=False, ignore_reinit_error=True, logging_level=logging.ERROR); # logging.FATAL\n",
    "\n",
    "import warnings\n",
    "warnings.filterwarnings(\"ignore\", category=DeprecationWarning) "
   ]
  },
  {
   "cell_type": "markdown",
   "id": "4ddd909a-c86f-4e5c-9ba0-8b0ef1152730",
   "metadata": {},
   "source": [
    "#### Et l'apprentissage ?\n",
    "\n",
    "Revenons à l'\"API\" de RL :\n",
    "\n",
    "[](img/RL-API.png)\n",
    "\n",
    "- Nous avons parlé de l'entrée (environnement) et de la sortie (politique)\n",
    "- Parlons maintenant de l'apprentissage par renforcement !"
   ]
  },
  {
   "cell_type": "markdown",
   "id": "e7503593-2928-46b8-891a-913ff3fbc3c1",
   "metadata": {},
   "source": [
    "#### Ce que nous allons couvrir\n",
    "\n",
    "- Il existe de très nombreux algorithmes d'apprentissage supervisé... forêts aléatoires, régression logistique, réseaux neuronaux, etc.\n",
    "- De même, il existe de nombreux algorithmes RL.\n",
    "- Ce n'est pas un cours sur les algorithmes RL, même s'il en existe beaucoup de bons !\n",
    "- Ce cours porte sur _l'application_ de RL."
   ]
  },
  {
   "cell_type": "markdown",
   "id": "14840b72-5c0f-42a3-b29f-d9b14995d2c1",
   "metadata": {},
   "source": [
    "#### Présentation de Ray RLlib\n",
    "\n",
    "[](img/rllib-logo.png)\n",
    "\n",
    "- Dans ce cours, nous utiliserons Ray RLlib comme notre \"scikit-learn de l'apprentissage par renforcement\"\n",
    "- Nous ne regarderons sous le capot que si nécessaire, et nous nous concentrerons sur les entrées et les sorties."
   ]
  },
  {
   "cell_type": "markdown",
   "id": "251a0d49-fad7-4620-bc2f-71ab58d228f9",
   "metadata": {},
   "source": [
    "#### Notre premier code RLlib"
   ]
  },
  {
   "cell_type": "markdown",
   "id": "497d2332-bdf4-43c2-ba76-c5e3c4d37afc",
   "metadata": {},
   "source": [
    "- Tout d'abord, nous importons RLlib\n",
    "- RLlib fait partie du projet Ray, d'où `ray`\n",
    "- Dans ce cours, nous nous concentrerons principalement sur l'algorithme [PPO] (https://openai.com/blog/openai-baselines-ppo/), d'où `PPO`."
   ]
  },
  {
   "cell_type": "code",
   "execution_count": 3,
   "id": "6aacb650-3d39-4117-b9a9-2eccdbd9a350",
   "metadata": {},
   "outputs": [],
   "source": [
    "from ray.rllib.algorithms.ppo import PPO"
   ]
  },
  {
   "cell_type": "markdown",
   "id": "e3b300e4-266f-45ef-94c5-f72d1928f94b",
   "metadata": {},
   "source": [
    "Ensuite, nous créons un objet formateur "
   ]
  },
  {
   "cell_type": "code",
   "execution_count": 4,
   "id": "cd844399-d193-4961-9bb3-8be1e2f95ab5",
   "metadata": {},
   "outputs": [],
   "source": [
    "# HIDDEN\n",
    "algo_config = (\n",
    "    PPOConfig()\\\n",
    "    .framework(\"torch\")\\\n",
    "    .rollouts(create_env_on_local_worker=True)\\\n",
    "    .debugging(seed=0, log_level=\"ERROR\", logger_config={\"log_to_driver\" : False})\\\n",
    "    .training(model={\"fcnet_hiddens\" : [32, 32]})\\\n",
    "    .environment(env_config={\"is_slippery\" : False})\n",
    ")"
   ]
  },
  {
   "cell_type": "code",
   "execution_count": 5,
   "id": "1cae604e-ed20-41f3-b7de-8e9ab550d34b",
   "metadata": {},
   "outputs": [],
   "source": [
    "ppo = PPO(env=\"FrozenLake-v1\", config=algo_config)"
   ]
  },
  {
   "cell_type": "markdown",
   "id": "6c04a477-934c-4317-a69b-9eaef6d7563f",
   "metadata": {},
   "source": [
    "- `PPO` : nous utilisons l'algorithme PPO\n",
    "- `env=\"FrozenLake-v1\"` : RLlib connaît les environnements OpenAI Gym\n",
    "  - Dans le prochain module, nous apprendrons à créer nos propres environnements !\n",
    "- `config=algo_config` : cela contient tous les hyperparamètres de l'algorithme et de l'environnement.\n",
    "  - Pour plus de clarté, nous avons caché la config pour l'instant, mais nous y reviendrons bientôt.\n",
    "  \n",
    "Remarques :\n",
    "\n",
    "- Nous pouvons faire référence aux environnements de gymnastique par leur nom\n",
    "- Plus tard, nous montrerons la nouvelle façon standard d'instancier les algorithmes"
   ]
  },
  {
   "cell_type": "markdown",
   "id": "e4400014-5524-4360-9c2f-988fa2fd114d",
   "metadata": {},
   "source": [
    "#### Utiliser la politique\n",
    "\n",
    "- Nous n'avons pas encore formé l'agent, mais nous pouvons quand même voir ce qu'il fait.\n",
    "- C'est comme appeler `predict` avant d'exécuter `fit` avec l'apprentissage supervisé."
   ]
  },
  {
   "cell_type": "code",
   "execution_count": 6,
   "id": "52c46765-0db9-4f0f-be98-6bd15fed1292",
   "metadata": {},
   "outputs": [
    {
     "data": {
      "text/plain": [
       "0"
      ]
     },
     "execution_count": 6,
     "metadata": {},
     "output_type": "execute_result"
    }
   ],
   "source": [
    "env = gym.make(\"FrozenLake-v1\", is_slippery=False)\n",
    "obs = env.reset(seed=3)\n",
    "obs"
   ]
  },
  {
   "cell_type": "code",
   "execution_count": 7,
   "id": "72c9f289-1c06-46a7-89bd-a8553104f1c7",
   "metadata": {},
   "outputs": [],
   "source": [
    "# HIDDEN\n",
    "from utils_02 import fix_frozen_lake_render\n",
    "fix_frozen_lake_render(env)"
   ]
  },
  {
   "cell_type": "code",
   "execution_count": 8,
   "id": "1ce06add-1fc8-4211-9850-f419ddfca832",
   "metadata": {},
   "outputs": [
    {
     "data": {
      "text/plain": [
       "2"
      ]
     },
     "execution_count": 8,
     "metadata": {},
     "output_type": "execute_result"
    }
   ],
   "source": [
    "action = ppo.compute_single_action(obs, explore=False)\n",
    "action"
   ]
  },
  {
   "cell_type": "markdown",
   "id": "c59ecbe8-4c8b-45d3-bfc7-d1f4e5d93684",
   "metadata": {},
   "source": [
    "- Nous avons donné à l'algorithme notre observation initiale, 0, et il a recommandé l'action 2 (à droite).\n",
    "- Cette action provenait de la **politique** initialisée.\n",
    "- Rappelle-toi que la politique fait correspondre les observations aux actions.\n",
    "- Pour l'instant, nous allons ignorer le `explore=False`."
   ]
  },
  {
   "cell_type": "markdown",
   "id": "f48087f0-f3bd-47fb-b368-51c1f28601ac",
   "metadata": {},
   "source": [
    "#### Utiliser la politique\n",
    "\n",
    "Nous pouvons voir ce qui s'est passé après avoir pris cette mesure :"
   ]
  },
  {
   "cell_type": "code",
   "execution_count": 9,
   "id": "9b6a30b0-d591-4c30-b85e-fe839f518744",
   "metadata": {},
   "outputs": [
    {
     "name": "stdout",
     "output_type": "stream",
     "text": [
      "  (Right)\n",
      ".P..\n",
      ".O.O\n",
      "...O\n",
      "O..G\n"
     ]
    }
   ],
   "source": [
    "obs, reward, done, _ = env.step(action)\n",
    "env.render()"
   ]
  },
  {
   "cell_type": "markdown",
   "id": "2d7068f1-2f74-4d01-b6a6-455cdb964e9a",
   "metadata": {},
   "source": [
    "#### Formation\n",
    "\n",
    "- Jusqu'à présent, notre politique n'était qu'une initialisation aléatoire/arbitraire.\n",
    "- Ce que nous voulons, c'est l'entraîner _en se basant sur l'expérience d'interaction avec l'environnement_.\n",
    "- Pour ce faire, RLlib va _jouer de nombreux épisodes_ et apprendre au fur et à mesure."
   ]
  },
  {
   "cell_type": "code",
   "execution_count": 10,
   "id": "26694604-767d-437d-b29b-377d38c67999",
   "metadata": {},
   "outputs": [],
   "source": [
    "train_info = ppo.train()"
   ]
  },
  {
   "cell_type": "markdown",
   "id": "0024b5a6-b7de-4e0b-a2ac-1b17af442c99",
   "metadata": {},
   "source": [
    "- Note que, contrairement à `fit()` de sklearn, ici nous ne fournissons pas l'ensemble de données à `train()`.\n",
    "- Nous lui avons donné l'environnement pendant l'initialisation, et il utilise l'environnement pour générer des données."
   ]
  },
  {
   "cell_type": "markdown",
   "id": "67115d1f-5fe7-414e-9d56-41063ce0dedb",
   "metadata": {},
   "source": [
    "Notes :\n",
    "\n",
    "La méthode `train` renvoie un dictionnaire contenant des informations sur l'itération de la formation. Nous l'explorerons ensuite."
   ]
  },
  {
   "cell_type": "markdown",
   "id": "e2c34155-1045-4582-8995-30ca063dd941",
   "metadata": {},
   "source": [
    "#### Itérations de formation\n",
    "\n",
    "- En fait, ce que nous venons de faire était une _itération_ de formation.\n",
    "- RLlib passera par plusieurs épisodes par itération, en fonction de ses hyperparamètres."
   ]
  },
  {
   "cell_type": "code",
   "execution_count": 11,
   "id": "d5e474bd-6aa7-4801-8268-f8b643d6d091",
   "metadata": {},
   "outputs": [
    {
     "data": {
      "text/plain": [
       "536"
      ]
     },
     "execution_count": 11,
     "metadata": {},
     "output_type": "execute_result"
    }
   ],
   "source": [
    "len(train_info[\"hist_stats\"][\"episode_lengths\"])"
   ]
  },
  {
   "cell_type": "markdown",
   "id": "5e586701-6cc9-4706-83fc-66f8082c0ddd",
   "metadata": {},
   "source": [
    "On dirait qu'il y a eu ~500 épisodes dans cette seule itération."
   ]
  },
  {
   "cell_type": "code",
   "execution_count": 12,
   "id": "6461c7c3-4612-4649-be60-ef527c6abce1",
   "metadata": {},
   "outputs": [
    {
     "data": {
      "text/plain": [
       "3991"
      ]
     },
     "execution_count": 12,
     "metadata": {},
     "output_type": "execute_result"
    }
   ],
   "source": [
    "sum(train_info[\"hist_stats\"][\"episode_lengths\"])"
   ]
  },
  {
   "cell_type": "markdown",
   "id": "2786b671-c31c-4278-801e-41aa7a2a5f1b",
   "metadata": {},
   "source": [
    "Pour un total de ~4000 pas de temps."
   ]
  },
  {
   "cell_type": "markdown",
   "id": "ac9af3fd-5931-471b-ba85-85de280e1501",
   "metadata": {},
   "source": [
    "#### L'état d'esprit RL : génération de données\n",
    "\n",
    "- Principale différence avec la mentalité de l'apprentissage supervisé\n",
    "- Dans l'apprentissage supervisé, nous prenons une quantité fixe de données et nous nous entraînons pendant un certain nombre d'itérations\n",
    "- En RL, plus d'itérations signifie plus d'entraînement _sur plus de données_ car nous apprenons de l'environnement au fur et à mesure que nous interagissons avec lui\n",
    "- Si tu ne joues qu'un seul épisode, tu ne verras peut-être jamais l'observation 10, alors comment peux-tu apprendre ce qu'il faut faire à partir de l'observation 10 ?"
   ]
  },
  {
   "cell_type": "markdown",
   "id": "74dcef69-2b7c-4682-8163-ff2c84a7c43f",
   "metadata": {},
   "source": [
    "#### L'état d'esprit de RL\n",
    "\n",
    "Ce que nous avions avant, lorsque nous contrôlions l'agent manuellement :\n",
    "\n",
    "![](img/RL-loop-2.png)"
   ]
  },
  {
   "cell_type": "markdown",
   "id": "fa39ad76-d385-4048-a0f4-b52a5adb0596",
   "metadata": {},
   "source": [
    "#### L'état d'esprit de RL\n",
    "\n",
    "Ce que nous avons maintenant :\n",
    "\n",
    "![](img/RL-loop-3.png)\n",
    "\n",
    "Nous avons une boucle externe qui implique la formation.\n",
    "\n",
    "Notes :\n",
    "\n",
    "L'entraînement / la mise à jour de l'agent n'a pas nécessairement lieu après chaque itération, mais ce schéma donne un cadre conceptuel."
   ]
  },
  {
   "cell_type": "markdown",
   "id": "a2a4fb60-74bb-4e18-aac0-7f13ad5fa4a0",
   "metadata": {},
   "source": [
    "#### Infos sur la formation : longueurs des épisodes\n",
    "\n",
    "Regardons les longueurs des 100 derniers épisodes auxquels nous avons joué :"
   ]
  },
  {
   "cell_type": "code",
   "execution_count": 13,
   "id": "69d6edba-b9d7-4e41-8fe5-c9181870faef",
   "metadata": {},
   "outputs": [
    {
     "name": "stdout",
     "output_type": "stream",
     "text": [
      "[4, 9, 18, 3, 5, 2, 5, 5, 13, 18, 4, 6, 9, 3, 16, 4, 2, 3, 8, 4, 4, 4, 9, 6, 7, 2, 3, 6, 10, 9, 5, 7, 11, 19, 4, 7, 2, 2, 15, 6, 2, 10, 6, 13, 10, 11, 3, 10, 2, 8, 14, 12, 2, 4, 5, 2, 7, 4, 7, 5, 2, 3, 2, 6, 7, 2, 19, 2, 4, 12, 15, 7, 7, 11, 6, 2, 6, 6, 12, 6, 16, 8, 8, 4, 8, 4, 6, 4, 16, 2, 5, 11, 10, 6, 14, 2, 2, 6, 4, 14]\n"
     ]
    }
   ],
   "source": [
    "print(train_info[\"hist_stats\"][\"episode_lengths\"][-100:])"
   ]
  },
  {
   "cell_type": "markdown",
   "id": "fb727bf9-bc04-4127-8290-4b4a76a961f2",
   "metadata": {},
   "source": [
    "- Rappelle-toi qu'un épisode se termine lorsque `.step()` renvoie `True` pour l'indicateur `done`.\n",
    "- Nous voyons des épisodes très courts, où l'agent est tombé dans un trou tout de suite."
   ]
  },
  {
   "cell_type": "markdown",
   "id": "93cdf5ae-db28-4da8-a55d-eb1c0222b277",
   "metadata": {},
   "source": [
    "#### Infos sur l'entraînement : récompenses d'épisodes\n",
    "\n",
    "- Pour ces épisodes plus longs, l'agent a-t-il atteint l'objectif ?\n",
    "- Pour l'évaluer, nous pouvons imprimer les 100 premières _récompenses d'épisodes_ :"
   ]
  },
  {
   "cell_type": "code",
   "execution_count": 14,
   "id": "cd6ffa8d-206d-47e6-8d5e-c2ce350c92a3",
   "metadata": {},
   "outputs": [
    {
     "name": "stdout",
     "output_type": "stream",
     "text": [
      "[0.0, 0.0, 0.0, 0.0, 0.0, 0.0, 0.0, 0.0, 0.0, 0.0, 0.0, 0.0, 0.0, 0.0, 1.0, 0.0, 0.0, 0.0, 0.0, 0.0, 0.0, 0.0, 1.0, 0.0, 0.0, 0.0, 0.0, 0.0, 0.0, 0.0, 0.0, 0.0, 0.0, 0.0, 0.0, 0.0, 0.0, 0.0, 0.0, 0.0, 0.0, 0.0, 0.0, 0.0, 0.0, 0.0, 0.0, 0.0, 0.0, 0.0, 0.0, 0.0, 0.0, 0.0, 0.0, 0.0, 0.0, 0.0, 0.0, 0.0, 0.0, 0.0, 0.0, 0.0, 0.0, 0.0, 0.0, 0.0, 0.0, 0.0, 0.0, 0.0, 0.0, 0.0, 0.0, 0.0, 0.0, 0.0, 0.0, 0.0, 0.0, 0.0, 1.0, 0.0, 0.0, 0.0, 0.0, 0.0, 0.0, 0.0, 0.0, 0.0, 0.0, 0.0, 0.0, 0.0, 0.0, 0.0, 0.0, 0.0]\n"
     ]
    }
   ],
   "source": [
    "print(train_info[\"hist_stats\"][\"episode_reward\"][-100:])"
   ]
  },
  {
   "cell_type": "markdown",
   "id": "f8641cd6-7d8c-4d69-a4a9-0402f7ac0bde",
   "metadata": {},
   "source": [
    "Et la moyenne de ces récompenses :"
   ]
  },
  {
   "cell_type": "code",
   "execution_count": 15,
   "id": "ab826887-1e08-4821-9ea4-79baba755237",
   "metadata": {},
   "outputs": [
    {
     "name": "stdout",
     "output_type": "stream",
     "text": [
      "0.03\n"
     ]
    }
   ],
   "source": [
    "print(np.mean(train_info[\"hist_stats\"][\"episode_reward\"][-100:]))"
   ]
  },
  {
   "cell_type": "markdown",
   "id": "87c846b7-297a-4878-a6de-a91663176660",
   "metadata": {},
   "source": [
    "Ce n'est pas très impressionnant. Continuons à nous entraîner."
   ]
  },
  {
   "cell_type": "markdown",
   "id": "9eb75a84-3cab-487b-8476-2740a686af92",
   "metadata": {},
   "source": [
    "#### Plus de formation"
   ]
  },
  {
   "cell_type": "code",
   "execution_count": 16,
   "id": "dcc1cbb9-0c16-447f-88a6-027bd5b05b16",
   "metadata": {},
   "outputs": [],
   "source": [
    "for i in range(10):\n",
    "    train_info = ppo.train()"
   ]
  },
  {
   "cell_type": "code",
   "execution_count": 17,
   "id": "8413bd9d-59d5-4620-b5f1-2f4f466f2029",
   "metadata": {},
   "outputs": [
    {
     "name": "stdout",
     "output_type": "stream",
     "text": [
      "0.9778481012658228\n"
     ]
    }
   ],
   "source": [
    "print(np.mean(train_info[\"hist_stats\"][\"episode_reward\"]))"
   ]
  },
  {
   "cell_type": "markdown",
   "id": "4e9e1c65-6eb7-4b72-adf6-f63845487fd4",
   "metadata": {},
   "source": [
    "- Super ! Maintenant, nous atteignons l'objectif presque à chaque fois !\n",
    "- La _récompense moyenne_ (sur les épisodes d'entraînement les plus récents) est de ~0,98.\n",
    "- Interprétation : nous atteignons l'objectif 98% du temps.\n",
    "\n",
    "Notes :\n",
    "\n",
    "Pourquoi cette interprétation ? Parce que dans cet environnement, nous ne recevons une récompense qu'à la fin de l'épisode, 0 pour un échec et 1 pour une réussite."
   ]
  },
  {
   "cell_type": "markdown",
   "id": "c9227bbc-7b6b-40e2-b458-8bbe94b9a647",
   "metadata": {},
   "source": [
    "#### Courbes de formation\n",
    "\n",
    "- En apprentissage profond, nous voyons souvent des diagrammes de perte par rapport aux époques pendant l'entraînement\n",
    "- Nous pouvons obtenir cela en RL aussi en stockant ceci à chaque itération :"
   ]
  },
  {
   "cell_type": "code",
   "execution_count": 18,
   "id": "92699cd9-fc76-474c-9977-f1b7aa4a4035",
   "metadata": {},
   "outputs": [
    {
     "data": {
      "image/png": "[encoded data removed]",
      "text/plain": [
       "<Figure size 640x480 with 1 Axes>"
      ]
     },
     "metadata": {},
     "output_type": "display_data"
    }
   ],
   "source": [
    "ppo = PPO(env=\"FrozenLake-v1\", config=algo_config)\n",
    "\n",
    "rewards = []\n",
    "for i in range(10):\n",
    "    train_info = ppo.train()\n",
    "    rewards.append(train_info[\"episode_reward_mean\"])\n",
    "                   \n",
    "import matplotlib.pyplot as plt\n",
    "plt.plot(rewards);\n",
    "plt.xlabel(\"iterations\");\n",
    "plt.ylabel(\"average reward\");"
   ]
  },
  {
   "cell_type": "markdown",
   "id": "74335644-d4a4-41b2-9c52-b4fb334c6168",
   "metadata": {},
   "source": [
    "Nous pouvons voir que les récompenses augmentent !"
   ]
  },
  {
   "cell_type": "markdown",
   "id": "46f4e2b6-da88-4245-8ccc-e81e53333491",
   "metadata": {},
   "source": [
    "Remarques : Si nous stockons la moyenne de récompense des épisodes pour chaque itération de formation, nous pouvons pr"
   ]
  },
  {
   "cell_type": "markdown",
   "id": "134f484d-3aa5-4cc6-b878-869f591102ec",
   "metadata": {},
   "source": [
    "#### Déclare la victoire ?\n",
    "\n",
    "- Nous avons bien fait.\n",
    "- Mais ce lac gelé non glissant est un environnement très facile \n",
    "- Un peu comme un ensemble de données d'apprentissage supervisé où y=x serait \"facile\".\n",
    "- Plus tard, nous augmenterons la difficulté."
   ]
  },
  {
   "cell_type": "markdown",
   "id": "e80d7905-3fab-417f-b9b1-c9ffa4d4cecf",
   "metadata": {
    "tags": []
   },
   "source": [
    "#### Utiliser la politique\n",
    "\n",
    "Nous pouvons exécuter la **boucle d'observation-politique-action** pendant plusieurs pas de temps pour observer la politique en action :"
   ]
  },
  {
   "cell_type": "code",
   "execution_count": 19,
   "id": "06f47779-3725-4bb6-9c92-f1877fa148b6",
   "metadata": {},
   "outputs": [
    {
     "name": "stdout",
     "output_type": "stream",
     "text": [
      "  (Down)\n",
      "....\n",
      "PO.O\n",
      "...O\n",
      "O..G\n",
      "  (Down)\n",
      "....\n",
      ".O.O\n",
      "P..O\n",
      "O..G\n",
      "  (Right)\n",
      "....\n",
      ".O.O\n",
      ".P.O\n",
      "O..G\n"
     ]
    }
   ],
   "source": [
    "obs = env.reset()\n",
    "\n",
    "for i in range(3):\n",
    "    action = ppo.compute_single_action(obs, explore=False)\n",
    "    obs, reward, done, _ = env.step(action)\n",
    "    env.render()"
   ]
  },
  {
   "cell_type": "markdown",
   "id": "ed77ebb4-1aa0-432e-b725-79cae6f3c2b9",
   "metadata": {},
   "source": [
    "Notes :\n",
    "\n",
    "La méthode de formation pertinente dans RLlib est compute_single_action"
   ]
  },
  {
   "cell_type": "markdown",
   "id": "61f9fe3e-a69d-4a40-ba94-db9f3c39ee54",
   "metadata": {},
   "source": [
    "#### Utiliser la politique"
   ]
  },
  {
   "cell_type": "code",
   "execution_count": 20,
   "id": "af239179-38df-4a33-bbea-4c7b4ae9c684",
   "metadata": {},
   "outputs": [
    {
     "name": "stdout",
     "output_type": "stream",
     "text": [
      "  (Right)\n",
      "....\n",
      ".O.O\n",
      "..PO\n",
      "O..G\n",
      "  (Down)\n",
      "....\n",
      ".O.O\n",
      "...O\n",
      "O.PG\n",
      "  (Right)\n",
      "....\n",
      ".O.O\n",
      "...O\n",
      "O..P\n"
     ]
    }
   ],
   "source": [
    "for i in range(3):\n",
    "    action = ppo.compute_single_action(obs, explore=False)\n",
    "    obs, reward, done, _ = env.step(action)\n",
    "    env.render()"
   ]
  },
  {
   "cell_type": "markdown",
   "id": "8753cf53-da7f-4fad-b67c-200a9e844a85",
   "metadata": {},
   "source": [
    "En utilisant cette politique, nous atteignons le but de manière fiable à chaque fois, car l'environnement non glissant de Frozen Lake est déterministe."
   ]
  },
  {
   "cell_type": "markdown",
   "id": "680904ff-bd6a-40f4-800f-5bc225b5d850",
   "metadata": {
    "tags": []
   },
   "source": [
    "#### Évaluation\n",
    "\n",
    "Dans RLlib, nous pouvons évaluer avec `.evaluate()` :"
   ]
  },
  {
   "cell_type": "code",
   "execution_count": 21,
   "id": "20596f3c-893f-4b0d-88ba-7d7b9e349033",
   "metadata": {},
   "outputs": [],
   "source": [
    "eval_results = ppo.evaluate()"
   ]
  },
  {
   "cell_type": "markdown",
   "id": "ed056a47-6dc8-4846-89b4-719537a0b9f6",
   "metadata": {},
   "source": [
    "La formation n'a pas lieu pendant l'évaluation."
   ]
  },
  {
   "cell_type": "code",
   "execution_count": 22,
   "id": "4f94835f-b1cf-40de-a9f2-e5852bc06c07",
   "metadata": {},
   "outputs": [
    {
     "data": {
      "text/plain": [
       "0.9501557632398754"
      ]
     },
     "execution_count": 22,
     "metadata": {},
     "output_type": "execute_result"
    }
   ],
   "source": [
    "eval_results[\"evaluation\"][\"episode_reward_mean\"]"
   ]
  },
  {
   "cell_type": "markdown",
   "id": "4dccc5c8-bf38-4efc-9a68-6d7af6a6b8ab",
   "metadata": {},
   "source": [
    "Ici, nous obtenons des résultats similaires à la sortie de `.train()`, mais pas exactement les mêmes "
   ]
  },
  {
   "cell_type": "markdown",
   "id": "c110e98d-2f5a-4750-acff-4703e239672a",
   "metadata": {},
   "source": [
    "Notes :\n",
    "\n",
    "La sortie d'évaluation contient beaucoup d'informations, y compris plusieurs des mêmes champs que la sortie de formation."
   ]
  },
  {
   "cell_type": "markdown",
   "id": "3f6a8e52-ab9e-4a1f-b704-15525065dee1",
   "metadata": {},
   "source": [
    "#### Évaluation\n",
    "\n",
    "Histogramme des récompenses d'épisodes :"
   ]
  },
  {
   "cell_type": "code",
   "execution_count": 23,
   "id": "bd354df4-96b4-45dc-9ede-f89089794093",
   "metadata": {},
   "outputs": [
    {
     "data": {
      "image/png": "[encoded data removed]",
      "text/plain": [
       "<Figure size 640x480 with 1 Axes>"
      ]
     },
     "metadata": {},
     "output_type": "display_data"
    }
   ],
   "source": [
    "plt.hist(eval_results[\"evaluation\"][\"hist_stats\"][\"episode_reward\"]);"
   ]
  },
  {
   "cell_type": "markdown",
   "id": "144df6d5-e45e-4d6e-a2bf-a0332211105f",
   "metadata": {},
   "source": [
    "#### Évaluation\n",
    "\n",
    "Histogramme des _longueurs_ d'épisode :"
   ]
  },
  {
   "cell_type": "code",
   "execution_count": 24,
   "id": "62486690-de69-4b8c-94eb-e0290d5b90e0",
   "metadata": {},
   "outputs": [
    {
     "data": {
      "image/png": "[encoded data removed]",
      "text/plain": [
       "<Figure size 640x480 with 1 Axes>"
      ]
     },
     "metadata": {},
     "output_type": "display_data"
    }
   ],
   "source": [
    "plt.hist(eval_results[\"evaluation\"][\"hist_stats\"][\"episode_lengths\"]);"
   ]
  },
  {
   "cell_type": "markdown",
   "id": "f0198fc0-5477-4bec-8680-2d6101fac0a8",
   "metadata": {},
   "source": [
    "- Les plus courtes sont les échecs, car il est impossible d'atteindre le but en 4 étapes.\n",
    "- La plupart du temps, nous atteignons le but en un nombre minimum d'étapes (6)."
   ]
  },
  {
   "cell_type": "markdown",
   "id": "c5c8070f-8ac9-4026-b049-ceeffa94775b",
   "metadata": {
    "tags": []
   },
   "source": [
    "#### analogies sklearn / RLlib\n",
    "\n",
    "- Nous avons vu quelques analogies (et départs) entre SL et RL, tant au niveau du concept que de la syntaxe \n",
    "- Comparons :\n",
    "\n",
    "| SL/sklearn | RL/RLlib | Description |\n",
    "|-------------|---------|--------------|\n",
    "| `ModelName(**hypers)` | `AlgoName(hypers, env)` | Initialiser un modèle/algorithme |\n",
    "| `.fit(X,y)` | `.train()` | Formation (entièrement pour sklearn, une itération pour RLlib) |\n",
    "| `.predict(x)` | `.compute_single_action(obs)` | Utiliser une fois le modèle formé |\n",
    "| `.score(X,y)` | `.evaluate()` | Évaluer le modèle |"
   ]
  },
  {
   "cell_type": "markdown",
   "id": "d205da70-1255-437c-8a99-6ea8a5e8d2a0",
   "metadata": {},
   "source": [
    "#### Appliquons ce que nous avons appris !"
   ]
  },
  {
   "cell_type": "markdown",
   "id": "dd539d44-aa7c-4958-b448-7759f3adc20e",
   "metadata": {
    "tags": []
   },
   "source": [
    "## Méthodes de l'algorithme RLlib\n",
    "<!-- multiple choice -->"
   ]
  },
  {
   "cell_type": "markdown",
   "id": "17580d1a-2245-4390-bfee-449b1bfff570",
   "metadata": {},
   "source": [
    "#### Formation\n",
    "\n",
    "lequel des énoncés suivants décrit le mieux le rôle de `algorithm.train()` dans RLlib ?\n",
    "\n",
    "- [ ] Il ne collecte pas un ensemble de données d'épisodes et n'apprend pas de politique. | Es-tu sûr ?\n",
    "- [ ] Il apprend une politique à partir d'un ensemble de données fixe d'épisodes. | Rappelle-toi que le fait d'appeler train() oblige l'agent à lire les épisodes.\n",
    "- [ ] Il crée un ensemble de données d'épisodes mais n'apprend pas de politique. | Rappelle-toi qu'en appelant train(), l'agent apprend une politique.\n",
    "- [x] Il collecte simultanément un ensemble de données d'épisodes et apprend également une politique. | Tu as trouvé !"
   ]
  },
  {
   "cell_type": "markdown",
   "id": "d48245b9-3007-4d9c-a657-97978c4fea1e",
   "metadata": {},
   "source": [
    "#### Passage dans l'ensemble de données\n",
    "\n",
    "lorsque nous utilisons scikit-learn pour l'apprentissage supervisé, nous appelons `fit(X,y)`, mais avec RLlib nous appelons `train()` sans passer dans l'ensemble de données. Pourquoi ?\n",
    "\n",
    "- [ ] Parce que RLlib a eu accès à l'environnement lors de l'initialisation de l'algorithme, et c'est tout ce dont il a besoin.\n",
    "- [ ] Parce que l'apprentissage par renforcement n'implique pas de données.\n",
    "- [ ] Parce que X et y sont passés dans une méthode RLlib différente."
   ]
  },
  {
   "cell_type": "markdown",
   "id": "cc34288f-7416-4041-8b70-5182715bfd0e",
   "metadata": {
    "jp-MarkdownHeadingCollapsed": true,
    "tags": []
   },
   "source": [
    "#### Prédire\n",
    "\n",
    "_Quelle est la méthode de l'algorithme RLlib suivante qui est la plus analogue à la fonction `.predict()` de scikit-learn ?\n",
    "\n",
    "- [ ] train() | Cela ressemble plus à _fit()_ dans scikit-learn.\n",
    "- [x] compute_single_action()\n",
    "- [ ] evaluate() | Cela ressemble plus à _score()_ dans scikit-learn "
   ]
  },
  {
   "cell_type": "markdown",
   "id": "f34d5c5b-a1be-447a-abe6-e034c9487cce",
   "metadata": {},
   "source": [
    "## Lac glissant et gelé\n",
    "<!-- coding exercise -->\n",
    "\n",
    "Dans les diapositives, nous avons entraîné un agent à atteindre le but de manière fiable dans l'environnement **non glissant** Frozen Lake. Ici, essaie de faire la même chose avec le lac gelé **glissant**. Entraîne ton agent pendant suffisamment d'itérations pour qu'il atteigne l'objectif au moins 20 % du temps. Ensuite, réponds à la question à choix multiple ci-dessous.\n",
    "\n",
    "Remarque : nous discuterons de la configuration de l'algorithme dans la prochaine série de diapositives. Pour l'instant, note simplement que nous utilisons la version glissante de Frozen Lake."
   ]
  },
  {
   "cell_type": "code",
   "execution_count": 25,
   "id": "c2847c21-1709-4039-b77d-d634e43e6096",
   "metadata": {
    "tags": [
     "raises-exception"
    ]
   },
   "outputs": [
    {
     "ename": "NameError",
     "evalue": "name '____' is not defined",
     "output_type": "error",
     "traceback": [
      "\u001b[0;31m---------------------------------------------------------------------------\u001b[0m",
      "\u001b[0;31mNameError\u001b[0m                                 Traceback (most recent call last)",
      "Input \u001b[0;32mIn [25]\u001b[0m, in \u001b[0;36m<cell line: 5>\u001b[0;34m()\u001b[0m\n\u001b[1;32m      2\u001b[0m \u001b[38;5;28;01mfrom\u001b[39;00m \u001b[38;5;21;01mray\u001b[39;00m\u001b[38;5;21;01m.\u001b[39;00m\u001b[38;5;21;01mrllib\u001b[39;00m\u001b[38;5;21;01m.\u001b[39;00m\u001b[38;5;21;01malgorithms\u001b[39;00m\u001b[38;5;21;01m.\u001b[39;00m\u001b[38;5;21;01mppo\u001b[39;00m \u001b[38;5;28;01mimport\u001b[39;00m PPO, PPOConfig\n\u001b[1;32m      3\u001b[0m \u001b[38;5;28;01mfrom\u001b[39;00m \u001b[38;5;21;01mutils\u001b[39;00m \u001b[38;5;28;01mimport\u001b[39;00m slippery_algo_config\n\u001b[0;32m----> 5\u001b[0m ppo \u001b[38;5;241m=\u001b[39m PPO(env\u001b[38;5;241m=\u001b[39m\u001b[43m____\u001b[49m, config\u001b[38;5;241m=\u001b[39mslippery_algo_config)\n\u001b[1;32m      7\u001b[0m \u001b[38;5;28;01mfor\u001b[39;00m i \u001b[38;5;129;01min\u001b[39;00m \u001b[38;5;28mrange\u001b[39m(____):\n\u001b[1;32m      8\u001b[0m     train_info \u001b[38;5;241m=\u001b[39m ppo\u001b[38;5;241m.\u001b[39m____()\n",
      "\u001b[0;31mNameError\u001b[0m: name '____' is not defined"
     ]
    }
   ],
   "source": [
    "# EXERCISE\n",
    "from ray.rllib.algorithms.ppo import PPO, PPOConfig\n",
    "from utils_02 import slippery_algo_config\n",
    "\n",
    "ppo = PPO(env=____, config=slippery_algo_config)\n",
    "\n",
    "for i in range(____):\n",
    "    train_info = ppo.____()\n",
    "    \n",
    "eval_results = ____.evaluate()\n",
    "\n",
    "print(eval_results[\"evaluation\"][\"episode_reward_mean\"])"
   ]
  },
  {
   "cell_type": "code",
   "execution_count": 30,
   "id": "e2f2fdf9-ec1a-488d-8864-0a929e42190c",
   "metadata": {},
   "outputs": [
    {
     "name": "stdout",
     "output_type": "stream",
     "text": [
      "Frequency of reaching goal: 87.0%\n",
      "Action performed from top-right: 3\n"
     ]
    }
   ],
   "source": [
    "# SOLUTION\n",
    "from ray.rllib.algorithms.ppo import PPO\n",
    "from utils_02 import slippery_algo_config\n",
    "\n",
    "ppo = PPO(env=\"FrozenLake-v1\", config=slippery_algo_config)\n",
    "\n",
    "for i in range(50): # There is randomness here, but 20+ should be enough most of the time\n",
    "    train_info = ppo.train()\n",
    "    \n",
    "eval_results = ppo.evaluate()\n",
    "\n",
    "print(\"Frequency of reaching goal: %.1f%%\" % (eval_results[\"evaluation\"][\"episode_reward_mean\"]*100))\n",
    "\n",
    "print(\"Action performed from top-right:\", ppo.compute_single_action(3, explore=False))"
   ]
  },
  {
   "cell_type": "markdown",
   "id": "6485b269-1c62-4cd8-a8d2-0a6cea590aeb",
   "metadata": {},
   "source": [
    "#### Action effectuée à partir du haut et de la droite\n",
    "\n",
    "Selon la politique formée, quelle action est exécutée lorsque l'agent se trouve en haut à droite de l'arène ? Ceci est imprimé par le code.\n",
    "\n",
    "- [ ] gauche (0) | Lorsque nous avons exécuté le code, nous avons obtenu quelque chose de différent ici.\n",
    "- [ ] down (1) | Lorsque nous avons exécuté le code, nous avons obtenu quelque chose de différent ici.\n",
    "- [ ] droite (2) | Lorsque nous avons exécuté le code, nous avons obtenu quelque chose de différent ici.\n",
    "- [ ] haut (3) | Tu as réussi !"
   ]
  },
  {
   "cell_type": "markdown",
   "id": "1eb1e37b-ca77-41ba-ba20-6a9558485b80",
   "metadata": {
    "tags": []
   },
   "source": [
    "#### Interpréter la politique\n",
    "\n",
    "Rappelle-toi que l'arène ressemble à ceci :\n",
    "\n",
    "```\n",
    "SFFF\n",
    "FHFH\n",
    "FFFH\n",
    "HFFG\n",
    "```\n",
    "\n",
    "Dans cet environnement glissant, tu fais ton action prévue 1/3 du temps, et chacune des deux directions perpendiculaires 1/3 du temps. Tu ne vas jamais dans la direction opposée à celle prévue.\n",
    "\n",
    "Dans la question précédente, nous avons vu que, depuis le **coin supérieur droit** (observation 3), l'agent essaie de se déplacer vers le haut (action 3). À ton avis, pourquoi l'agent essaie-t-il de se déplacer vers le haut ?\n",
    "\n",
    "- [ ] \"Vers le haut\" est un choix arbitraire car nous n'avons pas formé l'agent.\n",
    "- [ ] L'agent reçoit une récompense pour l'action 'vers le haut' \n",
    "- [ ] L'agent veut éviter de tomber dans le trou en dessous de lui, donc l'action 'vers le haut' est le choix le plus sûr.\n",
    "- [ ] Le fait de se déplacer vers le haut rapproche l'agent de l'objectif."
   ]
  },
  {
   "cell_type": "code",
   "execution_count": 31,
   "id": "b069fd6a-beca-49f9-a1a5-c6d5396105db",
   "metadata": {},
   "outputs": [],
   "source": [
    "# # HIDDEN\n",
    "\n",
    "# from ray.rllib.algorithms.ppo import PPO, PPOConfig\n",
    "# from utils_02 import slippery_algo_config\n",
    "\n",
    "# ppo = slippery_algo_config.build(env=\"FrozenLake-v1\")\n",
    "\n",
    "# for i in range(20):\n",
    "#     ppo.train()\n",
    "\n",
    "# ppo.save(\"models/FrozenLakeSlippery20\")"
   ]
  },
  {
   "cell_type": "markdown",
   "id": "c553472d-69ad-49af-8282-5671d6cb9c15",
   "metadata": {},
   "source": [
    "## Rendre l'agent formé\n",
    "<!-- coding exercise -->"
   ]
  },
  {
   "cell_type": "markdown",
   "id": "3362ef16-d73a-47c3-8b1b-737fd6931041",
   "metadata": {},
   "source": [
    "Remplis les espaces vides du code ci-dessous pour que le code exécute la boucle observation-action-récompense pendant un épisode. Ensuite, exécute le code et regarde l'agent entraîné naviguer sur le lac gelé glissant. Ensuite, réponds à la question à choix multiple ci-dessous."
   ]
  },
  {
   "cell_type": "code",
   "execution_count": 32,
   "id": "f2996d2f",
   "metadata": {
    "collapsed": false,
    "jupyter": {
     "outputs_hidden": false
    },
    "pycharm": {
     "name": "#%%\n"
    }
   },
   "outputs": [
    {
     "name": "stdout",
     "output_type": "stream",
     "text": [
      "  (Down)\n",
      "SFFF\n",
      "FHFH\n",
      "FFFH\n",
      "HFF\u001b[41mG\u001b[0m\n",
      "\n"
     ]
    }
   ],
   "source": [
    "# EXERCISE\n",
    "from ray.rllib.algorithms.ppo import PPO\n",
    "from utils_02 import slippery_algo_config\n",
    "import gym\n",
    "from IPython import display\n",
    "import time\n",
    "\n",
    "ppo = PPO(env=\"FrozenLake-v1\", config=slippery_algo_config)\n",
    "ppo.restore(\"models/FrozenLakeSlippery50/checkpoint_000050/\")\n",
    "\n",
    "env = gym.make(\"FrozenLake-v1\", is_slippery=True)\n",
    "\n",
    "obs = env.reset()\n",
    "env.seed(12)\n",
    "\n",
    "done = False\n",
    "while not done:\n",
    "    action = ppo.compute_single_action(obs, explore=False)\n",
    "    obs, rewards, done, _ = env.step(action)\n",
    "\n",
    "    display.clear_output(wait=True);\n",
    "    print(env.render(mode=\"ansi\"))\n",
    "    time.sleep(0.25)"
   ]
  },
  {
   "cell_type": "code",
   "execution_count": 34,
   "id": "3f5e7f1f-cde4-4a3e-83b9-ab6334c83cd6",
   "metadata": {},
   "outputs": [
    {
     "name": "stdout",
     "output_type": "stream",
     "text": [
      "  (Down)\n",
      "SFFF\n",
      "FHFH\n",
      "FFFH\n",
      "HFF\u001b[41mG\u001b[0m\n",
      "\n"
     ]
    }
   ],
   "source": [
    "# SOLUTION\n",
    "from ray.rllib.algorithms.ppo import PPO\n",
    "from utils_02 import slippery_algo_config\n",
    "import gym\n",
    "from IPython import display\n",
    "import time\n",
    "\n",
    "ppo = PPO(env=\"FrozenLake-v1\", config=slippery_algo_config)\n",
    "ppo.restore(\"models/FrozenLakeSlippery50/checkpoint_000050/\")\n",
    "\n",
    "env = gym.make(\"FrozenLake-v1\", is_slippery=True)\n",
    "\n",
    "obs = env.reset()\n",
    "env.seed(12)\n",
    "\n",
    "done = False\n",
    "while not done:\n",
    "    action = ppo.compute_single_action(obs, explore=False)\n",
    "    obs, rewards, done, _ = env.step(action)\n",
    "\n",
    "    display.clear_output(wait=True);\n",
    "    print(env.render(mode=\"ansi\"))\n",
    "    time.sleep(0.25)"
   ]
  },
  {
   "cell_type": "markdown",
   "id": "e1ef9dd9-99ea-4acf-ad2a-b09f2b534f5e",
   "metadata": {},
   "source": [
    "#### Choisis l'option ci-dessous qui décrit le mieux le voyage périlleux de l'agent vers le but.\n",
    "\n",
    "- [ ] L'agent visite la case en haut à droite dans cet épisode.\n",
    "- [ ] L'agent ne revient jamais à l'état de départ après l'avoir quitté initialement.\n",
    "- [ ] L'agent n'atteint pas le but pendant l'épisode.\n",
    "- [ ] L'agent ne voit jamais l'observation 10 pendant son voyage."
   ]
  },
  {
   "cell_type": "code",
   "execution_count": null,
   "id": "7ca0f7c4-786f-4105-9121-5f8122357d2f",
   "metadata": {},
   "outputs": [],
   "source": []
  }
 ],
 "metadata": {
  "kernelspec": {
   "display_name": "Python [conda env:ray200]",
   "language": "python",
   "name": "conda-env-ray200-py"
  },
  "language_info": {
   "codemirror_mode": {
    "name": "ipython",
    "version": 3
   },
   "file_extension": ".py",
   "mimetype": "text/x-python",
   "name": "python",
   "nbconvert_exporter": "python",
   "pygments_lexer": "ipython3",
   "version": "3.9.13"
  }
 },
 "nbformat": 4,
 "nbformat_minor": 5
}
