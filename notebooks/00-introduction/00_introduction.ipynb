{
 "cells": [
  {
   "cell_type": "markdown",
   "id": "15b89d29-6b6a-492d-9421-c3395dfd2020",
   "metadata": {},
   "source": [
    "## Introduction"
   ]
  },
  {
   "cell_type": "markdown",
   "id": "18e2222c-d00d-4c69-b86e-18560e51896d",
   "metadata": {},
   "source": [
    "#### Course objective\n",
    "\n",
    "By the end of this course, you will be able to take a practical problem, translate it into an RL environment and then apply RL to find a policy that solves the problem. "
   ]
  },
  {
   "cell_type": "markdown",
   "id": "cc246420-7abf-4584-9d76-fbfb660c5ac9",
   "metadata": {},
   "source": [
    "#### Course outline\n",
    "\n",
    "0. Introduction\n",
    "1. RL components\n",
    "2. Building your own environments\n",
    "3. Applications\n",
    "5. What's under the hood"
   ]
  },
  {
   "cell_type": "markdown",
   "id": "df4dd879-8c05-4651-9dbd-a42ce1456a7a",
   "metadata": {},
   "source": [
    "#### Target audience / prerequisites\n",
    "\n",
    "Here's a persona who might benefit a lot from this course:\n",
    "\n",
    "- Machine learning engineers or data scientists who want to apply reinforcement learning (RL)\n",
    "\n",
    "Assumed knowledge:\n",
    "\n",
    "- Familiar with Python/numpy\n",
    "- Familiar with basic ML and scikit-learn\n",
    "- Basic familiarity with neural networks\n",
    "\n",
    "Knowledge *NOT* required:\n",
    "\n",
    "- If you have never used (or heard of) Ray, that's fine\n",
    "- If you have never used RL, that's fine\n",
    "- We will doing a lot of problem-solving, but we will not be using complex mathematics"
   ]
  },
  {
   "cell_type": "markdown",
   "id": "c66fb22e-ebef-4dfb-bcc3-4864edf5bdb4",
   "metadata": {},
   "source": [
    "## When can we use RL?\n",
    "\n",
    "For which of the following problems would RL be suitable?\n",
    "\n",
    "- [ ] Segmenting your customers into different groups\n",
    "- [ ] Predicting house prices given house features\n",
    "- [x] Controlling a robot\n",
    "- [ ] Detecting whether an image contains a dog"
   ]
  },
  {
   "cell_type": "code",
   "execution_count": null,
   "id": "b7e184b3-0be7-4cde-baeb-262153c01621",
   "metadata": {},
   "outputs": [],
   "source": []
  }
 ],
 "metadata": {
  "kernelspec": {
   "display_name": "Python [conda env:rl-course]",
   "language": "python",
   "name": "conda-env-rl-course-py"
  },
  "language_info": {
   "codemirror_mode": {
    "name": "ipython",
    "version": 3
   },
   "file_extension": ".py",
   "mimetype": "text/x-python",
   "name": "python",
   "nbconvert_exporter": "python",
   "pygments_lexer": "ipython3",
   "version": "3.8.13"
  }
 },
 "nbformat": 4,
 "nbformat_minor": 5
}
