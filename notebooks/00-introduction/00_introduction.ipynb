{
 "cells": [
  {
   "cell_type": "markdown",
   "id": "15b89d29-6b6a-492d-9421-c3395dfd2020",
   "metadata": {},
   "source": [
    "## Introduction\n",
    "<!-- video shot=\"/OSdFnBfDwT0\" start=\"00:10\" end=\"02:52\" -->"
   ]
  },
  {
   "cell_type": "markdown",
   "id": "18e2222c-d00d-4c69-b86e-18560e51896d",
   "metadata": {},
   "source": [
    "#### Course objective\n",
    "\n",
    "By the end of this course, you will be able to take a practical problem, translate it into an RL environment and then apply RL to find a policy that solves the problem. "
   ]
  },
  {
   "cell_type": "markdown",
   "id": "cc246420-7abf-4584-9d76-fbfb660c5ac9",
   "metadata": {},
   "source": [
    "#### Course outline\n",
    "\n",
    "0. Introduction\n",
    "1. RL components\n",
    "2. Ray RLlib\n",
    "3. Building your own environments\n",
    "4. Recommender system applications\n",
    "5. Under the hood"
   ]
  },
  {
   "cell_type": "markdown",
   "id": "0a20384d-3b30-4eb5-a971-7b990fc183ef",
   "metadata": {},
   "source": [
    "#### Course format\n",
    "\n",
    "- Modules consist of alternating slides and exercises\n",
    "- Slides: you can toggle between slides and videos\n",
    "- Exercises\n",
    "  - Multiple choice\n",
    "  - Coding exercises"
   ]
  },
  {
   "cell_type": "markdown",
   "id": "df4dd879-8c05-4651-9dbd-a42ce1456a7a",
   "metadata": {},
   "source": [
    "#### Target audience / prerequisites\n",
    "\n",
    "Persona who might benefit a lot from this course:\n",
    "\n",
    "- Machine learning engineers or data scientists who want to apply reinforcement learning (RL)\n",
    "\n",
    "Assumed knowledge:\n",
    "\n",
    "- Familiar with Python/numpy\n",
    "- Familiar with basic ML and scikit-learn\n",
    "\n",
    "Nice to have, but not required:\n",
    "\n",
    "- Familiarity with neural networks\n",
    "\n",
    "Knowledge *NOT* required:\n",
    "\n",
    "- If you have never used (or heard of) Ray, that's fine\n",
    "- If you have never used RL, that's fine\n",
    "- Sophisticated mathematics"
   ]
  },
  {
   "cell_type": "markdown",
   "id": "b0615f3a-00c7-4928-91a1-7adafe4d59fe",
   "metadata": {},
   "source": [
    "#### Let's start the course!"
   ]
  }
 ],
 "metadata": {
  "kernelspec": {
   "display_name": "Python [conda env:ray200]",
   "language": "python",
   "name": "conda-env-ray200-py"
  },
  "language_info": {
   "codemirror_mode": {
    "name": "ipython",
    "version": 3
   },
   "file_extension": ".py",
   "mimetype": "text/x-python",
   "name": "python",
   "nbconvert_exporter": "python",
   "pygments_lexer": "ipython3",
   "version": "3.9.13"
  }
 },
 "nbformat": 4,
 "nbformat_minor": 5
}
