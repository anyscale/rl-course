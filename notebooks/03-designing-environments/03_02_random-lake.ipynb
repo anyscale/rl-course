{
 "cells": [
  {
   "cell_type": "markdown",
   "id": "9e23df55-837b-4ec9-86ad-3b60c6a7f00d",
   "metadata": {},
   "source": [
    "## Random Lake Environment"
   ]
  },
  {
   "cell_type": "code",
   "execution_count": 1,
   "id": "4ffbd783-053c-47c6-afb4-72724590ee1e",
   "metadata": {},
   "outputs": [],
   "source": [
    "# HIDDEN\n",
    "import numpy as np"
   ]
  },
  {
   "cell_type": "code",
   "execution_count": 2,
   "id": "9081d4b5-47ed-48ed-abe0-1ef2f7c23847",
   "metadata": {},
   "outputs": [],
   "source": [
    "# HIDDEN\n",
    "import ray\n",
    "import logging\n",
    "ray.init(log_to_driver=False, ignore_reinit_error=True, logging_level=logging.ERROR); # logging.FATAL\n",
    "\n",
    "import warnings\n",
    "warnings.filterwarnings(\"ignore\", category=DeprecationWarning) "
   ]
  },
  {
   "cell_type": "code",
   "execution_count": 3,
   "id": "5d94457f-7893-4f58-8714-dc8feafc3c49",
   "metadata": {},
   "outputs": [],
   "source": [
    "# HIDDEN\n",
    "\n",
    "from ray.rllib.algorithms.ppo import PPOConfig"
   ]
  },
  {
   "cell_type": "markdown",
   "id": "0b40b252-c6b3-46bf-af14-61620bc95a2c",
   "metadata": {},
   "source": [
    "#### Learning a policy\n",
    "\n",
    "- Let's train an agent to complete the Frozen Pond using RLlib.\n",
    "- This is similar to our Frozen Lake agent from Module 1."
   ]
  },
  {
   "cell_type": "markdown",
   "id": "3bca1aaf-cd30-44a6-b192-87ea6ad3be39",
   "metadata": {},
   "source": [
    "#### Quick aside: default config\n",
    "\n",
    "- For brevity, we'll introduce the following default algorithm config settings:"
   ]
  },
  {
   "cell_type": "code",
   "execution_count": 4,
   "id": "e9c34cd0-1f80-441c-9550-bfe238f54ac5",
   "metadata": {},
   "outputs": [],
   "source": [
    "lake_default_config = (\n",
    "    PPOConfig()\\\n",
    "    .framework(\"torch\")\\\n",
    "    .rollouts(create_env_on_local_worker=True, horizon=100)\\\n",
    "    .debugging(seed=0, log_level=\"ERROR\")\\\n",
    "    .training(model={\"fcnet_hiddens\" : [32, 32]})\n",
    ")"
   ]
  },
  {
   "cell_type": "markdown",
   "id": "a15abde2-a45f-45bf-a33f-2e5c02f001d9",
   "metadata": {},
   "source": [
    "So, if you see `lake_default_config`, this is what it contains!"
   ]
  },
  {
   "cell_type": "markdown",
   "id": "04b96688-5597-4709-bd71-552dfec70920",
   "metadata": {},
   "source": [
    "#### Learning a policy\n",
    "\n",
    "- Back to it: let's train an agent to complete the Frozen Pond using RLlib.\n",
    "- This is similar to our Frozen Lake agent from Module 1."
   ]
  },
  {
   "cell_type": "code",
   "execution_count": 5,
   "id": "63d101fe-ebcf-43bb-859f-d07d3afc2093",
   "metadata": {},
   "outputs": [],
   "source": [
    "from gym.wrappers import TimeLimit\n",
    "from envs import FrozenPond # defined in previous slides"
   ]
  },
  {
   "cell_type": "code",
   "execution_count": 6,
   "id": "6c31ea0c-5e7b-46ff-b312-c1b846d7b2ed",
   "metadata": {},
   "outputs": [],
   "source": [
    "ppo = lake_default_config.build(env=FrozenPond)"
   ]
  },
  {
   "cell_type": "code",
   "execution_count": 7,
   "id": "548763bc-2399-4ac8-9936-2dba7b183467",
   "metadata": {},
   "outputs": [],
   "source": [
    "train_info = ppo.train()"
   ]
  },
  {
   "cell_type": "markdown",
   "id": "f2ee6979-e728-454d-bf34-35d1688c748f",
   "metadata": {},
   "source": [
    "#### Learning a policy"
   ]
  },
  {
   "cell_type": "markdown",
   "id": "dd7f6f10-c910-47e8-995c-aac0c33855a8",
   "metadata": {},
   "source": [
    "We see that the agent only reaches the goal in ~2% of evaluation episodes."
   ]
  },
  {
   "cell_type": "code",
   "execution_count": 8,
   "id": "fc2c0986-b123-49b2-b021-9cc0a8ea0383",
   "metadata": {},
   "outputs": [
    {
     "data": {
      "text/plain": [
       "0.021897810218978103"
      ]
     },
     "execution_count": 8,
     "metadata": {},
     "output_type": "execute_result"
    }
   ],
   "source": [
    "ppo.evaluate()[\"evaluation\"][\"episode_reward_mean\"]"
   ]
  },
  {
   "cell_type": "markdown",
   "id": "db523173-21d9-42a4-ab33-51d6f23a4d38",
   "metadata": {},
   "source": [
    "We can improve the agent by training for more iterations."
   ]
  },
  {
   "cell_type": "markdown",
   "id": "d709ff68-c2dd-4cf8-acf2-1ed728b44569",
   "metadata": {},
   "source": [
    "#### Learning a policy"
   ]
  },
  {
   "cell_type": "code",
   "execution_count": 9,
   "id": "b06c345a-3490-4ec8-8ef2-5b311f7db938",
   "metadata": {},
   "outputs": [],
   "source": [
    "for i in range(8):\n",
    "    ppo.train()"
   ]
  },
  {
   "cell_type": "code",
   "execution_count": 10,
   "id": "cdc6777d-e77d-4dbc-a9c1-5dbf75c06d5c",
   "metadata": {},
   "outputs": [
    {
     "data": {
      "text/plain": [
       "0.9612903225806452"
      ]
     },
     "execution_count": 10,
     "metadata": {},
     "output_type": "execute_result"
    }
   ],
   "source": [
    "ppo.evaluate()[\"evaluation\"][\"episode_reward_mean\"]"
   ]
  },
  {
   "cell_type": "markdown",
   "id": "f416155b-486e-4e4f-958f-103d119cc829",
   "metadata": {},
   "source": [
    "With another 8 training iterations, we increased the success rate to more than 96%. Nice."
   ]
  },
  {
   "cell_type": "markdown",
   "id": "a2e482d6-850a-4608-932a-ffec45bf52d5",
   "metadata": {},
   "source": [
    "#### Beyond the simple environment\n",
    "\n",
    "We just trained an agent to learn this fixed Frozen Pond:"
   ]
  },
  {
   "cell_type": "code",
   "execution_count": 11,
   "id": "b9ac3f06-a899-407c-82fe-217d48222aea",
   "metadata": {},
   "outputs": [
    {
     "name": "stdout",
     "output_type": "stream",
     "text": [
      "🧑🧊🧊🧊\n",
      "🧊🕳🧊🕳\n",
      "🧊🧊🧊🕳\n",
      "🕳🧊🧊⛳️\n"
     ]
    }
   ],
   "source": [
    "pond = FrozenPond()\n",
    "pond.reset()\n",
    "pond.render()"
   ]
  },
  {
   "cell_type": "markdown",
   "id": "09c23b95-7b31-40c8-819f-eb8f6a3872f8",
   "metadata": {},
   "source": [
    "But as observed in Module 2, this is quite an easy problem:\n",
    "\n",
    "- Small state space\n",
    "- Small action space\n",
    "- No stochasticity"
   ]
  },
  {
   "cell_type": "markdown",
   "id": "4eaa3bd3-4291-4efd-b961-7fe41b71d463",
   "metadata": {},
   "source": [
    "#### Random lake\n",
    "\n",
    "- Let's make the problem harder by looking at a _random_ frozen lake\n",
    "- That is, the hole locations change every episode.\n",
    "- We'll do this by reimplementing the `reset` method:"
   ]
  },
  {
   "cell_type": "code",
   "execution_count": 12,
   "id": "4fad2e84-ce76-4c93-a373-74ea955e2a6a",
   "metadata": {},
   "outputs": [],
   "source": [
    "class RandomLake(FrozenPond):\n",
    "    def reset(self):\n",
    "        self.player = (0, 0) # the player starts at the top-left\n",
    "        self.goal = (3, 3)   # goal is at the bottom-right\n",
    "        \n",
    "        self.holes = np.random.rand(4, 4) < 0.2\n",
    "        self.holes[self.player] = 0  # no hole at start location\n",
    "        self.holes[self.goal] = 0    # no hole at goal location\n",
    "        \n",
    "        return 0 # the observation corresponding to (0,0)"
   ]
  },
  {
   "cell_type": "markdown",
   "id": "04592876-bd6b-49be-9d0a-41b1ceb68ce0",
   "metadata": {},
   "source": [
    "Now, each square (except the start and end locations) is a hole with probability 20%"
   ]
  },
  {
   "cell_type": "markdown",
   "id": "b7c86702-111e-48c0-9519-1a539e734187",
   "metadata": {},
   "source": [
    "#### Random lake"
   ]
  },
  {
   "cell_type": "markdown",
   "id": "ef26c29d-0573-40f9-8cd9-a3aaa6daf073",
   "metadata": {},
   "source": [
    "Here's one random lake:"
   ]
  },
  {
   "cell_type": "code",
   "execution_count": 13,
   "id": "85da7b48-9d04-454a-8f72-d56a127396ed",
   "metadata": {},
   "outputs": [],
   "source": [
    "# HIDDEN\n",
    "np.random.seed(2)"
   ]
  },
  {
   "cell_type": "code",
   "execution_count": 14,
   "id": "f73a2c5a-6a5b-4718-bc8d-e975315b19da",
   "metadata": {},
   "outputs": [
    {
     "name": "stdout",
     "output_type": "stream",
     "text": [
      "🧑🕳🧊🧊\n",
      "🧊🧊🧊🧊\n",
      "🧊🧊🧊🧊\n",
      "🕳🧊🕳⛳️\n"
     ]
    }
   ],
   "source": [
    "lake = RandomLake()\n",
    "lake.reset()\n",
    "lake.render()"
   ]
  },
  {
   "cell_type": "markdown",
   "id": "60bb00bd-b507-4a7a-a92c-b4ee2936c59e",
   "metadata": {},
   "source": [
    "Here's another:"
   ]
  },
  {
   "cell_type": "code",
   "execution_count": 15,
   "id": "8f209f4a-d520-4386-875b-f0f412d6d8f6",
   "metadata": {},
   "outputs": [],
   "source": [
    "# HIDDEN\n",
    "np.random.seed(3)"
   ]
  },
  {
   "cell_type": "code",
   "execution_count": 16,
   "id": "25acfc89-2815-4830-8a1b-ccf71d17397d",
   "metadata": {},
   "outputs": [
    {
     "name": "stdout",
     "output_type": "stream",
     "text": [
      "🧑🧊🧊🧊\n",
      "🧊🧊🕳🧊\n",
      "🕳🧊🕳🧊\n",
      "🧊🧊🧊⛳️\n"
     ]
    }
   ],
   "source": [
    "lake.reset()\n",
    "lake.render()"
   ]
  },
  {
   "cell_type": "markdown",
   "id": "b6c991ca-3b07-4b47-ad56-82b44810d241",
   "metadata": {
    "tags": []
   },
   "source": [
    "#### Impossible games"
   ]
  },
  {
   "cell_type": "markdown",
   "id": "cd66e4fd-252d-4528-922f-0f523d03a462",
   "metadata": {},
   "source": [
    "And here's one more:"
   ]
  },
  {
   "cell_type": "code",
   "execution_count": 17,
   "id": "1923d74a-bd44-47c3-9097-3b243135382c",
   "metadata": {},
   "outputs": [],
   "source": [
    "# HIDDEN\n",
    "np.random.seed(1)"
   ]
  },
  {
   "cell_type": "code",
   "execution_count": 18,
   "id": "15ebefd7-e7f3-4a59-b7df-6d15c976a6dc",
   "metadata": {},
   "outputs": [
    {
     "name": "stdout",
     "output_type": "stream",
     "text": [
      "🧑🧊🕳🧊\n",
      "🕳🕳🕳🧊\n",
      "🧊🧊🧊🧊\n",
      "🧊🧊🕳⛳️\n"
     ]
    }
   ],
   "source": [
    "lake.reset()\n",
    "lake.render()"
   ]
  },
  {
   "cell_type": "markdown",
   "id": "abcf6d47-0d42-40ed-9c7d-832c08413bcd",
   "metadata": {},
   "source": [
    "- This time, there is no way to the goal! \n",
    "- This is a situation where the maximum episode length would really come in handle.\n",
    "  - We saw this earlier with the gym `TimeLimit` wrapper.\n",
    "- With these impossible lakes, we should no longer be aiming for a 100% win rate."
   ]
  },
  {
   "cell_type": "markdown",
   "id": "a4749279-b545-4967-ace4-37eb29196908",
   "metadata": {},
   "source": [
    "#### Learning the random lake\n",
    "\n",
    "- We've had success with RLlib so far, achieving a decent win rate on the original Frozen Lake.\n",
    "- Let's try the random lake:"
   ]
  },
  {
   "cell_type": "code",
   "execution_count": 19,
   "id": "76357ccd-be6b-4bae-ac47-bb4c800593d8",
   "metadata": {},
   "outputs": [],
   "source": [
    "ppo = lake_default_config.build(env=RandomLake)"
   ]
  },
  {
   "cell_type": "code",
   "execution_count": 20,
   "id": "ff308b05-0541-4e33-a1cc-0090c3e4bc9e",
   "metadata": {},
   "outputs": [],
   "source": [
    "train_info = ppo.train()"
   ]
  },
  {
   "cell_type": "code",
   "execution_count": 21,
   "id": "1170e96f-990d-42de-8651-faab7236e6c8",
   "metadata": {},
   "outputs": [
    {
     "data": {
      "text/plain": [
       "0.15337423312883436"
      ]
     },
     "execution_count": 21,
     "metadata": {},
     "output_type": "execute_result"
    }
   ],
   "source": [
    "ppo.evaluate()[\"evaluation\"][\"episode_reward_mean\"]"
   ]
  },
  {
   "cell_type": "markdown",
   "id": "2b542ce1-34e8-4b6d-a0c3-0afdb87e0f94",
   "metadata": {},
   "source": [
    "We're making progress after one training iteration."
   ]
  },
  {
   "cell_type": "markdown",
   "id": "3f2aa884-f762-4d1c-a25b-172eecacd542",
   "metadata": {},
   "source": [
    "#### Learning the random lake\n",
    "\n",
    "Let's try more iterations:"
   ]
  },
  {
   "cell_type": "code",
   "execution_count": 22,
   "id": "e8d867db-3015-4e68-815a-c9cb002f4dac",
   "metadata": {},
   "outputs": [],
   "source": [
    "for i in range(4):\n",
    "    train_info = ppo.train()"
   ]
  },
  {
   "cell_type": "code",
   "execution_count": 23,
   "id": "2b5d3b1d-6dc2-4c5e-bef3-2b8953aec8ce",
   "metadata": {
    "tags": []
   },
   "outputs": [
    {
     "data": {
      "text/plain": [
       "0.35331230283911674"
      ]
     },
     "execution_count": 23,
     "metadata": {},
     "output_type": "execute_result"
    }
   ],
   "source": [
    "ppo.evaluate()[\"evaluation\"][\"episode_reward_mean\"]"
   ]
  },
  {
   "cell_type": "markdown",
   "id": "55d0e946-a17d-4104-975c-35f1cc0566ab",
   "metadata": {},
   "source": [
    "Yikes. Another 4 iterations?"
   ]
  },
  {
   "cell_type": "code",
   "execution_count": 24,
   "id": "648157bf-a4dc-4454-bb0a-ae2f5a85d258",
   "metadata": {},
   "outputs": [],
   "source": [
    "for i in range(4):\n",
    "    train_info = ppo.train()"
   ]
  },
  {
   "cell_type": "code",
   "execution_count": 25,
   "id": "48bdad7e-c523-4126-9a7d-1ddb6938a85e",
   "metadata": {},
   "outputs": [
    {
     "data": {
      "text/plain": [
       "0.328537170263789"
      ]
     },
     "execution_count": 25,
     "metadata": {},
     "output_type": "execute_result"
    }
   ],
   "source": [
    "ppo.evaluate()[\"evaluation\"][\"episode_reward_mean\"]"
   ]
  },
  {
   "cell_type": "markdown",
   "id": "11e44ad0-a041-4d5b-9af2-9b35487c98a7",
   "metadata": {},
   "source": [
    "It looks like we're hitting a plateau here and falling into the lake most of the time."
   ]
  },
  {
   "cell_type": "markdown",
   "id": "b8a491d4-9bd2-4ea5-b11f-8b9d33390910",
   "metadata": {},
   "source": [
    "#### Comparing environments\n",
    "\n",
    "Let's compare the learning curves of the two environments:"
   ]
  },
  {
   "cell_type": "code",
   "execution_count": 26,
   "id": "cdee8959-a7e8-4f79-9911-8dde89e5b01c",
   "metadata": {},
   "outputs": [],
   "source": [
    "fixed_algo = lake_default_config.build(env=FrozenPond)\n",
    "rando_algo = lake_default_config.build(env=RandomLake)\n",
    "fixed_rewards = []\n",
    "rando_rewards = []\n",
    "\n",
    "for i in range(8):\n",
    "    fixed_rewards.append(fixed_algo.train()['episode_reward_mean'])\n",
    "    rando_rewards.append(rando_algo.train()['episode_reward_mean'])"
   ]
  },
  {
   "cell_type": "markdown",
   "id": "f3a49aa2-f60f-4983-97c1-0116bc92e9f1",
   "metadata": {},
   "source": [
    "#### Comparing environments"
   ]
  },
  {
   "cell_type": "code",
   "execution_count": 27,
   "id": "ab537d27-06e4-477d-8127-8405dd0fc550",
   "metadata": {},
   "outputs": [],
   "source": [
    "# HIDDEN\n",
    "import matplotlib.pyplot as plt\n",
    "plt.rcParams['font.size'] = 14"
   ]
  },
  {
   "cell_type": "code",
   "execution_count": 28,
   "id": "07ed6a6a-7f7d-48cc-883e-bc3d20cc83ed",
   "metadata": {},
   "outputs": [
    {
     "data": {
      "image/png": "[encoded data removed]",
      "text/plain": [
       "<Figure size 640x480 with 1 Axes>"
      ]
     },
     "metadata": {},
     "output_type": "display_data"
    }
   ],
   "source": [
    "plt.plot(fixed_rewards, label=\"fixed\")\n",
    "plt.plot(rando_rewards, label=\"random\")\n",
    "plt.xlabel(\"training iteration\")\n",
    "plt.ylabel(\"success rate\")\n",
    "plt.legend();"
   ]
  },
  {
   "cell_type": "markdown",
   "id": "0610637c-8765-4b3e-b620-c9b11247f7b6",
   "metadata": {},
   "source": [
    "This confirms our idea that the random lake environment is much harder to solve."
   ]
  },
  {
   "cell_type": "markdown",
   "id": "2cea2749-2dc6-4e5f-a01b-b751350ed6ba",
   "metadata": {
    "tags": []
   },
   "source": [
    "#### Random lake challenges\n",
    "\n",
    "So, why is the random lake so hard?\n",
    "\n",
    "- Recall what we're learning: a policy, which maps observations to actions.\n",
    "- Here, our observations are the location in the lake, and the action is the movement direction.\n",
    "- So, say the observation is 3, meaning you're standing at the top-right. What action should you take?\n",
    "- Answer: it depends on where the holes are!\n",
    "- We're asking our agent to avoid holes _without being able to see_.\n",
    "- In the next section we'll address this issue."
   ]
  },
  {
   "cell_type": "markdown",
   "id": "8191ed69-c91c-4b3c-a9d7-6779f728e855",
   "metadata": {},
   "source": [
    "#### Let's apply what we learned!"
   ]
  },
  {
   "cell_type": "code",
   "execution_count": 29,
   "id": "428bcdc3-79ee-4845-9db9-113f69d1f30d",
   "metadata": {},
   "outputs": [],
   "source": [
    "# HIDDEN\n",
    "ppo.stop()\n",
    "ray.shutdown()"
   ]
  },
  {
   "cell_type": "markdown",
   "id": "e9f29e54-1e2c-4137-8130-f60c16328740",
   "metadata": {},
   "source": [
    "## Number of holes\n",
    "<!-- multiple choice -->\n",
    "\n",
    "Our Random Lake environment is set up so that each square (except the start and goal) has a 20% probability of being a hole. \n",
    "\n",
    "#### Average episode reward\n",
    "\n",
    "What do you think would happen to the average episode **reward** if we increased this number to 50%?\n",
    "\n",
    "- [ ] The average episode reward would increase.\n",
    "- [x] The average episode reward would decrease."
   ]
  },
  {
   "cell_type": "markdown",
   "id": "c6e32eab-df7d-4235-a4f1-d9b07391eeb4",
   "metadata": {},
   "source": [
    "#### Average episode length\n",
    "\n",
    "What do you think would happen to the average episode **length** if we increased this number to 50%?\n",
    "\n",
    "- [ ] The average episode length would increase.\n",
    "- [x] The average episode length would decrease."
   ]
  },
  {
   "cell_type": "markdown",
   "id": "16e18f28-e0f5-4abb-a1f7-ab25bb7943a0",
   "metadata": {},
   "source": [
    "## Where is the randomness?\n",
    "<!-- multiple choice -->\n",
    "\n",
    "In our implementation of `RandomLake`, we put the random hole creation in the `reset` method:\n",
    "\n",
    "```python\n",
    "self.holes = np.random.rand(4, 4) < 0.2\n",
    "```\n",
    "\n",
    "What would have happened if we put this in the constructor instead?\n",
    "\n",
    "- [ ] It would behave the same as the current implementation.\n",
    "- [ ] It would revert back to the non-random Frozen Pond from the previous module.\n",
    "- [x] The holes would be randomized each time an environment is created, but all episodes would have the same random holes."
   ]
  },
  {
   "cell_type": "markdown",
   "id": "4c8cacad-97f4-41ec-8337-652600549571",
   "metadata": {},
   "source": [
    "## Step counter\n",
    "<!-- multiple choice -->\n",
    "\n",
    "Let's say we wanted to implement a step counter in our environment _manually_, not using gym's `TimeLimit` wrapper or RLlib's `\"horizon\"` parameter for training. As a reminder, we would like the episodes to end after 50 steps even if you haven't reached the goal or fallen into a hole. \n",
    "\n",
    "#### Initializing the counter variable\n",
    "\n",
    "First, we would need to created a new counter variable, say `self.stepcount`, and initialize it to zero with `self.stepcount = 0`. In which method would we include this code?\n",
    "\n",
    "- [ ] constructor\n",
    "- [x] `reset`\n",
    "- [ ] `step`\n",
    "- [ ] `done` (called by `step`)\n",
    "- [ ] `render`"
   ]
  },
  {
   "cell_type": "markdown",
   "id": "75761b99-6b65-473a-be27-a8f44800702f",
   "metadata": {},
   "source": [
    "#### Incrementing the counter\n",
    "\n",
    "Next, we would need to increment this counter after each step, say with `self.stepcount += 1`. In which method would we include this code?\n",
    "\n",
    "- [ ] constructor\n",
    "- [ ] `reset`\n",
    "- [x] `step`\n",
    "- [ ] `done` (called by `step`)\n",
    "- [ ] `render`"
   ]
  },
  {
   "cell_type": "markdown",
   "id": "36a8bb09-d9e7-4d15-bd10-e540070e12b3",
   "metadata": {},
   "source": [
    "#### Ending the episode\n",
    "\n",
    "Finally, we would need to make sure the episode ends if the `self.stepcount >= 50`. Which method should we modify?\n",
    "\n",
    "- [ ] constructor\n",
    "- [ ] `reset`\n",
    "- [ ] `step`\n",
    "- [x] `done` (called by `step`)\n",
    "- [ ] `render`"
   ]
  },
  {
   "cell_type": "markdown",
   "id": "410b77fb-51cf-4706-a835-afd1b9f68ace",
   "metadata": {},
   "source": [
    "## Step counter: implementation\n",
    "<!-- coding exercise -->\n",
    "\n",
    "Below is the code of the Random Lake (minus rendering). Following the logic from the previous exercise, implement a step counter so that the max episode length is 50 steps. Then, test it out with the provided code, which repeatedly moves left (thus not moving at all)."
   ]
  },
  {
   "cell_type": "code",
   "execution_count": 30,
   "id": "c7fdf181-408e-4b32-9f8f-2e8630fddc97",
   "metadata": {},
   "outputs": [
    {
     "name": "stdout",
     "output_type": "stream",
     "text": [
      "1 False\n",
      "2 False\n",
      "3 False\n",
      "4 False\n",
      "5 False\n",
      "6 False\n",
      "7 False\n",
      "8 False\n",
      "9 False\n",
      "10 False\n",
      "11 False\n",
      "12 False\n",
      "13 False\n",
      "14 False\n",
      "15 False\n",
      "16 False\n",
      "17 False\n",
      "18 False\n",
      "19 False\n",
      "20 False\n",
      "21 False\n",
      "22 False\n",
      "23 False\n",
      "24 False\n",
      "25 False\n",
      "26 False\n",
      "27 False\n",
      "28 False\n",
      "29 False\n",
      "30 False\n",
      "31 False\n",
      "32 False\n",
      "33 False\n",
      "34 False\n",
      "35 False\n",
      "36 False\n",
      "37 False\n",
      "38 False\n",
      "39 False\n",
      "40 False\n",
      "41 False\n",
      "42 False\n",
      "43 False\n",
      "44 False\n",
      "45 False\n",
      "46 False\n",
      "47 False\n",
      "48 False\n",
      "49 False\n",
      "50 False\n",
      "51 False\n",
      "52 False\n",
      "53 False\n",
      "54 False\n",
      "55 False\n"
     ]
    }
   ],
   "source": [
    "# EXERCISE\n",
    "\n",
    "import gym\n",
    "\n",
    "class RandomLake(gym.Env):\n",
    "    def __init__(self, env_config=None):\n",
    "        self.observation_space = gym.spaces.Discrete(16)\n",
    "        self.action_space = gym.spaces.Discrete(4)      \n",
    "        \n",
    "    def reset(self):\n",
    "        self.player = (0, 0) # the player starts at the top-left\n",
    "        self.goal = (3, 3)   # goal is at the bottom-right\n",
    "        \n",
    "        self.holes = np.random.rand(4, 4) < 0.2\n",
    "        self.holes[self.player] = 0  # no hole at start location\n",
    "        self.holes[self.goal] = 0    # no hole at goal location\n",
    "        \n",
    "        self.stepcount = 0\n",
    "        \n",
    "        return self.observation()\n",
    "    \n",
    "    def observation(self):\n",
    "        return 4*self.player[0] + self.player[1]\n",
    "    \n",
    "    def reward(self):\n",
    "        return int(self.player == self.goal)\n",
    "    \n",
    "    def done(self):\n",
    "        is_done = self.player == self.goal or self.holes[self.player] == 1 \n",
    "        return is_done\n",
    "    \n",
    "    def is_valid_loc(self, location):\n",
    "        return 0 <= location[0] <= 3 and 0 <= location[1] <= 3\n",
    "\n",
    "    def step(self, action):\n",
    "        # Compute the new player location\n",
    "        if action == 0:   # left\n",
    "            new_loc = (self.player[0], self.player[1]-1)\n",
    "        elif action == 1: # down\n",
    "            new_loc = (self.player[0]+1, self.player[1])\n",
    "        elif action == 2: # right\n",
    "            new_loc = (self.player[0], self.player[1]+1)\n",
    "        elif action == 3: # up\n",
    "            new_loc = (self.player[0]-1, self.player[1])\n",
    "        else:\n",
    "            raise ValueError(\"Action must be in {0,1,2,3}\")\n",
    "        \n",
    "        # Update the player location only if you stayed in bounds\n",
    "        if self.is_valid_loc(new_loc):\n",
    "            self.player = new_loc\n",
    "            \n",
    "        self.stepcount += 1\n",
    "        \n",
    "        return self.observation(), self.reward(), self.done(), {}\n",
    "    \n",
    "lake = RandomLake()\n",
    "obs = lake.reset()\n",
    "\n",
    "done = False\n",
    "for i in range(55):\n",
    "    obs, rewards, done, _ = lake.step(0)\n",
    "    print(i+1, done)"
   ]
  },
  {
   "cell_type": "code",
   "execution_count": 31,
   "id": "2fbbf52b-78d2-4a3c-9d50-bb7a6d4b3cb3",
   "metadata": {},
   "outputs": [
    {
     "name": "stdout",
     "output_type": "stream",
     "text": [
      "1 False\n",
      "2 False\n",
      "3 False\n",
      "4 False\n",
      "5 False\n",
      "6 False\n",
      "7 False\n",
      "8 False\n",
      "9 False\n",
      "10 False\n",
      "11 False\n",
      "12 False\n",
      "13 False\n",
      "14 False\n",
      "15 False\n",
      "16 False\n",
      "17 False\n",
      "18 False\n",
      "19 False\n",
      "20 False\n",
      "21 False\n",
      "22 False\n",
      "23 False\n",
      "24 False\n",
      "25 False\n",
      "26 False\n",
      "27 False\n",
      "28 False\n",
      "29 False\n",
      "30 False\n",
      "31 False\n",
      "32 False\n",
      "33 False\n",
      "34 False\n",
      "35 False\n",
      "36 False\n",
      "37 False\n",
      "38 False\n",
      "39 False\n",
      "40 False\n",
      "41 False\n",
      "42 False\n",
      "43 False\n",
      "44 False\n",
      "45 False\n",
      "46 False\n",
      "47 False\n",
      "48 False\n",
      "49 False\n",
      "50 True\n",
      "51 True\n",
      "52 True\n",
      "53 True\n",
      "54 True\n",
      "55 True\n"
     ]
    }
   ],
   "source": [
    "# SOLUTION\n",
    "\n",
    "import gym\n",
    "\n",
    "class RandomLake(gym.Env):\n",
    "    def __init__(self, env_config=None):\n",
    "        self.observation_space = gym.spaces.Discrete(16)\n",
    "        self.action_space = gym.spaces.Discrete(4)      \n",
    "        \n",
    "    def reset(self):\n",
    "        self.player = (0, 0) # the player starts at the top-left\n",
    "        self.goal = (3, 3)   # goal is at the bottom-right\n",
    "        \n",
    "        self.holes = np.random.rand(4, 4) < 0.2\n",
    "        self.holes[self.player] = 0  # no hole at start location\n",
    "        self.holes[self.goal] = 0    # no hole at goal location\n",
    "        \n",
    "        self.stepcount = 0\n",
    "        \n",
    "        return self.observation()\n",
    "    \n",
    "    def observation(self):\n",
    "        return 4*self.player[0] + self.player[1]\n",
    "    \n",
    "    def reward(self):\n",
    "        return int(self.player == self.goal)\n",
    "    \n",
    "    def done(self):\n",
    "        is_done = self.player == self.goal or self.holes[self.player] == 1 or self.stepcount >= 50\n",
    "        return is_done\n",
    "    \n",
    "    def is_valid_loc(self, location):\n",
    "        return 0 <= location[0] <= 3 and 0 <= location[1] <= 3\n",
    "\n",
    "    def step(self, action):\n",
    "        # Compute the new player location\n",
    "        if action == 0:   # left\n",
    "            new_loc = (self.player[0], self.player[1]-1)\n",
    "        elif action == 1: # down\n",
    "            new_loc = (self.player[0]+1, self.player[1])\n",
    "        elif action == 2: # right\n",
    "            new_loc = (self.player[0], self.player[1]+1)\n",
    "        elif action == 3: # up\n",
    "            new_loc = (self.player[0]-1, self.player[1])\n",
    "        else:\n",
    "            raise ValueError(\"Action must be in {0,1,2,3}\")\n",
    "        \n",
    "        # Update the player location only if you stayed in bounds\n",
    "        if self.is_valid_loc(new_loc):\n",
    "            self.player = new_loc\n",
    "            \n",
    "        self.stepcount += 1\n",
    "        \n",
    "        return self.observation(), self.reward(), self.done(), {}\n",
    "    \n",
    "lake = RandomLake()\n",
    "obs = lake.reset()\n",
    "\n",
    "done = False\n",
    "for i in range(55):\n",
    "    obs, rewards, done, _ = lake.step(0)\n",
    "    print(i+1, done)"
   ]
  },
  {
   "cell_type": "code",
   "execution_count": null,
   "id": "7732e833-1c55-496e-88d6-74f5baf00837",
   "metadata": {},
   "outputs": [],
   "source": []
  }
 ],
 "metadata": {
  "kernelspec": {
   "display_name": "Python [conda env:ray200]",
   "language": "python",
   "name": "conda-env-ray200-py"
  },
  "language_info": {
   "codemirror_mode": {
    "name": "ipython",
    "version": 3
   },
   "file_extension": ".py",
   "mimetype": "text/x-python",
   "name": "python",
   "nbconvert_exporter": "python",
   "pygments_lexer": "ipython3",
   "version": "3.9.13"
  }
 },
 "nbformat": 4,
 "nbformat_minor": 5
}
