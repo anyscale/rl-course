{
 "cells": [
  {
   "cell_type": "markdown",
   "id": "18e2222c-d00d-4c69-b86e-18560e51896d",
   "metadata": {},
   "source": [
    "## Module 3 Learning Outcomes\n",
    "<!-- video shot=\"/NTvQWkxjR-E\" start=\"00:02\" end=\"00:27\" -->"
   ]
  },
  {
   "cell_type": "markdown",
   "id": "9a4fb6d8-19f9-407a-9393-a99269afd577",
   "metadata": {},
   "source": [
    "#### Module Learning Outcomes\n",
    "\n",
    "By the end of this module, you will be able to:\n",
    "\n",
    "- Create your own RL environment from scratch in Python.\n",
    "- Given a problem, select an appropriate observation space representation.\n",
    "- Given a problem, select an appropriate action space representation.\n",
    "- Shape your rewards to improve training.\n",
    "- Explain the notion of exploitation vs. exploration in RL."
   ]
  },
  {
   "cell_type": "markdown",
   "id": "f72b16f7-7bae-436d-b5db-a3a0f39dd52d",
   "metadata": {},
   "source": [
    "#### Let's start Module 3!"
   ]
  },
  {
   "cell_type": "code",
   "execution_count": null,
   "id": "26c08d84-2974-4796-9656-34a7a1d7140e",
   "metadata": {},
   "outputs": [],
   "source": []
  }
 ],
 "metadata": {
  "kernelspec": {
   "display_name": "Python [conda env:ray200]",
   "language": "python",
   "name": "conda-env-ray200-py"
  },
  "language_info": {
   "codemirror_mode": {
    "name": "ipython",
    "version": 3
   },
   "file_extension": ".py",
   "mimetype": "text/x-python",
   "name": "python",
   "nbconvert_exporter": "python",
   "pygments_lexer": "ipython3",
   "version": "3.9.13"
  }
 },
 "nbformat": 4,
 "nbformat_minor": 5
}
