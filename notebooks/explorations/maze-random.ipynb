{
 "cells": [
  {
   "cell_type": "markdown",
   "id": "bf336e3e-20b0-4095-af4e-880907ceac4a",
   "metadata": {
    "tags": []
   },
   "source": [
    "## The problem\n",
    "\n",
    "- Walking around in a 2D maze, with walls put in random locations"
   ]
  },
  {
   "cell_type": "markdown",
   "id": "65babae2-56b5-4fd4-9395-833cb7dcdbdf",
   "metadata": {},
   "source": [
    "NOTE FOR COURSE:\n",
    "\n",
    "randomness at constructor vs. randomness at `reset()`\n",
    "\n",
    "e.g. frozen lake is random at constructor, so the task learns a random lake, but it's the same lake every reset"
   ]
  },
  {
   "cell_type": "code",
   "execution_count": 1,
   "id": "bfbaf003-567b-415b-a4ce-2cd8c94fe1e9",
   "metadata": {},
   "outputs": [],
   "source": [
    "import gym\n",
    "from gym.spaces import Discrete\n",
    "import numpy as np\n",
    "import ray\n",
    "from ray.rllib.agents.dqn import DQNTrainer\n",
    "from ray.rllib.agents.ppo import PPOTrainer\n",
    "from ray.rllib.models.preprocessors import get_preprocessor \n",
    "import matplotlib.pyplot as plt\n",
    "import copy"
   ]
  },
  {
   "cell_type": "code",
   "execution_count": 2,
   "id": "81e0db0d-bc87-4c99-8e13-4dffe6f24e35",
   "metadata": {},
   "outputs": [],
   "source": [
    "import torch"
   ]
  },
  {
   "cell_type": "code",
   "execution_count": 3,
   "id": "4cdcef1b-9377-4a6d-8b3f-41552167e6e5",
   "metadata": {},
   "outputs": [],
   "source": [
    "action_names = {\n",
    "    0 : \"up\",\n",
    "    1 : \"down\",\n",
    "    2 : \"left\",\n",
    "    3 : \"right\"\n",
    "}"
   ]
  },
  {
   "cell_type": "code",
   "execution_count": 4,
   "id": "a0890080-6686-4876-b100-07bc48b87b57",
   "metadata": {},
   "outputs": [
    {
     "data": {
      "text/plain": [
       "{'node_ip_address': '127.0.0.1',\n",
       " 'raylet_ip_address': '127.0.0.1',\n",
       " 'redis_address': None,\n",
       " 'object_store_address': '/tmp/ray/session_2022-04-07_11-19-30_525881_2690/sockets/plasma_store',\n",
       " 'raylet_socket_name': '/tmp/ray/session_2022-04-07_11-19-30_525881_2690/sockets/raylet',\n",
       " 'webui_url': None,\n",
       " 'session_dir': '/tmp/ray/session_2022-04-07_11-19-30_525881_2690',\n",
       " 'metrics_export_port': 64052,\n",
       " 'gcs_address': '127.0.0.1:52781',\n",
       " 'address': '127.0.0.1:52781',\n",
       " 'node_id': '63c21be23ad054a8aaab9327917d007f9e6500c439ba7bb81eb5f541'}"
      ]
     },
     "execution_count": 4,
     "metadata": {},
     "output_type": "execute_result"
    }
   ],
   "source": [
    "ray.init(ignore_reinit_error=True)"
   ]
  },
  {
   "cell_type": "code",
   "execution_count": 5,
   "id": "3ed4f7a9-fc7c-47b4-9d8f-a40b91f9b61f",
   "metadata": {},
   "outputs": [],
   "source": [
    "class RandomMazeEnvironment(gym.Env): \n",
    "    def __init__(self, env_config):\n",
    "        self.ylen = env_config.get(\"ylen\", 5)\n",
    "        self.xlen = env_config.get(\"xlen\", 5)\n",
    "        \n",
    "        self.action_space = gym.spaces.Discrete(4)\n",
    "        \n",
    "        # show entire state, not just nearby the player\n",
    "        # self.observation_space = gym.spaces.Dict({\n",
    "        #     \"player\" : gym.spaces.Discrete(self.ylen*self.xlen),\n",
    "        #     \"walls\" : gym.spaces.MultiBinary(self.ylen*self.xlen)\n",
    "        # })\n",
    "        # self.observation_space = gym.spaces.MultiBinary([2, self.ylen, self.xlen])\n",
    "\n",
    "        # see https://docs.ray.io/en/latest/rllib/rllib-models.html\n",
    "        # looks like they mainly just preprocess discrete/multidiscrete and atari?\n",
    "        # what about box?? hmm. i guess those go without preproc?\n",
    "        \n",
    "        self.observation_space = gym.spaces.MultiDiscrete([2,2,2,2])\n",
    "        # self.observation_space = gym.spaces.Tuple([Discrete(2), Discrete(2), Discrete(2), Discrete(2)])\n",
    "        # self.observation_space = gym.spaces.MultiBinary(4)\n",
    "        \n",
    "        self.seed = env_config.get(\"random_seed\", None)\n",
    "    \n",
    "    def reset(self, seed=None):\n",
    "        # print(\"RESET\")\n",
    "        self.player = (0, 0)\n",
    "        self.exit = (self.ylen-1, self.xlen-1)\n",
    "        \n",
    "        if self.seed is not None: # fixed seed every time, not random maze\n",
    "            np.random.seed(self.seed)\n",
    "        \n",
    "        self.walls = np.random.rand(self.ylen, self.xlen) < 0.2\n",
    "        self.walls[self.player] = 0\n",
    "        self.walls[self.exit] = 0\n",
    "        \n",
    "        self.num_steps = 0\n",
    "        return self.get_observation()\n",
    "    \n",
    "    def get_observation(self): # SWAPPED FROM THE ABOVE ONE\n",
    "        # make the observation into the entire state??\n",
    "        # playerstate = self.player[1] + self.xlen*self.player[0]\n",
    "        # obsdict = {\n",
    "        #     \"player\" : playerstate,\n",
    "        #     \"walls\" : self.wallsstate\n",
    "        # }\n",
    "        # return obsdict\n",
    "        \n",
    "        # playerstate = 0*self.walls\n",
    "        # playerstate[self.player] = 1\n",
    "        # return np.concatenate((playerstate[None], \n",
    "        #                        self.walls[None]), axis=0).astype(int)\n",
    "        i, j = self.player\n",
    "\n",
    "        obs = []\n",
    "        obs.append(1 if i==0           else self.walls[i-1,j]) # up\n",
    "        obs.append(1 if i==self.ylen-1 else self.walls[i+1,j]) # down\n",
    "        obs.append(1 if j==0           else self.walls[i,j-1]) # left\n",
    "        obs.append(1 if j==self.xlen-1 else self.walls[i,j+1]) # right\n",
    "        return np.array(obs, dtype=int)\n",
    "        # 3x3 context, 8 observations\n",
    "        # wallsexit = self.walls.copy()\n",
    "        # wallspad = np.pad(wallsexit, 1, constant_values=1) # pad with 1 to simulate walls all around\n",
    "        # nearby = wallspad[self.player[0]:self.player[0]+3, self.player[1]:self.player[1]+3]\n",
    "        # nearbyflat = nearby.flatten()\n",
    "        # minus_middle = np.concatenate((nearbyflat[:4], nearbyflat[5:]))\n",
    "        # return minus_middle\n",
    "        # NW N NE W E SW S SE\n",
    "    \n",
    "    def step(self, action):\n",
    "        self.num_steps += 1\n",
    "        \n",
    "        if action == 0: # move up\n",
    "            new_loc = (self.player[0]-1, self.player[1])\n",
    "            \n",
    "        elif action == 1: # move down\n",
    "            new_loc = (self.player[0]+1, self.player[1])\n",
    "                \n",
    "        elif action == 2: # move left\n",
    "            new_loc = (self.player[0], self.player[1]-1)\n",
    "  \n",
    "        elif action == 3: # move right\n",
    "            new_loc = (self.player[0], self.player[1]+1)\n",
    "                \n",
    "        else:\n",
    "            raise Exception(\"Action must be {0,1,2,3}\")\n",
    "            \n",
    "        # update state if you are able to move\n",
    "        move_success = False\n",
    "        if 0 <= new_loc[0] < self.ylen and 0 <= new_loc[1] < self.xlen and not self.walls[new_loc]:\n",
    "            self.player = new_loc\n",
    "            move_success = True\n",
    "                \n",
    "        info = {\"player pos\" : self.player}\n",
    "        \n",
    "        # reward\n",
    "        distance = np.abs(self.player[0]-self.exit[0]) + np.abs(self.player[1]-self.exit[1])\n",
    "        reward = -distance\n",
    "        \n",
    "        # penalize walking into walls\n",
    "        if not move_success:\n",
    "            reward -= 5\n",
    "        \n",
    "        return self.get_observation(), reward, self.is_done(), info\n",
    "\n",
    "    \n",
    "    def is_done(self):\n",
    "        return self.player == self.exit or self.num_steps >= 500\n",
    "\n",
    "    def render(self):\n",
    "        for i in range(self.xlen):\n",
    "            for j in range(self.ylen):\n",
    "                if (i,j) == self.exit:\n",
    "                    print(\"E\", end=\"\")\n",
    "                elif (i,j) == self.player:\n",
    "                    print(\"P\", end=\"\")\n",
    "                elif self.walls[i,j]:\n",
    "                    print(\"X\", end=\"\")\n",
    "                else:\n",
    "                    print(\".\", end=\"\")\n",
    "                # print(\"O\", end=\"\")\n",
    "            print()"
   ]
  },
  {
   "cell_type": "code",
   "execution_count": 6,
   "id": "8cbac29c-fa8b-45a4-9081-7768ff025f45",
   "metadata": {},
   "outputs": [],
   "source": [
    "rme = RandomMazeEnvironment({})"
   ]
  },
  {
   "cell_type": "code",
   "execution_count": 7,
   "id": "0053ea09-352e-4f07-86f0-f79d4a7cf216",
   "metadata": {},
   "outputs": [
    {
     "data": {
      "text/plain": [
       "array([1, 0, 1, 0])"
      ]
     },
     "execution_count": 7,
     "metadata": {},
     "output_type": "execute_result"
    }
   ],
   "source": [
    "rme.reset()"
   ]
  },
  {
   "cell_type": "code",
   "execution_count": 8,
   "id": "7bdfef18-af55-4a80-8f80-5acc736028de",
   "metadata": {},
   "outputs": [
    {
     "name": "stdout",
     "output_type": "stream",
     "text": [
      "P....\n",
      "..X..\n",
      "X....\n",
      "X...X\n",
      "....E\n"
     ]
    }
   ],
   "source": [
    "rme.render()"
   ]
  },
  {
   "cell_type": "code",
   "execution_count": 9,
   "id": "1b9ba80d-57a5-4bfe-867f-ed488665d16c",
   "metadata": {},
   "outputs": [
    {
     "data": {
      "text/plain": [
       "(array([1, 0, 1, 0]), -13, False, {'player pos': (0, 0)})"
      ]
     },
     "execution_count": 9,
     "metadata": {},
     "output_type": "execute_result"
    }
   ],
   "source": [
    "rme.step(0)"
   ]
  },
  {
   "cell_type": "code",
   "execution_count": 10,
   "id": "10a5c9b7-7fe4-4ba9-98b1-1ecaaba50ffe",
   "metadata": {},
   "outputs": [],
   "source": [
    "# trainer_config_2 = copy.copy(trainer_config)\n",
    "# trainer_config_2[\"model\"] = {\"fcnet_hiddens\" : [64, 64]}"
   ]
  },
  {
   "cell_type": "code",
   "execution_count": 11,
   "id": "87345888-8305-4eeb-95e2-a1f7d5bdb8e6",
   "metadata": {},
   "outputs": [],
   "source": [
    "trainer_config_rme = {\n",
    "    # \"num_workers\": 0,\n",
    "    \"model\": {\n",
    "        \"fcnet_hiddens\": [64, 64],\n",
    "        \"fcnet_activation\": \"relu\",\n",
    "    },\n",
    "    \"evaluation_num_workers\": 1,\n",
    "    # \"create_env_on_driver\" : True,\n",
    "    \"log_level\" : \"ERROR\",\n",
    "    \"framework\" : \"torch\"\n",
    "    # \"_disable_preprocessor_api\" : True\n",
    "    # \"vf_loss_coef\" : 1/20_000 # make this small if the value function loss is big, only if vf_share_layers\n",
    "}"
   ]
  },
  {
   "cell_type": "code",
   "execution_count": 12,
   "id": "7c761db6-efcb-4efe-9745-eda1d144e11d",
   "metadata": {},
   "outputs": [
    {
     "name": "stderr",
     "output_type": "stream",
     "text": [
      "2022-04-07 11:19:33,012\tWARNING trainer.py:2347 -- You have specified 1 evaluation workers, but your `evaluation_interval` is None! Therefore, evaluation will not occur automatically with each call to `Trainer.train()`. Instead, you will have to call `Trainer.evaluate()` manually in order to trigger an evaluation run.\n",
      "2022-04-07 11:19:33,013\tINFO ppo.py:249 -- In multi-agent mode, policies will be optimized sequentially by the multi-GPU optimizer. Consider setting simple_optimizer=True if this doesn't work for you.\n",
      "2022-04-07 11:19:33,014\tINFO trainer.py:779 -- Current log_level is ERROR. For more information, set 'log_level': 'INFO' / 'DEBUG' or use the -v and -vv flags.\n",
      "2022-04-07 11:19:34,150\tWARNING util.py:55 -- Install gputil for GPU system monitoring.\n"
     ]
    }
   ],
   "source": [
    "trainer = PPOTrainer(trainer_config_rme, env=RandomMazeEnvironment)"
   ]
  },
  {
   "cell_type": "code",
   "execution_count": 13,
   "id": "3906f3cb-5fd3-407b-83af-32cc34f950f7",
   "metadata": {},
   "outputs": [
    {
     "data": {
      "text/plain": [
       "4000"
      ]
     },
     "execution_count": 13,
     "metadata": {},
     "output_type": "execute_result"
    }
   ],
   "source": [
    "trainer.config[\"train_batch_size\"]"
   ]
  },
  {
   "cell_type": "markdown",
   "id": "54a95ce2-a4c1-4981-a5ad-219c459944f6",
   "metadata": {},
   "source": [
    "This is measure in individual time steps, per worker."
   ]
  },
  {
   "cell_type": "code",
   "execution_count": 14,
   "id": "d695d0a2-7a98-4723-bc5d-3a858f93d859",
   "metadata": {},
   "outputs": [],
   "source": [
    "rewards = []"
   ]
  },
  {
   "cell_type": "code",
   "execution_count": 15,
   "id": "e2a7dde1-6392-48ab-b131-8a957d4283bf",
   "metadata": {},
   "outputs": [
    {
     "name": "stdout",
     "output_type": "stream",
     "text": [
      "0\n",
      "1\n",
      "2\n",
      "3\n",
      "4\n",
      "5\n",
      "6\n",
      "7\n",
      "8\n",
      "9\n",
      "10\n",
      "11\n",
      "12\n",
      "13\n",
      "14\n",
      "15\n",
      "16\n",
      "17\n",
      "18\n",
      "19\n",
      "20\n",
      "21\n",
      "22\n",
      "23\n",
      "24\n",
      "25\n",
      "26\n",
      "27\n",
      "28\n",
      "29\n"
     ]
    }
   ],
   "source": [
    "for iteration in range(30):\n",
    "    print(iteration)\n",
    "    out = trainer.train();\n",
    "    rewards.append(out['episode_reward_mean'])"
   ]
  },
  {
   "cell_type": "code",
   "execution_count": 16,
   "id": "27a8103b-3bcf-48fa-9f55-9729fc0241bb",
   "metadata": {},
   "outputs": [
    {
     "data": {
      "image/png": "[encoded data removed]",
      "text/plain": [
       "<Figure size 432x288 with 1 Axes>"
      ]
     },
     "metadata": {
      "needs_background": "light"
     },
     "output_type": "display_data"
    }
   ],
   "source": [
    "plt.plot(rewards);"
   ]
  },
  {
   "cell_type": "code",
   "execution_count": 17,
   "id": "09fbfb57-e202-4280-8081-1679048df783",
   "metadata": {},
   "outputs": [
    {
     "data": {
      "text/plain": [
       "100"
      ]
     },
     "execution_count": 17,
     "metadata": {},
     "output_type": "execute_result"
    }
   ],
   "source": [
    "len(out[\"hist_stats\"][\"episode_reward\"])"
   ]
  },
  {
   "cell_type": "markdown",
   "id": "7cea043e-9dc7-4e80-94cd-764ab2deb153",
   "metadata": {},
   "source": [
    "^ number of episodes in one call to `trainer.train()`\n",
    "\n",
    "Keeping the last 100 in memory for a moving average."
   ]
  },
  {
   "cell_type": "code",
   "execution_count": 18,
   "id": "94a09a1d-3ad9-45e6-b5e4-b5a46465c83f",
   "metadata": {},
   "outputs": [
    {
     "data": {
      "text/plain": [
       "{'evaluation': {'episode_reward_max': -28.0,\n",
       "  'episode_reward_min': -146.0,\n",
       "  'episode_reward_mean': -61.4,\n",
       "  'episode_len_mean': 14.3,\n",
       "  'episode_media': {},\n",
       "  'episodes_this_iter': 10,\n",
       "  'policy_reward_min': {},\n",
       "  'policy_reward_max': {},\n",
       "  'policy_reward_mean': {},\n",
       "  'custom_metrics': {},\n",
       "  'hist_stats': {'episode_reward': [-78.0,\n",
       "    -28.0,\n",
       "    -90.0,\n",
       "    -146.0,\n",
       "    -44.0,\n",
       "    -41.0,\n",
       "    -65.0,\n",
       "    -44.0,\n",
       "    -28.0,\n",
       "    -50.0],\n",
       "   'episode_lengths': [20, 8, 16, 31, 13, 9, 13, 13, 8, 12]},\n",
       "  'sampler_perf': {'mean_raw_obs_processing_ms': 0.07109675142500135,\n",
       "   'mean_inference_ms': 0.2857082419925266,\n",
       "   'mean_action_processing_ms': 0.016954210069444444,\n",
       "   'mean_env_wait_ms': 0.020677844683329262,\n",
       "   'mean_env_render_ms': 0.0},\n",
       "  'off_policy_estimator': {},\n",
       "  'timesteps_this_iter': 0}}"
      ]
     },
     "execution_count": 18,
     "metadata": {},
     "output_type": "execute_result"
    }
   ],
   "source": [
    "trainer.evaluate()"
   ]
  },
  {
   "cell_type": "code",
   "execution_count": 19,
   "id": "18ca07c4-22cc-4b83-9acd-2b420e751e4e",
   "metadata": {},
   "outputs": [
    {
     "name": "stdout",
     "output_type": "stream",
     "text": [
      "PX...\n",
      "X..X.\n",
      "..XX.\n",
      "X..X.\n",
      "X...E\n"
     ]
    }
   ],
   "source": [
    "rme = RandomMazeEnvironment({})\n",
    "obs = rme.reset() \n",
    "rme.render()"
   ]
  },
  {
   "cell_type": "code",
   "execution_count": 20,
   "id": "1f5e7c49-db20-442e-b054-a358362d0050",
   "metadata": {},
   "outputs": [
    {
     "name": "stdout",
     "output_type": "stream",
     "text": [
      "PX...\n",
      "X..X.\n",
      "..XX.\n",
      "X..X.\n",
      "X...E\n",
      "\n",
      "action: down\n",
      "reward: -13\n",
      "done: False\n",
      "obs: [1 1 1 1]\n"
     ]
    }
   ],
   "source": [
    "action = trainer.compute_single_action(input_dict={\"obs\": obs})#, explore=False)\n",
    "res = rme.step(action)\n",
    "obs = res[0]\n",
    "rme.render()\n",
    "\n",
    "print(\"\\naction:\", action_names[action])\n",
    "print(\"reward:\", res[1])\n",
    "print(\"done:\", res[2])\n",
    "print(\"obs:\", obs)"
   ]
  },
  {
   "cell_type": "code",
   "execution_count": 21,
   "id": "53b7253b-f12b-4a89-b865-28e960551329",
   "metadata": {},
   "outputs": [
    {
     "name": "stdout",
     "output_type": "stream",
     "text": [
      "PX...\n",
      "X..X.\n",
      "..XX.\n",
      "X..X.\n",
      "X...E\n"
     ]
    }
   ],
   "source": [
    "from ipywidgets import Output\n",
    "from IPython import display\n",
    "import time\n",
    "\n",
    "out = Output()\n",
    "display.display(out)\n",
    "\n",
    "with out:\n",
    "    out.clear_output(wait=True)\n",
    "    time.sleep(0.08)\n",
    "    rme.render()"
   ]
  },
  {
   "cell_type": "code",
   "execution_count": 22,
   "id": "a0146852-4768-419d-a3fb-966ae7d17978",
   "metadata": {},
   "outputs": [],
   "source": [
    "policy = trainer.get_policy()\n",
    "model = policy.model"
   ]
  },
  {
   "cell_type": "code",
   "execution_count": 23,
   "id": "50c3e584-f28c-4b50-8ff2-e7752568aab5",
   "metadata": {},
   "outputs": [],
   "source": [
    "# model_output = model({\"obs\": torch.from_numpy(obs)})[0]"
   ]
  },
  {
   "cell_type": "code",
   "execution_count": 24,
   "id": "3d1b1569-a125-4380-962f-6d6c988bc64c",
   "metadata": {},
   "outputs": [],
   "source": [
    "# model_output"
   ]
  },
  {
   "cell_type": "code",
   "execution_count": 25,
   "id": "6033a529-8087-48a9-8336-a29b3adf917b",
   "metadata": {},
   "outputs": [
    {
     "name": "stdout",
     "output_type": "stream",
     "text": [
      "FullyConnectedNetwork(\n",
      "  (_logits): SlimFC(\n",
      "    (_model): Sequential(\n",
      "      (0): Linear(in_features=64, out_features=4, bias=True)\n",
      "    )\n",
      "  )\n",
      "  (_hidden_layers): Sequential(\n",
      "    (0): SlimFC(\n",
      "      (_model): Sequential(\n",
      "        (0): Linear(in_features=8, out_features=64, bias=True)\n",
      "        (1): ReLU()\n",
      "      )\n",
      "    )\n",
      "    (1): SlimFC(\n",
      "      (_model): Sequential(\n",
      "        (0): Linear(in_features=64, out_features=64, bias=True)\n",
      "        (1): ReLU()\n",
      "      )\n",
      "    )\n",
      "  )\n",
      "  (_value_branch_separate): Sequential(\n",
      "    (0): SlimFC(\n",
      "      (_model): Sequential(\n",
      "        (0): Linear(in_features=8, out_features=64, bias=True)\n",
      "        (1): ReLU()\n",
      "      )\n",
      "    )\n",
      "    (1): SlimFC(\n",
      "      (_model): Sequential(\n",
      "        (0): Linear(in_features=64, out_features=64, bias=True)\n",
      "        (1): ReLU()\n",
      "      )\n",
      "    )\n",
      "  )\n",
      "  (_value_branch): SlimFC(\n",
      "    (_model): Sequential(\n",
      "      (0): Linear(in_features=64, out_features=1, bias=True)\n",
      "    )\n",
      "  )\n",
      ")\n"
     ]
    }
   ],
   "source": [
    "print(model)"
   ]
  },
  {
   "cell_type": "code",
   "execution_count": null,
   "id": "20160f3e-ec04-4776-9b6d-adaa0a33d0f2",
   "metadata": {},
   "outputs": [],
   "source": []
  },
  {
   "cell_type": "code",
   "execution_count": null,
   "id": "ab22e41b-8557-423a-8bc6-6868e7ad4508",
   "metadata": {},
   "outputs": [],
   "source": []
  },
  {
   "cell_type": "code",
   "execution_count": null,
   "id": "3b94b57b-aeea-40d0-85fc-a83d60548fef",
   "metadata": {},
   "outputs": [],
   "source": []
  },
  {
   "cell_type": "code",
   "execution_count": 26,
   "id": "725d0186-654d-4ae3-b804-6f58d869a403",
   "metadata": {},
   "outputs": [
    {
     "data": {
      "text/plain": [
       "(4, 64)"
      ]
     },
     "execution_count": 26,
     "metadata": {},
     "output_type": "execute_result"
    }
   ],
   "source": [
    "list(trainer.get_policy().get_weights().values())[0].shape"
   ]
  },
  {
   "cell_type": "code",
   "execution_count": 27,
   "id": "79294b81-830a-4e21-a556-c9d5ab2a8982",
   "metadata": {},
   "outputs": [],
   "source": [
    "# q_values = model.get_q_value_distributions(model_output)"
   ]
  },
  {
   "cell_type": "code",
   "execution_count": 28,
   "id": "672dfcfa-252e-4074-a0f9-084e9d41990f",
   "metadata": {},
   "outputs": [],
   "source": [
    "# q_values"
   ]
  },
  {
   "cell_type": "code",
   "execution_count": null,
   "id": "2d2626e7-0ccc-4901-9b1c-444ef16834e3",
   "metadata": {},
   "outputs": [],
   "source": []
  },
  {
   "cell_type": "code",
   "execution_count": 29,
   "id": "dda28df1-1e40-47c4-a8c1-f32ff54d388d",
   "metadata": {},
   "outputs": [
    {
     "ename": "NameError",
     "evalue": "name 'model_output' is not defined",
     "output_type": "error",
     "traceback": [
      "\u001b[0;31m---------------------------------------------------------------------------\u001b[0m",
      "\u001b[0;31mNameError\u001b[0m                                 Traceback (most recent call last)",
      "Input \u001b[0;32mIn [29]\u001b[0m, in \u001b[0;36m<cell line: 1>\u001b[0;34m()\u001b[0m\n\u001b[0;32m----> 1\u001b[0m dist \u001b[38;5;241m=\u001b[39m policy\u001b[38;5;241m.\u001b[39mdist_class(\u001b[43mmodel_output\u001b[49m, model) \n\u001b[1;32m      2\u001b[0m dist\n",
      "\u001b[0;31mNameError\u001b[0m: name 'model_output' is not defined"
     ]
    }
   ],
   "source": [
    "dist = policy.dist_class(model_output, model) \n",
    "dist"
   ]
  },
  {
   "cell_type": "code",
   "execution_count": null,
   "id": "080e58fe-c5d6-4b61-b186-8058840e3051",
   "metadata": {},
   "outputs": [],
   "source": [
    "dist.sample()"
   ]
  },
  {
   "cell_type": "code",
   "execution_count": null,
   "id": "92c2c0b3-183d-41bb-bce3-89e25caa6625",
   "metadata": {},
   "outputs": [],
   "source": [
    "dist.dist"
   ]
  },
  {
   "cell_type": "markdown",
   "id": "c2be3ba1-aa3b-478e-855b-d300ec19be32",
   "metadata": {},
   "source": [
    "## Questions for Sven\n",
    "\n",
    "- How many episodes are actually getting run during training/evaluation? Only 10?\n",
    "  - It's complicated for training, but the batch size is measured in time steps (rather than episodes) so it also depends on episode length\n",
    "- `compute_action` vs `compute_single_action` \n",
    "  - Use `compute_single_action`\n",
    "- Can we go through the results of `print(model)` and understand why it looks the way it does?\n",
    "  - for Pytorch specifically, the layers are shown alphabetically and not in order (it only gets linked up in the call to `forward`)\n",
    "- How to get q values from `ComplexInputNetwork`?\n",
    "  - Don't use `ComplexInputNetwork`, avoid at all costs\n",
    "- What happens if you don't call `ray.init()` - the code still seems to run?\n",
    "- DQN vs PPO\n",
    "  - DQN more interpretable if you dig into the model, PPO more complicated.\n",
    "  - PPO learns action probabilities, will sample from this distribution by default\n",
    "- Is it fine to call `ray.init(ignore_reinit_error=True)` repeatedly?\n",
    "  - Yes\n",
    "- Why does `episode_reward_mean` not get better with more iterations? Is it because we've reaching the \"ceiling\" given the environment/model?\n",
    "  - Wasn't working at all with `MultiBinary`\n",
    "- What would be your next step to improve performance here? Ideas...\n",
    "  - Reward crafting\n",
    "  - Observation crafting\n",
    "  - Model/algo tuning / ray tune\n",
    "  - More iterations (how do you decide this? look for a plateau? results are generally quite noisy, I guess due to the randomness in the env)\n",
    "  - ...?\n",
    "- Higher-level question: in my google doc I have a list of envs for the tuned examples - which ones would be good for the course? can they be rendered?\n",
    "- Can I reuse recsim material from Sven's tutorial in the course? (And if so, do we think it's a good idea)\n",
    "- Ok to do the whole course with the Python API instead of the CLI?\n",
    "- If we actually wanted to make a maze-winning AI, would we want to consider somehow giving it access to the same maze multiple times and not resetting EVERY time? Would that be advantageous for learning somehow? Or is it fine to randomize at every `reset`?\n",
    "- In terms of the return of `step`, namely observation, reward, `is_done`, info -- is it correct that info is never used by any algorithm?\n",
    "- What if we want the reward to be part of the observation?\n",
    "- Is there a way to set a `random_state` in RLlib so that it performs the same actions every time?"
   ]
  },
  {
   "cell_type": "markdown",
   "id": "682312f9-ba07-4a99-ad73-96d56bc1fdd2",
   "metadata": {},
   "source": [
    "Things that seem to have magically fixed themselves:\n",
    "\n",
    "- Why does it say episode lengths are always 500 when it clearly seems to work (below)?\n",
    "- When I do `dist.sample()`, why do I get numbers larger than 3?\n",
    "- And, why is `model_output` size 64 instead of 4?\n",
    "\n",
    "I wonder why this was happening before... could it have been with `DQN`?"
   ]
  },
  {
   "cell_type": "code",
   "execution_count": null,
   "id": "805d5e8d-2de0-40ad-a9e4-55a865b1db60",
   "metadata": {},
   "outputs": [],
   "source": []
  },
  {
   "cell_type": "code",
   "execution_count": null,
   "id": "b9f6dc77-a789-4cd2-9f86-95c3920c639c",
   "metadata": {},
   "outputs": [],
   "source": []
  },
  {
   "cell_type": "code",
   "execution_count": null,
   "id": "a9e8d72d-55bc-4954-b429-5b4bcb566407",
   "metadata": {},
   "outputs": [],
   "source": []
  },
  {
   "cell_type": "code",
   "execution_count": null,
   "id": "82e4cbb7-ca08-4fe7-98c8-832331434c7f",
   "metadata": {},
   "outputs": [],
   "source": []
  },
  {
   "cell_type": "markdown",
   "id": "bf563cb9-e516-49d4-b022-910c49d1e696",
   "metadata": {},
   "source": [
    "Idea: give the agent an action that says \"give up\", take a reward hit, but move on.\n",
    "So basically, see if they can figure out if it's unsolvable."
   ]
  }
 ],
 "metadata": {
  "kernelspec": {
   "display_name": "Python [conda env:rl-course]",
   "language": "python",
   "name": "conda-env-rl-course-py"
  },
  "language_info": {
   "codemirror_mode": {
    "name": "ipython",
    "version": 3
   },
   "file_extension": ".py",
   "mimetype": "text/x-python",
   "name": "python",
   "nbconvert_exporter": "python",
   "pygments_lexer": "ipython3",
   "version": "3.8.13"
  },
  "toc-autonumbering": false
 },
 "nbformat": 4,
 "nbformat_minor": 5
}
