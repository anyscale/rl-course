{
 "cells": [
  {
   "cell_type": "markdown",
   "id": "bf336e3e-20b0-4095-af4e-880907ceac4a",
   "metadata": {
    "tags": []
   },
   "source": [
    "## The problem\n",
    "\n",
    "- Walking around in a 2D maze, with walls put in random locations"
   ]
  },
  {
   "cell_type": "markdown",
   "id": "65babae2-56b5-4fd4-9395-833cb7dcdbdf",
   "metadata": {},
   "source": [
    "NOTE FOR COURSE:\n",
    "\n",
    "randomness at constructor vs. randomness at `reset()`\n",
    "\n",
    "e.g. frozen lake is random at constructor, so the task learns a random lake, but it's the same lake every reset"
   ]
  },
  {
   "cell_type": "code",
   "execution_count": 1,
   "id": "bfbaf003-567b-415b-a4ce-2cd8c94fe1e9",
   "metadata": {},
   "outputs": [],
   "source": [
    "import gym\n",
    "from gym.spaces import Discrete\n",
    "import numpy as np\n",
    "import ray\n",
    "from ray.rllib.agents.dqn import DQNTrainer\n",
    "from ray.rllib.agents.ppo import PPOTrainer\n",
    "from ray.rllib.models.preprocessors import get_preprocessor \n",
    "import matplotlib.pyplot as plt\n",
    "import copy"
   ]
  },
  {
   "cell_type": "code",
   "execution_count": 2,
   "id": "81e0db0d-bc87-4c99-8e13-4dffe6f24e35",
   "metadata": {},
   "outputs": [],
   "source": [
    "import torch"
   ]
  },
  {
   "cell_type": "code",
   "execution_count": 3,
   "id": "4cdcef1b-9377-4a6d-8b3f-41552167e6e5",
   "metadata": {},
   "outputs": [],
   "source": [
    "action_names = {\n",
    "    0 : \"up\",\n",
    "    1 : \"down\",\n",
    "    2 : \"left\",\n",
    "    3 : \"right\"\n",
    "}"
   ]
  },
  {
   "cell_type": "code",
   "execution_count": 4,
   "id": "a0890080-6686-4876-b100-07bc48b87b57",
   "metadata": {},
   "outputs": [],
   "source": [
    "# ray.init(ignore_reinit_error=True)"
   ]
  },
  {
   "cell_type": "code",
   "execution_count": 5,
   "id": "3ed4f7a9-fc7c-47b4-9d8f-a40b91f9b61f",
   "metadata": {},
   "outputs": [],
   "source": [
    "class RandomPondEnvironment(gym.Env): \n",
    "    def __init__(self, env_config):\n",
    "        self.ylen = env_config.get(\"ylen\", 5)\n",
    "        self.xlen = env_config.get(\"xlen\", 5)\n",
    "        \n",
    "        self.action_space = gym.spaces.Discrete(4)\n",
    "        \n",
    "        # show entire state, not just nearby the player\n",
    "        # self.observation_space = gym.spaces.Dict({\n",
    "        #     \"player\" : gym.spaces.Discrete(self.ylen*self.xlen),\n",
    "        #     \"walls\" : gym.spaces.MultiBinary(self.ylen*self.xlen)\n",
    "        # })\n",
    "        # self.observation_space = gym.spaces.MultiBinary([2, self.ylen, self.xlen])\n",
    "\n",
    "        # see https://docs.ray.io/en/latest/rllib/rllib-models.html\n",
    "        # looks like they mainly just preprocess discrete/multidiscrete and atari?\n",
    "        # what about box?? hmm. i guess those go without preproc?\n",
    "        \n",
    "        self.observation_space = gym.spaces.MultiDiscrete([2,2,2,2])\n",
    "        # self.observation_space = gym.spaces.Tuple([Discrete(2), Discrete(2), Discrete(2), Discrete(2)])\n",
    "        # self.observation_space = gym.spaces.MultiBinary(4)\n",
    "        \n",
    "        # so there are two notions of a random seed here,\n",
    "        # there’s the notion of a reset seed - if that is fixed then you get the \n",
    "        # same maze every time you call reset (then no longer a random maze!). \n",
    "        # Then there’s also the notion of a general seed for the initialization \n",
    "        # of the environment - so that a sequence of calls to reset  generates \n",
    "        # the same sequence of random mazes each time. This is what we actually want here. \n",
    "        self.reset_random_seed = env_config.get(\"reset_random_seed\", None)\n",
    "        self.single_random_seed = env_config.get(\"single_random_seed\", None)\n",
    "        \n",
    "        if self.single_random_seed is not None:\n",
    "            np.random.seed(self.single_random_seed)\n",
    "\n",
    "        def seed(self, seed):\n",
    "            pass\n",
    "        # self.random_seed = seed\n",
    "    \n",
    "    def reset(self, random_seed=None):\n",
    "        # print(\"RESET\")\n",
    "        self.player = (0, 0)\n",
    "        self.exit = (self.ylen-1, self.xlen-1)\n",
    "        \n",
    "        # fixed seed every time, not random maze\n",
    "        if self.reset_random_seed is not None: \n",
    "            np.random.seed(self.reset_random_seed)\n",
    "        \n",
    "        self.walls = np.random.rand(self.ylen, self.xlen) < 0.2\n",
    "        self.walls[self.player] = 0\n",
    "        self.walls[self.exit] = 0\n",
    "        \n",
    "        self.num_steps = 0\n",
    "        return self.get_observation()\n",
    "    \n",
    "    def get_observation(self): # SWAPPED FROM THE ABOVE ONE\n",
    "        # make the observation into the entire state??\n",
    "        # playerstate = self.player[1] + self.xlen*self.player[0]\n",
    "        # obsdict = {\n",
    "        #     \"player\" : playerstate,\n",
    "        #     \"walls\" : self.wallsstate\n",
    "        # }\n",
    "        # return obsdict\n",
    "        \n",
    "        # playerstate = 0*self.walls\n",
    "        # playerstate[self.player] = 1\n",
    "        # return np.concatenate((playerstate[None], \n",
    "        #                        self.walls[None]), axis=0).astype(int)\n",
    "        i, j = self.player\n",
    "\n",
    "        obs = []\n",
    "        obs.append(1 if j==0           else self.walls[i,j-1]) # left\n",
    "        obs.append(1 if i==self.ylen-1 else self.walls[i+1,j]) # down\n",
    "        obs.append(1 if j==self.xlen-1 else self.walls[i,j+1]) # right\n",
    "        obs.append(1 if i==0           else self.walls[i-1,j]) # up\n",
    "        return np.array(obs, dtype=int)\n",
    "        # 3x3 context, 8 observations\n",
    "        # wallsexit = self.walls.copy()\n",
    "        # wallspad = np.pad(wallsexit, 1, constant_values=1) # pad with 1 to simulate walls all around\n",
    "        # nearby = wallspad[self.player[0]:self.player[0]+3, self.player[1]:self.player[1]+3]\n",
    "        # nearbyflat = nearby.flatten()\n",
    "        # minus_middle = np.concatenate((nearbyflat[:4], nearbyflat[5:]))\n",
    "        # return minus_middle\n",
    "        # NW N NE W E SW S SE\n",
    "    \n",
    "    def step(self, action):\n",
    "        self.num_steps += 1\n",
    "        \n",
    "        if action == 0: # move left\n",
    "            new_loc = (self.player[0], self.player[1]-1)\n",
    "            \n",
    "        elif action == 1: # move down\n",
    "            new_loc = (self.player[0]+1, self.player[1])\n",
    "                \n",
    "        elif action == 2: # move right\n",
    "            new_loc = (self.player[0], self.player[1]+1)\n",
    "  \n",
    "        elif action == 3: # move up\n",
    "            new_loc = (self.player[0]-1, self.player[1])\n",
    "                \n",
    "        else:\n",
    "            raise Exception(\"Action must be {0,1,2,3}\")\n",
    "            \n",
    "        # update state if you are able to move\n",
    "        move_success = False\n",
    "        if 0 <= new_loc[0] < self.ylen and 0 <= new_loc[1] < self.xlen:\n",
    "            self.player = new_loc\n",
    "            move_success = True\n",
    "                \n",
    "        info = {\"player pos\" : self.player}\n",
    "        \n",
    "        # reward\n",
    "        reward = 0\n",
    "        # penalize walking into walls\n",
    "        if self.walls[self.player]:\n",
    "            reward -= 1\n",
    "            # pass\n",
    "        elif self.player == self.exit:\n",
    "            reward += 1\n",
    "        else:\n",
    "#             distance = np.abs(self.player[0]-self.exit[0]) + np.abs(self.player[1]-self.exit[1])\n",
    "#             reward = -distance/10\n",
    "            pass\n",
    "        \n",
    "        return self.get_observation(), reward, self.is_done(), info\n",
    "\n",
    "    \n",
    "    def is_done(self):\n",
    "        return self.player == self.exit or self.walls[self.player]\n",
    "\n",
    "    def render(self):\n",
    "        for i in range(self.xlen):\n",
    "            for j in range(self.ylen):\n",
    "                if (i,j) == self.exit:\n",
    "                    print(\"E\", end=\"\")\n",
    "                elif (i,j) == self.player:\n",
    "                    print(\"P\", end=\"\")\n",
    "                elif self.walls[i,j]:\n",
    "                    print(\"O\", end=\"\")\n",
    "                else:\n",
    "                    print(\".\", end=\"\")\n",
    "                # print(\"O\", end=\"\")\n",
    "            print()"
   ]
  },
  {
   "cell_type": "code",
   "execution_count": 6,
   "id": "8cbac29c-fa8b-45a4-9081-7768ff025f45",
   "metadata": {},
   "outputs": [],
   "source": [
    "rme = RandomPondEnvironment({})"
   ]
  },
  {
   "cell_type": "code",
   "execution_count": 7,
   "id": "0053ea09-352e-4f07-86f0-f79d4a7cf216",
   "metadata": {},
   "outputs": [
    {
     "data": {
      "text/plain": [
       "array([1, 1, 0, 1])"
      ]
     },
     "execution_count": 7,
     "metadata": {},
     "output_type": "execute_result"
    }
   ],
   "source": [
    "rme.reset()"
   ]
  },
  {
   "cell_type": "code",
   "execution_count": 8,
   "id": "7bdfef18-af55-4a80-8f80-5acc736028de",
   "metadata": {},
   "outputs": [
    {
     "name": "stdout",
     "output_type": "stream",
     "text": [
      "P....\n",
      "O....\n",
      ".O...\n",
      "O.O..\n",
      "..OOE\n"
     ]
    }
   ],
   "source": [
    "rme.render()"
   ]
  },
  {
   "cell_type": "code",
   "execution_count": 9,
   "id": "1b9ba80d-57a5-4bfe-867f-ed488665d16c",
   "metadata": {},
   "outputs": [
    {
     "data": {
      "text/plain": [
       "(array([1, 1, 0, 1]), 0, False, {'player pos': (0, 0)})"
      ]
     },
     "execution_count": 9,
     "metadata": {},
     "output_type": "execute_result"
    }
   ],
   "source": [
    "rme.step(0)"
   ]
  },
  {
   "cell_type": "code",
   "execution_count": 10,
   "id": "10a5c9b7-7fe4-4ba9-98b1-1ecaaba50ffe",
   "metadata": {},
   "outputs": [],
   "source": [
    "# trainer_config_2 = copy.copy(trainer_config)\n",
    "# trainer_config_2[\"model\"] = {\"fcnet_hiddens\" : [64, 64]}"
   ]
  },
  {
   "cell_type": "code",
   "execution_count": 11,
   "id": "87345888-8305-4eeb-95e2-a1f7d5bdb8e6",
   "metadata": {},
   "outputs": [],
   "source": [
    "trainer_config_rme = {\n",
    "    # \"num_workers\": 0,\n",
    "    \"model\": {\n",
    "        \"fcnet_hiddens\": [64, 64],\n",
    "        \"fcnet_activation\": \"relu\",\n",
    "    },\n",
    "    \"evaluation_num_workers\": 1,\n",
    "    # \"create_env_on_driver\" : True,\n",
    "    \"log_level\" : \"ERROR\",\n",
    "    \"framework\" : \"torch\",\n",
    "    \"seed\" : 42\n",
    "    # \"_disable_preprocessor_api\" : True\n",
    "    # \"vf_loss_coef\" : 1/20_000 # make this small if the value function loss is big, only if vf_share_layers\n",
    "}"
   ]
  },
  {
   "cell_type": "code",
   "execution_count": 12,
   "id": "7c761db6-efcb-4efe-9745-eda1d144e11d",
   "metadata": {},
   "outputs": [
    {
     "name": "stderr",
     "output_type": "stream",
     "text": [
      "2022-05-24 10:45:18,472\tWARNING trainer.py:2347 -- You have specified 1 evaluation workers, but your `evaluation_interval` is None! Therefore, evaluation will not occur automatically with each call to `Trainer.train()`. Instead, you will have to call `Trainer.evaluate()` manually in order to trigger an evaluation run.\n"
     ]
    }
   ],
   "source": [
    "trainer = PPOTrainer(trainer_config_rme, env=RandomPondEnvironment)"
   ]
  },
  {
   "cell_type": "code",
   "execution_count": 13,
   "id": "d695d0a2-7a98-4723-bc5d-3a858f93d859",
   "metadata": {},
   "outputs": [],
   "source": [
    "rewards = []"
   ]
  },
  {
   "cell_type": "code",
   "execution_count": 14,
   "id": "e2a7dde1-6392-48ab-b131-8a957d4283bf",
   "metadata": {},
   "outputs": [
    {
     "name": "stdout",
     "output_type": "stream",
     "text": [
      "0\n",
      "1\n",
      "2\n",
      "3\n",
      "4\n",
      "5\n",
      "6\n",
      "7\n",
      "8\n",
      "9\n",
      "10\n",
      "11\n",
      "12\n",
      "13\n",
      "14\n"
     ]
    }
   ],
   "source": [
    "for iteration in range(15):\n",
    "    print(iteration)\n",
    "    out = trainer.train();\n",
    "    rewards.append(out['episode_reward_mean'])"
   ]
  },
  {
   "cell_type": "code",
   "execution_count": 15,
   "id": "27a8103b-3bcf-48fa-9f55-9729fc0241bb",
   "metadata": {},
   "outputs": [
    {
     "data": {
      "image/png": "[encoded data removed]",
      "text/plain": [
       "<Figure size 432x288 with 1 Axes>"
      ]
     },
     "metadata": {
      "needs_background": "light"
     },
     "output_type": "display_data"
    }
   ],
   "source": [
    "plt.plot(rewards);"
   ]
  },
  {
   "cell_type": "code",
   "execution_count": 16,
   "id": "e1b6603d-601e-46a2-82e1-73638b502b6e",
   "metadata": {},
   "outputs": [],
   "source": [
    "# out[\"hist_stats\"][\"episode_reward\"]"
   ]
  },
  {
   "cell_type": "code",
   "execution_count": 17,
   "id": "94a09a1d-3ad9-45e6-b5e4-b5a46465c83f",
   "metadata": {},
   "outputs": [
    {
     "data": {
      "text/plain": [
       "{'episode_reward_max': 1.0,\n",
       " 'episode_reward_min': -1.0,\n",
       " 'episode_reward_mean': 0.4,\n",
       " 'episode_len_mean': 92.2,\n",
       " 'episode_media': {},\n",
       " 'episodes_this_iter': 10,\n",
       " 'policy_reward_min': {},\n",
       " 'policy_reward_max': {},\n",
       " 'policy_reward_mean': {},\n",
       " 'custom_metrics': {},\n",
       " 'hist_stats': {'episode_reward': [-1.0,\n",
       "   1.0,\n",
       "   1.0,\n",
       "   -1.0,\n",
       "   1.0,\n",
       "   1.0,\n",
       "   1.0,\n",
       "   1.0,\n",
       "   1.0,\n",
       "   -1.0],\n",
       "  'episode_lengths': [14, 8, 8, 832, 12, 8, 18, 8, 8, 6]},\n",
       " 'sampler_perf': {'mean_raw_obs_processing_ms': 0.04783172648751206,\n",
       "  'mean_inference_ms': 0.22909416537630983,\n",
       "  'mean_action_processing_ms': 0.014875459516035517,\n",
       "  'mean_env_wait_ms': 0.01514539171014292,\n",
       "  'mean_env_render_ms': 0.0},\n",
       " 'off_policy_estimator': {},\n",
       " 'timesteps_this_iter': 0}"
      ]
     },
     "execution_count": 17,
     "metadata": {},
     "output_type": "execute_result"
    }
   ],
   "source": [
    "eval_results = trainer.evaluate();\n",
    "eval_results['evaluation']"
   ]
  },
  {
   "cell_type": "code",
   "execution_count": 18,
   "id": "18ca07c4-22cc-4b83-9acd-2b420e751e4e",
   "metadata": {},
   "outputs": [
    {
     "name": "stdout",
     "output_type": "stream",
     "text": [
      "P...O\n",
      "...O.\n",
      "...O.\n",
      ".....\n",
      "O...E\n"
     ]
    }
   ],
   "source": [
    "rme = RandomPondEnvironment({})\n",
    "obs = rme.reset() \n",
    "rme.render()"
   ]
  },
  {
   "cell_type": "code",
   "execution_count": 19,
   "id": "8c19f029-2399-4dc2-9b5c-e46843e07721",
   "metadata": {},
   "outputs": [
    {
     "name": "stdout",
     "output_type": "stream",
     "text": [
      "P.O..\n",
      ".....\n",
      ".....\n",
      ".....\n",
      "..O.E\n"
     ]
    }
   ],
   "source": [
    "rme.seed(1)\n",
    "rme.reset()\n",
    "rme.render()"
   ]
  },
  {
   "cell_type": "code",
   "execution_count": 20,
   "id": "1f5e7c49-db20-442e-b054-a358362d0050",
   "metadata": {},
   "outputs": [
    {
     "name": "stdout",
     "output_type": "stream",
     "text": [
      ".PO..\n",
      ".....\n",
      ".....\n",
      ".....\n",
      "..O.E\n",
      "\n",
      "action: left\n",
      "reward: 0\n",
      "done: False\n",
      "obs: [0 0 1 1]\n"
     ]
    }
   ],
   "source": [
    "action = trainer.compute_single_action(input_dict={\"obs\": obs})#, explore=False)\n",
    "res = rme.step(action)\n",
    "obs = res[0]\n",
    "rme.render()\n",
    "\n",
    "print(\"\\naction:\", action_names[action])\n",
    "print(\"reward:\", res[1])\n",
    "print(\"done:\", res[2])\n",
    "print(\"obs:\", obs)"
   ]
  },
  {
   "cell_type": "code",
   "execution_count": 21,
   "id": "53b7253b-f12b-4a89-b865-28e960551329",
   "metadata": {},
   "outputs": [
    {
     "name": "stdout",
     "output_type": "stream",
     "text": [
      "..OO.\n",
      ".....\n",
      "OO...\n",
      "..O..\n",
      "....E\n"
     ]
    },
    {
     "data": {
      "text/plain": [
       "1"
      ]
     },
     "execution_count": 21,
     "metadata": {},
     "output_type": "execute_result"
    }
   ],
   "source": [
    "from ipywidgets import Output\n",
    "from IPython import display\n",
    "import time\n",
    "\n",
    "output_display = Output()\n",
    "display.display(output_display)\n",
    "\n",
    "rme.reset()\n",
    "\n",
    "with output_display:\n",
    "    r_obs = obs\n",
    "    r_d = False\n",
    "    rme.render()\n",
    "    time.sleep(0.1)\n",
    "    while not r_d:\n",
    "\n",
    "        r_a = trainer.compute_single_action(r_obs)\n",
    "        r_obs, r_r, r_d, _ = rme.step(r_a)\n",
    "\n",
    "        output_display.clear_output(wait=True)\n",
    "        rme.render()\n",
    "        time.sleep(0.5)\n",
    "r_r"
   ]
  },
  {
   "cell_type": "code",
   "execution_count": null,
   "id": "a0146852-4768-419d-a3fb-966ae7d17978",
   "metadata": {},
   "outputs": [],
   "source": []
  },
  {
   "cell_type": "code",
   "execution_count": 22,
   "id": "0924202c-5810-4a1a-9f87-7a0f14e75ae8",
   "metadata": {},
   "outputs": [],
   "source": [
    "def get_probs_from_obs(trainer, env, obs):\n",
    "    policy = trainer.get_policy()\n",
    "    model = policy.model    \n",
    "    prep = get_preprocessor(env.observation_space)(env.observation_space)\n",
    "    model_output = model({\"obs\": torch.from_numpy(prep.transform(obs)[None])})[0]\n",
    "    # print(model_output)\n",
    "    dist = policy.dist_class(model_output, model) \n",
    "    actions = [0,1,2,3]\n",
    "    probs = np.exp(dist.logp(torch.from_numpy(np.array(actions))).detach().numpy())\n",
    "    return probs"
   ]
  },
  {
   "cell_type": "code",
   "execution_count": null,
   "id": "890f9d4d-ba47-4b65-adb2-85d9b5407a7b",
   "metadata": {},
   "outputs": [],
   "source": []
  },
  {
   "cell_type": "markdown",
   "id": "f227df96-dfe4-463e-99b2-4523485fe92a",
   "metadata": {},
   "source": [
    "left / down / right / up"
   ]
  },
  {
   "cell_type": "code",
   "execution_count": 23,
   "id": "5773fee4-8166-4d2c-82de-80ddee06e336",
   "metadata": {},
   "outputs": [
    {
     "data": {
      "text/plain": [
       "array([0.00353559, 0.2207566 , 0.74863636, 0.0270716 ], dtype=float32)"
      ]
     },
     "execution_count": 23,
     "metadata": {},
     "output_type": "execute_result"
    }
   ],
   "source": [
    "get_probs_from_obs(trainer, rme, np.array([1,0,0,0]))"
   ]
  },
  {
   "cell_type": "code",
   "execution_count": 24,
   "id": "50c3e584-f28c-4b50-8ff2-e7752568aab5",
   "metadata": {},
   "outputs": [
    {
     "data": {
      "text/plain": [
       "array([0.07305762, 0.00323058, 0.8968709 , 0.02684085], dtype=float32)"
      ]
     },
     "execution_count": 24,
     "metadata": {},
     "output_type": "execute_result"
    }
   ],
   "source": [
    "get_probs_from_obs(trainer, rme, np.array([0,1,0,0]))"
   ]
  },
  {
   "cell_type": "code",
   "execution_count": 25,
   "id": "3d1b1569-a125-4380-962f-6d6c988bc64c",
   "metadata": {},
   "outputs": [
    {
     "data": {
      "text/plain": [
       "array([0.00631512, 0.99052274, 0.00160871, 0.00155343], dtype=float32)"
      ]
     },
     "execution_count": 25,
     "metadata": {},
     "output_type": "execute_result"
    }
   ],
   "source": [
    "get_probs_from_obs(trainer, rme, np.array([0,0,1,0]))"
   ]
  },
  {
   "cell_type": "code",
   "execution_count": 26,
   "id": "eb99bed9-52b6-42d6-8193-fc5138323308",
   "metadata": {},
   "outputs": [
    {
     "data": {
      "text/plain": [
       "array([0.02466013, 0.1658268 , 0.8013836 , 0.00812937], dtype=float32)"
      ]
     },
     "execution_count": 26,
     "metadata": {},
     "output_type": "execute_result"
    }
   ],
   "source": [
    "get_probs_from_obs(trainer, rme, np.array([0,0,0,1]))"
   ]
  },
  {
   "cell_type": "markdown",
   "id": "745fd79a-7bef-486d-bff9-fdebd6007f41",
   "metadata": {},
   "source": [
    "From the above, we can see that it learned to avoid holes. And also that for non-hole directions, it prefers to go down/right. Nice."
   ]
  },
  {
   "cell_type": "code",
   "execution_count": 27,
   "id": "725d0186-654d-4ae3-b804-6f58d869a403",
   "metadata": {},
   "outputs": [],
   "source": [
    "# list(trainer.get_policy().get_weights().values())[0].shape"
   ]
  },
  {
   "cell_type": "code",
   "execution_count": 28,
   "id": "79294b81-830a-4e21-a556-c9d5ab2a8982",
   "metadata": {},
   "outputs": [],
   "source": [
    "# q_values = model.get_q_value_distributions(model_output)"
   ]
  },
  {
   "cell_type": "code",
   "execution_count": 29,
   "id": "672dfcfa-252e-4074-a0f9-084e9d41990f",
   "metadata": {},
   "outputs": [],
   "source": [
    "# q_values"
   ]
  },
  {
   "cell_type": "code",
   "execution_count": 30,
   "id": "dda28df1-1e40-47c4-a8c1-f32ff54d388d",
   "metadata": {},
   "outputs": [
    {
     "ename": "NameError",
     "evalue": "name 'policy' is not defined",
     "output_type": "error",
     "traceback": [
      "\u001b[0;31m---------------------------------------------------------------------------\u001b[0m",
      "\u001b[0;31mNameError\u001b[0m                                 Traceback (most recent call last)",
      "Input \u001b[0;32mIn [30]\u001b[0m, in \u001b[0;36m<cell line: 1>\u001b[0;34m()\u001b[0m\n\u001b[0;32m----> 1\u001b[0m dist \u001b[38;5;241m=\u001b[39m \u001b[43mpolicy\u001b[49m\u001b[38;5;241m.\u001b[39mdist_class(model_output, model) \n\u001b[1;32m      2\u001b[0m dist\n",
      "\u001b[0;31mNameError\u001b[0m: name 'policy' is not defined"
     ]
    }
   ],
   "source": [
    "dist = policy.dist_class(model_output, model) \n",
    "dist"
   ]
  },
  {
   "cell_type": "code",
   "execution_count": null,
   "id": "080e58fe-c5d6-4b61-b186-8058840e3051",
   "metadata": {},
   "outputs": [],
   "source": [
    "dist.sample()"
   ]
  },
  {
   "cell_type": "markdown",
   "id": "82c3ba6d-52b5-4a33-9b76-ffe5154f4e6b",
   "metadata": {},
   "source": [
    "Probs that add up to 1:"
   ]
  },
  {
   "cell_type": "code",
   "execution_count": null,
   "id": "1d6cd717-4886-4c59-9821-9869b3fc9bc9",
   "metadata": {},
   "outputs": [],
   "source": [
    "actions = [0,1,2,3]\n",
    "probs = np.exp(dist.logp(torch.from_numpy(np.array(actions))).detach().numpy())\n",
    "probs"
   ]
  },
  {
   "cell_type": "code",
   "execution_count": null,
   "id": "9ac31e95-c728-4327-bd16-7db18dfa73a0",
   "metadata": {},
   "outputs": [],
   "source": [
    "probs.sum()"
   ]
  },
  {
   "cell_type": "code",
   "execution_count": null,
   "id": "92c2c0b3-183d-41bb-bce3-89e25caa6625",
   "metadata": {},
   "outputs": [],
   "source": [
    "dist.dist"
   ]
  },
  {
   "cell_type": "code",
   "execution_count": null,
   "id": "6033a529-8087-48a9-8336-a29b3adf917b",
   "metadata": {},
   "outputs": [],
   "source": [
    "print(model)"
   ]
  },
  {
   "cell_type": "markdown",
   "id": "c2be3ba1-aa3b-478e-855b-d300ec19be32",
   "metadata": {},
   "source": [
    "## Questions for Sven\n",
    "\n",
    "- How many episodes are actually getting run during training/evaluation? Only 10?\n",
    "  - It's complicated for training, but the batch size is measured in time steps (rather than episodes) so it also depends on episode length\n",
    "- `compute_action` vs `compute_single_action` \n",
    "  - Use `compute_single_action`\n",
    "- Can we go through the results of `print(model)` and understand why it looks the way it does?\n",
    "  - for Pytorch specifically, the layers are shown alphabetically and not in order (it only gets linked up in the call to `forward`)\n",
    "- How to get q values from `ComplexInputNetwork`?\n",
    "  - Don't use `ComplexInputNetwork`, avoid at all costs\n",
    "- What happens if you don't call `ray.init()` - the code still seems to run?\n",
    "- DQN vs PPO\n",
    "  - DQN more interpretable if you dig into the model, PPO more complicated.\n",
    "  - PPO learns action probabilities, will sample from this distribution by default\n",
    "- Is it fine to call `ray.init(ignore_reinit_error=True)` repeatedly?\n",
    "  - Yes\n",
    "- Why does `episode_reward_mean` not get better with more iterations? Is it because we've reaching the \"ceiling\" given the environment/model?\n",
    "  - Wasn't working at all with `MultiBinary`\n",
    "- What would be your next step to improve performance here? Ideas...\n",
    "  - Reward crafting\n",
    "  - Observation crafting\n",
    "  - Model/algo tuning / ray tune\n",
    "  - More iterations (how do you decide this? look for a plateau? results are generally quite noisy, I guess due to the randomness in the env)\n",
    "  - ...?\n",
    "- Higher-level question: in my google doc I have a list of envs for the tuned examples - which ones would be good for the course? can they be rendered?\n",
    "- Can I reuse recsim material from Sven's tutorial in the course? (And if so, do we think it's a good idea)\n",
    "- Ok to do the whole course with the Python API instead of the CLI?\n",
    "- If we actually wanted to make a maze-winning AI, would we want to consider somehow giving it access to the same maze multiple times and not resetting EVERY time? Would that be advantageous for learning somehow? Or is it fine to randomize at every `reset`?\n",
    "- In terms of the return of `step`, namely observation, reward, `is_done`, info -- is it correct that info is never used by any algorithm?\n",
    "- What if we want the reward to be part of the observation?\n",
    "- Is there a way to set a `random_state` in RLlib so that it performs the same actions every time?"
   ]
  },
  {
   "cell_type": "markdown",
   "id": "682312f9-ba07-4a99-ad73-96d56bc1fdd2",
   "metadata": {},
   "source": [
    "Things that seem to have magically fixed themselves:\n",
    "\n",
    "- Why does it say episode lengths are always 500 when it clearly seems to work (below)?\n",
    "- When I do `dist.sample()`, why do I get numbers larger than 3?\n",
    "- And, why is `model_output` size 64 instead of 4?\n",
    "\n",
    "I wonder why this was happening before... could it have been with `DQN`?"
   ]
  },
  {
   "cell_type": "code",
   "execution_count": null,
   "id": "805d5e8d-2de0-40ad-a9e4-55a865b1db60",
   "metadata": {},
   "outputs": [],
   "source": []
  },
  {
   "cell_type": "code",
   "execution_count": null,
   "id": "b9f6dc77-a789-4cd2-9f86-95c3920c639c",
   "metadata": {},
   "outputs": [],
   "source": []
  },
  {
   "cell_type": "code",
   "execution_count": null,
   "id": "a9e8d72d-55bc-4954-b429-5b4bcb566407",
   "metadata": {},
   "outputs": [],
   "source": []
  },
  {
   "cell_type": "code",
   "execution_count": null,
   "id": "82e4cbb7-ca08-4fe7-98c8-832331434c7f",
   "metadata": {},
   "outputs": [],
   "source": []
  },
  {
   "cell_type": "markdown",
   "id": "bf563cb9-e516-49d4-b022-910c49d1e696",
   "metadata": {},
   "source": [
    "Idea: give the agent an action that says \"give up\", take a reward hit, but move on.\n",
    "So basically, see if they can figure out if it's unsolvable."
   ]
  }
 ],
 "metadata": {
  "kernelspec": {
   "display_name": "Python [conda env:rl-course]",
   "language": "python",
   "name": "conda-env-rl-course-py"
  },
  "language_info": {
   "codemirror_mode": {
    "name": "ipython",
    "version": 3
   },
   "file_extension": ".py",
   "mimetype": "text/x-python",
   "name": "python",
   "nbconvert_exporter": "python",
   "pygments_lexer": "ipython3",
   "version": "3.8.13"
  },
  "toc-autonumbering": false
 },
 "nbformat": 4,
 "nbformat_minor": 5
}
