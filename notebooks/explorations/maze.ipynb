{
 "cells": [
  {
   "cell_type": "markdown",
   "id": "bf336e3e-20b0-4095-af4e-880907ceac4a",
   "metadata": {},
   "source": [
    "## The problem\n",
    "\n",
    "- Walking around in a 2D maze\n",
    "- This is a toy problem, we will make it more challenging later"
   ]
  },
  {
   "cell_type": "code",
   "execution_count": 1,
   "id": "bfbaf003-567b-415b-a4ce-2cd8c94fe1e9",
   "metadata": {},
   "outputs": [],
   "source": [
    "import gym\n",
    "from gym.spaces import Discrete\n",
    "import numpy as np\n",
    "import ray\n",
    "from ray.rllib.agents.dqn import DQNTrainer\n",
    "from ray.rllib.agents.ppo import PPOTrainer\n",
    "from ray.rllib.models.preprocessors import get_preprocessor \n",
    "from tqdm.notebook import trange, tqdm\n",
    "import matplotlib.pyplot as plt\n",
    "import copy"
   ]
  },
  {
   "cell_type": "code",
   "execution_count": 2,
   "id": "5a1d02a1-8618-4652-81ac-4b5956d0b729",
   "metadata": {},
   "outputs": [],
   "source": [
    "# import tensorflow as tf\n",
    "# # import tensorflow.compat.v1 as tf"
   ]
  },
  {
   "cell_type": "code",
   "execution_count": 3,
   "id": "ca18bfdd-8046-4ea0-9e2b-45275c8f320f",
   "metadata": {},
   "outputs": [],
   "source": [
    "import torch"
   ]
  },
  {
   "cell_type": "code",
   "execution_count": 4,
   "id": "4cdcef1b-9377-4a6d-8b3f-41552167e6e5",
   "metadata": {},
   "outputs": [],
   "source": [
    "action_names = {\n",
    "    0 : \"up\",\n",
    "    1 : \"down\",\n",
    "    2 : \"right\",\n",
    "    3 : \"left\"\n",
    "}"
   ]
  },
  {
   "cell_type": "code",
   "execution_count": 5,
   "id": "a0890080-6686-4876-b100-07bc48b87b57",
   "metadata": {},
   "outputs": [
    {
     "data": {
      "text/plain": [
       "{'node_ip_address': '127.0.0.1',\n",
       " 'raylet_ip_address': '127.0.0.1',\n",
       " 'redis_address': '127.0.0.1:6379',\n",
       " 'object_store_address': '/tmp/ray/session_2022-04-06_07-37-15_554531_28574/sockets/plasma_store',\n",
       " 'raylet_socket_name': '/tmp/ray/session_2022-04-06_07-37-15_554531_28574/sockets/raylet',\n",
       " 'webui_url': None,\n",
       " 'session_dir': '/tmp/ray/session_2022-04-06_07-37-15_554531_28574',\n",
       " 'metrics_export_port': 64455,\n",
       " 'gcs_address': '127.0.0.1:57673',\n",
       " 'node_id': '35219adb9d34bf4d7f4c255312246c12dbae816a9f531aaff52f303d'}"
      ]
     },
     "execution_count": 5,
     "metadata": {},
     "output_type": "execute_result"
    }
   ],
   "source": [
    "ray.init(ignore_reinit_error=True)"
   ]
  },
  {
   "cell_type": "code",
   "execution_count": 6,
   "id": "db4605aa-4b45-42b6-80f4-6b2a04793a4b",
   "metadata": {},
   "outputs": [],
   "source": [
    "class MazeEnvironment(gym.Env): \n",
    "    def __init__(self, env_config):\n",
    "        self.ylen = env_config.get(\"ylen\", 5)\n",
    "        self.xlen = env_config.get(\"xlen\", 5)\n",
    "        \n",
    "        self.action_space = gym.spaces.Discrete(4)\n",
    "        self.observation_space = gym.spaces.Discrete(self.ylen*self.xlen)\n",
    "    \n",
    "    def reset(self, seed=42):\n",
    "        self.player = (0, 0)\n",
    "        self.exit = (self.ylen-1, self.xlen-1)\n",
    "        if seed is not None:\n",
    "            np.random.seed(seed)\n",
    "        self.walls = np.random.rand(self.ylen, self.xlen) < 0.2\n",
    "        self.walls[self.player] = 0\n",
    "        self.walls[self.exit] = 0\n",
    "        self.num_steps = 0\n",
    "        return self.get_observation()\n",
    "    \n",
    "    def get_observation(self):\n",
    "        return self.player[0] + self.ylen*self.player[1] # TODO: FIX TO MATCH THE ONE BELOW SO IT GOES ROWS FIRST\n",
    "    \n",
    "    def step(self, action):\n",
    "        self.num_steps += 1\n",
    "        \n",
    "        if action == 0: # move up\n",
    "            new_loc = (self.player[0]-1, self.player[1])\n",
    "            if new_loc[0] > 0 and not self.walls[new_loc]:\n",
    "                self.player = new_loc\n",
    "        \n",
    "        elif action == 1: # move down\n",
    "            new_loc = (self.player[0]+1, self.player[1])\n",
    "            if new_loc[0] < self.ylen and not self.walls[new_loc]:\n",
    "                self.player = new_loc\n",
    "                \n",
    "        elif action == 2: # move right\n",
    "            new_loc = (self.player[0], self.player[1]+1)\n",
    "            if new_loc[1] < self.xlen and not self.walls[new_loc]:\n",
    "                self.player = new_loc\n",
    "                \n",
    "        elif action == 3: # move left\n",
    "            new_loc = (self.player[0], self.player[1]-1)\n",
    "            if new_loc[1] > 0 and not self.walls[new_loc]:\n",
    "                self.player = new_loc\n",
    "                \n",
    "        else:\n",
    "            raise Exception(\"Action must be {0,1,2,3}\")\n",
    "                \n",
    "        info = {\"player pos\" : self.player}\n",
    "        \n",
    "        return self.get_observation(), self.get_reward(), self.is_done(), info\n",
    "\n",
    "\n",
    "    def get_reward(self):\n",
    "        # return self.player == self.exit\n",
    "        dist = np.abs(self.player[0]-self.exit[0]) + np.abs(self.player[1]-self.exit[1])\n",
    "        return -dist\n",
    "    \n",
    "    def is_done(self):\n",
    "        return self.player == self.exit or self.num_steps >= 500\n",
    "\n",
    "    def render(self):\n",
    "        for i in range(self.xlen):\n",
    "            for j in range(self.ylen):\n",
    "                if (i,j) == self.exit:\n",
    "                    print(\"E\", end=\"\")\n",
    "                elif (i,j) == self.player:\n",
    "                    print(\"P\", end=\"\")\n",
    "                elif self.walls[i,j]:\n",
    "                    print(\"X\", end=\"\")\n",
    "                else:\n",
    "                    print(\".\", end=\"\")\n",
    "                # print(\"O\", end=\"\")\n",
    "            print()"
   ]
  },
  {
   "cell_type": "code",
   "execution_count": 7,
   "id": "e16be610-4338-4381-a685-7a605841ceed",
   "metadata": {},
   "outputs": [
    {
     "name": "stdout",
     "output_type": "stream",
     "text": [
      "P...X\n",
      "XX...\n",
      "X...X\n",
      "X....\n",
      ".X..E\n"
     ]
    }
   ],
   "source": [
    "# BY DEFAULT USES SEED 22\n",
    "me = MazeEnvironment({})\n",
    "me.reset()\n",
    "me.render()"
   ]
  },
  {
   "cell_type": "code",
   "execution_count": 8,
   "id": "105c8ee7-a518-4c24-96b3-c25348814212",
   "metadata": {},
   "outputs": [],
   "source": [
    "# sorted(trainer.config)"
   ]
  },
  {
   "cell_type": "code",
   "execution_count": 9,
   "id": "1a5f89a7-5872-4c72-896b-58f59d8dcf70",
   "metadata": {},
   "outputs": [
    {
     "name": "stderr",
     "output_type": "stream",
     "text": [
      "2022-04-06 07:37:18,224\tWARNING trainer.py:2279 -- You have specified 1 evaluation workers, but your `evaluation_interval` is None! Therefore, evaluation will not occur automatically with each call to `Trainer.train()`. Instead, you will have to call `Trainer.evaluate()` manually in order to trigger an evaluation run.\n",
      "2022-04-06 07:37:18,225\tINFO simple_q.py:153 -- In multi-agent mode, policies will be optimized sequentially by the multi-GPU optimizer. Consider setting `simple_optimizer=True` if this doesn't work for you.\n",
      "2022-04-06 07:37:18,225\tINFO trainer.py:790 -- Current log_level is ERROR. For more information, set 'log_level': 'INFO' / 'DEBUG' or use the -v and -vv flags.\n"
     ]
    }
   ],
   "source": [
    "trainer_config = {\n",
    "    \"num_workers\": 1,\n",
    "    # \"model\": {\n",
    "    #     \"fcnet_hiddens\": [64, 64],\n",
    "    #     \"fcnet_activation\": \"relu\",\n",
    "    # },\n",
    "    \"evaluation_num_workers\": 1,\n",
    "    # \"evaluation_interval\" : 1,\n",
    "    \"create_env_on_driver\" : True,\n",
    "    # \"evaluation_config\": {\n",
    "    #     \"render_env\": True,\n",
    "    # },\n",
    "    \"log_level\" : \"ERROR\",\n",
    "    \"framework\" : \"torch\" # default is tf\n",
    "}\n",
    "\n",
    "trainer = DQNTrainer(trainer_config, env=MazeEnvironment)"
   ]
  },
  {
   "cell_type": "code",
   "execution_count": 10,
   "id": "92f95d30-2697-4d80-a971-37e0cc3e11bd",
   "metadata": {},
   "outputs": [
    {
     "name": "stdout",
     "output_type": "stream",
     "text": [
      "0\n",
      "1\n",
      "2\n",
      "3\n",
      "4\n",
      "5\n",
      "6\n",
      "7\n",
      "8\n",
      "9\n"
     ]
    }
   ],
   "source": [
    "rewards = []\n",
    "for episode in range(10):\n",
    "    print(episode)\n",
    "    out = trainer.train();\n",
    "    rewards.append(out['episode_reward_mean'])"
   ]
  },
  {
   "cell_type": "code",
   "execution_count": 11,
   "id": "9e4eac53-09ec-4e31-84a7-447beb97b145",
   "metadata": {},
   "outputs": [
    {
     "data": {
      "image/png": "[encoded data removed]",
      "text/plain": [
       "<Figure size 432x288 with 1 Axes>"
      ]
     },
     "metadata": {
      "needs_background": "light"
     },
     "output_type": "display_data"
    }
   ],
   "source": [
    "plt.plot(rewards);"
   ]
  },
  {
   "cell_type": "code",
   "execution_count": 12,
   "id": "eec39d38-c9fc-4621-a273-1b3ad6846f8b",
   "metadata": {},
   "outputs": [],
   "source": [
    "out;"
   ]
  },
  {
   "cell_type": "code",
   "execution_count": 13,
   "id": "899302d3-7baa-41b9-8f2b-35656bf4c699",
   "metadata": {},
   "outputs": [
    {
     "name": "stdout",
     "output_type": "stream",
     "text": [
      "P...X\n",
      "XX...\n",
      "X...X\n",
      "X....\n",
      ".X..E\n"
     ]
    }
   ],
   "source": [
    "me = MazeEnvironment({})\n",
    "obs = me.reset() # BY DEFAULT USES SEED 22\n",
    "me.render()"
   ]
  },
  {
   "cell_type": "code",
   "execution_count": 14,
   "id": "d5755b81-a04e-4089-a72c-393eebf2e41b",
   "metadata": {},
   "outputs": [
    {
     "name": "stdout",
     "output_type": "stream",
     "text": [
      ".P..X\n",
      "XX...\n",
      "X...X\n",
      "X....\n",
      ".X..E\n",
      "\n",
      "action: right\n",
      "reward: -7\n",
      "done: False\n"
     ]
    }
   ],
   "source": [
    "action = trainer.compute_single_action(input_dict={\"obs\": obs}, explore=False)\n",
    "res = me.step(action)\n",
    "obs = res[0]\n",
    "me.render()\n",
    "\n",
    "print(\"\\naction:\", action_names[action])\n",
    "print(\"reward:\", res[1])\n",
    "print(\"done:\", res[2])"
   ]
  },
  {
   "cell_type": "markdown",
   "id": "d7bfb639-dd27-4f39-9365-fbce59d35a33",
   "metadata": {},
   "source": [
    "try with a fresh trainer to make sure it does badly:"
   ]
  },
  {
   "cell_type": "code",
   "execution_count": 15,
   "id": "085ff658-116d-4911-bc06-c810e41cb8dc",
   "metadata": {},
   "outputs": [
    {
     "name": "stdout",
     "output_type": "stream",
     "text": [
      "P...X\n",
      "XX...\n",
      "X...X\n",
      "X....\n",
      ".X..E\n"
     ]
    }
   ],
   "source": [
    "new_trainer = DQNTrainer(trainer_config, env=MazeEnvironment)\n",
    "me = MazeEnvironment({})\n",
    "obs = me.reset() \n",
    "me.render()"
   ]
  },
  {
   "cell_type": "code",
   "execution_count": 16,
   "id": "7c9e88d4-c322-4e47-bc51-1f9368475751",
   "metadata": {},
   "outputs": [
    {
     "name": "stdout",
     "output_type": "stream",
     "text": [
      "P...X\n",
      "XX...\n",
      "X...X\n",
      "X....\n",
      ".X..E\n"
     ]
    }
   ],
   "source": [
    "action = new_trainer.compute_single_action(input_dict={\"obs\": obs}, explore=False)\n",
    "res = me.step(action)\n",
    "obs = res[0]\n",
    "me.render()"
   ]
  },
  {
   "cell_type": "markdown",
   "id": "d48553e2-a445-43ad-8031-f1a47d9cf1e7",
   "metadata": {},
   "source": [
    "back to orig trainer:"
   ]
  },
  {
   "cell_type": "code",
   "execution_count": 17,
   "id": "5704d28b-c3d8-4139-82c1-826eab291f6a",
   "metadata": {},
   "outputs": [
    {
     "data": {
      "text/plain": [
       "False"
      ]
     },
     "execution_count": 17,
     "metadata": {},
     "output_type": "execute_result"
    }
   ],
   "source": [
    "trainer.config[\"evaluation_config\"][\"explore\"]"
   ]
  },
  {
   "cell_type": "code",
   "execution_count": 18,
   "id": "c80eb3e2-22b8-42c4-b86c-8ce770a7d10d",
   "metadata": {},
   "outputs": [
    {
     "data": {
      "text/plain": [
       "{'evaluation': {'episode_reward_max': -28.0,\n",
       "  'episode_reward_min': -28.0,\n",
       "  'episode_reward_mean': -28.0,\n",
       "  'episode_len_mean': 8.0,\n",
       "  'episode_media': {},\n",
       "  'episodes_this_iter': 10,\n",
       "  'policy_reward_min': {},\n",
       "  'policy_reward_max': {},\n",
       "  'policy_reward_mean': {},\n",
       "  'custom_metrics': {},\n",
       "  'hist_stats': {'episode_reward': [-28.0,\n",
       "    -28.0,\n",
       "    -28.0,\n",
       "    -28.0,\n",
       "    -28.0,\n",
       "    -28.0,\n",
       "    -28.0,\n",
       "    -28.0,\n",
       "    -28.0,\n",
       "    -28.0],\n",
       "   'episode_lengths': [8, 8, 8, 8, 8, 8, 8, 8, 8, 8]},\n",
       "  'sampler_perf': {'mean_raw_obs_processing_ms': 0.30388066798080626,\n",
       "   'mean_inference_ms': 0.6274293970178675,\n",
       "   'mean_action_processing_ms': 0.024139145274221164,\n",
       "   'mean_env_wait_ms': 0.07967595700864438,\n",
       "   'mean_env_render_ms': 0.0},\n",
       "  'off_policy_estimator': {},\n",
       "  'timesteps_this_iter': 0}}"
      ]
     },
     "execution_count": 18,
     "metadata": {},
     "output_type": "execute_result"
    }
   ],
   "source": [
    "trainer.evaluate()"
   ]
  },
  {
   "cell_type": "code",
   "execution_count": 19,
   "id": "0db888ed-81e5-4e78-9699-e244af102bad",
   "metadata": {},
   "outputs": [],
   "source": [
    "policy = trainer.get_policy()\n",
    "model = policy.model"
   ]
  },
  {
   "cell_type": "code",
   "execution_count": 20,
   "id": "f3e5b537-74bc-4b85-b38a-2b537b1988ae",
   "metadata": {},
   "outputs": [],
   "source": [
    "obs_space = me.observation_space\n",
    "preprocessor = get_preprocessor(obs_space)(obs_space)\n",
    "observations = me.reset()\n",
    "transformed = preprocessor.transform(observations).reshape(1, -1)"
   ]
  },
  {
   "cell_type": "code",
   "execution_count": 21,
   "id": "fef3ab9f-3fa8-4de5-b54a-4c447ee45986",
   "metadata": {},
   "outputs": [
    {
     "data": {
      "text/plain": [
       "array([[1., 0., 0., 0., 0., 0., 0., 0., 0., 0., 0., 0., 0., 0., 0., 0.,\n",
       "        0., 0., 0., 0., 0., 0., 0., 0., 0.]], dtype=float32)"
      ]
     },
     "execution_count": 21,
     "metadata": {},
     "output_type": "execute_result"
    }
   ],
   "source": [
    "transformed"
   ]
  },
  {
   "cell_type": "code",
   "execution_count": 22,
   "id": "9f8ad783-2066-49e9-ac1a-dcb8db0a9585",
   "metadata": {},
   "outputs": [],
   "source": [
    "model_output, _ = model({\"obs\": torch.from_numpy(transformed)})"
   ]
  },
  {
   "cell_type": "code",
   "execution_count": 23,
   "id": "4f97d278-3263-4b96-88df-9cad56e07dc3",
   "metadata": {},
   "outputs": [
    {
     "data": {
      "text/plain": [
       "torch.Size([1, 256])"
      ]
     },
     "execution_count": 23,
     "metadata": {},
     "output_type": "execute_result"
    }
   ],
   "source": [
    "model_output.shape"
   ]
  },
  {
   "cell_type": "code",
   "execution_count": 33,
   "id": "16930075-7ae5-4d17-9847-01e4f5f3a574",
   "metadata": {},
   "outputs": [],
   "source": [
    "q_values = model.get_q_value_distributions(model_output)[0]"
   ]
  },
  {
   "cell_type": "code",
   "execution_count": 34,
   "id": "00089f3b-bfe2-495b-aeb5-5d60956ba310",
   "metadata": {},
   "outputs": [
    {
     "name": "stdout",
     "output_type": "stream",
     "text": [
      "FullyConnectedNetwork_as_DQNTorchModel(\n",
      "  (_hidden_layers): Sequential(\n",
      "    (0): SlimFC(\n",
      "      (_model): Sequential(\n",
      "        (0): Linear(in_features=25, out_features=256, bias=True)\n",
      "        (1): Tanh()\n",
      "      )\n",
      "    )\n",
      "    (1): SlimFC(\n",
      "      (_model): Sequential(\n",
      "        (0): Linear(in_features=256, out_features=256, bias=True)\n",
      "        (1): Tanh()\n",
      "      )\n",
      "    )\n",
      "  )\n",
      "  (_value_branch): SlimFC(\n",
      "    (_model): Sequential(\n",
      "      (0): Linear(in_features=256, out_features=1, bias=True)\n",
      "    )\n",
      "  )\n",
      "  (advantage_module): Sequential(\n",
      "    (dueling_A_0): SlimFC(\n",
      "      (_model): Sequential(\n",
      "        (0): Linear(in_features=256, out_features=256, bias=True)\n",
      "        (1): ReLU()\n",
      "      )\n",
      "    )\n",
      "    (A): SlimFC(\n",
      "      (_model): Sequential(\n",
      "        (0): Linear(in_features=256, out_features=4, bias=True)\n",
      "      )\n",
      "    )\n",
      "  )\n",
      "  (value_module): Sequential(\n",
      "    (dueling_V_0): SlimFC(\n",
      "      (_model): Sequential(\n",
      "        (0): Linear(in_features=256, out_features=256, bias=True)\n",
      "        (1): ReLU()\n",
      "      )\n",
      "    )\n",
      "    (V): SlimFC(\n",
      "      (_model): Sequential(\n",
      "        (0): Linear(in_features=256, out_features=1, bias=True)\n",
      "      )\n",
      "    )\n",
      "  )\n",
      ")\n"
     ]
    }
   ],
   "source": [
    "print(model)"
   ]
  },
  {
   "cell_type": "code",
   "execution_count": 35,
   "id": "67c445f6-47ef-437b-a834-c9322108d993",
   "metadata": {},
   "outputs": [
    {
     "data": {
      "text/plain": [
       "tensor([[-2.6977, -2.7273,  5.1072, -2.6512]], grad_fn=<AddmmBackward0>)"
      ]
     },
     "execution_count": 35,
     "metadata": {},
     "output_type": "execute_result"
    }
   ],
   "source": [
    "q_values"
   ]
  },
  {
   "cell_type": "code",
   "execution_count": 36,
   "id": "72357a89-ba26-43cf-b8bb-93efacc45ce1",
   "metadata": {},
   "outputs": [
    {
     "data": {
      "text/plain": [
       "2"
      ]
     },
     "execution_count": 36,
     "metadata": {},
     "output_type": "execute_result"
    }
   ],
   "source": [
    "ac = trainer.compute_single_action(input_dict={\"obs\": observations}, explore=False)\n",
    "ac"
   ]
  },
  {
   "cell_type": "code",
   "execution_count": 37,
   "id": "eda16abd-9a69-43b1-9aef-5bbcb5fe34d3",
   "metadata": {},
   "outputs": [
    {
     "data": {
      "text/plain": [
       "'right'"
      ]
     },
     "execution_count": 37,
     "metadata": {},
     "output_type": "execute_result"
    }
   ],
   "source": [
    "action_names[ac]"
   ]
  },
  {
   "cell_type": "code",
   "execution_count": 38,
   "id": "528613bd-c143-4035-87f1-d9005e8e4df7",
   "metadata": {},
   "outputs": [
    {
     "data": {
      "text/plain": [
       "<ray.rllib.models.torch.torch_action_dist.TorchCategorical at 0x174f9b8b0>"
      ]
     },
     "execution_count": 38,
     "metadata": {},
     "output_type": "execute_result"
    }
   ],
   "source": [
    "action_distribution = policy.dist_class(model_output, model) \n",
    "action_distribution"
   ]
  },
  {
   "cell_type": "code",
   "execution_count": 39,
   "id": "c3132977-2af5-42ee-aaa9-e8f598c4147c",
   "metadata": {},
   "outputs": [
    {
     "data": {
      "text/plain": [
       "tensor([218])"
      ]
     },
     "execution_count": 39,
     "metadata": {},
     "output_type": "execute_result"
    }
   ],
   "source": [
    "action_distribution.sample()"
   ]
  },
  {
   "cell_type": "code",
   "execution_count": 40,
   "id": "bbb4d067-7163-427f-8a9f-82d54e50cbe6",
   "metadata": {},
   "outputs": [
    {
     "data": {
      "text/plain": [
       "tensor([-4.9344], grad_fn=<SqueezeBackward1>)"
      ]
     },
     "execution_count": 40,
     "metadata": {},
     "output_type": "execute_result"
    }
   ],
   "source": [
    "action_distribution.logp(torch.from_numpy(np.array([1])))"
   ]
  },
  {
   "cell_type": "code",
   "execution_count": 41,
   "id": "dd26fd3a-8b51-4166-9db9-a6a48c598b67",
   "metadata": {},
   "outputs": [
    {
     "data": {
      "text/plain": [
       "tensor([-0.0063], grad_fn=<SqueezeBackward1>)"
      ]
     },
     "execution_count": 41,
     "metadata": {},
     "output_type": "execute_result"
    }
   ],
   "source": [
    "policy.model.value_function()"
   ]
  },
  {
   "cell_type": "code",
   "execution_count": null,
   "id": "7547990b-ffe7-4d3c-b73b-f02ed25c7d94",
   "metadata": {},
   "outputs": [],
   "source": []
  }
 ],
 "metadata": {
  "kernelspec": {
   "display_name": "Python [conda env:rllib]",
   "language": "python",
   "name": "conda-env-rllib-py"
  },
  "language_info": {
   "codemirror_mode": {
    "name": "ipython",
    "version": 3
   },
   "file_extension": ".py",
   "mimetype": "text/x-python",
   "name": "python",
   "nbconvert_exporter": "python",
   "pygments_lexer": "ipython3",
   "version": "3.8.13"
  },
  "toc-autonumbering": false
 },
 "nbformat": 4,
 "nbformat_minor": 5
}
