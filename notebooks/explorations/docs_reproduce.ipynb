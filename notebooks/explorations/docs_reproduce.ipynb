{
 "cells": [
  {
   "cell_type": "markdown",
   "id": "fbfd5f6a-322d-456a-8e2c-59151c183c1d",
   "metadata": {},
   "source": [
    "https://docs.ray.io/en/latest/rllib/rllib-training.html\n",
    "\n",
    "Example: Querying a policy’s action distribution\n",
    "\n"
   ]
  },
  {
   "cell_type": "code",
   "execution_count": 1,
   "id": "d86f20a7-a316-4919-83c7-0f8a130fea9a",
   "metadata": {},
   "outputs": [],
   "source": [
    "import ray"
   ]
  },
  {
   "cell_type": "code",
   "execution_count": 2,
   "id": "1e95a687-563a-4ff9-9829-248bad146b5a",
   "metadata": {},
   "outputs": [],
   "source": [
    "import tensorflow"
   ]
  },
  {
   "cell_type": "code",
   "execution_count": 3,
   "id": "15ed69bd-b06d-4dfe-bde9-cfa627879eb0",
   "metadata": {},
   "outputs": [],
   "source": [
    "import torch"
   ]
  },
  {
   "cell_type": "code",
   "execution_count": 4,
   "id": "700bf325-896c-4d99-a900-45aa26b79de3",
   "metadata": {},
   "outputs": [
    {
     "name": "stdout",
     "output_type": "stream",
     "text": [
      "Metal device set to: Apple M1\n"
     ]
    },
    {
     "name": "stderr",
     "output_type": "stream",
     "text": [
      "Install gputil for GPU system monitoring.\n"
     ]
    }
   ],
   "source": [
    "import numpy as np\n",
    "# Get a reference to the policy\n",
    "from ray.rllib.agents.ppo import PPOTrainer\n",
    "trainer = PPOTrainer(env=\"CartPole-v0\", config={\"framework\": \"tf2\", \"num_workers\": 0})\n",
    "policy = trainer.get_policy()"
   ]
  },
  {
   "cell_type": "code",
   "execution_count": 15,
   "id": "e7bd8ffe-db5c-4188-abac-97a011b86434",
   "metadata": {},
   "outputs": [],
   "source": [
    "# Run a forward pass to get model output logits. Note that complex observations\n",
    "# must be preprocessed as in the above code block.\n",
    "logits, _ = policy.model({\"obs\": np.array([[0.1, 0.2, 0.3, 0.4]])})"
   ]
  },
  {
   "cell_type": "code",
   "execution_count": 16,
   "id": "d23a7d09-f1c1-4463-9f4a-df2b8c7e0e45",
   "metadata": {},
   "outputs": [],
   "source": [
    "# version in docs\n",
    "# logits, _ = policy.model.from_batch({\"obs\": np.array([[0.1, 0.2, 0.3, 0.4]])})"
   ]
  },
  {
   "cell_type": "code",
   "execution_count": 6,
   "id": "25f9aad9-83fc-4631-96ad-86a870401fb2",
   "metadata": {},
   "outputs": [
    {
     "data": {
      "text/plain": [
       "ray.rllib.models.tf.tf_action_dist.Categorical"
      ]
     },
     "execution_count": 6,
     "metadata": {},
     "output_type": "execute_result"
    }
   ],
   "source": [
    "policy.dist_class"
   ]
  },
  {
   "cell_type": "code",
   "execution_count": 7,
   "id": "02e75f9d-4b42-436f-9581-3e442f1b28a5",
   "metadata": {},
   "outputs": [],
   "source": [
    "dist = policy.dist_class(logits, policy.model)"
   ]
  },
  {
   "cell_type": "code",
   "execution_count": 8,
   "id": "6a7dd38a-26ab-407b-830c-789dd8624e7c",
   "metadata": {},
   "outputs": [
    {
     "data": {
      "text/plain": [
       "<tf.Tensor: shape=(1,), dtype=int64, numpy=array([0])>"
      ]
     },
     "execution_count": 8,
     "metadata": {},
     "output_type": "execute_result"
    }
   ],
   "source": [
    "dist.sample()"
   ]
  },
  {
   "cell_type": "code",
   "execution_count": 9,
   "id": "3e5e6529-aeae-453c-a618-8f2db78b7d76",
   "metadata": {},
   "outputs": [
    {
     "data": {
      "text/plain": [
       "<tf.Tensor: shape=(1,), dtype=float32, numpy=array([-0.69162846], dtype=float32)>"
      ]
     },
     "execution_count": 9,
     "metadata": {},
     "output_type": "execute_result"
    }
   ],
   "source": [
    "dist.logp([1])"
   ]
  },
  {
   "cell_type": "code",
   "execution_count": 10,
   "id": "5a2096b4-b765-4786-a646-58be7e311694",
   "metadata": {},
   "outputs": [
    {
     "data": {
      "text/plain": [
       "<tf.Tensor: shape=(1,), dtype=float32, numpy=array([0.0009751], dtype=float32)>"
      ]
     },
     "execution_count": 10,
     "metadata": {},
     "output_type": "execute_result"
    }
   ],
   "source": [
    "policy.model.value_function()"
   ]
  },
  {
   "cell_type": "code",
   "execution_count": 11,
   "id": "b2d8b222-be78-42d8-890f-9d50e4bcdb86",
   "metadata": {},
   "outputs": [
    {
     "name": "stdout",
     "output_type": "stream",
     "text": [
      "Model: \"model\"\n",
      "__________________________________________________________________________________________________\n",
      " Layer (type)                   Output Shape         Param #     Connected to                     \n",
      "==================================================================================================\n",
      " observations (InputLayer)      [(None, 4)]          0           []                               \n",
      "                                                                                                  \n",
      " fc_1 (Dense)                   (None, 256)          1280        ['observations[0][0]']           \n",
      "                                                                                                  \n",
      " fc_value_1 (Dense)             (None, 256)          1280        ['observations[0][0]']           \n",
      "                                                                                                  \n",
      " fc_2 (Dense)                   (None, 256)          65792       ['fc_1[0][0]']                   \n",
      "                                                                                                  \n",
      " fc_value_2 (Dense)             (None, 256)          65792       ['fc_value_1[0][0]']             \n",
      "                                                                                                  \n",
      " fc_out (Dense)                 (None, 2)            514         ['fc_2[0][0]']                   \n",
      "                                                                                                  \n",
      " value_out (Dense)              (None, 1)            257         ['fc_value_2[0][0]']             \n",
      "                                                                                                  \n",
      "==================================================================================================\n",
      "Total params: 134,915\n",
      "Trainable params: 134,915\n",
      "Non-trainable params: 0\n",
      "__________________________________________________________________________________________________\n"
     ]
    }
   ],
   "source": [
    "policy.model.base_model.summary()"
   ]
  },
  {
   "cell_type": "code",
   "execution_count": null,
   "id": "45ee830a-0bd6-400c-8a77-02f57fa515ad",
   "metadata": {},
   "outputs": [],
   "source": []
  }
 ],
 "metadata": {
  "kernelspec": {
   "display_name": "Python [conda env:rllib]",
   "language": "python",
   "name": "conda-env-rllib-py"
  },
  "language_info": {
   "codemirror_mode": {
    "name": "ipython",
    "version": 3
   },
   "file_extension": ".py",
   "mimetype": "text/x-python",
   "name": "python",
   "nbconvert_exporter": "python",
   "pygments_lexer": "ipython3",
   "version": "3.8.13"
  }
 },
 "nbformat": 4,
 "nbformat_minor": 5
}
