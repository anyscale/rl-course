{
 "cells": [
  {
   "cell_type": "markdown",
   "id": "b21e0b2e-9abc-4599-a8f2-81e90a39f60b",
   "metadata": {},
   "source": [
    "https://docs.ray.io/en/latest/rllib/rllib-training.html"
   ]
  },
  {
   "cell_type": "code",
   "execution_count": null,
   "id": "f03eda5e-4f4c-4b5a-af68-8e9ec6c24ade",
   "metadata": {},
   "outputs": [],
   "source": []
  },
  {
   "cell_type": "code",
   "execution_count": null,
   "id": "5442dc6b-2106-4aec-852e-597bb66a0bff",
   "metadata": {},
   "outputs": [],
   "source": []
  },
  {
   "cell_type": "markdown",
   "id": "93346e65-ab84-4d37-b87d-e28197f814cb",
   "metadata": {},
   "source": [
    "## Example: Preprocessing observations for feeding into a model"
   ]
  },
  {
   "cell_type": "code",
   "execution_count": 1,
   "id": "aa94750d-7ce9-4ed4-a4e0-e1d8a15abeb0",
   "metadata": {},
   "outputs": [
    {
     "name": "stderr",
     "output_type": "stream",
     "text": [
      "A.L.E: Arcade Learning Environment (version 0.7.5+db37282)\n",
      "[Powered by Stella]\n",
      "/Users/mike/miniconda3/envs/rllib/lib/python3.8/site-packages/tqdm/auto.py:22: TqdmWarning: IProgress not found. Please update jupyter and ipywidgets. See https://ipywidgets.readthedocs.io/en/stable/user_install.html\n",
      "  from .autonotebook import tqdm as notebook_tqdm\n"
     ]
    },
    {
     "data": {
      "text/plain": [
       "(84, 84, 3)"
      ]
     },
     "execution_count": 1,
     "metadata": {},
     "output_type": "execute_result"
    }
   ],
   "source": [
    "import gym\n",
    "env = gym.make(\"Pong-v0\")\n",
    "\n",
    "# RLlib uses preprocessors to implement transforms such as one-hot encoding\n",
    "# and flattening of tuple and dict observations.\n",
    "from ray.rllib.models.preprocessors import get_preprocessor\n",
    "prep = get_preprocessor(env.observation_space)(env.observation_space)\n",
    "# <ray.rllib.models.preprocessors.GenericPixelPreprocessor object at 0x7fc4d049de80>\n",
    "\n",
    "# Observations should be preprocessed prior to feeding into a model\n",
    "env.reset().shape\n",
    "# (210, 160, 3)\n",
    "prep.transform(env.reset()).shape\n",
    "# (84, 84, 3)"
   ]
  },
  {
   "cell_type": "markdown",
   "id": "fbfd5f6a-322d-456a-8e2c-59151c183c1d",
   "metadata": {},
   "source": [
    "## Example: Querying a policy’s action distribution\n",
    "\n"
   ]
  },
  {
   "cell_type": "code",
   "execution_count": 1,
   "id": "d86f20a7-a316-4919-83c7-0f8a130fea9a",
   "metadata": {},
   "outputs": [],
   "source": [
    "import ray"
   ]
  },
  {
   "cell_type": "code",
   "execution_count": 2,
   "id": "1e95a687-563a-4ff9-9829-248bad146b5a",
   "metadata": {},
   "outputs": [],
   "source": [
    "import tensorflow"
   ]
  },
  {
   "cell_type": "code",
   "execution_count": 3,
   "id": "15ed69bd-b06d-4dfe-bde9-cfa627879eb0",
   "metadata": {},
   "outputs": [],
   "source": [
    "import torch"
   ]
  },
  {
   "cell_type": "code",
   "execution_count": 4,
   "id": "700bf325-896c-4d99-a900-45aa26b79de3",
   "metadata": {},
   "outputs": [
    {
     "name": "stdout",
     "output_type": "stream",
     "text": [
      "Metal device set to: Apple M1\n"
     ]
    }
   ],
   "source": [
    "import numpy as np\n",
    "# Get a reference to the policy\n",
    "from ray.rllib.agents.ppo import PPOTrainer\n",
    "trainer = PPOTrainer(env=\"CartPole-v0\", config={\"framework\": \"tf2\", \"num_workers\": 0})\n",
    "policy = trainer.get_policy()"
   ]
  },
  {
   "cell_type": "code",
   "execution_count": 5,
   "id": "e7bd8ffe-db5c-4188-abac-97a011b86434",
   "metadata": {},
   "outputs": [],
   "source": [
    "# Run a forward pass to get model output logits. Note that complex observations\n",
    "# must be preprocessed as in the above code block.\n",
    "logits, _ = policy.model({\"obs\": np.array([[0.1, 0.2, 0.3, 0.4]])})"
   ]
  },
  {
   "cell_type": "code",
   "execution_count": 6,
   "id": "d23a7d09-f1c1-4463-9f4a-df2b8c7e0e45",
   "metadata": {},
   "outputs": [],
   "source": [
    "# version in docs\n",
    "# logits, _ = policy.model.from_batch({\"obs\": np.array([[0.1, 0.2, 0.3, 0.4]])})"
   ]
  },
  {
   "cell_type": "code",
   "execution_count": 7,
   "id": "25f9aad9-83fc-4631-96ad-86a870401fb2",
   "metadata": {},
   "outputs": [
    {
     "data": {
      "text/plain": [
       "ray.rllib.models.tf.tf_action_dist.Categorical"
      ]
     },
     "execution_count": 7,
     "metadata": {},
     "output_type": "execute_result"
    }
   ],
   "source": [
    "policy.dist_class"
   ]
  },
  {
   "cell_type": "code",
   "execution_count": 8,
   "id": "02e75f9d-4b42-436f-9581-3e442f1b28a5",
   "metadata": {},
   "outputs": [],
   "source": [
    "dist = policy.dist_class(logits, policy.model)"
   ]
  },
  {
   "cell_type": "code",
   "execution_count": 9,
   "id": "6a7dd38a-26ab-407b-830c-789dd8624e7c",
   "metadata": {},
   "outputs": [
    {
     "data": {
      "text/plain": [
       "<tf.Tensor: shape=(1,), dtype=int64, numpy=array([1])>"
      ]
     },
     "execution_count": 9,
     "metadata": {},
     "output_type": "execute_result"
    }
   ],
   "source": [
    "dist.sample()"
   ]
  },
  {
   "cell_type": "code",
   "execution_count": 10,
   "id": "3e5e6529-aeae-453c-a618-8f2db78b7d76",
   "metadata": {},
   "outputs": [
    {
     "data": {
      "text/plain": [
       "<tf.Tensor: shape=(1,), dtype=float32, numpy=array([-0.6939949], dtype=float32)>"
      ]
     },
     "execution_count": 10,
     "metadata": {},
     "output_type": "execute_result"
    }
   ],
   "source": [
    "dist.logp([1])"
   ]
  },
  {
   "cell_type": "code",
   "execution_count": 11,
   "id": "5a2096b4-b765-4786-a646-58be7e311694",
   "metadata": {},
   "outputs": [
    {
     "data": {
      "text/plain": [
       "<tf.Tensor: shape=(1,), dtype=float32, numpy=array([-0.00134783], dtype=float32)>"
      ]
     },
     "execution_count": 11,
     "metadata": {},
     "output_type": "execute_result"
    }
   ],
   "source": [
    "policy.model.value_function()"
   ]
  },
  {
   "cell_type": "code",
   "execution_count": 12,
   "id": "b2d8b222-be78-42d8-890f-9d50e4bcdb86",
   "metadata": {},
   "outputs": [
    {
     "name": "stdout",
     "output_type": "stream",
     "text": [
      "Model: \"model\"\n",
      "__________________________________________________________________________________________________\n",
      " Layer (type)                   Output Shape         Param #     Connected to                     \n",
      "==================================================================================================\n",
      " observations (InputLayer)      [(None, 4)]          0           []                               \n",
      "                                                                                                  \n",
      " fc_1 (Dense)                   (None, 256)          1280        ['observations[0][0]']           \n",
      "                                                                                                  \n",
      " fc_value_1 (Dense)             (None, 256)          1280        ['observations[0][0]']           \n",
      "                                                                                                  \n",
      " fc_2 (Dense)                   (None, 256)          65792       ['fc_1[0][0]']                   \n",
      "                                                                                                  \n",
      " fc_value_2 (Dense)             (None, 256)          65792       ['fc_value_1[0][0]']             \n",
      "                                                                                                  \n",
      " fc_out (Dense)                 (None, 2)            514         ['fc_2[0][0]']                   \n",
      "                                                                                                  \n",
      " value_out (Dense)              (None, 1)            257         ['fc_value_2[0][0]']             \n",
      "                                                                                                  \n",
      "==================================================================================================\n",
      "Total params: 134,915\n",
      "Trainable params: 134,915\n",
      "Non-trainable params: 0\n",
      "__________________________________________________________________________________________________\n"
     ]
    }
   ],
   "source": [
    "policy.model.base_model.summary()"
   ]
  },
  {
   "cell_type": "markdown",
   "id": "62014e1e-cba3-4f9f-8c2b-7c85517d0e08",
   "metadata": {},
   "source": [
    "## Example: getting Q values"
   ]
  },
  {
   "cell_type": "code",
   "execution_count": 21,
   "id": "1ce14278-95c8-4da0-a6e0-99d5795d4155",
   "metadata": {},
   "outputs": [
    {
     "data": {
      "text/plain": [
       "<ray.rllib.models.catalog.FullyConnectedNetwork_as_DistributionalQTFModel at 0x14ee40bb0>"
      ]
     },
     "execution_count": 21,
     "metadata": {},
     "output_type": "execute_result"
    }
   ],
   "source": [
    "# Get a reference to the model through the policy\n",
    "import numpy as np\n",
    "from ray.rllib.agents.dqn import DQNTrainer\n",
    "trainer = DQNTrainer(env=\"CartPole-v0\", config={\"framework\": \"tf2\"})\n",
    "model = trainer.get_policy().model\n",
    "model"
   ]
  },
  {
   "cell_type": "code",
   "execution_count": 22,
   "id": "97b9c338-5a8e-4380-83a8-f6f7b6e706f9",
   "metadata": {},
   "outputs": [],
   "source": [
    "# <ray.rllib.models.catalog.FullyConnectedNetwork_as_DistributionalQModel ...>"
   ]
  },
  {
   "cell_type": "code",
   "execution_count": 23,
   "id": "1eb9853d-9625-49ed-84b4-9fe14ae274cc",
   "metadata": {},
   "outputs": [
    {
     "data": {
      "text/plain": [
       "TensorShape([1, 256])"
      ]
     },
     "execution_count": 23,
     "metadata": {},
     "output_type": "execute_result"
    }
   ],
   "source": [
    "# Run a forward pass to get base model output. Note that complex observations\n",
    "# must be preprocessed. An example of preprocessing is examples/saving_experiences.py\n",
    "model_out = model({\"obs\": np.array([[0.1, 0.2, 0.3, 0.4]])})\n",
    "model_out[0].shape"
   ]
  },
  {
   "cell_type": "code",
   "execution_count": 24,
   "id": "945b7fff-9952-4e10-83e3-5672217cbb42",
   "metadata": {},
   "outputs": [
    {
     "name": "stdout",
     "output_type": "stream",
     "text": [
      "Model: \"model_7\"\n",
      "__________________________________________________________________________________________________\n",
      " Layer (type)                   Output Shape         Param #     Connected to                     \n",
      "==================================================================================================\n",
      " observations (InputLayer)      [(None, 4)]          0           []                               \n",
      "                                                                                                  \n",
      " fc_1 (Dense)                   (None, 256)          1280        ['observations[0][0]']           \n",
      "                                                                                                  \n",
      " fc_out (Dense)                 (None, 256)          65792       ['fc_1[0][0]']                   \n",
      "                                                                                                  \n",
      " value_out (Dense)              (None, 1)            257         ['fc_1[0][0]']                   \n",
      "                                                                                                  \n",
      "==================================================================================================\n",
      "Total params: 67,329\n",
      "Trainable params: 67,329\n",
      "Non-trainable params: 0\n",
      "__________________________________________________________________________________________________\n"
     ]
    }
   ],
   "source": [
    "# TensorShape([Dimension(1), Dimension(256)])\n",
    "\n",
    "# Access the base Keras models (all default models have a base)\n",
    "model.base_model.summary()"
   ]
  },
  {
   "cell_type": "code",
   "execution_count": 25,
   "id": "e2b1677e-01b1-4012-bbe3-daccd3510b43",
   "metadata": {},
   "outputs": [
    {
     "name": "stdout",
     "output_type": "stream",
     "text": [
      "tf.Tensor([[-0.13385144  0.20218928]], shape=(1, 2), dtype=float32)\n"
     ]
    }
   ],
   "source": [
    "\"\"\"\n",
    "Model: \"model\"\n",
    "_______________________________________________________________________\n",
    "Layer (type)                Output Shape    Param #  Connected to\n",
    "=======================================================================\n",
    "observations (InputLayer)   [(None, 4)]     0\n",
    "_______________________________________________________________________\n",
    "fc_1 (Dense)                (None, 256)     1280     observations[0][0]\n",
    "_______________________________________________________________________\n",
    "fc_out (Dense)              (None, 256)     65792    fc_1[0][0]\n",
    "_______________________________________________________________________\n",
    "value_out (Dense)           (None, 1)       257      fc_1[0][0]\n",
    "=======================================================================\n",
    "Total params: 67,329\n",
    "Trainable params: 67,329\n",
    "Non-trainable params: 0\n",
    "______________________________________________________________________________\n",
    "\"\"\"\n",
    "\n",
    "# Access the Q value model (specific to DQN)\n",
    "print(model.get_q_value_distributions(model_out)[0])"
   ]
  },
  {
   "cell_type": "code",
   "execution_count": 26,
   "id": "80a0ec15-870a-4ca7-b364-c6270ef3756f",
   "metadata": {},
   "outputs": [
    {
     "name": "stdout",
     "output_type": "stream",
     "text": [
      "Model: \"model_8\"\n",
      "__________________________________________________________________________________________________\n",
      " Layer (type)                   Output Shape         Param #     Connected to                     \n",
      "==================================================================================================\n",
      " model_out (InputLayer)         [(None, 256)]        0           []                               \n",
      "                                                                                                  \n",
      " hidden_0 (Dense)               (None, 256)          65792       ['model_out[0][0]']              \n",
      "                                                                                                  \n",
      " dense_6 (Dense)                (None, 2)            514         ['hidden_0[0][0]']               \n",
      "                                                                                                  \n",
      " tf.ones_like_4 (TFOpLambda)    (None, 2)            0           ['dense_6[0][0]']                \n",
      "                                                                                                  \n",
      " tf.ones_like_5 (TFOpLambda)    (None, 2)            0           ['dense_6[0][0]']                \n",
      "                                                                                                  \n",
      " tf.expand_dims_4 (TFOpLambda)  (None, 2, 1)         0           ['tf.ones_like_4[0][0]']         \n",
      "                                                                                                  \n",
      " tf.expand_dims_5 (TFOpLambda)  (None, 2, 1)         0           ['tf.ones_like_5[0][0]']         \n",
      "                                                                                                  \n",
      "==================================================================================================\n",
      "Total params: 66,306\n",
      "Trainable params: 66,306\n",
      "Non-trainable params: 0\n",
      "__________________________________________________________________________________________________\n"
     ]
    }
   ],
   "source": [
    "# <tf.Tensor: shape=(1, 2), dtype=float32, numpy=array([[-0.05483027,  0.18754935]], dtype=float32)>\n",
    "\n",
    "model.q_value_head.summary()"
   ]
  },
  {
   "cell_type": "code",
   "execution_count": 27,
   "id": "aff79fa0-a100-443b-8741-1dc1a3c1b236",
   "metadata": {},
   "outputs": [
    {
     "name": "stdout",
     "output_type": "stream",
     "text": [
      "tf.Tensor([[0.18455854]], shape=(1, 1), dtype=float32)\n"
     ]
    }
   ],
   "source": [
    "# Access the state value model (specific to DQN)\n",
    "print(model.get_state_value(model_out))\n",
    "# tf.Tensor([[0.09381643]], shape=(1, 1), dtype=float32)"
   ]
  },
  {
   "cell_type": "code",
   "execution_count": 28,
   "id": "7a248ab1-e9fd-4f2b-a649-06ef6b06d3cf",
   "metadata": {},
   "outputs": [
    {
     "name": "stdout",
     "output_type": "stream",
     "text": [
      "Model: \"model_9\"\n",
      "_________________________________________________________________\n",
      " Layer (type)                Output Shape              Param #   \n",
      "=================================================================\n",
      " model_out (InputLayer)      [(None, 256)]             0         \n",
      "                                                                 \n",
      " dense_7 (Dense)             (None, 256)               65792     \n",
      "                                                                 \n",
      " dense_8 (Dense)             (None, 1)                 257       \n",
      "                                                                 \n",
      "=================================================================\n",
      "Total params: 66,049\n",
      "Trainable params: 66,049\n",
      "Non-trainable params: 0\n",
      "_________________________________________________________________\n"
     ]
    }
   ],
   "source": [
    "model.state_value_head.summary()"
   ]
  },
  {
   "cell_type": "code",
   "execution_count": null,
   "id": "44fe79bd-dc28-42da-9c64-04bc69f705f6",
   "metadata": {},
   "outputs": [],
   "source": []
  },
  {
   "cell_type": "code",
   "execution_count": null,
   "id": "780a20ec-80f4-4561-a159-79fea2bfac8b",
   "metadata": {},
   "outputs": [],
   "source": []
  },
  {
   "cell_type": "code",
   "execution_count": null,
   "id": "f1cba29d-1e34-4e8e-a8c1-bab0f394ec29",
   "metadata": {},
   "outputs": [],
   "source": []
  }
 ],
 "metadata": {
  "kernelspec": {
   "display_name": "Python [conda env:rllib]",
   "language": "python",
   "name": "conda-env-rllib-py"
  },
  "language_info": {
   "codemirror_mode": {
    "name": "ipython",
    "version": 3
   },
   "file_extension": ".py",
   "mimetype": "text/x-python",
   "name": "python",
   "nbconvert_exporter": "python",
   "pygments_lexer": "ipython3",
   "version": "3.8.13"
  }
 },
 "nbformat": 4,
 "nbformat_minor": 5
}
