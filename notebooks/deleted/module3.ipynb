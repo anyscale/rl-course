{
 "cells": [
  {
   "cell_type": "markdown",
   "id": "e0d0849f-f875-4048-b989-3df299b838b8",
   "metadata": {},
   "source": [
    "from 3.3"
   ]
  },
  {
   "cell_type": "markdown",
   "id": "e73a9652-6aa4-41f5-a94b-f86717def4ab",
   "metadata": {},
   "source": [
    "## ~~Memory in RL~~\n",
    "\n",
    "RNNs and such - ask Sven?\n",
    "\n",
    "With this new observation space, the agent only has access to the presence/absence of holes in the 4 squares around it. Therefore, it may \"see\" the same thing at the top-right and bottom-left of the lake, but it has no way of knowing that it should favour moving down in the former case and right in the latter case. Does the RL framework allow for \"memory\" of past actions? For example, can the agent realize it has already moved to the right several times and now it should consider moving down?"
   ]
  }
 ],
 "metadata": {
  "kernelspec": {
   "display_name": "Python [conda env:rl-course]",
   "language": "python",
   "name": "conda-env-rl-course-py"
  },
  "language_info": {
   "codemirror_mode": {
    "name": "ipython",
    "version": 3
   },
   "file_extension": ".py",
   "mimetype": "text/x-python",
   "name": "python",
   "nbconvert_exporter": "python",
   "pygments_lexer": "ipython3",
   "version": "3.8.13"
  }
 },
 "nbformat": 4,
 "nbformat_minor": 5
}
