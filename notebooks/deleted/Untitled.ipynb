{
 "cells": [
  {
   "cell_type": "markdown",
   "id": "3a583ea4-2bc2-4c9f-a597-b5e6b68ce722",
   "metadata": {},
   "source": [
    "## 01-02"
   ]
  },
  {
   "cell_type": "markdown",
   "id": "57f97340-2c55-43d0-935c-2349621947c4",
   "metadata": {
    "tags": []
   },
   "source": [
    "## Playing Frozen Lake\n",
    "<!-- coding -->"
   ]
  },
  {
   "cell_type": "markdown",
   "id": "154bc5f9-66d1-4b49-8b96-590c84740617",
   "metadata": {},
   "source": [
    "The code below creates a slippery Frozen Lake environment and walks half way to the goal. \n",
    "Add more steps until you reach the goal! As a reminder, here is how the actions are represented:\n",
    "\n",
    "| Direction | Action # |\n",
    "|-----|--------|\n",
    "| Left | 0 |\n",
    "| Down | 1 | \n",
    "| Right | 2 |\n",
    "| Up | 3 |"
   ]
  },
  {
   "cell_type": "code",
   "execution_count": 19,
   "id": "5269856d-2afd-4761-87d6-049a0fa664bc",
   "metadata": {},
   "outputs": [
    {
     "name": "stdout",
     "output_type": "stream",
     "text": [
      "  (Left)\n",
      "SFFF\n",
      "FHFH\n",
      "FFFH\n",
      "HF\u001b[41mF\u001b[0mG\n"
     ]
    }
   ],
   "source": [
    "import gym\n",
    "\n",
    "env = gym.make(\"FrozenLake-v1\", is_slippery=True)\n",
    "env.reset()\n",
    "env.seed(6);\n",
    "env.step(1);\n",
    "env.step(3);\n",
    "env.step(1);\n",
    "env.step(3);\n",
    "env.step(2);\n",
    "env.step(2);\n",
    "env.step(2);\n",
    "env.step(2);\n",
    "env.step(0);\n",
    "env.step(0);\n",
    "env.render()"
   ]
  },
  {
   "cell_type": "code",
   "execution_count": 18,
   "id": "4278e062-ad7f-43a7-bcc3-c9a8e562eb72",
   "metadata": {},
   "outputs": [
    {
     "name": "stdout",
     "output_type": "stream",
     "text": [
      "  (Down)\n",
      "SFFF\n",
      "FHFH\n",
      "FFFH\n",
      "HF\u001b[41mF\u001b[0mG\n"
     ]
    }
   ],
   "source": [
    "env.step()\n",
    "env.render()"
   ]
  },
  {
   "cell_type": "code",
   "execution_count": null,
   "id": "3e83bc6e-d3ae-4d13-9eda-2684b4b50a7e",
   "metadata": {},
   "outputs": [],
   "source": []
  },
  {
   "cell_type": "code",
   "execution_count": null,
   "id": "82b9cd93-3210-4e58-8b42-41912090f52b",
   "metadata": {},
   "outputs": [],
   "source": [
    "def step_to_end(env):\n",
    "    env.reset();\n",
    "    env.seed(6);\n",
    "    env.step(1);\n",
    "    env.step(3);\n",
    "    env.step(1);\n",
    "    env.step(3);\n",
    "    env.step(2);\n",
    "    env.step(2);\n",
    "    env.step(2);\n",
    "    env.step(2);\n",
    "    env.step(0);\n",
    "    env.step(0);\n",
    "    env.step(2);\n",
    "    env.step(0);\n",
    "    env.step(1);\n",
    "    return env\n",
    "env = step_to_end(env)\n",
    "env.render()"
   ]
  },
  {
   "cell_type": "code",
   "execution_count": null,
   "id": "a8902d2f-c043-4104-b025-81154304ac21",
   "metadata": {},
   "outputs": [],
   "source": []
  }
 ],
 "metadata": {
  "kernelspec": {
   "display_name": "Python 3 (ipykernel)",
   "language": "python",
   "name": "python3"
  },
  "language_info": {
   "codemirror_mode": {
    "name": "ipython",
    "version": 3
   },
   "file_extension": ".py",
   "mimetype": "text/x-python",
   "name": "python",
   "nbconvert_exporter": "python",
   "pygments_lexer": "ipython3",
   "version": "3.8.13"
  }
 },
 "nbformat": 4,
 "nbformat_minor": 5
}
