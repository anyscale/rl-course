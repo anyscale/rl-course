{
 "cells": [
  {
   "cell_type": "markdown",
   "id": "bf336e3e-20b0-4095-af4e-880907ceac4a",
   "metadata": {},
   "source": [
    "## The problem\n",
    "\n",
    "- Walking around in a 2D maze\n",
    "- This is a toy problem, we will make it more challenging later"
   ]
  },
  {
   "cell_type": "code",
   "execution_count": 127,
   "id": "bfbaf003-567b-415b-a4ce-2cd8c94fe1e9",
   "metadata": {},
   "outputs": [],
   "source": [
    "import gym\n",
    "import numpy as np\n",
    "import ray\n",
    "from ray.rllib.agents.dqn import DQNTrainer\n",
    "from ray.rllib.agents.ppo import PPOTrainer\n",
    "from ray.rllib.models.preprocessors import get_preprocessor \n",
    "from tqdm.notebook import trange, tqdm\n",
    "import matplotlib.pyplot as plt\n",
    "import copy"
   ]
  },
  {
   "cell_type": "code",
   "execution_count": 2,
   "id": "5a1d02a1-8618-4652-81ac-4b5956d0b729",
   "metadata": {},
   "outputs": [],
   "source": [
    "# import tensorflow as tf\n",
    "import tensorflow.compat.v1 as tf"
   ]
  },
  {
   "cell_type": "code",
   "execution_count": 3,
   "id": "651af0f2-b821-4e83-aee9-2ccd81fb8941",
   "metadata": {},
   "outputs": [
    {
     "data": {
      "text/plain": [
       "'2.8.0'"
      ]
     },
     "execution_count": 3,
     "metadata": {},
     "output_type": "execute_result"
    }
   ],
   "source": [
    "tf.__version__"
   ]
  },
  {
   "cell_type": "code",
   "execution_count": 4,
   "id": "a0890080-6686-4876-b100-07bc48b87b57",
   "metadata": {},
   "outputs": [
    {
     "data": {
      "text/plain": [
       "{'node_ip_address': '127.0.0.1',\n",
       " 'raylet_ip_address': '127.0.0.1',\n",
       " 'redis_address': '127.0.0.1:6379',\n",
       " 'object_store_address': '/tmp/ray/session_2022-03-28_15-51-11_553544_66453/sockets/plasma_store',\n",
       " 'raylet_socket_name': '/tmp/ray/session_2022-03-28_15-51-11_553544_66453/sockets/raylet',\n",
       " 'webui_url': None,\n",
       " 'session_dir': '/tmp/ray/session_2022-03-28_15-51-11_553544_66453',\n",
       " 'metrics_export_port': 57285,\n",
       " 'gcs_address': '127.0.0.1:54831',\n",
       " 'node_id': '4bfe56ec94e67d790ae0c7bcb4d34bd0c31154961b9c63e8d72e401d'}"
      ]
     },
     "execution_count": 4,
     "metadata": {},
     "output_type": "execute_result"
    }
   ],
   "source": [
    "ray.init(ignore_reinit_error=True)"
   ]
  },
  {
   "cell_type": "code",
   "execution_count": 5,
   "id": "4cdcef1b-9377-4a6d-8b3f-41552167e6e5",
   "metadata": {},
   "outputs": [],
   "source": [
    "action_names = {\n",
    "    0 : \"up\",\n",
    "    1 : \"down\",\n",
    "    2 : \"right\",\n",
    "    3 : \"left\"\n",
    "}"
   ]
  },
  {
   "cell_type": "code",
   "execution_count": 6,
   "id": "db4605aa-4b45-42b6-80f4-6b2a04793a4b",
   "metadata": {},
   "outputs": [],
   "source": [
    "class MazeEnvironment(gym.Env): \n",
    "    def __init__(self, env_config):\n",
    "        self.ylen = env_config.get(\"ylen\", 5)\n",
    "        self.xlen = env_config.get(\"xlen\", 5)\n",
    "        \n",
    "        self.action_space = gym.spaces.Discrete(4)\n",
    "        self.observation_space = gym.spaces.Discrete(self.ylen*self.xlen)\n",
    "    \n",
    "    def reset(self, seed=42):\n",
    "        self.player = (0, 0)\n",
    "        self.exit = (self.ylen-1, self.xlen-1)\n",
    "        if seed is not None:\n",
    "            np.random.seed(seed)\n",
    "        self.walls = np.random.rand(self.ylen, self.xlen) < 0.2\n",
    "        self.walls[self.player] = 0\n",
    "        self.walls[self.exit] = 0\n",
    "        self.num_steps = 0\n",
    "        return self.get_observation()\n",
    "    \n",
    "    def get_observation(self):\n",
    "        return self.player[0] + self.ylen*self.player[1] # TODO: FIX TO MATCH THE ONE BELOW SO IT GOES ROWS FIRST\n",
    "    \n",
    "    def step(self, action):\n",
    "        self.num_steps += 1\n",
    "        \n",
    "        if action == 0: # move up\n",
    "            new_loc = (self.player[0]-1, self.player[1])\n",
    "            if new_loc[0] > 0 and not self.walls[new_loc]:\n",
    "                self.player = new_loc\n",
    "        \n",
    "        elif action == 1: # move down\n",
    "            new_loc = (self.player[0]+1, self.player[1])\n",
    "            if new_loc[0] < self.ylen and not self.walls[new_loc]:\n",
    "                self.player = new_loc\n",
    "                \n",
    "        elif action == 2: # move right\n",
    "            new_loc = (self.player[0], self.player[1]+1)\n",
    "            if new_loc[1] < self.xlen and not self.walls[new_loc]:\n",
    "                self.player = new_loc\n",
    "                \n",
    "        elif action == 3: # move left\n",
    "            new_loc = (self.player[0], self.player[1]-1)\n",
    "            if new_loc[1] > 0 and not self.walls[new_loc]:\n",
    "                self.player = new_loc\n",
    "                \n",
    "        else:\n",
    "            raise Exception(\"Action must be {0,1,2,3}\")\n",
    "                \n",
    "        info = {\"player pos\" : self.player}\n",
    "        \n",
    "        return self.get_observation(), self.get_reward(), self.is_done(), info\n",
    "\n",
    "\n",
    "    def get_reward(self):\n",
    "        # return self.player == self.exit\n",
    "        dist = np.abs(self.player[0]-self.exit[0]) + np.abs(self.player[1]-self.exit[1])\n",
    "        return -dist\n",
    "    \n",
    "    def is_done(self):\n",
    "        return self.player == self.exit or self.num_steps >= 500\n",
    "\n",
    "    def render(self):\n",
    "        for i in range(self.xlen):\n",
    "            for j in range(self.ylen):\n",
    "                if (i,j) == self.exit:\n",
    "                    print(\"E\", end=\"\")\n",
    "                elif (i,j) == self.player:\n",
    "                    print(\"P\", end=\"\")\n",
    "                elif self.walls[i,j]:\n",
    "                    print(\"X\", end=\"\")\n",
    "                else:\n",
    "                    print(\".\", end=\"\")\n",
    "                # print(\"O\", end=\"\")\n",
    "            print()"
   ]
  },
  {
   "cell_type": "code",
   "execution_count": 7,
   "id": "e16be610-4338-4381-a685-7a605841ceed",
   "metadata": {},
   "outputs": [
    {
     "name": "stdout",
     "output_type": "stream",
     "text": [
      "P...X\n",
      "XX...\n",
      "X...X\n",
      "X....\n",
      ".X..E\n"
     ]
    }
   ],
   "source": [
    "# BY DEFAULT USES SEED 22\n",
    "me = MazeEnvironment({})\n",
    "me.reset()\n",
    "me.render()"
   ]
  },
  {
   "cell_type": "code",
   "execution_count": 8,
   "id": "105c8ee7-a518-4c24-96b3-c25348814212",
   "metadata": {},
   "outputs": [],
   "source": [
    "# sorted(trainer.config)"
   ]
  },
  {
   "cell_type": "code",
   "execution_count": 9,
   "id": "1a5f89a7-5872-4c72-896b-58f59d8dcf70",
   "metadata": {},
   "outputs": [
    {
     "name": "stderr",
     "output_type": "stream",
     "text": [
      "2022-03-28 15:51:14,175\tINFO trainer.py:2054 -- Your framework setting is 'tf', meaning you are using static-graph mode. Set framework='tf2' to enable eager execution with tf2.x. You may also then want to set eager_tracing=True in order to reach similar execution speed as with static-graph mode.\n",
      "2022-03-28 15:51:14,178\tWARNING trainer.py:2279 -- You have specified 1 evaluation workers, but your `evaluation_interval` is None! Therefore, evaluation will not occur automatically with each call to `Trainer.train()`. Instead, you will have to call `Trainer.evaluate()` manually in order to trigger an evaluation run.\n",
      "2022-03-28 15:51:14,178\tINFO simple_q.py:153 -- In multi-agent mode, policies will be optimized sequentially by the multi-GPU optimizer. Consider setting `simple_optimizer=True` if this doesn't work for you.\n",
      "2022-03-28 15:51:14,178\tINFO trainer.py:790 -- Current log_level is ERROR. For more information, set 'log_level': 'INFO' / 'DEBUG' or use the -v and -vv flags.\n"
     ]
    }
   ],
   "source": [
    "trainer_config = {\n",
    "    \"num_workers\": 1,\n",
    "    # \"model\": {\n",
    "    #     \"fcnet_hiddens\": [64, 64],\n",
    "    #     \"fcnet_activation\": \"relu\",\n",
    "    # },\n",
    "    \"evaluation_num_workers\": 1,\n",
    "    # \"evaluation_interval\" : 1,\n",
    "    \"create_env_on_driver\" : True,\n",
    "    # \"evaluation_config\": {\n",
    "    #     \"render_env\": True,\n",
    "    # },\n",
    "    \"log_level\" : \"ERROR\"\n",
    "    # \"framework\" : \"torch\" # default is tf\n",
    "}\n",
    "\n",
    "trainer = DQNTrainer(trainer_config, env=MazeEnvironment)"
   ]
  },
  {
   "cell_type": "code",
   "execution_count": 10,
   "id": "92f95d30-2697-4d80-a971-37e0cc3e11bd",
   "metadata": {},
   "outputs": [
    {
     "name": "stdout",
     "output_type": "stream",
     "text": [
      "0\n",
      "1\n",
      "2\n",
      "3\n",
      "4\n",
      "5\n",
      "6\n",
      "7\n",
      "8\n",
      "9\n"
     ]
    }
   ],
   "source": [
    "rewards = []\n",
    "for episode in range(10):\n",
    "    print(episode)\n",
    "    out = trainer.train();\n",
    "    rewards.append(out['episode_reward_mean'])"
   ]
  },
  {
   "cell_type": "code",
   "execution_count": 11,
   "id": "9e4eac53-09ec-4e31-84a7-447beb97b145",
   "metadata": {},
   "outputs": [
    {
     "data": {
      "image/png": "[encoded data removed]",
      "text/plain": [
       "<Figure size 432x288 with 1 Axes>"
      ]
     },
     "metadata": {
      "needs_background": "light"
     },
     "output_type": "display_data"
    }
   ],
   "source": [
    "plt.plot(rewards);"
   ]
  },
  {
   "cell_type": "code",
   "execution_count": 12,
   "id": "eec39d38-c9fc-4621-a273-1b3ad6846f8b",
   "metadata": {},
   "outputs": [],
   "source": [
    "out;"
   ]
  },
  {
   "cell_type": "code",
   "execution_count": 13,
   "id": "899302d3-7baa-41b9-8f2b-35656bf4c699",
   "metadata": {},
   "outputs": [
    {
     "name": "stdout",
     "output_type": "stream",
     "text": [
      "P...X\n",
      "XX...\n",
      "X...X\n",
      "X....\n",
      ".X..E\n"
     ]
    }
   ],
   "source": [
    "me = MazeEnvironment({})\n",
    "obs = me.reset() # BY DEFAULT USES SEED 22\n",
    "me.render()"
   ]
  },
  {
   "cell_type": "code",
   "execution_count": 14,
   "id": "d5755b81-a04e-4089-a72c-393eebf2e41b",
   "metadata": {},
   "outputs": [
    {
     "name": "stdout",
     "output_type": "stream",
     "text": [
      ".P..X\n",
      "XX...\n",
      "X...X\n",
      "X....\n",
      ".X..E\n",
      "\n",
      "action: right\n",
      "reward: -7\n",
      "done: False\n"
     ]
    }
   ],
   "source": [
    "action = trainer.compute_single_action(input_dict={\"obs\": obs}, explore=False)\n",
    "res = me.step(action)\n",
    "obs = res[0]\n",
    "me.render()\n",
    "\n",
    "print(\"\\naction:\", action_names[action])\n",
    "print(\"reward:\", res[1])\n",
    "print(\"done:\", res[2])"
   ]
  },
  {
   "cell_type": "markdown",
   "id": "d7bfb639-dd27-4f39-9365-fbce59d35a33",
   "metadata": {},
   "source": [
    "try with a fresh trainer to make sure it does badly:"
   ]
  },
  {
   "cell_type": "code",
   "execution_count": 15,
   "id": "085ff658-116d-4911-bc06-c810e41cb8dc",
   "metadata": {},
   "outputs": [
    {
     "name": "stdout",
     "output_type": "stream",
     "text": [
      "P...X\n",
      "XX...\n",
      "X...X\n",
      "X....\n",
      ".X..E\n"
     ]
    }
   ],
   "source": [
    "new_trainer = DQNTrainer(trainer_config, env=MazeEnvironment)\n",
    "me = MazeEnvironment({})\n",
    "obs = me.reset() \n",
    "me.render()"
   ]
  },
  {
   "cell_type": "code",
   "execution_count": 16,
   "id": "7c9e88d4-c322-4e47-bc51-1f9368475751",
   "metadata": {},
   "outputs": [
    {
     "name": "stdout",
     "output_type": "stream",
     "text": [
      "P...X\n",
      "XX...\n",
      "X...X\n",
      "X....\n",
      ".X..E\n"
     ]
    }
   ],
   "source": [
    "action = new_trainer.compute_single_action(input_dict={\"obs\": obs}, explore=False)\n",
    "res = me.step(action)\n",
    "obs = res[0]\n",
    "me.render()"
   ]
  },
  {
   "cell_type": "markdown",
   "id": "d48553e2-a445-43ad-8031-f1a47d9cf1e7",
   "metadata": {},
   "source": [
    "back to orig trainer:"
   ]
  },
  {
   "cell_type": "code",
   "execution_count": 17,
   "id": "5704d28b-c3d8-4139-82c1-826eab291f6a",
   "metadata": {},
   "outputs": [
    {
     "data": {
      "text/plain": [
       "False"
      ]
     },
     "execution_count": 17,
     "metadata": {},
     "output_type": "execute_result"
    }
   ],
   "source": [
    "trainer.config[\"evaluation_config\"][\"explore\"]"
   ]
  },
  {
   "cell_type": "code",
   "execution_count": 18,
   "id": "c80eb3e2-22b8-42c4-b86c-8ce770a7d10d",
   "metadata": {},
   "outputs": [
    {
     "data": {
      "text/plain": [
       "{'evaluation': {'episode_reward_max': -28.0,\n",
       "  'episode_reward_min': -28.0,\n",
       "  'episode_reward_mean': -28.0,\n",
       "  'episode_len_mean': 8.0,\n",
       "  'episode_media': {},\n",
       "  'episodes_this_iter': 10,\n",
       "  'policy_reward_min': {},\n",
       "  'policy_reward_max': {},\n",
       "  'policy_reward_mean': {},\n",
       "  'custom_metrics': {},\n",
       "  'hist_stats': {'episode_reward': [-28.0,\n",
       "    -28.0,\n",
       "    -28.0,\n",
       "    -28.0,\n",
       "    -28.0,\n",
       "    -28.0,\n",
       "    -28.0,\n",
       "    -28.0,\n",
       "    -28.0,\n",
       "    -28.0],\n",
       "   'episode_lengths': [8, 8, 8, 8, 8, 8, 8, 8, 8, 8]},\n",
       "  'sampler_perf': {'mean_raw_obs_processing_ms': 0.11215092223367576,\n",
       "   'mean_inference_ms': 0.5460697927592711,\n",
       "   'mean_action_processing_ms': 0.022567348715699754,\n",
       "   'mean_env_wait_ms': 0.02047750684950087,\n",
       "   'mean_env_render_ms': 0.0},\n",
       "  'off_policy_estimator': {},\n",
       "  'timesteps_this_iter': 0}}"
      ]
     },
     "execution_count": 18,
     "metadata": {},
     "output_type": "execute_result"
    }
   ],
   "source": [
    "trainer.evaluate()"
   ]
  },
  {
   "cell_type": "code",
   "execution_count": 19,
   "id": "0db888ed-81e5-4e78-9699-e244af102bad",
   "metadata": {},
   "outputs": [],
   "source": [
    "policy = trainer.get_policy()\n",
    "model = policy.model"
   ]
  },
  {
   "cell_type": "code",
   "execution_count": 20,
   "id": "f3e5b537-74bc-4b85-b38a-2b537b1988ae",
   "metadata": {},
   "outputs": [],
   "source": [
    "obs_space = me.observation_space\n",
    "preprocessor = get_preprocessor(obs_space)(obs_space)\n",
    "observations = me.reset()\n",
    "transformed = preprocessor.transform(observations).reshape(1, -1)"
   ]
  },
  {
   "cell_type": "code",
   "execution_count": 21,
   "id": "fef3ab9f-3fa8-4de5-b54a-4c447ee45986",
   "metadata": {},
   "outputs": [
    {
     "data": {
      "text/plain": [
       "array([[1., 0., 0., 0., 0., 0., 0., 0., 0., 0., 0., 0., 0., 0., 0., 0.,\n",
       "        0., 0., 0., 0., 0., 0., 0., 0., 0.]], dtype=float32)"
      ]
     },
     "execution_count": 21,
     "metadata": {},
     "output_type": "execute_result"
    }
   ],
   "source": [
    "transformed"
   ]
  },
  {
   "cell_type": "code",
   "execution_count": 22,
   "id": "9f8ad783-2066-49e9-ac1a-dcb8db0a9585",
   "metadata": {},
   "outputs": [],
   "source": [
    "model_output, _ = model({\"obs\": transformed})"
   ]
  },
  {
   "cell_type": "code",
   "execution_count": 23,
   "id": "1ea2cb87-98ef-430c-9c27-4c98c2674fa5",
   "metadata": {},
   "outputs": [
    {
     "data": {
      "text/plain": [
       "<tf.Tensor 'model/fc_out/Tanh:0' shape=(1, 256) dtype=float32>"
      ]
     },
     "execution_count": 23,
     "metadata": {},
     "output_type": "execute_result"
    }
   ],
   "source": [
    "model_output"
   ]
  },
  {
   "cell_type": "code",
   "execution_count": 24,
   "id": "16930075-7ae5-4d17-9847-01e4f5f3a574",
   "metadata": {},
   "outputs": [],
   "source": [
    "q_values = model.get_q_value_distributions(model_output)"
   ]
  },
  {
   "cell_type": "code",
   "execution_count": 25,
   "id": "58377518-f727-41ab-98a0-42a8589e49dc",
   "metadata": {},
   "outputs": [],
   "source": [
    "sess = policy.get_session()"
   ]
  },
  {
   "cell_type": "code",
   "execution_count": 26,
   "id": "00089f3b-bfe2-495b-aeb5-5d60956ba310",
   "metadata": {},
   "outputs": [
    {
     "name": "stdout",
     "output_type": "stream",
     "text": [
      "Model: \"model\"\n",
      "__________________________________________________________________________________________________\n",
      " Layer (type)                   Output Shape         Param #     Connected to                     \n",
      "==================================================================================================\n",
      " observations (InputLayer)      [(None, 25)]         0           []                               \n",
      "                                                                                                  \n",
      " fc_1 (Dense)                   (None, 256)          6656        ['observations[0][0]']           \n",
      "                                                                                                  \n",
      " fc_out (Dense)                 (None, 256)          65792       ['fc_1[0][0]']                   \n",
      "                                                                                                  \n",
      " value_out (Dense)              (None, 1)            257         ['fc_1[0][0]']                   \n",
      "                                                                                                  \n",
      "==================================================================================================\n",
      "Total params: 72,705\n",
      "Trainable params: 72,705\n",
      "Non-trainable params: 0\n",
      "__________________________________________________________________________________________________\n"
     ]
    }
   ],
   "source": [
    "model.base_model.summary()"
   ]
  },
  {
   "cell_type": "code",
   "execution_count": 27,
   "id": "67c445f6-47ef-437b-a834-c9322108d993",
   "metadata": {},
   "outputs": [
    {
     "data": {
      "text/plain": [
       "[<tf.Tensor 'BiasAdd_1:0' shape=(1, 4) dtype=float32>,\n",
       " <tf.Tensor 'default_policy/ExpandDims_10:0' shape=(1, 4, 1) dtype=float32>,\n",
       " <tf.Tensor 'default_policy/ExpandDims_1_1:0' shape=(1, 4, 1) dtype=float32>]"
      ]
     },
     "execution_count": 27,
     "metadata": {},
     "output_type": "execute_result"
    }
   ],
   "source": [
    "q_values"
   ]
  },
  {
   "cell_type": "code",
   "execution_count": 28,
   "id": "9fda236b-ef42-4cac-b119-f71df9a2bfe3",
   "metadata": {},
   "outputs": [
    {
     "data": {
      "text/plain": [
       "array([[-2.3872602, -2.284685 ,  5.4627037, -2.326112 ]], dtype=float32)"
      ]
     },
     "execution_count": 28,
     "metadata": {},
     "output_type": "execute_result"
    }
   ],
   "source": [
    "sess.run(q_values[0])"
   ]
  },
  {
   "cell_type": "code",
   "execution_count": 29,
   "id": "60b8f8c6-b563-4d48-a02b-a8ae7d293685",
   "metadata": {},
   "outputs": [
    {
     "data": {
      "text/plain": [
       "array([[[1.],\n",
       "        [1.],\n",
       "        [1.],\n",
       "        [1.]]], dtype=float32)"
      ]
     },
     "execution_count": 29,
     "metadata": {},
     "output_type": "execute_result"
    }
   ],
   "source": [
    "sess.run(q_values[1])"
   ]
  },
  {
   "cell_type": "code",
   "execution_count": 30,
   "id": "1aeb668f-6459-4722-a552-615cbcdac052",
   "metadata": {},
   "outputs": [
    {
     "data": {
      "text/plain": [
       "array([[[1.],\n",
       "        [1.],\n",
       "        [1.],\n",
       "        [1.]]], dtype=float32)"
      ]
     },
     "execution_count": 30,
     "metadata": {},
     "output_type": "execute_result"
    }
   ],
   "source": [
    "sess.run(q_values[2])"
   ]
  },
  {
   "cell_type": "code",
   "execution_count": 31,
   "id": "72357a89-ba26-43cf-b8bb-93efacc45ce1",
   "metadata": {},
   "outputs": [
    {
     "data": {
      "text/plain": [
       "2"
      ]
     },
     "execution_count": 31,
     "metadata": {},
     "output_type": "execute_result"
    }
   ],
   "source": [
    "ac = trainer.compute_single_action(input_dict={\"obs\": observations}, explore=False)\n",
    "ac"
   ]
  },
  {
   "cell_type": "code",
   "execution_count": 32,
   "id": "eda16abd-9a69-43b1-9aef-5bbcb5fe34d3",
   "metadata": {},
   "outputs": [
    {
     "data": {
      "text/plain": [
       "'right'"
      ]
     },
     "execution_count": 32,
     "metadata": {},
     "output_type": "execute_result"
    }
   ],
   "source": [
    "action_names[ac]"
   ]
  },
  {
   "cell_type": "code",
   "execution_count": 33,
   "id": "528613bd-c143-4035-87f1-d9005e8e4df7",
   "metadata": {},
   "outputs": [
    {
     "data": {
      "text/plain": [
       "array([62])"
      ]
     },
     "execution_count": 33,
     "metadata": {},
     "output_type": "execute_result"
    }
   ],
   "source": [
    "action_distribution = policy.dist_class(model_output, model) \n",
    "sample = action_distribution.sample()\n",
    "sess.run(sample)"
   ]
  },
  {
   "cell_type": "code",
   "execution_count": null,
   "id": "c3132977-2af5-42ee-aaa9-e8f598c4147c",
   "metadata": {},
   "outputs": [],
   "source": []
  },
  {
   "cell_type": "markdown",
   "id": "ad7586b0-6685-47a9-aef0-38f849f4891a",
   "metadata": {},
   "source": [
    "## Random maze"
   ]
  },
  {
   "cell_type": "markdown",
   "id": "a0a1da77-c72b-4e8c-8691-dbe4cde741e3",
   "metadata": {},
   "source": [
    "Now we try to see what happens if the maze isn't the same every time"
   ]
  },
  {
   "cell_type": "code",
   "execution_count": 88,
   "id": "3ed4f7a9-fc7c-47b4-9d8f-a40b91f9b61f",
   "metadata": {},
   "outputs": [],
   "source": [
    "class RandomMazeEnvironment(gym.Env): \n",
    "    def __init__(self, env_config):\n",
    "        self.ylen = env_config.get(\"ylen\", 5)\n",
    "        self.xlen = env_config.get(\"xlen\", 5)\n",
    "        \n",
    "        self.action_space = gym.spaces.Discrete(4)\n",
    "        \n",
    "        # show entire state, not just nearby the player\n",
    "        # self.observation_space = gym.spaces.Dict({\n",
    "        #     \"player\" : gym.spaces.Discrete(self.ylen*self.xlen),\n",
    "        #     \"walls\" : gym.spaces.MultiBinary(self.ylen*self.xlen)\n",
    "        # })\n",
    "        # self.observation_space = gym.spaces.MultiBinary([2, self.ylen, self.xlen])\n",
    "\n",
    "        # see https://docs.ray.io/en/latest/rllib/rllib-models.html\n",
    "        # looks like they mainly just preprocess discrete/multidiscrete and atari?\n",
    "        # what about box?? hmm. i guess those go without preproc?\n",
    "        \n",
    "        # self.observation_space = gym.spaces.MultiDiscrete([2]*8)\n",
    "        self.observation_space = gym.spaces.MultiBinary(8)\n",
    "        # see the 8 spots around you\n",
    "        # the 3 is for \"nothing, wall, exit\" as the 3 options\n",
    "        \n",
    "        self.seed = env_config.get(\"random_seed\", None)\n",
    "    \n",
    "    def reset(self, seed=None):\n",
    "        self.player = (0, 0)\n",
    "        self.exit = (self.ylen-1, self.xlen-1)\n",
    "        \n",
    "        if self.seed is not None: # fixed seed every time, not random maze\n",
    "            np.random.seed(self.seed)\n",
    "        \n",
    "        self.walls = np.random.rand(self.ylen, self.xlen) < 0.2\n",
    "        self.walls[self.player] = 0\n",
    "        self.walls[self.exit] = 0\n",
    "        \n",
    "        self.num_steps = 0\n",
    "        return self.get_observation()\n",
    "    \n",
    "    def get_observation(self): # SWAPPED FROM THE ABOVE ONE\n",
    "        # make the observation into the entire state??\n",
    "        # playerstate = self.player[1] + self.xlen*self.player[0]\n",
    "        # obsdict = {\n",
    "        #     \"player\" : playerstate,\n",
    "        #     \"walls\" : self.wallsstate\n",
    "        # }\n",
    "        # return obsdict\n",
    "        \n",
    "        # playerstate = 0*self.walls\n",
    "        # playerstate[self.player] = 1\n",
    "        # return np.concatenate((playerstate[None], \n",
    "        #                        self.walls[None]), axis=0).astype(int)\n",
    "        \n",
    "        # 3x3 context, 8 observations\n",
    "        wallsexit = self.walls.copy()\n",
    "        # wallsexit[self.exit] = 2 # does not work because type is bool, would need to fix type issue\n",
    "        wallspad = np.pad(wallsexit, 1, constant_values=1) # pad with 1 to simulate walls all around\n",
    "        nearby = wallspad[self.player[0]:self.player[0]+3, self.player[1]:self.player[1]+3]\n",
    "        nearbyflat = nearby.flatten()\n",
    "        minus_middle = np.concatenate((nearbyflat[:4], nearbyflat[5:]))\n",
    "        return minus_middle\n",
    "        # NW N NE W E SW S SE\n",
    "    \n",
    "    def step(self, action):\n",
    "        self.num_steps += 1\n",
    "        \n",
    "        if action == 0: # move up\n",
    "            new_loc = (self.player[0]-1, self.player[1])\n",
    "            if new_loc[0] > 0 and not self.walls[new_loc]:\n",
    "                self.player = new_loc\n",
    "        \n",
    "        elif action == 1: # move down\n",
    "            new_loc = (self.player[0]+1, self.player[1])\n",
    "            if new_loc[0] < self.ylen and not self.walls[new_loc]:\n",
    "                self.player = new_loc\n",
    "                \n",
    "        elif action == 2: # move right\n",
    "            new_loc = (self.player[0], self.player[1]+1)\n",
    "            if new_loc[1] < self.xlen and not self.walls[new_loc]:\n",
    "                self.player = new_loc\n",
    "                \n",
    "        elif action == 3: # move left\n",
    "            new_loc = (self.player[0], self.player[1]-1)\n",
    "            if new_loc[1] > 0 and not self.walls[new_loc]:\n",
    "                self.player = new_loc\n",
    "                \n",
    "        else:\n",
    "            raise Exception(\"Action must be {0,1,2,3}\")\n",
    "                \n",
    "        info = {\"player pos\" : self.player}\n",
    "        \n",
    "        return self.get_observation(), self.get_reward(), self.is_done(), info\n",
    "\n",
    "\n",
    "    def get_reward(self):\n",
    "        # return self.player == self.exit\n",
    "        dist = np.abs(self.player[0]-self.exit[0]) + np.abs(self.player[1]-self.exit[1])\n",
    "        return -dist\n",
    "    \n",
    "    def is_done(self):\n",
    "        return self.player == self.exit or self.num_steps >= 500\n",
    "\n",
    "    def render(self):\n",
    "        for i in range(self.xlen):\n",
    "            for j in range(self.ylen):\n",
    "                if (i,j) == self.exit:\n",
    "                    print(\"E\", end=\"\")\n",
    "                elif (i,j) == self.player:\n",
    "                    print(\"P\", end=\"\")\n",
    "                elif self.walls[i,j]:\n",
    "                    print(\"X\", end=\"\")\n",
    "                else:\n",
    "                    print(\".\", end=\"\")\n",
    "                # print(\"O\", end=\"\")\n",
    "            print()"
   ]
  },
  {
   "cell_type": "code",
   "execution_count": 89,
   "id": "8cbac29c-fa8b-45a4-9081-7768ff025f45",
   "metadata": {},
   "outputs": [],
   "source": [
    "rme = RandomMazeEnvironment({})"
   ]
  },
  {
   "cell_type": "code",
   "execution_count": 90,
   "id": "0053ea09-352e-4f07-86f0-f79d4a7cf216",
   "metadata": {},
   "outputs": [
    {
     "data": {
      "text/plain": [
       "array([ True,  True,  True,  True,  True,  True,  True, False])"
      ]
     },
     "execution_count": 90,
     "metadata": {},
     "output_type": "execute_result"
    }
   ],
   "source": [
    "rme.reset()"
   ]
  },
  {
   "cell_type": "code",
   "execution_count": 91,
   "id": "7bdfef18-af55-4a80-8f80-5acc736028de",
   "metadata": {},
   "outputs": [
    {
     "name": "stdout",
     "output_type": "stream",
     "text": [
      "PX..X\n",
      "X...X\n",
      "X....\n",
      "..XX.\n",
      "....E\n"
     ]
    }
   ],
   "source": [
    "rme.render()"
   ]
  },
  {
   "cell_type": "code",
   "execution_count": 129,
   "id": "10a5c9b7-7fe4-4ba9-98b1-1ecaaba50ffe",
   "metadata": {},
   "outputs": [],
   "source": [
    "trainer_config_2 = copy.copy(trainer_config)\n",
    "trainer_config_2[\"model\"] = {\"fcnet_hiddens\" : [64, 64]}"
   ]
  },
  {
   "cell_type": "code",
   "execution_count": 130,
   "id": "7c761db6-efcb-4efe-9745-eda1d144e11d",
   "metadata": {},
   "outputs": [],
   "source": [
    "rme_dqn_trainer = DQNTrainer(trainer_config_2, env=RandomMazeEnvironment)"
   ]
  },
  {
   "cell_type": "code",
   "execution_count": 131,
   "id": "e2a7dde1-6392-48ab-b131-8a957d4283bf",
   "metadata": {},
   "outputs": [
    {
     "name": "stdout",
     "output_type": "stream",
     "text": [
      "0\n",
      "1\n",
      "2\n",
      "3\n",
      "4\n",
      "5\n",
      "6\n",
      "7\n",
      "8\n",
      "9\n",
      "10\n",
      "11\n",
      "12\n",
      "13\n",
      "14\n",
      "15\n",
      "16\n",
      "17\n",
      "18\n",
      "19\n"
     ]
    }
   ],
   "source": [
    "rme_dqn_rewards = []\n",
    "for episode in range(10):\n",
    "    print(episode)\n",
    "    out = rme_dqn_trainer.train();\n",
    "    rme_dqn_rewards.append(out['episode_reward_mean'])"
   ]
  },
  {
   "cell_type": "code",
   "execution_count": 133,
   "id": "27a8103b-3bcf-48fa-9f55-9729fc0241bb",
   "metadata": {},
   "outputs": [
    {
     "data": {
      "image/png": "[encoded data removed]",
      "text/plain": [
       "<Figure size 432x288 with 1 Axes>"
      ]
     },
     "metadata": {
      "needs_background": "light"
     },
     "output_type": "display_data"
    }
   ],
   "source": [
    "plt.plot(rme_dqn_rewards);"
   ]
  },
  {
   "cell_type": "code",
   "execution_count": 313,
   "id": "18ca07c4-22cc-4b83-9acd-2b420e751e4e",
   "metadata": {},
   "outputs": [
    {
     "name": "stdout",
     "output_type": "stream",
     "text": [
      "P....\n",
      ".....\n",
      "XXX..\n",
      "....X\n",
      "..X.E\n"
     ]
    }
   ],
   "source": [
    "rme = RandomMazeEnvironment({})\n",
    "obs = rme.reset() \n",
    "rme.render()"
   ]
  },
  {
   "cell_type": "code",
   "execution_count": 362,
   "id": "1f5e7c49-db20-442e-b054-a358362d0050",
   "metadata": {},
   "outputs": [
    {
     "name": "stdout",
     "output_type": "stream",
     "text": [
      ".....\n",
      ".....\n",
      "XXX.P\n",
      "....X\n",
      "..X.E\n",
      "\n",
      "action: down\n",
      "reward: -2\n",
      "done: False\n"
     ]
    }
   ],
   "source": [
    "action = rme_dqn_trainer.compute_single_action(input_dict={\"obs\": obs}, explore=False)\n",
    "res = rme.step(action)\n",
    "obs = res[0]\n",
    "rme.render()\n",
    "\n",
    "print(\"\\naction:\", action_names[action])\n",
    "print(\"reward:\", res[1])\n",
    "print(\"done:\", res[2])"
   ]
  },
  {
   "cell_type": "code",
   "execution_count": 337,
   "id": "a0146852-4768-419d-a3fb-966ae7d17978",
   "metadata": {},
   "outputs": [],
   "source": [
    "policy = rme_dqn_trainer.get_policy()\n",
    "model = policy.model"
   ]
  },
  {
   "cell_type": "code",
   "execution_count": 338,
   "id": "50c3e584-f28c-4b50-8ff2-e7752568aab5",
   "metadata": {},
   "outputs": [],
   "source": [
    "model_output = model({\"obs\": obs})[0]"
   ]
  },
  {
   "cell_type": "code",
   "execution_count": 339,
   "id": "79294b81-830a-4e21-a556-c9d5ab2a8982",
   "metadata": {},
   "outputs": [],
   "source": [
    "q_values = model.get_q_value_distributions(model_output)"
   ]
  },
  {
   "cell_type": "code",
   "execution_count": 340,
   "id": "672dfcfa-252e-4074-a0f9-084e9d41990f",
   "metadata": {},
   "outputs": [
    {
     "data": {
      "text/plain": [
       "[<tf.Tensor 'BiasAdd_13:0' shape=(1, 4) dtype=float32>,\n",
       " <tf.Tensor 'default_policy/ExpandDims_16:0' shape=(1, 4, 1) dtype=float32>,\n",
       " <tf.Tensor 'default_policy/ExpandDims_1_7:0' shape=(1, 4, 1) dtype=float32>]"
      ]
     },
     "execution_count": 340,
     "metadata": {},
     "output_type": "execute_result"
    }
   ],
   "source": [
    "q_values"
   ]
  },
  {
   "cell_type": "code",
   "execution_count": 341,
   "id": "a156757f-7a5c-4f50-b112-9b1901c22ef6",
   "metadata": {},
   "outputs": [],
   "source": [
    "sess = policy.get_session()"
   ]
  },
  {
   "cell_type": "code",
   "execution_count": 342,
   "id": "e3e5f4f1-8959-4423-bdef-e89288ac850f",
   "metadata": {},
   "outputs": [
    {
     "data": {
      "text/plain": [
       "array([[ 0.502599  ,  0.736714  ,  0.63609797, -2.4802601 ]],\n",
       "      dtype=float32)"
      ]
     },
     "execution_count": 342,
     "metadata": {},
     "output_type": "execute_result"
    }
   ],
   "source": [
    "sess.run(q_values[0])"
   ]
  },
  {
   "cell_type": "code",
   "execution_count": 343,
   "id": "6e255c8f-51be-4ee4-9c5b-0203a83a32d3",
   "metadata": {},
   "outputs": [
    {
     "data": {
      "text/plain": [
       "array([[[1.],\n",
       "        [1.],\n",
       "        [1.],\n",
       "        [1.]]], dtype=float32)"
      ]
     },
     "execution_count": 343,
     "metadata": {},
     "output_type": "execute_result"
    }
   ],
   "source": [
    "sess.run(q_values[1])"
   ]
  },
  {
   "cell_type": "code",
   "execution_count": 344,
   "id": "5dd6642c-d51e-44fc-8c54-9f3cd0323c30",
   "metadata": {},
   "outputs": [
    {
     "data": {
      "text/plain": [
       "array([[[1.],\n",
       "        [1.],\n",
       "        [1.],\n",
       "        [1.]]], dtype=float32)"
      ]
     },
     "execution_count": 344,
     "metadata": {},
     "output_type": "execute_result"
    }
   ],
   "source": [
    "sess.run(q_values[2])"
   ]
  },
  {
   "cell_type": "code",
   "execution_count": 117,
   "id": "71fb6306-7803-4bfa-9a64-f70edd6a5b40",
   "metadata": {},
   "outputs": [
    {
     "ename": "AttributeError",
     "evalue": "'ComplexInputNetwork_as_DistributionalQTFModel' object has no attribute 'base_model'",
     "output_type": "error",
     "traceback": [
      "\u001b[0;31m---------------------------------------------------------------------------\u001b[0m",
      "\u001b[0;31mAttributeError\u001b[0m                            Traceback (most recent call last)",
      "\u001b[0;32m/var/folders/f5/138zmtfd159g5x_f1t80qr440000gp/T/ipykernel_66453/734711324.py\u001b[0m in \u001b[0;36m<module>\u001b[0;34m\u001b[0m\n\u001b[0;32m----> 1\u001b[0;31m \u001b[0mrme_dqn_trainer\u001b[0m\u001b[0;34m.\u001b[0m\u001b[0mget_policy\u001b[0m\u001b[0;34m(\u001b[0m\u001b[0;34m)\u001b[0m\u001b[0;34m.\u001b[0m\u001b[0mmodel\u001b[0m\u001b[0;34m.\u001b[0m\u001b[0mbase_model\u001b[0m\u001b[0;34m.\u001b[0m\u001b[0msummary\u001b[0m\u001b[0;34m(\u001b[0m\u001b[0;34m)\u001b[0m\u001b[0;34m\u001b[0m\u001b[0;34m\u001b[0m\u001b[0m\n\u001b[0m",
      "\u001b[0;31mAttributeError\u001b[0m: 'ComplexInputNetwork_as_DistributionalQTFModel' object has no attribute 'base_model'"
     ]
    }
   ],
   "source": [
    "# rme_dqn_trainer.get_policy().model.base_model.summary()"
   ]
  },
  {
   "cell_type": "code",
   "execution_count": 126,
   "id": "725d0186-654d-4ae3-b804-6f58d869a403",
   "metadata": {},
   "outputs": [
    {
     "data": {
      "text/plain": [
       "(8, 256)"
      ]
     },
     "execution_count": 126,
     "metadata": {},
     "output_type": "execute_result"
    }
   ],
   "source": [
    "list(rme_dqn_trainer.get_policy().get_weights().values())[0].shape"
   ]
  },
  {
   "cell_type": "code",
   "execution_count": 144,
   "id": "94a09a1d-3ad9-45e6-b5e4-b5a46465c83f",
   "metadata": {},
   "outputs": [
    {
     "data": {
      "text/plain": [
       "{'evaluation': {'episode_reward_max': -28.0,\n",
       "  'episode_reward_min': -4000.0,\n",
       "  'episode_reward_mean': -1463.5,\n",
       "  'episode_len_mean': 352.4,\n",
       "  'episode_media': {},\n",
       "  'episodes_this_iter': 10,\n",
       "  'policy_reward_min': {},\n",
       "  'policy_reward_max': {},\n",
       "  'policy_reward_mean': {},\n",
       "  'custom_metrics': {},\n",
       "  'hist_stats': {'episode_reward': [-2006.0,\n",
       "    -28.0,\n",
       "    -2503.0,\n",
       "    -2006.0,\n",
       "    -1016.0,\n",
       "    -28.0,\n",
       "    -4000.0,\n",
       "    -1510.0,\n",
       "    -1510.0,\n",
       "    -28.0],\n",
       "   'episode_lengths': [500, 8, 500, 500, 500, 8, 500, 500, 500, 8]},\n",
       "  'sampler_perf': {'mean_raw_obs_processing_ms': 0.026551983880658526,\n",
       "   'mean_inference_ms': 0.2422932699217019,\n",
       "   'mean_action_processing_ms': 0.018481126068331678,\n",
       "   'mean_env_wait_ms': 0.03585078192095385,\n",
       "   'mean_env_render_ms': 0.0},\n",
       "  'off_policy_estimator': {},\n",
       "  'timesteps_this_iter': 0}}"
      ]
     },
     "execution_count": 144,
     "metadata": {},
     "output_type": "execute_result"
    }
   ],
   "source": [
    "rme_dqn_trainer.evaluate()"
   ]
  },
  {
   "cell_type": "code",
   "execution_count": null,
   "id": "2d2626e7-0ccc-4901-9b1c-444ef16834e3",
   "metadata": {},
   "outputs": [],
   "source": []
  },
  {
   "cell_type": "markdown",
   "id": "bf563cb9-e516-49d4-b022-910c49d1e696",
   "metadata": {},
   "source": [
    "Idea: give the agent an action that says \"give up\", take a reward hit, but move on.\n",
    "So basically, see if they can figure out if it's unsolvable. interesting."
   ]
  },
  {
   "cell_type": "code",
   "execution_count": null,
   "id": "dda28df1-1e40-47c4-a8c1-f32ff54d388d",
   "metadata": {},
   "outputs": [],
   "source": []
  }
 ],
 "metadata": {
  "kernelspec": {
   "display_name": "Python [conda env:rllib]",
   "language": "python",
   "name": "conda-env-rllib-py"
  },
  "language_info": {
   "codemirror_mode": {
    "name": "ipython",
    "version": 3
   },
   "file_extension": ".py",
   "mimetype": "text/x-python",
   "name": "python",
   "nbconvert_exporter": "python",
   "pygments_lexer": "ipython3",
   "version": "3.8.11"
  },
  "toc-autonumbering": false
 },
 "nbformat": 4,
 "nbformat_minor": 5
}
