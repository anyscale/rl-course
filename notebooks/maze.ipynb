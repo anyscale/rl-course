{
 "cells": [
  {
   "cell_type": "markdown",
   "id": "bf336e3e-20b0-4095-af4e-880907ceac4a",
   "metadata": {},
   "source": [
    "## The problem\n",
    "\n",
    "- Walking around in a 2D maze\n",
    "- This is a toy problem, we will make it more challenging later"
   ]
  },
  {
   "cell_type": "code",
   "execution_count": null,
   "id": "bfbaf003-567b-415b-a4ce-2cd8c94fe1e9",
   "metadata": {},
   "outputs": [],
   "source": [
    "import gym\n",
    "import numpy as np\n",
    "import ray\n",
    "from ray.rllib.agents.dqn import DQNTrainer\n",
    "from ray.rllib.agents.ppo import PPOTrainer\n",
    "from tqdm.notebook import trange, tqdm\n",
    "import matplotlib.pyplot as plt"
   ]
  },
  {
   "cell_type": "code",
   "execution_count": null,
   "id": "a0890080-6686-4876-b100-07bc48b87b57",
   "metadata": {},
   "outputs": [],
   "source": [
    "ray.init(ignore_reinit_error=True)"
   ]
  },
  {
   "cell_type": "code",
   "execution_count": null,
   "id": "4cdcef1b-9377-4a6d-8b3f-41552167e6e5",
   "metadata": {},
   "outputs": [],
   "source": [
    "action_names = {\n",
    "    0 : \"up\",\n",
    "    1 : \"down\",\n",
    "    2 : \"right\",\n",
    "    3 : \"left\"\n",
    "}"
   ]
  },
  {
   "cell_type": "code",
   "execution_count": null,
   "id": "db4605aa-4b45-42b6-80f4-6b2a04793a4b",
   "metadata": {},
   "outputs": [],
   "source": [
    "class MazeEnvironment(gym.Env): \n",
    "    def __init__(self, env_config):\n",
    "        self.ylen = env_config.get(\"ylen\", 5)\n",
    "        self.xlen = env_config.get(\"xlen\", 5)\n",
    "        \n",
    "        self.action_space = gym.spaces.Discrete(4)\n",
    "        self.observation_space = gym.spaces.Discrete(self.ylen*self.xlen)\n",
    "    \n",
    "    def reset(self, seed=None):\n",
    "        self.player = (0, 0)\n",
    "        self.exit = (self.ylen-1, self.xlen-1)\n",
    "        if seed is not None:\n",
    "            np.random.seed(seed)\n",
    "        self.walls = np.random.rand(self.ylen, self.xlen) < 0.2\n",
    "        self.walls[self.player] = 0\n",
    "        self.walls[self.exit] = 0\n",
    "        self.num_steps = 0\n",
    "        return self.get_observation()\n",
    "    \n",
    "    def get_observation(self):\n",
    "        return self.player[0] + self.ylen*self.player[1]\n",
    "    \n",
    "    def step(self, action):\n",
    "        self.num_steps += 1\n",
    "        \n",
    "        if action == 0: # move up\n",
    "            new_loc = (self.player[0]-1, self.player[1])\n",
    "            if new_loc[0] > 0 and not self.walls[new_loc]:\n",
    "                self.player = new_loc\n",
    "        \n",
    "        elif action == 1: # move down\n",
    "            new_loc = (self.player[0]+1, self.player[1])\n",
    "            if new_loc[0] < self.ylen and not self.walls[new_loc]:\n",
    "                self.player = new_loc\n",
    "                \n",
    "        elif action == 2: # move right\n",
    "            new_loc = (self.player[0], self.player[1]+1)\n",
    "            if new_loc[1] < self.xlen and not self.walls[new_loc]:\n",
    "                self.player = new_loc\n",
    "                \n",
    "        elif action == 3: # move left\n",
    "            new_loc = (self.player[0], self.player[1]-1)\n",
    "            if new_loc[1] > 0 and not self.walls[new_loc]:\n",
    "                self.player = new_loc\n",
    "                \n",
    "        else:\n",
    "            raise Exception(\"Action must be {0,1,2,3}\")\n",
    "                \n",
    "        info = {\"player pos\" : self.player}\n",
    "        \n",
    "        return self.get_observation(), self.get_reward(), self.is_done(), info\n",
    "\n",
    "\n",
    "    def get_reward(self):\n",
    "        # return self.player == self.exit\n",
    "        dist = np.abs(self.player[0]-self.exit[0]) + np.abs(self.player[1]-self.exit[1])\n",
    "        return -dist\n",
    "    \n",
    "    def is_done(self):\n",
    "        return self.player == self.exit or self.num_steps >= 500\n",
    "\n",
    "    def render(self):\n",
    "        for i in range(self.xlen):\n",
    "            for j in range(self.ylen):\n",
    "                if (i,j) == self.exit:\n",
    "                    print(\"E\", end=\"\")\n",
    "                elif (i,j) == self.player:\n",
    "                    print(\"P\", end=\"\")\n",
    "                elif self.walls[i,j]:\n",
    "                    print(\"X\", end=\"\")\n",
    "                else:\n",
    "                    print(\".\", end=\"\")\n",
    "                # print(\"O\", end=\"\")\n",
    "            print()"
   ]
  },
  {
   "cell_type": "code",
   "execution_count": null,
   "id": "e16be610-4338-4381-a685-7a605841ceed",
   "metadata": {},
   "outputs": [],
   "source": [
    "seed = 22\n",
    "me = MazeEnvironment({})\n",
    "me.reset(seed=seed)\n",
    "me.render()"
   ]
  },
  {
   "cell_type": "code",
   "execution_count": 118,
   "id": "1a5f89a7-5872-4c72-896b-58f59d8dcf70",
   "metadata": {},
   "outputs": [],
   "source": [
    "trainer_config = {\n",
    "    \"env\": MazeEnvironment,\n",
    "    \"num_workers\": 2,\n",
    "    # \"model\": {\n",
    "    #     \"fcnet_hiddens\": [64, 64],\n",
    "    #     \"fcnet_activation\": \"relu\",\n",
    "    # },\n",
    "    \"evaluation_num_workers\": 1,\n",
    "    # \"evaluation_interval\" : 1,\n",
    "    \"create_env_on_driver\" : True,\n",
    "    # \"evaluation_config\": {\n",
    "    #     \"render_env\": True,\n",
    "    # },\n",
    "    \"log_level\" : \"ERROR\",\n",
    "    \"framework\" : \"torch\"\n",
    "}\n",
    "\n",
    "trainer = DQNTrainer(trainer_config) # DQNTrainer"
   ]
  },
  {
   "cell_type": "code",
   "execution_count": 119,
   "id": "92f95d30-2697-4d80-a971-37e0cc3e11bd",
   "metadata": {},
   "outputs": [
    {
     "name": "stdout",
     "output_type": "stream",
     "text": [
      "0\n",
      "1\n",
      "2\n",
      "3\n",
      "4\n",
      "5\n",
      "6\n",
      "7\n",
      "\u001b[2m\u001b[1m\u001b[36m(scheduler +19m20s)\u001b[0m Tip: use `ray status` to view detailed cluster status. To disable these messages, set RAY_SCHEDULER_EVENTS=0.\n",
      "\u001b[2m\u001b[1m\u001b[33m(scheduler +19m20s)\u001b[0m Warning: The following resource request cannot be scheduled right now: {'CPU': 1.0}. This is likely due to all cluster resources being claimed by actors. Consider creating fewer actors or adding more nodes to this Ray cluster.\n",
      "8\n",
      "9\n"
     ]
    },
    {
     "name": "stderr",
     "output_type": "stream",
     "text": [
      "2022-03-22 11:27:04,669\tWARNING worker.py:1257 -- The actor or task with ID ffffffffffffffff743e396c6ff88f2b7991152901000000 cannot be scheduled right now. You can ignore this message if this Ray cluster is expected to auto-scale or if you specified a runtime_env for this actor or task, which may take time to install.  Otherwise, this is likely due to all cluster resources being claimed by actors. To resolve the issue, consider creating fewer actors or increasing the resources available to this Ray cluster.\n",
      "Required resources for this actor or task: {CPU: 1.000000}\n",
      "Available resources on this node: {0.000000/8.000000 CPU, 3.158331 GiB/3.158331 GiB memory, 1.579166 GiB/1.579166 GiB object_store_memory, 1.000000/1.000000 node:127.0.0.1}\n",
      " In total there are 0 pending tasks and 1 pending actors on this node.\n"
     ]
    }
   ],
   "source": [
    "rewards = []\n",
    "for episode in range(10):\n",
    "    print(episode)\n",
    "    out = trainer.train();\n",
    "    rewards.append(out['episode_reward_mean'])"
   ]
  },
  {
   "cell_type": "code",
   "execution_count": 120,
   "id": "9e4eac53-09ec-4e31-84a7-447beb97b145",
   "metadata": {},
   "outputs": [
    {
     "data": {
      "image/png": "[encoded data removed]",
      "text/plain": [
       "<Figure size 432x288 with 1 Axes>"
      ]
     },
     "metadata": {
      "needs_background": "light"
     },
     "output_type": "display_data"
    }
   ],
   "source": [
    "plt.plot(rewards);"
   ]
  },
  {
   "cell_type": "code",
   "execution_count": 121,
   "id": "7025ef5e-bc0c-41de-887e-53623c0f8ffe",
   "metadata": {},
   "outputs": [
    {
     "data": {
      "text/plain": [
       "3.5"
      ]
     },
     "execution_count": 121,
     "metadata": {},
     "output_type": "execute_result"
    }
   ],
   "source": [
    "np.mean([7,6,5,4,3,2,1,0])"
   ]
  },
  {
   "cell_type": "code",
   "execution_count": 122,
   "id": "eec39d38-c9fc-4621-a273-1b3ad6846f8b",
   "metadata": {},
   "outputs": [],
   "source": [
    "out;"
   ]
  },
  {
   "cell_type": "code",
   "execution_count": 123,
   "id": "899302d3-7baa-41b9-8f2b-35656bf4c699",
   "metadata": {},
   "outputs": [
    {
     "name": "stdout",
     "output_type": "stream",
     "text": [
      "P...X\n",
      ".....\n",
      "X...X\n",
      "X....\n",
      "....E\n"
     ]
    }
   ],
   "source": [
    "me = MazeEnvironment({})\n",
    "obs = me.reset(seed=seed)\n",
    "me.render()"
   ]
  },
  {
   "cell_type": "code",
   "execution_count": 124,
   "id": "d5755b81-a04e-4089-a72c-393eebf2e41b",
   "metadata": {},
   "outputs": [
    {
     "name": "stdout",
     "output_type": "stream",
     "text": [
      "P...X\n",
      ".....\n",
      "X...X\n",
      "X....\n",
      "....E\n",
      "\n",
      "action: left\n",
      "reward: -8\n",
      "done: False\n"
     ]
    }
   ],
   "source": [
    "action = trainer.compute_single_action(input_dict={\"obs\": obs})\n",
    "res = me.step(action)\n",
    "obs = res[0]\n",
    "me.render()\n",
    "\n",
    "print(\"\\naction:\", action_names[action])\n",
    "print(\"reward:\", res[1])\n",
    "print(\"done:\", res[2])"
   ]
  },
  {
   "cell_type": "code",
   "execution_count": 125,
   "id": "849f00d0-b05a-4f70-b401-eaf58e2611db",
   "metadata": {},
   "outputs": [
    {
     "name": "stdout",
     "output_type": "stream",
     "text": [
      "<ray.rllib.evaluation.worker_set.WorkerSet object at 0x1100ab760>\n"
     ]
    }
   ],
   "source": [
    "print(trainer.evaluation_workers)"
   ]
  },
  {
   "cell_type": "code",
   "execution_count": 126,
   "id": "c80eb3e2-22b8-42c4-b86c-8ce770a7d10d",
   "metadata": {},
   "outputs": [
    {
     "data": {
      "text/plain": [
       "{'evaluation': {'episode_reward_max': -4000.0,\n",
       "  'episode_reward_min': -4000.0,\n",
       "  'episode_reward_mean': -4000.0,\n",
       "  'episode_len_mean': 500.0,\n",
       "  'episode_media': {},\n",
       "  'episodes_this_iter': 10,\n",
       "  'policy_reward_min': {},\n",
       "  'policy_reward_max': {},\n",
       "  'policy_reward_mean': {},\n",
       "  'custom_metrics': {},\n",
       "  'hist_stats': {'episode_reward': [-4000.0,\n",
       "    -4000.0,\n",
       "    -4000.0,\n",
       "    -4000.0,\n",
       "    -4000.0,\n",
       "    -4000.0,\n",
       "    -4000.0,\n",
       "    -4000.0,\n",
       "    -4000.0,\n",
       "    -4000.0],\n",
       "   'episode_lengths': [500, 500, 500, 500, 500, 500, 500, 500, 500, 500]},\n",
       "  'sampler_perf': {'mean_raw_obs_processing_ms': 0.029206347451212884,\n",
       "   'mean_inference_ms': 0.2329568342312983,\n",
       "   'mean_action_processing_ms': 0.01354766735861812,\n",
       "   'mean_env_wait_ms': 0.015725185575067604,\n",
       "   'mean_env_render_ms': 0.0},\n",
       "  'off_policy_estimator': {},\n",
       "  'timesteps_this_iter': 0}}"
      ]
     },
     "execution_count": 126,
     "metadata": {},
     "output_type": "execute_result"
    }
   ],
   "source": [
    "trainer.evaluate()"
   ]
  },
  {
   "cell_type": "code",
   "execution_count": null,
   "id": "5799143c-2366-4696-87dd-15b060b7a1a7",
   "metadata": {},
   "outputs": [],
   "source": []
  },
  {
   "cell_type": "code",
   "execution_count": 127,
   "id": "0db888ed-81e5-4e78-9699-e244af102bad",
   "metadata": {},
   "outputs": [],
   "source": [
    "policy = trainer.get_policy()\n",
    "model = policy.model"
   ]
  },
  {
   "cell_type": "code",
   "execution_count": 128,
   "id": "f3e5b537-74bc-4b85-b38a-2b537b1988ae",
   "metadata": {},
   "outputs": [],
   "source": [
    "from ray.rllib.models.preprocessors import get_preprocessor \n",
    "obs_space = me.observation_space\n",
    "preprocessor = get_preprocessor(obs_space)(obs_space)\n",
    "observations = me.reset()\n",
    "transformed = preprocessor.transform(observations).reshape(1, -1)"
   ]
  },
  {
   "cell_type": "code",
   "execution_count": 130,
   "id": "9c16f117-f34b-443e-8908-4b3921613542",
   "metadata": {},
   "outputs": [],
   "source": [
    "model;"
   ]
  },
  {
   "cell_type": "code",
   "execution_count": 131,
   "id": "9f8ad783-2066-49e9-ac1a-dcb8db0a9585",
   "metadata": {},
   "outputs": [
    {
     "ename": "AttributeError",
     "evalue": "'numpy.ndarray' object has no attribute 'float'",
     "output_type": "error",
     "traceback": [
      "\u001b[0;31m---------------------------------------------------------------------------\u001b[0m",
      "\u001b[0;31mAttributeError\u001b[0m                            Traceback (most recent call last)",
      "\u001b[0;32m/var/folders/f5/138zmtfd159g5x_f1t80qr440000gp/T/ipykernel_27792/1656392703.py\u001b[0m in \u001b[0;36m<module>\u001b[0;34m\u001b[0m\n\u001b[0;32m----> 1\u001b[0;31m \u001b[0mmodel_output\u001b[0m\u001b[0;34m,\u001b[0m \u001b[0m_\u001b[0m \u001b[0;34m=\u001b[0m \u001b[0mmodel\u001b[0m\u001b[0;34m(\u001b[0m\u001b[0;34m{\u001b[0m\u001b[0;34m\"obs\"\u001b[0m\u001b[0;34m:\u001b[0m \u001b[0mtransformed\u001b[0m\u001b[0;34m}\u001b[0m\u001b[0;34m)\u001b[0m\u001b[0;34m\u001b[0m\u001b[0;34m\u001b[0m\u001b[0m\n\u001b[0m",
      "\u001b[0;32m~/miniconda3/envs/rllib/lib/python3.8/site-packages/ray/rllib/models/modelv2.py\u001b[0m in \u001b[0;36m__call__\u001b[0;34m(self, input_dict, state, seq_lens)\u001b[0m\n\u001b[1;32m    241\u001b[0m \u001b[0;34m\u001b[0m\u001b[0m\n\u001b[1;32m    242\u001b[0m         \u001b[0;32mwith\u001b[0m \u001b[0mself\u001b[0m\u001b[0;34m.\u001b[0m\u001b[0mcontext\u001b[0m\u001b[0;34m(\u001b[0m\u001b[0;34m)\u001b[0m\u001b[0;34m:\u001b[0m\u001b[0;34m\u001b[0m\u001b[0;34m\u001b[0m\u001b[0m\n\u001b[0;32m--> 243\u001b[0;31m             \u001b[0mres\u001b[0m \u001b[0;34m=\u001b[0m \u001b[0mself\u001b[0m\u001b[0;34m.\u001b[0m\u001b[0mforward\u001b[0m\u001b[0;34m(\u001b[0m\u001b[0mrestored\u001b[0m\u001b[0;34m,\u001b[0m \u001b[0mstate\u001b[0m \u001b[0;32mor\u001b[0m \u001b[0;34m[\u001b[0m\u001b[0;34m]\u001b[0m\u001b[0;34m,\u001b[0m \u001b[0mseq_lens\u001b[0m\u001b[0;34m)\u001b[0m\u001b[0;34m\u001b[0m\u001b[0;34m\u001b[0m\u001b[0m\n\u001b[0m\u001b[1;32m    244\u001b[0m \u001b[0;34m\u001b[0m\u001b[0m\n\u001b[1;32m    245\u001b[0m         \u001b[0;32mif\u001b[0m \u001b[0misinstance\u001b[0m\u001b[0;34m(\u001b[0m\u001b[0minput_dict\u001b[0m\u001b[0;34m,\u001b[0m \u001b[0mSampleBatch\u001b[0m\u001b[0;34m)\u001b[0m\u001b[0;34m:\u001b[0m\u001b[0;34m\u001b[0m\u001b[0;34m\u001b[0m\u001b[0m\n",
      "\u001b[0;32m~/miniconda3/envs/rllib/lib/python3.8/site-packages/ray/rllib/models/torch/fcnet.py\u001b[0m in \u001b[0;36mforward\u001b[0;34m(self, input_dict, state, seq_lens)\u001b[0m\n\u001b[1;32m    120\u001b[0m                 \u001b[0mstate\u001b[0m\u001b[0;34m:\u001b[0m \u001b[0mList\u001b[0m\u001b[0;34m[\u001b[0m\u001b[0mTensorType\u001b[0m\u001b[0;34m]\u001b[0m\u001b[0;34m,\u001b[0m\u001b[0;34m\u001b[0m\u001b[0;34m\u001b[0m\u001b[0m\n\u001b[1;32m    121\u001b[0m                 seq_lens: TensorType) -> (TensorType, List[TensorType]):\n\u001b[0;32m--> 122\u001b[0;31m         \u001b[0mobs\u001b[0m \u001b[0;34m=\u001b[0m \u001b[0minput_dict\u001b[0m\u001b[0;34m[\u001b[0m\u001b[0;34m\"obs_flat\"\u001b[0m\u001b[0;34m]\u001b[0m\u001b[0;34m.\u001b[0m\u001b[0mfloat\u001b[0m\u001b[0;34m(\u001b[0m\u001b[0;34m)\u001b[0m\u001b[0;34m\u001b[0m\u001b[0;34m\u001b[0m\u001b[0m\n\u001b[0m\u001b[1;32m    123\u001b[0m         \u001b[0mself\u001b[0m\u001b[0;34m.\u001b[0m\u001b[0m_last_flat_in\u001b[0m \u001b[0;34m=\u001b[0m \u001b[0mobs\u001b[0m\u001b[0;34m.\u001b[0m\u001b[0mreshape\u001b[0m\u001b[0;34m(\u001b[0m\u001b[0mobs\u001b[0m\u001b[0;34m.\u001b[0m\u001b[0mshape\u001b[0m\u001b[0;34m[\u001b[0m\u001b[0;36m0\u001b[0m\u001b[0;34m]\u001b[0m\u001b[0;34m,\u001b[0m \u001b[0;34m-\u001b[0m\u001b[0;36m1\u001b[0m\u001b[0;34m)\u001b[0m\u001b[0;34m\u001b[0m\u001b[0;34m\u001b[0m\u001b[0m\n\u001b[1;32m    124\u001b[0m         \u001b[0mself\u001b[0m\u001b[0;34m.\u001b[0m\u001b[0m_features\u001b[0m \u001b[0;34m=\u001b[0m \u001b[0mself\u001b[0m\u001b[0;34m.\u001b[0m\u001b[0m_hidden_layers\u001b[0m\u001b[0;34m(\u001b[0m\u001b[0mself\u001b[0m\u001b[0;34m.\u001b[0m\u001b[0m_last_flat_in\u001b[0m\u001b[0;34m)\u001b[0m\u001b[0;34m\u001b[0m\u001b[0;34m\u001b[0m\u001b[0m\n",
      "\u001b[0;31mAttributeError\u001b[0m: 'numpy.ndarray' object has no attribute 'float'"
     ]
    }
   ],
   "source": [
    "model_output, _ = model({\"obs\": transformed})"
   ]
  },
  {
   "cell_type": "code",
   "execution_count": 102,
   "id": "1ea2cb87-98ef-430c-9c27-4c98c2674fa5",
   "metadata": {},
   "outputs": [
    {
     "data": {
      "text/plain": [
       "<tf.Tensor 'model/fc_out/Tanh:0' shape=(1, 256) dtype=float32>"
      ]
     },
     "execution_count": 102,
     "metadata": {},
     "output_type": "execute_result"
    }
   ],
   "source": [
    "model_output"
   ]
  },
  {
   "cell_type": "code",
   "execution_count": 103,
   "id": "16930075-7ae5-4d17-9847-01e4f5f3a574",
   "metadata": {},
   "outputs": [],
   "source": [
    "q_values = model.get_q_value_distributions(model_output)"
   ]
  },
  {
   "cell_type": "code",
   "execution_count": 113,
   "id": "069d7070-0f6c-4173-b3c9-48cf13861b6c",
   "metadata": {},
   "outputs": [
    {
     "name": "stdout",
     "output_type": "stream",
     "text": [
      "name: \"PrintV2_2\"\n",
      "op: \"PrintV2\"\n",
      "input: \"StringFormat_2\"\n",
      "attr {\n",
      "  key: \"end\"\n",
      "  value {\n",
      "    s: \"\\n\"\n",
      "  }\n",
      "}\n",
      "attr {\n",
      "  key: \"output_stream\"\n",
      "  value {\n",
      "    s: \"stderr\"\n",
      "  }\n",
      "}\n",
      "\n"
     ]
    }
   ],
   "source": [
    "tf.print(q_values[1])"
   ]
  },
  {
   "cell_type": "code",
   "execution_count": 106,
   "id": "528613bd-c143-4035-87f1-d9005e8e4df7",
   "metadata": {},
   "outputs": [
    {
     "name": "stdout",
     "output_type": "stream",
     "text": [
      "Tensor(\"Squeeze:0\", shape=(1,), dtype=int64)\n"
     ]
    }
   ],
   "source": [
    "action_distribution = policy.dist_class(model_output, model) \n",
    "sample = action_distribution.sample()\n",
    "print(sample)"
   ]
  },
  {
   "cell_type": "code",
   "execution_count": null,
   "id": "c3132977-2af5-42ee-aaa9-e8f598c4147c",
   "metadata": {},
   "outputs": [],
   "source": []
  }
 ],
 "metadata": {
  "kernelspec": {
   "display_name": "Python [conda env:rllib]",
   "language": "python",
   "name": "conda-env-rllib-py"
  },
  "language_info": {
   "codemirror_mode": {
    "name": "ipython",
    "version": 3
   },
   "file_extension": ".py",
   "mimetype": "text/x-python",
   "name": "python",
   "nbconvert_exporter": "python",
   "pygments_lexer": "ipython3",
   "version": "3.8.11"
  },
  "toc-autonumbering": false
 },
 "nbformat": 4,
 "nbformat_minor": 5
}
